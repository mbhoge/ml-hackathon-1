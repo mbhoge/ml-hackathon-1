{
 "cells": [
  {
   "cell_type": "code",
   "execution_count": 3,
   "id": "e811f606",
   "metadata": {},
   "outputs": [],
   "source": [
    "def fill_missing_value(df):\n",
    "    \"\"\"\n",
    "    This method will take a dataframe and calculate null count of each column and keep in a new dataframe.\n",
    "    It will check each column, if the column contains null value then it will replace the null as below\n",
    "    1. Replace null with Mode if the column is categorical\n",
    "    2. Replace null with Mean if the column is numerical\n",
    "    \n",
    "    Note: verify null value count for each columns before and after invoking this method\n",
    "    \"\"\"\n",
    "    null_df = df.isnull().sum()\n",
    "    for col in df.columns:\n",
    "        if null_df[col] > 0: # column contains null value\n",
    "            if df[col].dtype == type(object): # categorical column data type is object\n",
    "                mode_val = df[col].mode()[0]\n",
    "                print('Mode fill ({}) -> Column: {}, Missing Count: {}'.format(mode_val, col, null_df[col]))\n",
    "                df[col] = df[col].fillna(mode_val) # Mode fill for categorical column\n",
    "            else:\n",
    "                mean_val = df[col].mean()\n",
    "                print('Mean fill ({}) -> Column: {}, Missing Count: {}'.format(mean_val, col, null_df[col]))\n",
    "                df[col] = df[col].fillna(mean_val) # Mean fill for numerical column\n",
    "\n"
   ]
  }
 ],
 "metadata": {
  "kernelspec": {
   "display_name": "Python 3 (ipykernel)",
   "language": "python",
   "name": "python3"
  },
  "language_info": {
   "codemirror_mode": {
    "name": "ipython",
    "version": 3
   },
   "file_extension": ".py",
   "mimetype": "text/x-python",
   "name": "python",
   "nbconvert_exporter": "python",
   "pygments_lexer": "ipython3",
   "version": "3.9.12"
  }
 },
 "nbformat": 4,
 "nbformat_minor": 5
}
