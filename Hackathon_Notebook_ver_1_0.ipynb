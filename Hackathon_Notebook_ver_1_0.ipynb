{
  "nbformat": 4,
  "nbformat_minor": 0,
  "metadata": {
    "colab": {
      "provenance": [],
      "collapsed_sections": []
    },
    "kernelspec": {
      "name": "python3",
      "display_name": "Python 3"
    },
    "language_info": {
      "name": "python"
    }
  },
  "cells": [
    {
      "cell_type": "markdown",
      "source": [
        "# Library installation"
      ],
      "metadata": {
        "id": "QScdrhbejBHI"
      }
    },
    {
      "cell_type": "code",
      "source": [
        "import pandas as pd\n",
        "import numpy as np\n",
        "# from sklearn.linear_model import LinearRegression\n",
        "# from sklearn.metrics import mean_squared_error, r2_score\n",
        "import matplotlib.pyplot as plt\n",
        "%matplotlib inline\n",
        "from pandas.plotting import scatter_matrix\n",
        "import seaborn as sns"
      ],
      "metadata": {
        "id": "QQ-GQFPyiFFP"
      },
      "execution_count": null,
      "outputs": []
    },
    {
      "cell_type": "code",
      "source": [
        "import os"
      ],
      "metadata": {
        "id": "ErzvIq_6iE-8"
      },
      "execution_count": null,
      "outputs": []
    },
    {
      "cell_type": "markdown",
      "source": [
        "# Data pull"
      ],
      "metadata": {
        "id": "o3LFrNDwjdKj"
      }
    },
    {
      "cell_type": "code",
      "source": [
        "from google.colab import drive \n",
        "drive.mount('/content/drive')"
      ],
      "metadata": {
        "id": "G-1zyp4WiE7x",
        "colab": {
          "base_uri": "https://localhost:8080/"
        },
        "outputId": "7707752e-58b6-4c9c-d99b-ff8a6197d669"
      },
      "execution_count": null,
      "outputs": [
        {
          "output_type": "stream",
          "name": "stdout",
          "text": [
            "Drive already mounted at /content/drive; to attempt to forcibly remount, call drive.mount(\"/content/drive\", force_remount=True).\n"
          ]
        }
      ]
    },
    {
      "cell_type": "code",
      "source": [
        "!ls"
      ],
      "metadata": {
        "id": "RJe1sB8-h4JW",
        "colab": {
          "base_uri": "https://localhost:8080/"
        },
        "outputId": "357755b5-afd8-461a-fa1e-c72e2edfb5f1"
      },
      "execution_count": null,
      "outputs": [
        {
          "output_type": "stream",
          "name": "stdout",
          "text": [
            "devdata_cleaned.csv  ecommerce_train.csv  submission_2_dt.csv\n",
            "ecommerce_test.csv   submission_1.csv\t  testdata_cleaned.csv\n"
          ]
        }
      ]
    },
    {
      "cell_type": "code",
      "source": [
        "os.listdir('/content/drive/MyDrive/Hackathon_nov22')"
      ],
      "metadata": {
        "colab": {
          "base_uri": "https://localhost:8080/"
        },
        "id": "snqSbBPIjnbe",
        "outputId": "a5eddff5-0aad-49fe-b95f-48bcf93fc332"
      },
      "execution_count": null,
      "outputs": [
        {
          "output_type": "execute_result",
          "data": {
            "text/plain": [
              "['ecommerce_train.csv',\n",
              " 'ecommerce_test.csv',\n",
              " 'devdata_cleaned.csv',\n",
              " 'testdata_cleaned.csv',\n",
              " 'submission_1.csv',\n",
              " 'submission_2_dt.csv']"
            ]
          },
          "metadata": {},
          "execution_count": 539
        }
      ]
    },
    {
      "cell_type": "code",
      "source": [
        "os.chdir('/content/drive/MyDrive/Hackathon_nov22')"
      ],
      "metadata": {
        "id": "klabfWEojnX_"
      },
      "execution_count": null,
      "outputs": []
    },
    {
      "cell_type": "code",
      "source": [
        "df_dev = pd.read_csv('ecommerce_train.csv')"
      ],
      "metadata": {
        "id": "3xzTLUTNjnVJ"
      },
      "execution_count": null,
      "outputs": []
    },
    {
      "cell_type": "code",
      "source": [
        "df_test = pd.read_csv('ecommerce_test.csv')"
      ],
      "metadata": {
        "id": "oNaHyHg5jnRl"
      },
      "execution_count": null,
      "outputs": []
    },
    {
      "cell_type": "markdown",
      "source": [
        "# Data understanding"
      ],
      "metadata": {
        "id": "OhBCCmo7Dxoa"
      }
    },
    {
      "cell_type": "code",
      "source": [
        "print(\"Number of records in Train : \",df_dev.shape[0])\n",
        "print(\"Number of features in Train : \",df_dev.shape[1])"
      ],
      "metadata": {
        "colab": {
          "base_uri": "https://localhost:8080/"
        },
        "id": "3J_PKI7keJM3",
        "outputId": "87f6ec26-4a87-42bb-830b-4f2a92149cab"
      },
      "execution_count": null,
      "outputs": [
        {
          "output_type": "stream",
          "name": "stdout",
          "text": [
            "Number of records in Train :  40000\n",
            "Number of features in Train :  19\n"
          ]
        }
      ]
    },
    {
      "cell_type": "code",
      "source": [
        "print(\"Number of records in Test : \",df_test.shape[0])\n",
        "print(\"Number of features in Test : \",df_test.shape[1])"
      ],
      "metadata": {
        "colab": {
          "base_uri": "https://localhost:8080/"
        },
        "id": "66jS4tYAeQxE",
        "outputId": "bcac5e4d-2e90-488c-fbf6-0d33045c346e"
      },
      "execution_count": null,
      "outputs": [
        {
          "output_type": "stream",
          "name": "stdout",
          "text": [
            "Number of records in Test :  10000\n",
            "Number of features in Test :  18\n"
          ]
        }
      ]
    },
    {
      "cell_type": "code",
      "source": [
        "df_dev.info()"
      ],
      "metadata": {
        "colab": {
          "base_uri": "https://localhost:8080/"
        },
        "id": "hvsWHsGRa18F",
        "outputId": "5faf68c1-7da2-4c34-a247-62ab1d9c7c28"
      },
      "execution_count": null,
      "outputs": [
        {
          "output_type": "stream",
          "name": "stdout",
          "text": [
            "<class 'pandas.core.frame.DataFrame'>\n",
            "RangeIndex: 40000 entries, 0 to 39999\n",
            "Data columns (total 19 columns):\n",
            " #   Column                   Non-Null Count  Dtype  \n",
            "---  ------                   --------------  -----  \n",
            " 0   session_id               40000 non-null  int64  \n",
            " 1   administrative           40000 non-null  int64  \n",
            " 2   administrative_duration  40000 non-null  float64\n",
            " 3   informational            40000 non-null  int64  \n",
            " 4   informational_duration   40000 non-null  float64\n",
            " 5   productrelated           40000 non-null  int64  \n",
            " 6   productrelated_duration  40000 non-null  float64\n",
            " 7   bouncerates              40000 non-null  float64\n",
            " 8   exitrates                40000 non-null  float64\n",
            " 9   pagevalues               40000 non-null  float64\n",
            " 10  specialday               40000 non-null  float64\n",
            " 11  month                    40000 non-null  object \n",
            " 12  operatingsystems         40000 non-null  object \n",
            " 13  browser                  40000 non-null  object \n",
            " 14  region                   40000 non-null  int64  \n",
            " 15  traffictype              40000 non-null  object \n",
            " 16  visitortype              40000 non-null  object \n",
            " 17  weekend                  40000 non-null  bool   \n",
            " 18  revenue                  40000 non-null  int64  \n",
            "dtypes: bool(1), float64(7), int64(6), object(5)\n",
            "memory usage: 5.5+ MB\n"
          ]
        }
      ]
    },
    {
      "cell_type": "code",
      "source": [
        "df_dev.isna().sum()"
      ],
      "metadata": {
        "colab": {
          "base_uri": "https://localhost:8080/"
        },
        "id": "u6ttI5XMD3gJ",
        "outputId": "8b790b98-0323-4769-f61d-d9eac4681a76"
      },
      "execution_count": null,
      "outputs": [
        {
          "output_type": "execute_result",
          "data": {
            "text/plain": [
              "session_id                 0\n",
              "administrative             0\n",
              "administrative_duration    0\n",
              "informational              0\n",
              "informational_duration     0\n",
              "productrelated             0\n",
              "productrelated_duration    0\n",
              "bouncerates                0\n",
              "exitrates                  0\n",
              "pagevalues                 0\n",
              "specialday                 0\n",
              "month                      0\n",
              "operatingsystems           0\n",
              "browser                    0\n",
              "region                     0\n",
              "traffictype                0\n",
              "visitortype                0\n",
              "weekend                    0\n",
              "revenue                    0\n",
              "dtype: int64"
            ]
          },
          "metadata": {},
          "execution_count": 546
        }
      ]
    },
    {
      "cell_type": "code",
      "source": [],
      "metadata": {
        "id": "mHGuxjldD3aB"
      },
      "execution_count": null,
      "outputs": []
    },
    {
      "cell_type": "code",
      "source": [],
      "metadata": {
        "id": "ArENG1CMD3Vo"
      },
      "execution_count": null,
      "outputs": []
    },
    {
      "cell_type": "code",
      "source": [],
      "metadata": {
        "id": "RZyYELMdD3Od"
      },
      "execution_count": null,
      "outputs": []
    },
    {
      "cell_type": "markdown",
      "source": [
        "# EDA "
      ],
      "metadata": {
        "id": "VDw4jyh9jwM5"
      }
    },
    {
      "cell_type": "code",
      "source": [
        "df_dev.drop('session_id',axis=1).describe().T"
      ],
      "metadata": {
        "colab": {
          "base_uri": "https://localhost:8080/",
          "height": 425
        },
        "id": "_IAX2lwHcbaE",
        "outputId": "1ca531a0-d235-4c24-8acc-2563d392797a"
      },
      "execution_count": null,
      "outputs": [
        {
          "output_type": "execute_result",
          "data": {
            "text/plain": [
              "                           count         mean          std  min         25%  \\\n",
              "administrative           40000.0     2.544150     3.667252  0.0    0.000000   \n",
              "administrative_duration  40000.0    89.794383   182.964645  0.0    0.000000   \n",
              "informational            40000.0     0.555225     1.332627  0.0    0.000000   \n",
              "informational_duration   40000.0    40.977236   153.114387  0.0    0.000000   \n",
              "productrelated           40000.0    34.026975    46.798102  0.0    7.000000   \n",
              "productrelated_duration  40000.0  1148.105672  1666.181462  0.0  183.883333   \n",
              "bouncerates              40000.0     0.021969     0.048533  0.0    0.000000   \n",
              "exitrates                40000.0     0.042307     0.048633  0.0    0.013389   \n",
              "pagevalues               40000.0     6.494963    17.710646  0.0    0.000000   \n",
              "specialday               40000.0     0.063552     0.199463  0.0    0.000000   \n",
              "region                   40000.0     3.241975     2.423586  1.0    1.000000   \n",
              "revenue                  40000.0     0.158275     0.365003  0.0    0.000000   \n",
              "\n",
              "                                50%          75%           max  \n",
              "administrative             1.000000     4.000000     22.000000  \n",
              "administrative_duration   11.200000   110.154167   1946.000000  \n",
              "informational              0.000000     0.000000     11.000000  \n",
              "informational_duration     0.000000     0.000000   1767.666667  \n",
              "productrelated            19.000000    41.000000    440.000000  \n",
              "productrelated_duration  560.075000  1420.536667  18504.126210  \n",
              "bouncerates                0.003304     0.016667      0.200000  \n",
              "exitrates                  0.025000     0.050000      0.200000  \n",
              "pagevalues                 0.000000     0.000000    226.677702  \n",
              "specialday                 0.000000     0.000000      1.000000  \n",
              "region                     3.000000     4.000000      9.000000  \n",
              "revenue                    0.000000     0.000000      1.000000  "
            ],
            "text/html": [
              "\n",
              "  <div id=\"df-8d4ce177-cfda-4d99-8f20-b9d3404e2cb0\">\n",
              "    <div class=\"colab-df-container\">\n",
              "      <div>\n",
              "<style scoped>\n",
              "    .dataframe tbody tr th:only-of-type {\n",
              "        vertical-align: middle;\n",
              "    }\n",
              "\n",
              "    .dataframe tbody tr th {\n",
              "        vertical-align: top;\n",
              "    }\n",
              "\n",
              "    .dataframe thead th {\n",
              "        text-align: right;\n",
              "    }\n",
              "</style>\n",
              "<table border=\"1\" class=\"dataframe\">\n",
              "  <thead>\n",
              "    <tr style=\"text-align: right;\">\n",
              "      <th></th>\n",
              "      <th>count</th>\n",
              "      <th>mean</th>\n",
              "      <th>std</th>\n",
              "      <th>min</th>\n",
              "      <th>25%</th>\n",
              "      <th>50%</th>\n",
              "      <th>75%</th>\n",
              "      <th>max</th>\n",
              "    </tr>\n",
              "  </thead>\n",
              "  <tbody>\n",
              "    <tr>\n",
              "      <th>administrative</th>\n",
              "      <td>40000.0</td>\n",
              "      <td>2.544150</td>\n",
              "      <td>3.667252</td>\n",
              "      <td>0.0</td>\n",
              "      <td>0.000000</td>\n",
              "      <td>1.000000</td>\n",
              "      <td>4.000000</td>\n",
              "      <td>22.000000</td>\n",
              "    </tr>\n",
              "    <tr>\n",
              "      <th>administrative_duration</th>\n",
              "      <td>40000.0</td>\n",
              "      <td>89.794383</td>\n",
              "      <td>182.964645</td>\n",
              "      <td>0.0</td>\n",
              "      <td>0.000000</td>\n",
              "      <td>11.200000</td>\n",
              "      <td>110.154167</td>\n",
              "      <td>1946.000000</td>\n",
              "    </tr>\n",
              "    <tr>\n",
              "      <th>informational</th>\n",
              "      <td>40000.0</td>\n",
              "      <td>0.555225</td>\n",
              "      <td>1.332627</td>\n",
              "      <td>0.0</td>\n",
              "      <td>0.000000</td>\n",
              "      <td>0.000000</td>\n",
              "      <td>0.000000</td>\n",
              "      <td>11.000000</td>\n",
              "    </tr>\n",
              "    <tr>\n",
              "      <th>informational_duration</th>\n",
              "      <td>40000.0</td>\n",
              "      <td>40.977236</td>\n",
              "      <td>153.114387</td>\n",
              "      <td>0.0</td>\n",
              "      <td>0.000000</td>\n",
              "      <td>0.000000</td>\n",
              "      <td>0.000000</td>\n",
              "      <td>1767.666667</td>\n",
              "    </tr>\n",
              "    <tr>\n",
              "      <th>productrelated</th>\n",
              "      <td>40000.0</td>\n",
              "      <td>34.026975</td>\n",
              "      <td>46.798102</td>\n",
              "      <td>0.0</td>\n",
              "      <td>7.000000</td>\n",
              "      <td>19.000000</td>\n",
              "      <td>41.000000</td>\n",
              "      <td>440.000000</td>\n",
              "    </tr>\n",
              "    <tr>\n",
              "      <th>productrelated_duration</th>\n",
              "      <td>40000.0</td>\n",
              "      <td>1148.105672</td>\n",
              "      <td>1666.181462</td>\n",
              "      <td>0.0</td>\n",
              "      <td>183.883333</td>\n",
              "      <td>560.075000</td>\n",
              "      <td>1420.536667</td>\n",
              "      <td>18504.126210</td>\n",
              "    </tr>\n",
              "    <tr>\n",
              "      <th>bouncerates</th>\n",
              "      <td>40000.0</td>\n",
              "      <td>0.021969</td>\n",
              "      <td>0.048533</td>\n",
              "      <td>0.0</td>\n",
              "      <td>0.000000</td>\n",
              "      <td>0.003304</td>\n",
              "      <td>0.016667</td>\n",
              "      <td>0.200000</td>\n",
              "    </tr>\n",
              "    <tr>\n",
              "      <th>exitrates</th>\n",
              "      <td>40000.0</td>\n",
              "      <td>0.042307</td>\n",
              "      <td>0.048633</td>\n",
              "      <td>0.0</td>\n",
              "      <td>0.013389</td>\n",
              "      <td>0.025000</td>\n",
              "      <td>0.050000</td>\n",
              "      <td>0.200000</td>\n",
              "    </tr>\n",
              "    <tr>\n",
              "      <th>pagevalues</th>\n",
              "      <td>40000.0</td>\n",
              "      <td>6.494963</td>\n",
              "      <td>17.710646</td>\n",
              "      <td>0.0</td>\n",
              "      <td>0.000000</td>\n",
              "      <td>0.000000</td>\n",
              "      <td>0.000000</td>\n",
              "      <td>226.677702</td>\n",
              "    </tr>\n",
              "    <tr>\n",
              "      <th>specialday</th>\n",
              "      <td>40000.0</td>\n",
              "      <td>0.063552</td>\n",
              "      <td>0.199463</td>\n",
              "      <td>0.0</td>\n",
              "      <td>0.000000</td>\n",
              "      <td>0.000000</td>\n",
              "      <td>0.000000</td>\n",
              "      <td>1.000000</td>\n",
              "    </tr>\n",
              "    <tr>\n",
              "      <th>region</th>\n",
              "      <td>40000.0</td>\n",
              "      <td>3.241975</td>\n",
              "      <td>2.423586</td>\n",
              "      <td>1.0</td>\n",
              "      <td>1.000000</td>\n",
              "      <td>3.000000</td>\n",
              "      <td>4.000000</td>\n",
              "      <td>9.000000</td>\n",
              "    </tr>\n",
              "    <tr>\n",
              "      <th>revenue</th>\n",
              "      <td>40000.0</td>\n",
              "      <td>0.158275</td>\n",
              "      <td>0.365003</td>\n",
              "      <td>0.0</td>\n",
              "      <td>0.000000</td>\n",
              "      <td>0.000000</td>\n",
              "      <td>0.000000</td>\n",
              "      <td>1.000000</td>\n",
              "    </tr>\n",
              "  </tbody>\n",
              "</table>\n",
              "</div>\n",
              "      <button class=\"colab-df-convert\" onclick=\"convertToInteractive('df-8d4ce177-cfda-4d99-8f20-b9d3404e2cb0')\"\n",
              "              title=\"Convert this dataframe to an interactive table.\"\n",
              "              style=\"display:none;\">\n",
              "        \n",
              "  <svg xmlns=\"http://www.w3.org/2000/svg\" height=\"24px\"viewBox=\"0 0 24 24\"\n",
              "       width=\"24px\">\n",
              "    <path d=\"M0 0h24v24H0V0z\" fill=\"none\"/>\n",
              "    <path d=\"M18.56 5.44l.94 2.06.94-2.06 2.06-.94-2.06-.94-.94-2.06-.94 2.06-2.06.94zm-11 1L8.5 8.5l.94-2.06 2.06-.94-2.06-.94L8.5 2.5l-.94 2.06-2.06.94zm10 10l.94 2.06.94-2.06 2.06-.94-2.06-.94-.94-2.06-.94 2.06-2.06.94z\"/><path d=\"M17.41 7.96l-1.37-1.37c-.4-.4-.92-.59-1.43-.59-.52 0-1.04.2-1.43.59L10.3 9.45l-7.72 7.72c-.78.78-.78 2.05 0 2.83L4 21.41c.39.39.9.59 1.41.59.51 0 1.02-.2 1.41-.59l7.78-7.78 2.81-2.81c.8-.78.8-2.07 0-2.86zM5.41 20L4 18.59l7.72-7.72 1.47 1.35L5.41 20z\"/>\n",
              "  </svg>\n",
              "      </button>\n",
              "      \n",
              "  <style>\n",
              "    .colab-df-container {\n",
              "      display:flex;\n",
              "      flex-wrap:wrap;\n",
              "      gap: 12px;\n",
              "    }\n",
              "\n",
              "    .colab-df-convert {\n",
              "      background-color: #E8F0FE;\n",
              "      border: none;\n",
              "      border-radius: 50%;\n",
              "      cursor: pointer;\n",
              "      display: none;\n",
              "      fill: #1967D2;\n",
              "      height: 32px;\n",
              "      padding: 0 0 0 0;\n",
              "      width: 32px;\n",
              "    }\n",
              "\n",
              "    .colab-df-convert:hover {\n",
              "      background-color: #E2EBFA;\n",
              "      box-shadow: 0px 1px 2px rgba(60, 64, 67, 0.3), 0px 1px 3px 1px rgba(60, 64, 67, 0.15);\n",
              "      fill: #174EA6;\n",
              "    }\n",
              "\n",
              "    [theme=dark] .colab-df-convert {\n",
              "      background-color: #3B4455;\n",
              "      fill: #D2E3FC;\n",
              "    }\n",
              "\n",
              "    [theme=dark] .colab-df-convert:hover {\n",
              "      background-color: #434B5C;\n",
              "      box-shadow: 0px 1px 3px 1px rgba(0, 0, 0, 0.15);\n",
              "      filter: drop-shadow(0px 1px 2px rgba(0, 0, 0, 0.3));\n",
              "      fill: #FFFFFF;\n",
              "    }\n",
              "  </style>\n",
              "\n",
              "      <script>\n",
              "        const buttonEl =\n",
              "          document.querySelector('#df-8d4ce177-cfda-4d99-8f20-b9d3404e2cb0 button.colab-df-convert');\n",
              "        buttonEl.style.display =\n",
              "          google.colab.kernel.accessAllowed ? 'block' : 'none';\n",
              "\n",
              "        async function convertToInteractive(key) {\n",
              "          const element = document.querySelector('#df-8d4ce177-cfda-4d99-8f20-b9d3404e2cb0');\n",
              "          const dataTable =\n",
              "            await google.colab.kernel.invokeFunction('convertToInteractive',\n",
              "                                                     [key], {});\n",
              "          if (!dataTable) return;\n",
              "\n",
              "          const docLinkHtml = 'Like what you see? Visit the ' +\n",
              "            '<a target=\"_blank\" href=https://colab.research.google.com/notebooks/data_table.ipynb>data table notebook</a>'\n",
              "            + ' to learn more about interactive tables.';\n",
              "          element.innerHTML = '';\n",
              "          dataTable['output_type'] = 'display_data';\n",
              "          await google.colab.output.renderOutput(dataTable, element);\n",
              "          const docLink = document.createElement('div');\n",
              "          docLink.innerHTML = docLinkHtml;\n",
              "          element.appendChild(docLink);\n",
              "        }\n",
              "      </script>\n",
              "    </div>\n",
              "  </div>\n",
              "  "
            ]
          },
          "metadata": {},
          "execution_count": 218
        }
      ]
    },
    {
      "cell_type": "code",
      "source": [],
      "metadata": {
        "id": "AyyxQHlncbHJ"
      },
      "execution_count": null,
      "outputs": []
    },
    {
      "cell_type": "code",
      "source": [],
      "metadata": {
        "id": "_9usD3TScbDy"
      },
      "execution_count": null,
      "outputs": []
    },
    {
      "cell_type": "markdown",
      "source": [
        "##### *Separate categorical and numeric columns*"
      ],
      "metadata": {
        "id": "1KeeaZ8qbGj5"
      }
    },
    {
      "cell_type": "code",
      "source": [
        "# isolating the continuous variables \n",
        "num_var_list = list(df_dev.drop(['session_id'],axis=1).select_dtypes(exclude=['object']).drop(['revenue'],axis = 1).columns.values)\n",
        "num_var_list"
      ],
      "metadata": {
        "id": "8vN7f3NrjnO9",
        "colab": {
          "base_uri": "https://localhost:8080/"
        },
        "outputId": "1a42b263-6fd7-4586-f036-42e760120341"
      },
      "execution_count": null,
      "outputs": [
        {
          "output_type": "execute_result",
          "data": {
            "text/plain": [
              "['administrative',\n",
              " 'administrative_duration',\n",
              " 'informational',\n",
              " 'informational_duration',\n",
              " 'productrelated',\n",
              " 'productrelated_duration',\n",
              " 'bouncerates',\n",
              " 'exitrates',\n",
              " 'pagevalues',\n",
              " 'specialday',\n",
              " 'region',\n",
              " 'weekend']"
            ]
          },
          "metadata": {},
          "execution_count": 219
        }
      ]
    },
    {
      "cell_type": "code",
      "source": [
        "# isolating the categorical variables \n",
        "cat_var_list = list(df_dev.drop(['session_id'],axis=1).select_dtypes(include=['object']).columns.values)\n",
        "cat_var_list\n"
      ],
      "metadata": {
        "id": "TYz3GYsdjnMA",
        "colab": {
          "base_uri": "https://localhost:8080/"
        },
        "outputId": "c04ddaca-63a2-4ec1-8aca-71bd375b3945"
      },
      "execution_count": null,
      "outputs": [
        {
          "output_type": "execute_result",
          "data": {
            "text/plain": [
              "['month', 'operatingsystems', 'browser', 'traffictype', 'visitortype']"
            ]
          },
          "metadata": {},
          "execution_count": 220
        }
      ]
    },
    {
      "cell_type": "code",
      "source": [
        "#Weekend is a boolean format data, it will be converted to one hot encoded var later"
      ],
      "metadata": {
        "id": "iIgc4pGjggWo"
      },
      "execution_count": null,
      "outputs": []
    },
    {
      "cell_type": "markdown",
      "source": [
        "## *Numeric features EDA*"
      ],
      "metadata": {
        "id": "ZgHC-h_UenyR"
      }
    },
    {
      "cell_type": "markdown",
      "source": [
        "##### *Histogram*"
      ],
      "metadata": {
        "id": "RxbgPw-pb0T5"
      }
    },
    {
      "cell_type": "code",
      "source": [
        "df_dev[num_var_list].hist(bins=50, figsize=(12,12))"
      ],
      "metadata": {
        "id": "IA7ZpHd7jnJX",
        "colab": {
          "base_uri": "https://localhost:8080/",
          "height": 946
        },
        "outputId": "cf0a55e9-2cc0-4e3d-fa75-b477784d66c6"
      },
      "execution_count": null,
      "outputs": [
        {
          "output_type": "execute_result",
          "data": {
            "text/plain": [
              "array([[<matplotlib.axes._subplots.AxesSubplot object at 0x7f3be595aa50>,\n",
              "        <matplotlib.axes._subplots.AxesSubplot object at 0x7f3be58f9810>,\n",
              "        <matplotlib.axes._subplots.AxesSubplot object at 0x7f3be58a2e10>],\n",
              "       [<matplotlib.axes._subplots.AxesSubplot object at 0x7f3be58dc450>,\n",
              "        <matplotlib.axes._subplots.AxesSubplot object at 0x7f3be588aa50>,\n",
              "        <matplotlib.axes._subplots.AxesSubplot object at 0x7f3be5833b90>],\n",
              "       [<matplotlib.axes._subplots.AxesSubplot object at 0x7f3be57f6710>,\n",
              "        <matplotlib.axes._subplots.AxesSubplot object at 0x7f3be57a7c50>,\n",
              "        <matplotlib.axes._subplots.AxesSubplot object at 0x7f3be57a7c90>],\n",
              "       [<matplotlib.axes._subplots.AxesSubplot object at 0x7f3be57683d0>,\n",
              "        <matplotlib.axes._subplots.AxesSubplot object at 0x7f3be574fed0>,\n",
              "        <matplotlib.axes._subplots.AxesSubplot object at 0x7f3be57136d0>]],\n",
              "      dtype=object)"
            ]
          },
          "metadata": {},
          "execution_count": 222
        },
        {
          "output_type": "display_data",
          "data": {
            "text/plain": [
              "<Figure size 864x864 with 12 Axes>"
            ],
            "image/png": "[encoded data removed]"
          },
          "metadata": {
            "needs_background": "light"
          }
        }
      ]
    },
    {
      "cell_type": "code",
      "source": [
        "## Region has to be a categorical variable.. to be converted later\n",
        "df_dev.region.value_counts()"
      ],
      "metadata": {
        "id": "Rk113gM6jy_Q",
        "colab": {
          "base_uri": "https://localhost:8080/"
        },
        "outputId": "4fb58b8a-20df-4561-eae6-65e6977e275d"
      },
      "execution_count": null,
      "outputs": [
        {
          "output_type": "execute_result",
          "data": {
            "text/plain": [
              "1    14749\n",
              "3     7833\n",
              "4     4046\n",
              "2     3642\n",
              "6     2755\n",
              "7     2523\n",
              "9     1762\n",
              "8     1488\n",
              "5     1202\n",
              "Name: region, dtype: int64"
            ]
          },
          "metadata": {},
          "execution_count": 223
        }
      ]
    },
    {
      "cell_type": "code",
      "source": [
        "## Weekend is in boolean format.. TO be converted to OHE later\n",
        "df_dev.weekend.value_counts()"
      ],
      "metadata": {
        "colab": {
          "base_uri": "https://localhost:8080/"
        },
        "id": "5GDbYhVrhMzJ",
        "outputId": "7e6e411c-8f05-4712-b88e-8928aa9a31c1"
      },
      "execution_count": null,
      "outputs": [
        {
          "output_type": "execute_result",
          "data": {
            "text/plain": [
              "False    31053\n",
              "True      8947\n",
              "Name: weekend, dtype: int64"
            ]
          },
          "metadata": {},
          "execution_count": 224
        }
      ]
    },
    {
      "cell_type": "markdown",
      "source": [
        "##### *Correlation Matrix within numeric variables* "
      ],
      "metadata": {
        "id": "xCUDP3BsdOZT"
      }
    },
    {
      "cell_type": "code",
      "source": [
        "ecom_corr_matrix = df_dev.drop(['session_id','revenue'],axis=1).corr()"
      ],
      "metadata": {
        "id": "KMCYEVOLdN5L"
      },
      "execution_count": null,
      "outputs": []
    },
    {
      "cell_type": "code",
      "source": [
        "ecom_corr_matrix\n",
        "\n",
        "# The duration variables are having high correlations (~60%) with the number of hits in respective pages\n",
        "# Bounce rates and exit rates are correlated"
      ],
      "metadata": {
        "colab": {
          "base_uri": "https://localhost:8080/",
          "height": 489
        },
        "id": "21yESO80bzM5",
        "outputId": "24c86125-dab1-4430-e93b-22f2d39dbeee"
      },
      "execution_count": null,
      "outputs": [
        {
          "output_type": "execute_result",
          "data": {
            "text/plain": [
              "                         administrative  administrative_duration  \\\n",
              "administrative                 1.000000                 0.584529   \n",
              "administrative_duration        0.584529                 1.000000   \n",
              "informational                  0.391087                 0.280617   \n",
              "informational_duration         0.274090                 0.199530   \n",
              "productrelated                 0.448662                 0.294955   \n",
              "productrelated_duration        0.404032                 0.295905   \n",
              "bouncerates                   -0.216590                -0.151642   \n",
              "exitrates                     -0.305020                -0.211213   \n",
              "pagevalues                     0.111897                 0.078031   \n",
              "specialday                    -0.113679                -0.085400   \n",
              "region                         0.000507                 0.000327   \n",
              "weekend                        0.013816                 0.017291   \n",
              "\n",
              "                         informational  informational_duration  \\\n",
              "administrative                0.391087                0.274090   \n",
              "administrative_duration       0.280617                0.199530   \n",
              "informational                 1.000000                0.580722   \n",
              "informational_duration        0.580722                1.000000   \n",
              "productrelated                0.377596                0.271295   \n",
              "productrelated_duration       0.382680                0.281936   \n",
              "bouncerates                  -0.114288               -0.075931   \n",
              "exitrates                    -0.164321               -0.108674   \n",
              "pagevalues                    0.081242                0.058064   \n",
              "specialday                   -0.063980               -0.036898   \n",
              "region                       -0.023207               -0.012577   \n",
              "weekend                       0.017216                0.015120   \n",
              "\n",
              "                         productrelated  productrelated_duration  bouncerates  \\\n",
              "administrative                 0.448662                 0.404032    -0.216590   \n",
              "administrative_duration        0.294955                 0.295905    -0.151642   \n",
              "informational                  0.377596                 0.382680    -0.114288   \n",
              "informational_duration         0.271295                 0.281936    -0.075931   \n",
              "productrelated                 1.000000                 0.750972    -0.202601   \n",
              "productrelated_duration        0.750972                 1.000000    -0.200532   \n",
              "bouncerates                   -0.202601                -0.200532     1.000000   \n",
              "exitrates                     -0.294378                -0.282332     0.893595   \n",
              "pagevalues                     0.079132                 0.086422    -0.128633   \n",
              "specialday                    -0.047809                -0.048580     0.066774   \n",
              "region                        -0.012477                -0.016108    -0.011816   \n",
              "weekend                       -0.012593                -0.008661    -0.048048   \n",
              "\n",
              "                         exitrates  pagevalues  specialday    region   weekend  \n",
              "administrative           -0.305020    0.111897   -0.113679  0.000507  0.013816  \n",
              "administrative_duration  -0.211213    0.078031   -0.085400  0.000327  0.017291  \n",
              "informational            -0.164321    0.081242   -0.063980 -0.023207  0.017216  \n",
              "informational_duration   -0.108674    0.058064   -0.036898 -0.012577  0.015120  \n",
              "productrelated           -0.294378    0.079132   -0.047809 -0.012477 -0.012593  \n",
              "productrelated_duration  -0.282332    0.086422   -0.048580 -0.016108 -0.008661  \n",
              "bouncerates               0.893595   -0.128633    0.066774 -0.011816 -0.048048  \n",
              "exitrates                 1.000000   -0.171443    0.089374 -0.010686 -0.058484  \n",
              "pagevalues               -0.171443    1.000000   -0.058967 -0.004583  0.009022  \n",
              "specialday                0.089374   -0.058967    1.000000 -0.013882 -0.049480  \n",
              "region                   -0.010686   -0.004583   -0.013882  1.000000 -0.005222  \n",
              "weekend                  -0.058484    0.009022   -0.049480 -0.005222  1.000000  "
            ],
            "text/html": [
              "\n",
              "  <div id=\"df-c288f4b1-f1fc-47fd-8d3d-eed9f0434102\">\n",
              "    <div class=\"colab-df-container\">\n",
              "      <div>\n",
              "<style scoped>\n",
              "    .dataframe tbody tr th:only-of-type {\n",
              "        vertical-align: middle;\n",
              "    }\n",
              "\n",
              "    .dataframe tbody tr th {\n",
              "        vertical-align: top;\n",
              "    }\n",
              "\n",
              "    .dataframe thead th {\n",
              "        text-align: right;\n",
              "    }\n",
              "</style>\n",
              "<table border=\"1\" class=\"dataframe\">\n",
              "  <thead>\n",
              "    <tr style=\"text-align: right;\">\n",
              "      <th></th>\n",
              "      <th>administrative</th>\n",
              "      <th>administrative_duration</th>\n",
              "      <th>informational</th>\n",
              "      <th>informational_duration</th>\n",
              "      <th>productrelated</th>\n",
              "      <th>productrelated_duration</th>\n",
              "      <th>bouncerates</th>\n",
              "      <th>exitrates</th>\n",
              "      <th>pagevalues</th>\n",
              "      <th>specialday</th>\n",
              "      <th>region</th>\n",
              "      <th>weekend</th>\n",
              "    </tr>\n",
              "  </thead>\n",
              "  <tbody>\n",
              "    <tr>\n",
              "      <th>administrative</th>\n",
              "      <td>1.000000</td>\n",
              "      <td>0.584529</td>\n",
              "      <td>0.391087</td>\n",
              "      <td>0.274090</td>\n",
              "      <td>0.448662</td>\n",
              "      <td>0.404032</td>\n",
              "      <td>-0.216590</td>\n",
              "      <td>-0.305020</td>\n",
              "      <td>0.111897</td>\n",
              "      <td>-0.113679</td>\n",
              "      <td>0.000507</td>\n",
              "      <td>0.013816</td>\n",
              "    </tr>\n",
              "    <tr>\n",
              "      <th>administrative_duration</th>\n",
              "      <td>0.584529</td>\n",
              "      <td>1.000000</td>\n",
              "      <td>0.280617</td>\n",
              "      <td>0.199530</td>\n",
              "      <td>0.294955</td>\n",
              "      <td>0.295905</td>\n",
              "      <td>-0.151642</td>\n",
              "      <td>-0.211213</td>\n",
              "      <td>0.078031</td>\n",
              "      <td>-0.085400</td>\n",
              "      <td>0.000327</td>\n",
              "      <td>0.017291</td>\n",
              "    </tr>\n",
              "    <tr>\n",
              "      <th>informational</th>\n",
              "      <td>0.391087</td>\n",
              "      <td>0.280617</td>\n",
              "      <td>1.000000</td>\n",
              "      <td>0.580722</td>\n",
              "      <td>0.377596</td>\n",
              "      <td>0.382680</td>\n",
              "      <td>-0.114288</td>\n",
              "      <td>-0.164321</td>\n",
              "      <td>0.081242</td>\n",
              "      <td>-0.063980</td>\n",
              "      <td>-0.023207</td>\n",
              "      <td>0.017216</td>\n",
              "    </tr>\n",
              "    <tr>\n",
              "      <th>informational_duration</th>\n",
              "      <td>0.274090</td>\n",
              "      <td>0.199530</td>\n",
              "      <td>0.580722</td>\n",
              "      <td>1.000000</td>\n",
              "      <td>0.271295</td>\n",
              "      <td>0.281936</td>\n",
              "      <td>-0.075931</td>\n",
              "      <td>-0.108674</td>\n",
              "      <td>0.058064</td>\n",
              "      <td>-0.036898</td>\n",
              "      <td>-0.012577</td>\n",
              "      <td>0.015120</td>\n",
              "    </tr>\n",
              "    <tr>\n",
              "      <th>productrelated</th>\n",
              "      <td>0.448662</td>\n",
              "      <td>0.294955</td>\n",
              "      <td>0.377596</td>\n",
              "      <td>0.271295</td>\n",
              "      <td>1.000000</td>\n",
              "      <td>0.750972</td>\n",
              "      <td>-0.202601</td>\n",
              "      <td>-0.294378</td>\n",
              "      <td>0.079132</td>\n",
              "      <td>-0.047809</td>\n",
              "      <td>-0.012477</td>\n",
              "      <td>-0.012593</td>\n",
              "    </tr>\n",
              "    <tr>\n",
              "      <th>productrelated_duration</th>\n",
              "      <td>0.404032</td>\n",
              "      <td>0.295905</td>\n",
              "      <td>0.382680</td>\n",
              "      <td>0.281936</td>\n",
              "      <td>0.750972</td>\n",
              "      <td>1.000000</td>\n",
              "      <td>-0.200532</td>\n",
              "      <td>-0.282332</td>\n",
              "      <td>0.086422</td>\n",
              "      <td>-0.048580</td>\n",
              "      <td>-0.016108</td>\n",
              "      <td>-0.008661</td>\n",
              "    </tr>\n",
              "    <tr>\n",
              "      <th>bouncerates</th>\n",
              "      <td>-0.216590</td>\n",
              "      <td>-0.151642</td>\n",
              "      <td>-0.114288</td>\n",
              "      <td>-0.075931</td>\n",
              "      <td>-0.202601</td>\n",
              "      <td>-0.200532</td>\n",
              "      <td>1.000000</td>\n",
              "      <td>0.893595</td>\n",
              "      <td>-0.128633</td>\n",
              "      <td>0.066774</td>\n",
              "      <td>-0.011816</td>\n",
              "      <td>-0.048048</td>\n",
              "    </tr>\n",
              "    <tr>\n",
              "      <th>exitrates</th>\n",
              "      <td>-0.305020</td>\n",
              "      <td>-0.211213</td>\n",
              "      <td>-0.164321</td>\n",
              "      <td>-0.108674</td>\n",
              "      <td>-0.294378</td>\n",
              "      <td>-0.282332</td>\n",
              "      <td>0.893595</td>\n",
              "      <td>1.000000</td>\n",
              "      <td>-0.171443</td>\n",
              "      <td>0.089374</td>\n",
              "      <td>-0.010686</td>\n",
              "      <td>-0.058484</td>\n",
              "    </tr>\n",
              "    <tr>\n",
              "      <th>pagevalues</th>\n",
              "      <td>0.111897</td>\n",
              "      <td>0.078031</td>\n",
              "      <td>0.081242</td>\n",
              "      <td>0.058064</td>\n",
              "      <td>0.079132</td>\n",
              "      <td>0.086422</td>\n",
              "      <td>-0.128633</td>\n",
              "      <td>-0.171443</td>\n",
              "      <td>1.000000</td>\n",
              "      <td>-0.058967</td>\n",
              "      <td>-0.004583</td>\n",
              "      <td>0.009022</td>\n",
              "    </tr>\n",
              "    <tr>\n",
              "      <th>specialday</th>\n",
              "      <td>-0.113679</td>\n",
              "      <td>-0.085400</td>\n",
              "      <td>-0.063980</td>\n",
              "      <td>-0.036898</td>\n",
              "      <td>-0.047809</td>\n",
              "      <td>-0.048580</td>\n",
              "      <td>0.066774</td>\n",
              "      <td>0.089374</td>\n",
              "      <td>-0.058967</td>\n",
              "      <td>1.000000</td>\n",
              "      <td>-0.013882</td>\n",
              "      <td>-0.049480</td>\n",
              "    </tr>\n",
              "    <tr>\n",
              "      <th>region</th>\n",
              "      <td>0.000507</td>\n",
              "      <td>0.000327</td>\n",
              "      <td>-0.023207</td>\n",
              "      <td>-0.012577</td>\n",
              "      <td>-0.012477</td>\n",
              "      <td>-0.016108</td>\n",
              "      <td>-0.011816</td>\n",
              "      <td>-0.010686</td>\n",
              "      <td>-0.004583</td>\n",
              "      <td>-0.013882</td>\n",
              "      <td>1.000000</td>\n",
              "      <td>-0.005222</td>\n",
              "    </tr>\n",
              "    <tr>\n",
              "      <th>weekend</th>\n",
              "      <td>0.013816</td>\n",
              "      <td>0.017291</td>\n",
              "      <td>0.017216</td>\n",
              "      <td>0.015120</td>\n",
              "      <td>-0.012593</td>\n",
              "      <td>-0.008661</td>\n",
              "      <td>-0.048048</td>\n",
              "      <td>-0.058484</td>\n",
              "      <td>0.009022</td>\n",
              "      <td>-0.049480</td>\n",
              "      <td>-0.005222</td>\n",
              "      <td>1.000000</td>\n",
              "    </tr>\n",
              "  </tbody>\n",
              "</table>\n",
              "</div>\n",
              "      <button class=\"colab-df-convert\" onclick=\"convertToInteractive('df-c288f4b1-f1fc-47fd-8d3d-eed9f0434102')\"\n",
              "              title=\"Convert this dataframe to an interactive table.\"\n",
              "              style=\"display:none;\">\n",
              "        \n",
              "  <svg xmlns=\"http://www.w3.org/2000/svg\" height=\"24px\"viewBox=\"0 0 24 24\"\n",
              "       width=\"24px\">\n",
              "    <path d=\"M0 0h24v24H0V0z\" fill=\"none\"/>\n",
              "    <path d=\"M18.56 5.44l.94 2.06.94-2.06 2.06-.94-2.06-.94-.94-2.06-.94 2.06-2.06.94zm-11 1L8.5 8.5l.94-2.06 2.06-.94-2.06-.94L8.5 2.5l-.94 2.06-2.06.94zm10 10l.94 2.06.94-2.06 2.06-.94-2.06-.94-.94-2.06-.94 2.06-2.06.94z\"/><path d=\"M17.41 7.96l-1.37-1.37c-.4-.4-.92-.59-1.43-.59-.52 0-1.04.2-1.43.59L10.3 9.45l-7.72 7.72c-.78.78-.78 2.05 0 2.83L4 21.41c.39.39.9.59 1.41.59.51 0 1.02-.2 1.41-.59l7.78-7.78 2.81-2.81c.8-.78.8-2.07 0-2.86zM5.41 20L4 18.59l7.72-7.72 1.47 1.35L5.41 20z\"/>\n",
              "  </svg>\n",
              "      </button>\n",
              "      \n",
              "  <style>\n",
              "    .colab-df-container {\n",
              "      display:flex;\n",
              "      flex-wrap:wrap;\n",
              "      gap: 12px;\n",
              "    }\n",
              "\n",
              "    .colab-df-convert {\n",
              "      background-color: #E8F0FE;\n",
              "      border: none;\n",
              "      border-radius: 50%;\n",
              "      cursor: pointer;\n",
              "      display: none;\n",
              "      fill: #1967D2;\n",
              "      height: 32px;\n",
              "      padding: 0 0 0 0;\n",
              "      width: 32px;\n",
              "    }\n",
              "\n",
              "    .colab-df-convert:hover {\n",
              "      background-color: #E2EBFA;\n",
              "      box-shadow: 0px 1px 2px rgba(60, 64, 67, 0.3), 0px 1px 3px 1px rgba(60, 64, 67, 0.15);\n",
              "      fill: #174EA6;\n",
              "    }\n",
              "\n",
              "    [theme=dark] .colab-df-convert {\n",
              "      background-color: #3B4455;\n",
              "      fill: #D2E3FC;\n",
              "    }\n",
              "\n",
              "    [theme=dark] .colab-df-convert:hover {\n",
              "      background-color: #434B5C;\n",
              "      box-shadow: 0px 1px 3px 1px rgba(0, 0, 0, 0.15);\n",
              "      filter: drop-shadow(0px 1px 2px rgba(0, 0, 0, 0.3));\n",
              "      fill: #FFFFFF;\n",
              "    }\n",
              "  </style>\n",
              "\n",
              "      <script>\n",
              "        const buttonEl =\n",
              "          document.querySelector('#df-c288f4b1-f1fc-47fd-8d3d-eed9f0434102 button.colab-df-convert');\n",
              "        buttonEl.style.display =\n",
              "          google.colab.kernel.accessAllowed ? 'block' : 'none';\n",
              "\n",
              "        async function convertToInteractive(key) {\n",
              "          const element = document.querySelector('#df-c288f4b1-f1fc-47fd-8d3d-eed9f0434102');\n",
              "          const dataTable =\n",
              "            await google.colab.kernel.invokeFunction('convertToInteractive',\n",
              "                                                     [key], {});\n",
              "          if (!dataTable) return;\n",
              "\n",
              "          const docLinkHtml = 'Like what you see? Visit the ' +\n",
              "            '<a target=\"_blank\" href=https://colab.research.google.com/notebooks/data_table.ipynb>data table notebook</a>'\n",
              "            + ' to learn more about interactive tables.';\n",
              "          element.innerHTML = '';\n",
              "          dataTable['output_type'] = 'display_data';\n",
              "          await google.colab.output.renderOutput(dataTable, element);\n",
              "          const docLink = document.createElement('div');\n",
              "          docLink.innerHTML = docLinkHtml;\n",
              "          element.appendChild(docLink);\n",
              "        }\n",
              "      </script>\n",
              "    </div>\n",
              "  </div>\n",
              "  "
            ]
          },
          "metadata": {},
          "execution_count": 226
        }
      ]
    },
    {
      "cell_type": "markdown",
      "source": [
        "##### *Distribution and box plots*"
      ],
      "metadata": {
        "id": "oqkrIUXteu5K"
      }
    },
    {
      "cell_type": "code",
      "source": [
        "def cont_plots(data, col, target):\n",
        "    fig, axes = plt.subplots(nrows=1, ncols=2, figsize=(15, 5))\n",
        "    sns.distplot(data[col], ax=axes[0],kde_kws={'bw':0.15}).set_title(\"Distribution plot\")\n",
        "    sns.boxplot(x=target, y=col, data=data).set_title(\"Box Plot distribution\")\n",
        "    plt.show()"
      ],
      "metadata": {
        "id": "CwlgP4uvbzJs"
      },
      "execution_count": null,
      "outputs": []
    },
    {
      "cell_type": "code",
      "source": [
        "for cl in num_var_list:\n",
        "  if cl != 'weekend':\n",
        "    cont_plots(df_dev, cl, \"revenue\")"
      ],
      "metadata": {
        "colab": {
          "base_uri": "https://localhost:8080/",
          "height": 1000
        },
        "id": "U6sPa-YZbzHC",
        "outputId": "1170fe15-8620-499c-c636-9028d83f0869"
      },
      "execution_count": null,
      "outputs": [
        {
          "output_type": "stream",
          "name": "stderr",
          "text": [
            "/usr/local/lib/python3.7/dist-packages/seaborn/distributions.py:2619: FutureWarning: `distplot` is a deprecated function and will be removed in a future version. Please adapt your code to use either `displot` (a figure-level function with similar flexibility) or `histplot` (an axes-level function for histograms).\n",
            "  warnings.warn(msg, FutureWarning)\n",
            "/usr/local/lib/python3.7/dist-packages/seaborn/distributions.py:1699: FutureWarning: The `bw` parameter is deprecated in favor of `bw_method` and `bw_adjust`. Using 0.15 for `bw_method`, but please see the docs for the new parameters and update your code.\n",
            "  warnings.warn(msg, FutureWarning)\n"
          ]
        },
        {
          "output_type": "display_data",
          "data": {
            "text/plain": [
              "<Figure size 1080x360 with 2 Axes>"
            ],
            "image/png": "[encoded data removed]"
          },
          "metadata": {
            "needs_background": "light"
          }
        },
        {
          "output_type": "stream",
          "name": "stderr",
          "text": [
            "/usr/local/lib/python3.7/dist-packages/seaborn/distributions.py:2619: FutureWarning: `distplot` is a deprecated function and will be removed in a future version. Please adapt your code to use either `displot` (a figure-level function with similar flexibility) or `histplot` (an axes-level function for histograms).\n",
            "  warnings.warn(msg, FutureWarning)\n",
            "/usr/local/lib/python3.7/dist-packages/seaborn/distributions.py:1699: FutureWarning: The `bw` parameter is deprecated in favor of `bw_method` and `bw_adjust`. Using 0.15 for `bw_method`, but please see the docs for the new parameters and update your code.\n",
            "  warnings.warn(msg, FutureWarning)\n"
          ]
        },
        {
          "output_type": "display_data",
          "data": {
            "text/plain": [
              "<Figure size 1080x360 with 2 Axes>"
            ],
            "image/png": "[encoded data removed]"
          },
          "metadata": {
            "needs_background": "light"
          }
        },
        {
          "output_type": "stream",
          "name": "stderr",
          "text": [
            "/usr/local/lib/python3.7/dist-packages/seaborn/distributions.py:2619: FutureWarning: `distplot` is a deprecated function and will be removed in a future version. Please adapt your code to use either `displot` (a figure-level function with similar flexibility) or `histplot` (an axes-level function for histograms).\n",
            "  warnings.warn(msg, FutureWarning)\n",
            "/usr/local/lib/python3.7/dist-packages/seaborn/distributions.py:1699: FutureWarning: The `bw` parameter is deprecated in favor of `bw_method` and `bw_adjust`. Using 0.15 for `bw_method`, but please see the docs for the new parameters and update your code.\n",
            "  warnings.warn(msg, FutureWarning)\n"
          ]
        },
        {
          "output_type": "display_data",
          "data": {
            "text/plain": [
              "<Figure size 1080x360 with 2 Axes>"
            ],
            "image/png": "[encoded data removed]"
          },
          "metadata": {
            "needs_background": "light"
          }
        },
        {
          "output_type": "stream",
          "name": "stderr",
          "text": [
            "/usr/local/lib/python3.7/dist-packages/seaborn/distributions.py:2619: FutureWarning: `distplot` is a deprecated function and will be removed in a future version. Please adapt your code to use either `displot` (a figure-level function with similar flexibility) or `histplot` (an axes-level function for histograms).\n",
            "  warnings.warn(msg, FutureWarning)\n",
            "/usr/local/lib/python3.7/dist-packages/seaborn/distributions.py:1699: FutureWarning: The `bw` parameter is deprecated in favor of `bw_method` and `bw_adjust`. Using 0.15 for `bw_method`, but please see the docs for the new parameters and update your code.\n",
            "  warnings.warn(msg, FutureWarning)\n"
          ]
        },
        {
          "output_type": "display_data",
          "data": {
            "text/plain": [
              "<Figure size 1080x360 with 2 Axes>"
            ],
            "image/png": "[encoded data removed]"
          },
          "metadata": {
            "needs_background": "light"
          }
        },
        {
          "output_type": "stream",
          "name": "stderr",
          "text": [
            "/usr/local/lib/python3.7/dist-packages/seaborn/distributions.py:2619: FutureWarning: `distplot` is a deprecated function and will be removed in a future version. Please adapt your code to use either `displot` (a figure-level function with similar flexibility) or `histplot` (an axes-level function for histograms).\n",
            "  warnings.warn(msg, FutureWarning)\n",
            "/usr/local/lib/python3.7/dist-packages/seaborn/distributions.py:1699: FutureWarning: The `bw` parameter is deprecated in favor of `bw_method` and `bw_adjust`. Using 0.15 for `bw_method`, but please see the docs for the new parameters and update your code.\n",
            "  warnings.warn(msg, FutureWarning)\n"
          ]
        },
        {
          "output_type": "display_data",
          "data": {
            "text/plain": [
              "<Figure size 1080x360 with 2 Axes>"
            ],
            "image/png": "[encoded data removed]"
          },
          "metadata": {
            "needs_background": "light"
          }
        },
        {
          "output_type": "stream",
          "name": "stderr",
          "text": [
            "/usr/local/lib/python3.7/dist-packages/seaborn/distributions.py:2619: FutureWarning: `distplot` is a deprecated function and will be removed in a future version. Please adapt your code to use either `displot` (a figure-level function with similar flexibility) or `histplot` (an axes-level function for histograms).\n",
            "  warnings.warn(msg, FutureWarning)\n",
            "/usr/local/lib/python3.7/dist-packages/seaborn/distributions.py:1699: FutureWarning: The `bw` parameter is deprecated in favor of `bw_method` and `bw_adjust`. Using 0.15 for `bw_method`, but please see the docs for the new parameters and update your code.\n",
            "  warnings.warn(msg, FutureWarning)\n"
          ]
        },
        {
          "output_type": "display_data",
          "data": {
            "text/plain": [
              "<Figure size 1080x360 with 2 Axes>"
            ],
            "image/png": "[encoded data removed]"
          },
          "metadata": {
            "needs_background": "light"
          }
        },
        {
          "output_type": "stream",
          "name": "stderr",
          "text": [
            "/usr/local/lib/python3.7/dist-packages/seaborn/distributions.py:2619: FutureWarning: `distplot` is a deprecated function and will be removed in a future version. Please adapt your code to use either `displot` (a figure-level function with similar flexibility) or `histplot` (an axes-level function for histograms).\n",
            "  warnings.warn(msg, FutureWarning)\n",
            "/usr/local/lib/python3.7/dist-packages/seaborn/distributions.py:1699: FutureWarning: The `bw` parameter is deprecated in favor of `bw_method` and `bw_adjust`. Using 0.15 for `bw_method`, but please see the docs for the new parameters and update your code.\n",
            "  warnings.warn(msg, FutureWarning)\n"
          ]
        },
        {
          "output_type": "display_data",
          "data": {
            "text/plain": [
              "<Figure size 1080x360 with 2 Axes>"
            ],
            "image/png": "[encoded data removed]"
          },
          "metadata": {
            "needs_background": "light"
          }
        },
        {
          "output_type": "stream",
          "name": "stderr",
          "text": [
            "/usr/local/lib/python3.7/dist-packages/seaborn/distributions.py:2619: FutureWarning: `distplot` is a deprecated function and will be removed in a future version. Please adapt your code to use either `displot` (a figure-level function with similar flexibility) or `histplot` (an axes-level function for histograms).\n",
            "  warnings.warn(msg, FutureWarning)\n",
            "/usr/local/lib/python3.7/dist-packages/seaborn/distributions.py:1699: FutureWarning: The `bw` parameter is deprecated in favor of `bw_method` and `bw_adjust`. Using 0.15 for `bw_method`, but please see the docs for the new parameters and update your code.\n",
            "  warnings.warn(msg, FutureWarning)\n"
          ]
        },
        {
          "output_type": "display_data",
          "data": {
            "text/plain": [
              "<Figure size 1080x360 with 2 Axes>"
            ],
            "image/png": "[encoded data removed]"
          },
          "metadata": {
            "needs_background": "light"
          }
        },
        {
          "output_type": "stream",
          "name": "stderr",
          "text": [
            "/usr/local/lib/python3.7/dist-packages/seaborn/distributions.py:2619: FutureWarning: `distplot` is a deprecated function and will be removed in a future version. Please adapt your code to use either `displot` (a figure-level function with similar flexibility) or `histplot` (an axes-level function for histograms).\n",
            "  warnings.warn(msg, FutureWarning)\n",
            "/usr/local/lib/python3.7/dist-packages/seaborn/distributions.py:1699: FutureWarning: The `bw` parameter is deprecated in favor of `bw_method` and `bw_adjust`. Using 0.15 for `bw_method`, but please see the docs for the new parameters and update your code.\n",
            "  warnings.warn(msg, FutureWarning)\n"
          ]
        },
        {
          "output_type": "display_data",
          "data": {
            "text/plain": [
              "<Figure size 1080x360 with 2 Axes>"
            ],
            "image/png": "[encoded data removed]"
          },
          "metadata": {
            "needs_background": "light"
          }
        },
        {
          "output_type": "stream",
          "name": "stderr",
          "text": [
            "/usr/local/lib/python3.7/dist-packages/seaborn/distributions.py:2619: FutureWarning: `distplot` is a deprecated function and will be removed in a future version. Please adapt your code to use either `displot` (a figure-level function with similar flexibility) or `histplot` (an axes-level function for histograms).\n",
            "  warnings.warn(msg, FutureWarning)\n",
            "/usr/local/lib/python3.7/dist-packages/seaborn/distributions.py:1699: FutureWarning: The `bw` parameter is deprecated in favor of `bw_method` and `bw_adjust`. Using 0.15 for `bw_method`, but please see the docs for the new parameters and update your code.\n",
            "  warnings.warn(msg, FutureWarning)\n"
          ]
        },
        {
          "output_type": "display_data",
          "data": {
            "text/plain": [
              "<Figure size 1080x360 with 2 Axes>"
            ],
            "image/png": "[encoded data removed]"
          },
          "metadata": {
            "needs_background": "light"
          }
        },
        {
          "output_type": "stream",
          "name": "stderr",
          "text": [
            "/usr/local/lib/python3.7/dist-packages/seaborn/distributions.py:2619: FutureWarning: `distplot` is a deprecated function and will be removed in a future version. Please adapt your code to use either `displot` (a figure-level function with similar flexibility) or `histplot` (an axes-level function for histograms).\n",
            "  warnings.warn(msg, FutureWarning)\n",
            "/usr/local/lib/python3.7/dist-packages/seaborn/distributions.py:1699: FutureWarning: The `bw` parameter is deprecated in favor of `bw_method` and `bw_adjust`. Using 0.15 for `bw_method`, but please see the docs for the new parameters and update your code.\n",
            "  warnings.warn(msg, FutureWarning)\n"
          ]
        },
        {
          "output_type": "display_data",
          "data": {
            "text/plain": [
              "<Figure size 1080x360 with 2 Axes>"
            ],
            "image/png": "[encoded data removed]"
          },
          "metadata": {
            "needs_background": "light"
          }
        }
      ]
    },
    {
      "cell_type": "markdown",
      "source": [
        "## *Categorical variable EDA*"
      ],
      "metadata": {
        "id": "NKQFxOxykGN6"
      }
    },
    {
      "cell_type": "markdown",
      "source": [
        "#### *unique values*"
      ],
      "metadata": {
        "id": "9DbtMH8yEMP9"
      }
    },
    {
      "cell_type": "code",
      "source": [
        "for i in df_dev.columns:\n",
        "    if df_dev[i].dtype == type(object):\n",
        "        print(i,end=': ')\n",
        "        print('\\n',df_dev[i].unique())\n"
      ],
      "metadata": {
        "colab": {
          "base_uri": "https://localhost:8080/"
        },
        "id": "XfvvvRq1EMIs",
        "outputId": "893a37f4-e9bc-4fb8-c6d3-27a9030395d7"
      },
      "execution_count": null,
      "outputs": [
        {
          "output_type": "stream",
          "name": "stdout",
          "text": [
            "month: \n",
            " ['Nov' 'Dec' 'May' 'June' 'Mar' 'Sep' 'Aug' 'Oct' 'Jul' 'Feb']\n",
            "operatingsystems: \n",
            " ['2' '3' '1' '4' '8' '*']\n",
            "browser: \n",
            " ['2' '1' '10' '5' '7' '4' '8' '3' '6' '*' '13']\n",
            "traffictype: \n",
            " ['2' '3' '20' '1' '4' '11' '6' '13' '5' '*' '10' '8' '15' '7' '9']\n",
            "visitortype: \n",
            " ['Returning_Visitor' 'New_Visitor' 'Other']\n"
          ]
        }
      ]
    },
    {
      "cell_type": "code",
      "source": [],
      "metadata": {
        "id": "UT6-Iv1LEMCn"
      },
      "execution_count": null,
      "outputs": []
    },
    {
      "cell_type": "code",
      "source": [],
      "metadata": {
        "id": "2u9_j8gBEL77"
      },
      "execution_count": null,
      "outputs": []
    },
    {
      "cell_type": "code",
      "source": [],
      "metadata": {
        "id": "Vm0uP3YCEL1W"
      },
      "execution_count": null,
      "outputs": []
    },
    {
      "cell_type": "code",
      "source": [],
      "metadata": {
        "id": "2Eh5dtbiELt6"
      },
      "execution_count": null,
      "outputs": []
    },
    {
      "cell_type": "markdown",
      "source": [
        "##### *Bar plots*"
      ],
      "metadata": {
        "id": "11SSGJp5kOnf"
      }
    },
    {
      "cell_type": "code",
      "source": [
        "def cat_plots(idat, col, target = \"revenue\"):\n",
        "    print(\"Countplot for \",col, \" split by \", target)\n",
        "    print(\"\\n\")\n",
        "    plt.figure(figsize=(15, 5))\n",
        "    sns.countplot(x=col, data=idat, hue=target)\n",
        "    plt.show()"
      ],
      "metadata": {
        "id": "xQodJvTdbzEy"
      },
      "execution_count": null,
      "outputs": []
    },
    {
      "cell_type": "code",
      "source": [
        "for cl in cat_var_list:\n",
        "    cat_plots(df_dev,cl,\"revenue\")"
      ],
      "metadata": {
        "colab": {
          "base_uri": "https://localhost:8080/",
          "height": 1000
        },
        "id": "Q4y07zIvbzB-",
        "outputId": "0af72ece-0d99-466d-951d-6d38b4cb3a28"
      },
      "execution_count": null,
      "outputs": [
        {
          "output_type": "stream",
          "name": "stdout",
          "text": [
            "Countplot for  month  split by  revenue\n",
            "\n",
            "\n"
          ]
        },
        {
          "output_type": "display_data",
          "data": {
            "text/plain": [
              "<Figure size 1080x360 with 1 Axes>"
            ],
            "image/png": "[encoded data removed]"
          },
          "metadata": {
            "needs_background": "light"
          }
        },
        {
          "output_type": "stream",
          "name": "stdout",
          "text": [
            "Countplot for  operatingsystems  split by  revenue\n",
            "\n",
            "\n"
          ]
        },
        {
          "output_type": "display_data",
          "data": {
            "text/plain": [
              "<Figure size 1080x360 with 1 Axes>"
            ],
            "image/png": "[encoded data removed]"
          },
          "metadata": {
            "needs_background": "light"
          }
        },
        {
          "output_type": "stream",
          "name": "stdout",
          "text": [
            "Countplot for  browser  split by  revenue\n",
            "\n",
            "\n"
          ]
        },
        {
          "output_type": "display_data",
          "data": {
            "text/plain": [
              "<Figure size 1080x360 with 1 Axes>"
            ],
            "image/png": "[encoded data removed]"
          },
          "metadata": {
            "needs_background": "light"
          }
        },
        {
          "output_type": "stream",
          "name": "stdout",
          "text": [
            "Countplot for  traffictype  split by  revenue\n",
            "\n",
            "\n"
          ]
        },
        {
          "output_type": "display_data",
          "data": {
            "text/plain": [
              "<Figure size 1080x360 with 1 Axes>"
            ],
            "image/png": "[encoded data removed]"
          },
          "metadata": {
            "needs_background": "light"
          }
        },
        {
          "output_type": "stream",
          "name": "stdout",
          "text": [
            "Countplot for  visitortype  split by  revenue\n",
            "\n",
            "\n"
          ]
        },
        {
          "output_type": "display_data",
          "data": {
            "text/plain": [
              "<Figure size 1080x360 with 1 Axes>"
            ],
            "image/png": "[encoded data removed]"
          },
          "metadata": {
            "needs_background": "light"
          }
        }
      ]
    },
    {
      "cell_type": "markdown",
      "source": [
        "### *Pi Chart*"
      ],
      "metadata": {
        "id": "JqCd86r02vwf"
      }
    },
    {
      "cell_type": "code",
      "source": [
        "def pie_plots(idat, col):\n",
        "    print(\"Pieplot for \",col)\n",
        "    print(\"\\n\")\n",
        "    names = idat[col].value_counts().index\n",
        "    vals = idat[col].value_counts().values\n",
        "    plt.figure(figsize=(15, 7))\n",
        "    plt.pie(vals, labels=names,autopct=\"%.1f%%\")\n",
        "    plt.title(col, fontsize=14)\n",
        "    plt.show()\n",
        "    "
      ],
      "metadata": {
        "id": "7Z38UnR6by82"
      },
      "execution_count": null,
      "outputs": []
    },
    {
      "cell_type": "code",
      "source": [
        "for cl in cat_var_list:\n",
        "    pie_plots(df_dev,cl)"
      ],
      "metadata": {
        "id": "A3wbCJL3by6L",
        "colab": {
          "base_uri": "https://localhost:8080/",
          "height": 1000
        },
        "outputId": "38195ff4-1a9d-4459-c544-353352aa26b0"
      },
      "execution_count": null,
      "outputs": [
        {
          "output_type": "stream",
          "name": "stdout",
          "text": [
            "Pieplot for  month\n",
            "\n",
            "\n"
          ]
        },
        {
          "output_type": "display_data",
          "data": {
            "text/plain": [
              "<Figure size 1080x504 with 1 Axes>"
            ],
            "image/png": "[encoded data removed]"
          },
          "metadata": {}
        },
        {
          "output_type": "stream",
          "name": "stdout",
          "text": [
            "Pieplot for  operatingsystems\n",
            "\n",
            "\n"
          ]
        },
        {
          "output_type": "display_data",
          "data": {
            "text/plain": [
              "<Figure size 1080x504 with 1 Axes>"
            ],
            "image/png": "[encoded data removed]"
          },
          "metadata": {}
        },
        {
          "output_type": "stream",
          "name": "stdout",
          "text": [
            "Pieplot for  browser\n",
            "\n",
            "\n"
          ]
        },
        {
          "output_type": "display_data",
          "data": {
            "text/plain": [
              "<Figure size 1080x504 with 1 Axes>"
            ],
            "image/png": "[encoded data removed]"
          },
          "metadata": {}
        },
        {
          "output_type": "stream",
          "name": "stdout",
          "text": [
            "Pieplot for  traffictype\n",
            "\n",
            "\n"
          ]
        },
        {
          "output_type": "display_data",
          "data": {
            "text/plain": [
              "<Figure size 1080x504 with 1 Axes>"
            ],
            "image/png": "[encoded data removed]"
          },
          "metadata": {}
        },
        {
          "output_type": "stream",
          "name": "stdout",
          "text": [
            "Pieplot for  visitortype\n",
            "\n",
            "\n"
          ]
        },
        {
          "output_type": "display_data",
          "data": {
            "text/plain": [
              "<Figure size 1080x504 with 1 Axes>"
            ],
            "image/png": "[encoded data removed]"
          },
          "metadata": {}
        }
      ]
    },
    {
      "cell_type": "code",
      "source": [],
      "metadata": {
        "id": "vCbvabI2by3Y"
      },
      "execution_count": null,
      "outputs": []
    },
    {
      "cell_type": "code",
      "source": [],
      "metadata": {
        "id": "Diolcxjeby07"
      },
      "execution_count": null,
      "outputs": []
    },
    {
      "cell_type": "code",
      "source": [],
      "metadata": {
        "id": "IriK4aiAbyyD"
      },
      "execution_count": null,
      "outputs": []
    },
    {
      "cell_type": "code",
      "source": [],
      "metadata": {
        "id": "duY3ksjIbyvV"
      },
      "execution_count": null,
      "outputs": []
    },
    {
      "cell_type": "code",
      "source": [],
      "metadata": {
        "id": "ZSMytl1obys0"
      },
      "execution_count": null,
      "outputs": []
    },
    {
      "cell_type": "code",
      "source": [],
      "metadata": {
        "id": "M3Uvl57cbyqE"
      },
      "execution_count": null,
      "outputs": []
    },
    {
      "cell_type": "markdown",
      "source": [
        "# Data Preparation"
      ],
      "metadata": {
        "id": "jpH76qISjzx3"
      }
    },
    {
      "cell_type": "code",
      "source": [
        "# 1. Conversion of variable types - weekend, region\n",
        "# 2. OHE - categorical\n",
        "# 3. Outlier treatment - numeric \n",
        "# 4. Standardscaler - numeric"
      ],
      "metadata": {
        "id": "h7YA-4ymjy7v"
      },
      "execution_count": null,
      "outputs": []
    },
    {
      "cell_type": "markdown",
      "source": [
        "##  *Type conversion*"
      ],
      "metadata": {
        "id": "odniiEkYp3ib"
      }
    },
    {
      "cell_type": "code",
      "source": [
        "# Convert weekend to numeric"
      ],
      "metadata": {
        "id": "lTFctIBgjy5P"
      },
      "execution_count": null,
      "outputs": []
    },
    {
      "cell_type": "code",
      "source": [
        "df_dev[\"weekend\"] = df_dev[\"weekend\"].astype(int)"
      ],
      "metadata": {
        "id": "F_0Sor9Ijy2l"
      },
      "execution_count": null,
      "outputs": []
    },
    {
      "cell_type": "code",
      "source": [
        "df_dev[\"weekend\"].value_counts()"
      ],
      "metadata": {
        "id": "tYMsBDPejyzx",
        "colab": {
          "base_uri": "https://localhost:8080/"
        },
        "outputId": "0c25301d-60dc-4891-b088-b88dcb65a83e"
      },
      "execution_count": null,
      "outputs": [
        {
          "output_type": "execute_result",
          "data": {
            "text/plain": [
              "0    31053\n",
              "1     8947\n",
              "Name: weekend, dtype: int64"
            ]
          },
          "metadata": {},
          "execution_count": 234
        }
      ]
    },
    {
      "cell_type": "code",
      "source": [
        "# convert region to categorical"
      ],
      "metadata": {
        "id": "D72rFekRj2nL"
      },
      "execution_count": null,
      "outputs": []
    },
    {
      "cell_type": "code",
      "source": [
        "df_dev['region'].value_counts()"
      ],
      "metadata": {
        "id": "Jtt-2Eyyj2ks",
        "colab": {
          "base_uri": "https://localhost:8080/"
        },
        "outputId": "0ab0e4b9-1d5c-43a1-cad5-1af2ed3fff14"
      },
      "execution_count": null,
      "outputs": [
        {
          "output_type": "execute_result",
          "data": {
            "text/plain": [
              "1    14749\n",
              "3     7833\n",
              "4     4046\n",
              "2     3642\n",
              "6     2755\n",
              "7     2523\n",
              "9     1762\n",
              "8     1488\n",
              "5     1202\n",
              "Name: region, dtype: int64"
            ]
          },
          "metadata": {},
          "execution_count": 236
        }
      ]
    },
    {
      "cell_type": "code",
      "source": [
        "df_dev['region'] = df_dev['region'].astype('O')"
      ],
      "metadata": {
        "id": "CxkzPwVjj2iS"
      },
      "execution_count": null,
      "outputs": []
    },
    {
      "cell_type": "code",
      "source": [
        "df_dev.dtypes"
      ],
      "metadata": {
        "colab": {
          "base_uri": "https://localhost:8080/"
        },
        "id": "-a2QtusvrSb2",
        "outputId": "525e5a10-625d-4321-b65b-11b5aaf2f429"
      },
      "execution_count": null,
      "outputs": [
        {
          "output_type": "execute_result",
          "data": {
            "text/plain": [
              "session_id                   int64\n",
              "administrative               int64\n",
              "administrative_duration    float64\n",
              "informational                int64\n",
              "informational_duration     float64\n",
              "productrelated               int64\n",
              "productrelated_duration    float64\n",
              "bouncerates                float64\n",
              "exitrates                  float64\n",
              "pagevalues                 float64\n",
              "specialday                 float64\n",
              "month                       object\n",
              "operatingsystems            object\n",
              "browser                     object\n",
              "region                      object\n",
              "traffictype                 object\n",
              "visitortype                 object\n",
              "weekend                      int64\n",
              "revenue                      int64\n",
              "dtype: object"
            ]
          },
          "metadata": {},
          "execution_count": 238
        }
      ]
    },
    {
      "cell_type": "code",
      "source": [
        "df_dev.head()"
      ],
      "metadata": {
        "colab": {
          "base_uri": "https://localhost:8080/",
          "height": 270
        },
        "id": "CIbuH2OTrSZE",
        "outputId": "57052a9b-e1f5-4784-c7b3-4e8c993bf76d"
      },
      "execution_count": null,
      "outputs": [
        {
          "output_type": "execute_result",
          "data": {
            "text/plain": [
              "   session_id  administrative  administrative_duration  informational  \\\n",
              "0      139957               2                47.500000              0   \n",
              "1      496587               0                 0.000000              0   \n",
              "2      440268               7               206.500000              1   \n",
              "3      294672               1                18.258571              0   \n",
              "4      497475               0                 0.000000              0   \n",
              "\n",
              "   informational_duration  productrelated  productrelated_duration  \\\n",
              "0                     0.0              19              1203.480714   \n",
              "1                     0.0               7               152.000000   \n",
              "2                   389.9              95              4415.889952   \n",
              "3                     0.0             103              8305.048706   \n",
              "4                     0.0              42              1305.108333   \n",
              "\n",
              "   bouncerates  exitrates  pagevalues  specialday month operatingsystems  \\\n",
              "0     0.000000   0.027421    6.748509         0.0   Nov                2   \n",
              "1     0.000000   0.033333    0.000000         0.0   Dec                3   \n",
              "2     0.000133   0.033750    2.676062         0.0   Nov                2   \n",
              "3     0.004871   0.034746    6.824908         0.0   Nov                2   \n",
              "4     0.016068   0.039742    0.000000         0.0   Dec                3   \n",
              "\n",
              "  browser region traffictype        visitortype  weekend  revenue  \n",
              "0       2      3           2  Returning_Visitor        0        0  \n",
              "1       2      6           3  Returning_Visitor        0        0  \n",
              "2       2      1          20  Returning_Visitor        0        0  \n",
              "3       2      1           2  Returning_Visitor        1        1  \n",
              "4       2      5           2  Returning_Visitor        0        0  "
            ],
            "text/html": [
              "\n",
              "  <div id=\"df-b40dfe1a-bd13-4261-b373-3d2a1d05ac9c\">\n",
              "    <div class=\"colab-df-container\">\n",
              "      <div>\n",
              "<style scoped>\n",
              "    .dataframe tbody tr th:only-of-type {\n",
              "        vertical-align: middle;\n",
              "    }\n",
              "\n",
              "    .dataframe tbody tr th {\n",
              "        vertical-align: top;\n",
              "    }\n",
              "\n",
              "    .dataframe thead th {\n",
              "        text-align: right;\n",
              "    }\n",
              "</style>\n",
              "<table border=\"1\" class=\"dataframe\">\n",
              "  <thead>\n",
              "    <tr style=\"text-align: right;\">\n",
              "      <th></th>\n",
              "      <th>session_id</th>\n",
              "      <th>administrative</th>\n",
              "      <th>administrative_duration</th>\n",
              "      <th>informational</th>\n",
              "      <th>informational_duration</th>\n",
              "      <th>productrelated</th>\n",
              "      <th>productrelated_duration</th>\n",
              "      <th>bouncerates</th>\n",
              "      <th>exitrates</th>\n",
              "      <th>pagevalues</th>\n",
              "      <th>specialday</th>\n",
              "      <th>month</th>\n",
              "      <th>operatingsystems</th>\n",
              "      <th>browser</th>\n",
              "      <th>region</th>\n",
              "      <th>traffictype</th>\n",
              "      <th>visitortype</th>\n",
              "      <th>weekend</th>\n",
              "      <th>revenue</th>\n",
              "    </tr>\n",
              "  </thead>\n",
              "  <tbody>\n",
              "    <tr>\n",
              "      <th>0</th>\n",
              "      <td>139957</td>\n",
              "      <td>2</td>\n",
              "      <td>47.500000</td>\n",
              "      <td>0</td>\n",
              "      <td>0.0</td>\n",
              "      <td>19</td>\n",
              "      <td>1203.480714</td>\n",
              "      <td>0.000000</td>\n",
              "      <td>0.027421</td>\n",
              "      <td>6.748509</td>\n",
              "      <td>0.0</td>\n",
              "      <td>Nov</td>\n",
              "      <td>2</td>\n",
              "      <td>2</td>\n",
              "      <td>3</td>\n",
              "      <td>2</td>\n",
              "      <td>Returning_Visitor</td>\n",
              "      <td>0</td>\n",
              "      <td>0</td>\n",
              "    </tr>\n",
              "    <tr>\n",
              "      <th>1</th>\n",
              "      <td>496587</td>\n",
              "      <td>0</td>\n",
              "      <td>0.000000</td>\n",
              "      <td>0</td>\n",
              "      <td>0.0</td>\n",
              "      <td>7</td>\n",
              "      <td>152.000000</td>\n",
              "      <td>0.000000</td>\n",
              "      <td>0.033333</td>\n",
              "      <td>0.000000</td>\n",
              "      <td>0.0</td>\n",
              "      <td>Dec</td>\n",
              "      <td>3</td>\n",
              "      <td>2</td>\n",
              "      <td>6</td>\n",
              "      <td>3</td>\n",
              "      <td>Returning_Visitor</td>\n",
              "      <td>0</td>\n",
              "      <td>0</td>\n",
              "    </tr>\n",
              "    <tr>\n",
              "      <th>2</th>\n",
              "      <td>440268</td>\n",
              "      <td>7</td>\n",
              "      <td>206.500000</td>\n",
              "      <td>1</td>\n",
              "      <td>389.9</td>\n",
              "      <td>95</td>\n",
              "      <td>4415.889952</td>\n",
              "      <td>0.000133</td>\n",
              "      <td>0.033750</td>\n",
              "      <td>2.676062</td>\n",
              "      <td>0.0</td>\n",
              "      <td>Nov</td>\n",
              "      <td>2</td>\n",
              "      <td>2</td>\n",
              "      <td>1</td>\n",
              "      <td>20</td>\n",
              "      <td>Returning_Visitor</td>\n",
              "      <td>0</td>\n",
              "      <td>0</td>\n",
              "    </tr>\n",
              "    <tr>\n",
              "      <th>3</th>\n",
              "      <td>294672</td>\n",
              "      <td>1</td>\n",
              "      <td>18.258571</td>\n",
              "      <td>0</td>\n",
              "      <td>0.0</td>\n",
              "      <td>103</td>\n",
              "      <td>8305.048706</td>\n",
              "      <td>0.004871</td>\n",
              "      <td>0.034746</td>\n",
              "      <td>6.824908</td>\n",
              "      <td>0.0</td>\n",
              "      <td>Nov</td>\n",
              "      <td>2</td>\n",
              "      <td>2</td>\n",
              "      <td>1</td>\n",
              "      <td>2</td>\n",
              "      <td>Returning_Visitor</td>\n",
              "      <td>1</td>\n",
              "      <td>1</td>\n",
              "    </tr>\n",
              "    <tr>\n",
              "      <th>4</th>\n",
              "      <td>497475</td>\n",
              "      <td>0</td>\n",
              "      <td>0.000000</td>\n",
              "      <td>0</td>\n",
              "      <td>0.0</td>\n",
              "      <td>42</td>\n",
              "      <td>1305.108333</td>\n",
              "      <td>0.016068</td>\n",
              "      <td>0.039742</td>\n",
              "      <td>0.000000</td>\n",
              "      <td>0.0</td>\n",
              "      <td>Dec</td>\n",
              "      <td>3</td>\n",
              "      <td>2</td>\n",
              "      <td>5</td>\n",
              "      <td>2</td>\n",
              "      <td>Returning_Visitor</td>\n",
              "      <td>0</td>\n",
              "      <td>0</td>\n",
              "    </tr>\n",
              "  </tbody>\n",
              "</table>\n",
              "</div>\n",
              "      <button class=\"colab-df-convert\" onclick=\"convertToInteractive('df-b40dfe1a-bd13-4261-b373-3d2a1d05ac9c')\"\n",
              "              title=\"Convert this dataframe to an interactive table.\"\n",
              "              style=\"display:none;\">\n",
              "        \n",
              "  <svg xmlns=\"http://www.w3.org/2000/svg\" height=\"24px\"viewBox=\"0 0 24 24\"\n",
              "       width=\"24px\">\n",
              "    <path d=\"M0 0h24v24H0V0z\" fill=\"none\"/>\n",
              "    <path d=\"M18.56 5.44l.94 2.06.94-2.06 2.06-.94-2.06-.94-.94-2.06-.94 2.06-2.06.94zm-11 1L8.5 8.5l.94-2.06 2.06-.94-2.06-.94L8.5 2.5l-.94 2.06-2.06.94zm10 10l.94 2.06.94-2.06 2.06-.94-2.06-.94-.94-2.06-.94 2.06-2.06.94z\"/><path d=\"M17.41 7.96l-1.37-1.37c-.4-.4-.92-.59-1.43-.59-.52 0-1.04.2-1.43.59L10.3 9.45l-7.72 7.72c-.78.78-.78 2.05 0 2.83L4 21.41c.39.39.9.59 1.41.59.51 0 1.02-.2 1.41-.59l7.78-7.78 2.81-2.81c.8-.78.8-2.07 0-2.86zM5.41 20L4 18.59l7.72-7.72 1.47 1.35L5.41 20z\"/>\n",
              "  </svg>\n",
              "      </button>\n",
              "      \n",
              "  <style>\n",
              "    .colab-df-container {\n",
              "      display:flex;\n",
              "      flex-wrap:wrap;\n",
              "      gap: 12px;\n",
              "    }\n",
              "\n",
              "    .colab-df-convert {\n",
              "      background-color: #E8F0FE;\n",
              "      border: none;\n",
              "      border-radius: 50%;\n",
              "      cursor: pointer;\n",
              "      display: none;\n",
              "      fill: #1967D2;\n",
              "      height: 32px;\n",
              "      padding: 0 0 0 0;\n",
              "      width: 32px;\n",
              "    }\n",
              "\n",
              "    .colab-df-convert:hover {\n",
              "      background-color: #E2EBFA;\n",
              "      box-shadow: 0px 1px 2px rgba(60, 64, 67, 0.3), 0px 1px 3px 1px rgba(60, 64, 67, 0.15);\n",
              "      fill: #174EA6;\n",
              "    }\n",
              "\n",
              "    [theme=dark] .colab-df-convert {\n",
              "      background-color: #3B4455;\n",
              "      fill: #D2E3FC;\n",
              "    }\n",
              "\n",
              "    [theme=dark] .colab-df-convert:hover {\n",
              "      background-color: #434B5C;\n",
              "      box-shadow: 0px 1px 3px 1px rgba(0, 0, 0, 0.15);\n",
              "      filter: drop-shadow(0px 1px 2px rgba(0, 0, 0, 0.3));\n",
              "      fill: #FFFFFF;\n",
              "    }\n",
              "  </style>\n",
              "\n",
              "      <script>\n",
              "        const buttonEl =\n",
              "          document.querySelector('#df-b40dfe1a-bd13-4261-b373-3d2a1d05ac9c button.colab-df-convert');\n",
              "        buttonEl.style.display =\n",
              "          google.colab.kernel.accessAllowed ? 'block' : 'none';\n",
              "\n",
              "        async function convertToInteractive(key) {\n",
              "          const element = document.querySelector('#df-b40dfe1a-bd13-4261-b373-3d2a1d05ac9c');\n",
              "          const dataTable =\n",
              "            await google.colab.kernel.invokeFunction('convertToInteractive',\n",
              "                                                     [key], {});\n",
              "          if (!dataTable) return;\n",
              "\n",
              "          const docLinkHtml = 'Like what you see? Visit the ' +\n",
              "            '<a target=\"_blank\" href=https://colab.research.google.com/notebooks/data_table.ipynb>data table notebook</a>'\n",
              "            + ' to learn more about interactive tables.';\n",
              "          element.innerHTML = '';\n",
              "          dataTable['output_type'] = 'display_data';\n",
              "          await google.colab.output.renderOutput(dataTable, element);\n",
              "          const docLink = document.createElement('div');\n",
              "          docLink.innerHTML = docLinkHtml;\n",
              "          element.appendChild(docLink);\n",
              "        }\n",
              "      </script>\n",
              "    </div>\n",
              "  </div>\n",
              "  "
            ]
          },
          "metadata": {},
          "execution_count": 239
        }
      ]
    },
    {
      "cell_type": "markdown",
      "source": [
        "##### *One hot encoding*"
      ],
      "metadata": {
        "id": "auhr464irldL"
      }
    },
    {
      "cell_type": "code",
      "source": [
        "month = pd.get_dummies(df_dev['month'],prefix='month',drop_first=True)\n",
        "full_data_dev = pd.concat([df_dev,month],axis=1)\n"
      ],
      "metadata": {
        "id": "jGUNoMEgrSW5"
      },
      "execution_count": null,
      "outputs": []
    },
    {
      "cell_type": "code",
      "source": [
        "## For Operatingsystems - we observe that categories 4,8,* contribute to <5% of the datapoints.. \n",
        "## So we will club those together as Others"
      ],
      "metadata": {
        "id": "u9vd3UVwtWxD"
      },
      "execution_count": null,
      "outputs": []
    },
    {
      "cell_type": "code",
      "source": [
        "df_dev.operatingsystems.value_counts()/df_dev.operatingsystems.count()"
      ],
      "metadata": {
        "colab": {
          "base_uri": "https://localhost:8080/"
        },
        "id": "yCdDkylPrSR7",
        "outputId": "60062702-a5be-47e4-d151-4048c05365d2"
      },
      "execution_count": null,
      "outputs": [
        {
          "output_type": "execute_result",
          "data": {
            "text/plain": [
              "2    0.540950\n",
              "3    0.210975\n",
              "1    0.202600\n",
              "4    0.037450\n",
              "8    0.005900\n",
              "*    0.002125\n",
              "Name: operatingsystems, dtype: float64"
            ]
          },
          "metadata": {},
          "execution_count": 298
        }
      ]
    },
    {
      "cell_type": "code",
      "source": [
        "df_dev['operatingsystems_2'] = np.where(df_dev['operatingsystems'].isin(['4','8','*']),'Others',df_dev['operatingsystems'])"
      ],
      "metadata": {
        "id": "OLuHGlX3rSPU"
      },
      "execution_count": null,
      "outputs": []
    },
    {
      "cell_type": "code",
      "source": [
        "df_dev['operatingsystems_2'].value_counts()"
      ],
      "metadata": {
        "colab": {
          "base_uri": "https://localhost:8080/"
        },
        "id": "j_oE5ICprSMs",
        "outputId": "a9c5e002-db71-493d-e712-7c08ef177518"
      },
      "execution_count": null,
      "outputs": [
        {
          "output_type": "execute_result",
          "data": {
            "text/plain": [
              "2         21638\n",
              "3          8439\n",
              "1          8104\n",
              "Others     1819\n",
              "Name: operatingsystems_2, dtype: int64"
            ]
          },
          "metadata": {},
          "execution_count": 300
        }
      ]
    },
    {
      "cell_type": "code",
      "source": [
        "OS = pd.get_dummies(df_dev['operatingsystems_2'],prefix='OS',drop_first=False)\n",
        "full_data_dev = pd.concat([full_data_dev,OS],axis=1)\n"
      ],
      "metadata": {
        "id": "OO3vZR52rSJ6"
      },
      "execution_count": null,
      "outputs": []
    },
    {
      "cell_type": "code",
      "source": [
        "## Dropping one of the OHE columns \n",
        "full_data_dev.drop('OS_Others',axis=1,inplace=True)"
      ],
      "metadata": {
        "id": "0N76ceFKuMZE"
      },
      "execution_count": null,
      "outputs": []
    },
    {
      "cell_type": "code",
      "source": [
        "## For Browser - we observe that categories 1,2,4,5 contribute to ~95% of the datapoints.. \n",
        "## So we will club the rest together as Others"
      ],
      "metadata": {
        "id": "36SgXc9ouDZT"
      },
      "execution_count": null,
      "outputs": []
    },
    {
      "cell_type": "code",
      "source": [
        "df_dev['browser'].value_counts()/df_dev['browser'].count()"
      ],
      "metadata": {
        "colab": {
          "base_uri": "https://localhost:8080/"
        },
        "id": "s5u3Oz4zuDWt",
        "outputId": "0a798d95-e857-4f52-98b2-128b27249103"
      },
      "execution_count": null,
      "outputs": [
        {
          "output_type": "execute_result",
          "data": {
            "text/plain": [
              "2     0.638500\n",
              "1     0.188925\n",
              "4     0.069575\n",
              "5     0.043075\n",
              "6     0.015400\n",
              "10    0.014100\n",
              "3     0.010300\n",
              "8     0.009800\n",
              "13    0.004950\n",
              "7     0.004125\n",
              "*     0.001250\n",
              "Name: browser, dtype: float64"
            ]
          },
          "metadata": {},
          "execution_count": 304
        }
      ]
    },
    {
      "cell_type": "code",
      "source": [
        "df_dev['browser_2'] = np.where(~df_dev['browser'].isin(['1','2','4','5']),'Others',df_dev['browser'])"
      ],
      "metadata": {
        "id": "pWT-8IlLuDUN"
      },
      "execution_count": null,
      "outputs": []
    },
    {
      "cell_type": "code",
      "source": [
        "df_dev['browser_2'].value_counts()"
      ],
      "metadata": {
        "colab": {
          "base_uri": "https://localhost:8080/"
        },
        "id": "lFrp1HBnuDRt",
        "outputId": "5b1a8621-96ff-43a4-dc2b-b7e1ce034a0e"
      },
      "execution_count": null,
      "outputs": [
        {
          "output_type": "execute_result",
          "data": {
            "text/plain": [
              "2         25540\n",
              "1          7557\n",
              "4          2783\n",
              "Others     2397\n",
              "5          1723\n",
              "Name: browser_2, dtype: int64"
            ]
          },
          "metadata": {},
          "execution_count": 306
        }
      ]
    },
    {
      "cell_type": "code",
      "source": [
        "browser = pd.get_dummies(df_dev['browser_2'],prefix='browser',drop_first=False)\n",
        "full_data_dev = pd.concat([full_data_dev,browser],axis=1)\n",
        "full_data_dev.drop('browser_Others',axis=1,inplace=True)\n"
      ],
      "metadata": {
        "id": "R4nImkpUuDPM"
      },
      "execution_count": null,
      "outputs": []
    },
    {
      "cell_type": "code",
      "source": [
        "full_data_dev.head(2)"
      ],
      "metadata": {
        "colab": {
          "base_uri": "https://localhost:8080/",
          "height": 205
        },
        "id": "eW4kFNUEvJFG",
        "outputId": "b6d40721-7b12-4309-9102-c1afa3c5d96b"
      },
      "execution_count": null,
      "outputs": [
        {
          "output_type": "execute_result",
          "data": {
            "text/plain": [
              "   session_id  administrative  administrative_duration  informational  \\\n",
              "0      139957               2                     47.5              0   \n",
              "1      496587               0                      0.0              0   \n",
              "\n",
              "   informational_duration  productrelated  productrelated_duration  \\\n",
              "0                     0.0              19              1203.480714   \n",
              "1                     0.0               7               152.000000   \n",
              "\n",
              "   bouncerates  exitrates  pagevalues  ...  month_Nov month_Oct month_Sep  \\\n",
              "0          0.0   0.027421    6.748509  ...          1         0         0   \n",
              "1          0.0   0.033333    0.000000  ...          0         0         0   \n",
              "\n",
              "  OS_1 OS_2 OS_3 browser_1  browser_2  browser_4 browser_5  \n",
              "0    0    1    0         0          1          0         0  \n",
              "1    0    0    1         0          1          0         0  \n",
              "\n",
              "[2 rows x 41 columns]"
            ],
            "text/html": [
              "\n",
              "  <div id=\"df-741e2960-7d55-47da-8562-1313039cdc47\">\n",
              "    <div class=\"colab-df-container\">\n",
              "      <div>\n",
              "<style scoped>\n",
              "    .dataframe tbody tr th:only-of-type {\n",
              "        vertical-align: middle;\n",
              "    }\n",
              "\n",
              "    .dataframe tbody tr th {\n",
              "        vertical-align: top;\n",
              "    }\n",
              "\n",
              "    .dataframe thead th {\n",
              "        text-align: right;\n",
              "    }\n",
              "</style>\n",
              "<table border=\"1\" class=\"dataframe\">\n",
              "  <thead>\n",
              "    <tr style=\"text-align: right;\">\n",
              "      <th></th>\n",
              "      <th>session_id</th>\n",
              "      <th>administrative</th>\n",
              "      <th>administrative_duration</th>\n",
              "      <th>informational</th>\n",
              "      <th>informational_duration</th>\n",
              "      <th>productrelated</th>\n",
              "      <th>productrelated_duration</th>\n",
              "      <th>bouncerates</th>\n",
              "      <th>exitrates</th>\n",
              "      <th>pagevalues</th>\n",
              "      <th>...</th>\n",
              "      <th>month_Nov</th>\n",
              "      <th>month_Oct</th>\n",
              "      <th>month_Sep</th>\n",
              "      <th>OS_1</th>\n",
              "      <th>OS_2</th>\n",
              "      <th>OS_3</th>\n",
              "      <th>browser_1</th>\n",
              "      <th>browser_2</th>\n",
              "      <th>browser_4</th>\n",
              "      <th>browser_5</th>\n",
              "    </tr>\n",
              "  </thead>\n",
              "  <tbody>\n",
              "    <tr>\n",
              "      <th>0</th>\n",
              "      <td>139957</td>\n",
              "      <td>2</td>\n",
              "      <td>47.5</td>\n",
              "      <td>0</td>\n",
              "      <td>0.0</td>\n",
              "      <td>19</td>\n",
              "      <td>1203.480714</td>\n",
              "      <td>0.0</td>\n",
              "      <td>0.027421</td>\n",
              "      <td>6.748509</td>\n",
              "      <td>...</td>\n",
              "      <td>1</td>\n",
              "      <td>0</td>\n",
              "      <td>0</td>\n",
              "      <td>0</td>\n",
              "      <td>1</td>\n",
              "      <td>0</td>\n",
              "      <td>0</td>\n",
              "      <td>1</td>\n",
              "      <td>0</td>\n",
              "      <td>0</td>\n",
              "    </tr>\n",
              "    <tr>\n",
              "      <th>1</th>\n",
              "      <td>496587</td>\n",
              "      <td>0</td>\n",
              "      <td>0.0</td>\n",
              "      <td>0</td>\n",
              "      <td>0.0</td>\n",
              "      <td>7</td>\n",
              "      <td>152.000000</td>\n",
              "      <td>0.0</td>\n",
              "      <td>0.033333</td>\n",
              "      <td>0.000000</td>\n",
              "      <td>...</td>\n",
              "      <td>0</td>\n",
              "      <td>0</td>\n",
              "      <td>0</td>\n",
              "      <td>0</td>\n",
              "      <td>0</td>\n",
              "      <td>1</td>\n",
              "      <td>0</td>\n",
              "      <td>1</td>\n",
              "      <td>0</td>\n",
              "      <td>0</td>\n",
              "    </tr>\n",
              "  </tbody>\n",
              "</table>\n",
              "<p>2 rows × 41 columns</p>\n",
              "</div>\n",
              "      <button class=\"colab-df-convert\" onclick=\"convertToInteractive('df-741e2960-7d55-47da-8562-1313039cdc47')\"\n",
              "              title=\"Convert this dataframe to an interactive table.\"\n",
              "              style=\"display:none;\">\n",
              "        \n",
              "  <svg xmlns=\"http://www.w3.org/2000/svg\" height=\"24px\"viewBox=\"0 0 24 24\"\n",
              "       width=\"24px\">\n",
              "    <path d=\"M0 0h24v24H0V0z\" fill=\"none\"/>\n",
              "    <path d=\"M18.56 5.44l.94 2.06.94-2.06 2.06-.94-2.06-.94-.94-2.06-.94 2.06-2.06.94zm-11 1L8.5 8.5l.94-2.06 2.06-.94-2.06-.94L8.5 2.5l-.94 2.06-2.06.94zm10 10l.94 2.06.94-2.06 2.06-.94-2.06-.94-.94-2.06-.94 2.06-2.06.94z\"/><path d=\"M17.41 7.96l-1.37-1.37c-.4-.4-.92-.59-1.43-.59-.52 0-1.04.2-1.43.59L10.3 9.45l-7.72 7.72c-.78.78-.78 2.05 0 2.83L4 21.41c.39.39.9.59 1.41.59.51 0 1.02-.2 1.41-.59l7.78-7.78 2.81-2.81c.8-.78.8-2.07 0-2.86zM5.41 20L4 18.59l7.72-7.72 1.47 1.35L5.41 20z\"/>\n",
              "  </svg>\n",
              "      </button>\n",
              "      \n",
              "  <style>\n",
              "    .colab-df-container {\n",
              "      display:flex;\n",
              "      flex-wrap:wrap;\n",
              "      gap: 12px;\n",
              "    }\n",
              "\n",
              "    .colab-df-convert {\n",
              "      background-color: #E8F0FE;\n",
              "      border: none;\n",
              "      border-radius: 50%;\n",
              "      cursor: pointer;\n",
              "      display: none;\n",
              "      fill: #1967D2;\n",
              "      height: 32px;\n",
              "      padding: 0 0 0 0;\n",
              "      width: 32px;\n",
              "    }\n",
              "\n",
              "    .colab-df-convert:hover {\n",
              "      background-color: #E2EBFA;\n",
              "      box-shadow: 0px 1px 2px rgba(60, 64, 67, 0.3), 0px 1px 3px 1px rgba(60, 64, 67, 0.15);\n",
              "      fill: #174EA6;\n",
              "    }\n",
              "\n",
              "    [theme=dark] .colab-df-convert {\n",
              "      background-color: #3B4455;\n",
              "      fill: #D2E3FC;\n",
              "    }\n",
              "\n",
              "    [theme=dark] .colab-df-convert:hover {\n",
              "      background-color: #434B5C;\n",
              "      box-shadow: 0px 1px 3px 1px rgba(0, 0, 0, 0.15);\n",
              "      filter: drop-shadow(0px 1px 2px rgba(0, 0, 0, 0.3));\n",
              "      fill: #FFFFFF;\n",
              "    }\n",
              "  </style>\n",
              "\n",
              "      <script>\n",
              "        const buttonEl =\n",
              "          document.querySelector('#df-741e2960-7d55-47da-8562-1313039cdc47 button.colab-df-convert');\n",
              "        buttonEl.style.display =\n",
              "          google.colab.kernel.accessAllowed ? 'block' : 'none';\n",
              "\n",
              "        async function convertToInteractive(key) {\n",
              "          const element = document.querySelector('#df-741e2960-7d55-47da-8562-1313039cdc47');\n",
              "          const dataTable =\n",
              "            await google.colab.kernel.invokeFunction('convertToInteractive',\n",
              "                                                     [key], {});\n",
              "          if (!dataTable) return;\n",
              "\n",
              "          const docLinkHtml = 'Like what you see? Visit the ' +\n",
              "            '<a target=\"_blank\" href=https://colab.research.google.com/notebooks/data_table.ipynb>data table notebook</a>'\n",
              "            + ' to learn more about interactive tables.';\n",
              "          element.innerHTML = '';\n",
              "          dataTable['output_type'] = 'display_data';\n",
              "          await google.colab.output.renderOutput(dataTable, element);\n",
              "          const docLink = document.createElement('div');\n",
              "          docLink.innerHTML = docLinkHtml;\n",
              "          element.appendChild(docLink);\n",
              "        }\n",
              "      </script>\n",
              "    </div>\n",
              "  </div>\n",
              "  "
            ]
          },
          "metadata": {},
          "execution_count": 308
        }
      ]
    },
    {
      "cell_type": "code",
      "source": [
        "region = pd.get_dummies(df_dev['region'],prefix='region',drop_first=True)\n",
        "full_data_dev = pd.concat([full_data_dev,region],axis=1)"
      ],
      "metadata": {
        "id": "qUWF9lO6vJB2"
      },
      "execution_count": null,
      "outputs": []
    },
    {
      "cell_type": "code",
      "source": [
        "## For Traffic type - we observe that categories 11,20,15,*,7,9 contribute to <5% of the datapoints.. \n",
        "## So we will club those together as Others"
      ],
      "metadata": {
        "id": "iDJ7Jk_Zv_t4"
      },
      "execution_count": null,
      "outputs": []
    },
    {
      "cell_type": "code",
      "source": [
        "df_dev['traffictype'].value_counts()/df_dev['traffictype'].count()"
      ],
      "metadata": {
        "colab": {
          "base_uri": "https://localhost:8080/"
        },
        "id": "uecvNih_v_q0",
        "outputId": "d0b095b2-78ae-49f5-da55-fcc7de392b7c"
      },
      "execution_count": null,
      "outputs": [
        {
          "output_type": "execute_result",
          "data": {
            "text/plain": [
              "2     0.313625\n",
              "1     0.183075\n",
              "3     0.168825\n",
              "4     0.090550\n",
              "13    0.071500\n",
              "10    0.037750\n",
              "6     0.036425\n",
              "8     0.031750\n",
              "5     0.021850\n",
              "11    0.018200\n",
              "20    0.014075\n",
              "15    0.003675\n",
              "9     0.003100\n",
              "*     0.003000\n",
              "7     0.002600\n",
              "Name: traffictype, dtype: float64"
            ]
          },
          "metadata": {},
          "execution_count": 311
        }
      ]
    },
    {
      "cell_type": "code",
      "source": [
        "df_dev['traffictype_2'] = np.where(df_dev['traffictype'].isin(['11','15','7','9','20','*']),'Others',df_dev['traffictype'])"
      ],
      "metadata": {
        "id": "NdDWMBMBv_n0"
      },
      "execution_count": null,
      "outputs": []
    },
    {
      "cell_type": "code",
      "source": [
        "traffictype = pd.get_dummies(df_dev['traffictype_2'],prefix='traffictype',drop_first=False)\n",
        "full_data_dev = pd.concat([full_data_dev,traffictype],axis=1)\n",
        "full_data_dev.drop('traffictype_Others',axis=1,inplace=True)\n"
      ],
      "metadata": {
        "id": "x8JY_v_Vv_lk"
      },
      "execution_count": null,
      "outputs": []
    },
    {
      "cell_type": "code",
      "source": [
        "visitortype = pd.get_dummies(df_dev['visitortype'],prefix='visitortype',drop_first=False)\n",
        "full_data_dev = pd.concat([full_data_dev,visitortype],axis=1)\n",
        "full_data_dev.drop('visitortype_Other',axis=1,inplace=True)\n"
      ],
      "metadata": {
        "id": "vvMuk0P-v_i0"
      },
      "execution_count": null,
      "outputs": []
    },
    {
      "cell_type": "code",
      "source": [
        "full_data_dev.columns"
      ],
      "metadata": {
        "colab": {
          "base_uri": "https://localhost:8080/"
        },
        "id": "76x5hZtHv_gT",
        "outputId": "50cdfb4b-db75-443c-a86c-3393300195b1"
      },
      "execution_count": null,
      "outputs": [
        {
          "output_type": "execute_result",
          "data": {
            "text/plain": [
              "Index(['session_id', 'administrative', 'administrative_duration',\n",
              "       'informational', 'informational_duration', 'productrelated',\n",
              "       'productrelated_duration', 'bouncerates', 'exitrates', 'pagevalues',\n",
              "       'specialday', 'month', 'operatingsystems', 'browser', 'region',\n",
              "       'traffictype', 'visitortype', 'weekend', 'revenue',\n",
              "       'operatingsystems_2', 'browser_2', 'traffictype_2',\n",
              "       'Avg_adm_time_spent', 'Avg_inf_time_spent', 'Avg_prod_time_spent',\n",
              "       'month_Dec', 'month_Feb', 'month_Jul', 'month_June', 'month_Mar',\n",
              "       'month_May', 'month_Nov', 'month_Oct', 'month_Sep', 'OS_1', 'OS_2',\n",
              "       'OS_3', 'browser_1', 'browser_2', 'browser_4', 'browser_5', 'region_2',\n",
              "       'region_3', 'region_4', 'region_5', 'region_6', 'region_7', 'region_8',\n",
              "       'region_9', 'traffictype_1', 'traffictype_10', 'traffictype_13',\n",
              "       'traffictype_2', 'traffictype_3', 'traffictype_4', 'traffictype_5',\n",
              "       'traffictype_6', 'traffictype_8', 'visitortype_New_Visitor',\n",
              "       'visitortype_Returning_Visitor'],\n",
              "      dtype='object')"
            ]
          },
          "metadata": {},
          "execution_count": 315
        }
      ]
    },
    {
      "cell_type": "code",
      "source": [
        "# Removing One hot encoded raw variables"
      ],
      "metadata": {
        "id": "eb8ah2Y5v_dl"
      },
      "execution_count": null,
      "outputs": []
    },
    {
      "cell_type": "code",
      "source": [
        "df_dev_2 = full_data_dev.drop(['month','operatingsystems','browser','region','traffictype','visitortype',\n",
        "                   'operatingsystems_2', 'browser_2', 'traffictype_2'],axis=1)"
      ],
      "metadata": {
        "id": "u-q7k1ddvI_R"
      },
      "execution_count": null,
      "outputs": []
    },
    {
      "cell_type": "code",
      "source": [
        "df_dev_2.shape"
      ],
      "metadata": {
        "colab": {
          "base_uri": "https://localhost:8080/"
        },
        "id": "8igFcPMwyPHS",
        "outputId": "e9105eed-edff-4414-a20d-980daa5730d7"
      },
      "execution_count": null,
      "outputs": [
        {
          "output_type": "execute_result",
          "data": {
            "text/plain": [
              "(40000, 49)"
            ]
          },
          "metadata": {},
          "execution_count": 318
        }
      ]
    },
    {
      "cell_type": "code",
      "source": [
        "df_dev_2.head()"
      ],
      "metadata": {
        "colab": {
          "base_uri": "https://localhost:8080/",
          "height": 299
        },
        "id": "43-aSdpqvI8p",
        "outputId": "3eef74f2-e436-4b6b-c3cc-3b686ba2146f"
      },
      "execution_count": null,
      "outputs": [
        {
          "output_type": "execute_result",
          "data": {
            "text/plain": [
              "   session_id  administrative  administrative_duration  informational  \\\n",
              "0      139957               2                47.500000              0   \n",
              "1      496587               0                 0.000000              0   \n",
              "2      440268               7               206.500000              1   \n",
              "3      294672               1                18.258571              0   \n",
              "4      497475               0                 0.000000              0   \n",
              "\n",
              "   informational_duration  productrelated  productrelated_duration  \\\n",
              "0                     0.0              19              1203.480714   \n",
              "1                     0.0               7               152.000000   \n",
              "2                   389.9              95              4415.889952   \n",
              "3                     0.0             103              8305.048706   \n",
              "4                     0.0              42              1305.108333   \n",
              "\n",
              "   bouncerates  exitrates  pagevalues  ...  traffictype_1  traffictype_10  \\\n",
              "0     0.000000   0.027421    6.748509  ...              0               0   \n",
              "1     0.000000   0.033333    0.000000  ...              0               0   \n",
              "2     0.000133   0.033750    2.676062  ...              0               0   \n",
              "3     0.004871   0.034746    6.824908  ...              0               0   \n",
              "4     0.016068   0.039742    0.000000  ...              0               0   \n",
              "\n",
              "   traffictype_13  traffictype_3  traffictype_4  traffictype_5  traffictype_6  \\\n",
              "0               0              0              0              0              0   \n",
              "1               0              1              0              0              0   \n",
              "2               0              0              0              0              0   \n",
              "3               0              0              0              0              0   \n",
              "4               0              0              0              0              0   \n",
              "\n",
              "   traffictype_8  visitortype_New_Visitor  visitortype_Returning_Visitor  \n",
              "0              0                        0                              1  \n",
              "1              0                        0                              1  \n",
              "2              0                        0                              1  \n",
              "3              0                        0                              1  \n",
              "4              0                        0                              1  \n",
              "\n",
              "[5 rows x 49 columns]"
            ],
            "text/html": [
              "\n",
              "  <div id=\"df-231c9d71-3b3c-4535-8b32-4a5e575d78f8\">\n",
              "    <div class=\"colab-df-container\">\n",
              "      <div>\n",
              "<style scoped>\n",
              "    .dataframe tbody tr th:only-of-type {\n",
              "        vertical-align: middle;\n",
              "    }\n",
              "\n",
              "    .dataframe tbody tr th {\n",
              "        vertical-align: top;\n",
              "    }\n",
              "\n",
              "    .dataframe thead th {\n",
              "        text-align: right;\n",
              "    }\n",
              "</style>\n",
              "<table border=\"1\" class=\"dataframe\">\n",
              "  <thead>\n",
              "    <tr style=\"text-align: right;\">\n",
              "      <th></th>\n",
              "      <th>session_id</th>\n",
              "      <th>administrative</th>\n",
              "      <th>administrative_duration</th>\n",
              "      <th>informational</th>\n",
              "      <th>informational_duration</th>\n",
              "      <th>productrelated</th>\n",
              "      <th>productrelated_duration</th>\n",
              "      <th>bouncerates</th>\n",
              "      <th>exitrates</th>\n",
              "      <th>pagevalues</th>\n",
              "      <th>...</th>\n",
              "      <th>traffictype_1</th>\n",
              "      <th>traffictype_10</th>\n",
              "      <th>traffictype_13</th>\n",
              "      <th>traffictype_3</th>\n",
              "      <th>traffictype_4</th>\n",
              "      <th>traffictype_5</th>\n",
              "      <th>traffictype_6</th>\n",
              "      <th>traffictype_8</th>\n",
              "      <th>visitortype_New_Visitor</th>\n",
              "      <th>visitortype_Returning_Visitor</th>\n",
              "    </tr>\n",
              "  </thead>\n",
              "  <tbody>\n",
              "    <tr>\n",
              "      <th>0</th>\n",
              "      <td>139957</td>\n",
              "      <td>2</td>\n",
              "      <td>47.500000</td>\n",
              "      <td>0</td>\n",
              "      <td>0.0</td>\n",
              "      <td>19</td>\n",
              "      <td>1203.480714</td>\n",
              "      <td>0.000000</td>\n",
              "      <td>0.027421</td>\n",
              "      <td>6.748509</td>\n",
              "      <td>...</td>\n",
              "      <td>0</td>\n",
              "      <td>0</td>\n",
              "      <td>0</td>\n",
              "      <td>0</td>\n",
              "      <td>0</td>\n",
              "      <td>0</td>\n",
              "      <td>0</td>\n",
              "      <td>0</td>\n",
              "      <td>0</td>\n",
              "      <td>1</td>\n",
              "    </tr>\n",
              "    <tr>\n",
              "      <th>1</th>\n",
              "      <td>496587</td>\n",
              "      <td>0</td>\n",
              "      <td>0.000000</td>\n",
              "      <td>0</td>\n",
              "      <td>0.0</td>\n",
              "      <td>7</td>\n",
              "      <td>152.000000</td>\n",
              "      <td>0.000000</td>\n",
              "      <td>0.033333</td>\n",
              "      <td>0.000000</td>\n",
              "      <td>...</td>\n",
              "      <td>0</td>\n",
              "      <td>0</td>\n",
              "      <td>0</td>\n",
              "      <td>1</td>\n",
              "      <td>0</td>\n",
              "      <td>0</td>\n",
              "      <td>0</td>\n",
              "      <td>0</td>\n",
              "      <td>0</td>\n",
              "      <td>1</td>\n",
              "    </tr>\n",
              "    <tr>\n",
              "      <th>2</th>\n",
              "      <td>440268</td>\n",
              "      <td>7</td>\n",
              "      <td>206.500000</td>\n",
              "      <td>1</td>\n",
              "      <td>389.9</td>\n",
              "      <td>95</td>\n",
              "      <td>4415.889952</td>\n",
              "      <td>0.000133</td>\n",
              "      <td>0.033750</td>\n",
              "      <td>2.676062</td>\n",
              "      <td>...</td>\n",
              "      <td>0</td>\n",
              "      <td>0</td>\n",
              "      <td>0</td>\n",
              "      <td>0</td>\n",
              "      <td>0</td>\n",
              "      <td>0</td>\n",
              "      <td>0</td>\n",
              "      <td>0</td>\n",
              "      <td>0</td>\n",
              "      <td>1</td>\n",
              "    </tr>\n",
              "    <tr>\n",
              "      <th>3</th>\n",
              "      <td>294672</td>\n",
              "      <td>1</td>\n",
              "      <td>18.258571</td>\n",
              "      <td>0</td>\n",
              "      <td>0.0</td>\n",
              "      <td>103</td>\n",
              "      <td>8305.048706</td>\n",
              "      <td>0.004871</td>\n",
              "      <td>0.034746</td>\n",
              "      <td>6.824908</td>\n",
              "      <td>...</td>\n",
              "      <td>0</td>\n",
              "      <td>0</td>\n",
              "      <td>0</td>\n",
              "      <td>0</td>\n",
              "      <td>0</td>\n",
              "      <td>0</td>\n",
              "      <td>0</td>\n",
              "      <td>0</td>\n",
              "      <td>0</td>\n",
              "      <td>1</td>\n",
              "    </tr>\n",
              "    <tr>\n",
              "      <th>4</th>\n",
              "      <td>497475</td>\n",
              "      <td>0</td>\n",
              "      <td>0.000000</td>\n",
              "      <td>0</td>\n",
              "      <td>0.0</td>\n",
              "      <td>42</td>\n",
              "      <td>1305.108333</td>\n",
              "      <td>0.016068</td>\n",
              "      <td>0.039742</td>\n",
              "      <td>0.000000</td>\n",
              "      <td>...</td>\n",
              "      <td>0</td>\n",
              "      <td>0</td>\n",
              "      <td>0</td>\n",
              "      <td>0</td>\n",
              "      <td>0</td>\n",
              "      <td>0</td>\n",
              "      <td>0</td>\n",
              "      <td>0</td>\n",
              "      <td>0</td>\n",
              "      <td>1</td>\n",
              "    </tr>\n",
              "  </tbody>\n",
              "</table>\n",
              "<p>5 rows × 49 columns</p>\n",
              "</div>\n",
              "      <button class=\"colab-df-convert\" onclick=\"convertToInteractive('df-231c9d71-3b3c-4535-8b32-4a5e575d78f8')\"\n",
              "              title=\"Convert this dataframe to an interactive table.\"\n",
              "              style=\"display:none;\">\n",
              "        \n",
              "  <svg xmlns=\"http://www.w3.org/2000/svg\" height=\"24px\"viewBox=\"0 0 24 24\"\n",
              "       width=\"24px\">\n",
              "    <path d=\"M0 0h24v24H0V0z\" fill=\"none\"/>\n",
              "    <path d=\"M18.56 5.44l.94 2.06.94-2.06 2.06-.94-2.06-.94-.94-2.06-.94 2.06-2.06.94zm-11 1L8.5 8.5l.94-2.06 2.06-.94-2.06-.94L8.5 2.5l-.94 2.06-2.06.94zm10 10l.94 2.06.94-2.06 2.06-.94-2.06-.94-.94-2.06-.94 2.06-2.06.94z\"/><path d=\"M17.41 7.96l-1.37-1.37c-.4-.4-.92-.59-1.43-.59-.52 0-1.04.2-1.43.59L10.3 9.45l-7.72 7.72c-.78.78-.78 2.05 0 2.83L4 21.41c.39.39.9.59 1.41.59.51 0 1.02-.2 1.41-.59l7.78-7.78 2.81-2.81c.8-.78.8-2.07 0-2.86zM5.41 20L4 18.59l7.72-7.72 1.47 1.35L5.41 20z\"/>\n",
              "  </svg>\n",
              "      </button>\n",
              "      \n",
              "  <style>\n",
              "    .colab-df-container {\n",
              "      display:flex;\n",
              "      flex-wrap:wrap;\n",
              "      gap: 12px;\n",
              "    }\n",
              "\n",
              "    .colab-df-convert {\n",
              "      background-color: #E8F0FE;\n",
              "      border: none;\n",
              "      border-radius: 50%;\n",
              "      cursor: pointer;\n",
              "      display: none;\n",
              "      fill: #1967D2;\n",
              "      height: 32px;\n",
              "      padding: 0 0 0 0;\n",
              "      width: 32px;\n",
              "    }\n",
              "\n",
              "    .colab-df-convert:hover {\n",
              "      background-color: #E2EBFA;\n",
              "      box-shadow: 0px 1px 2px rgba(60, 64, 67, 0.3), 0px 1px 3px 1px rgba(60, 64, 67, 0.15);\n",
              "      fill: #174EA6;\n",
              "    }\n",
              "\n",
              "    [theme=dark] .colab-df-convert {\n",
              "      background-color: #3B4455;\n",
              "      fill: #D2E3FC;\n",
              "    }\n",
              "\n",
              "    [theme=dark] .colab-df-convert:hover {\n",
              "      background-color: #434B5C;\n",
              "      box-shadow: 0px 1px 3px 1px rgba(0, 0, 0, 0.15);\n",
              "      filter: drop-shadow(0px 1px 2px rgba(0, 0, 0, 0.3));\n",
              "      fill: #FFFFFF;\n",
              "    }\n",
              "  </style>\n",
              "\n",
              "      <script>\n",
              "        const buttonEl =\n",
              "          document.querySelector('#df-231c9d71-3b3c-4535-8b32-4a5e575d78f8 button.colab-df-convert');\n",
              "        buttonEl.style.display =\n",
              "          google.colab.kernel.accessAllowed ? 'block' : 'none';\n",
              "\n",
              "        async function convertToInteractive(key) {\n",
              "          const element = document.querySelector('#df-231c9d71-3b3c-4535-8b32-4a5e575d78f8');\n",
              "          const dataTable =\n",
              "            await google.colab.kernel.invokeFunction('convertToInteractive',\n",
              "                                                     [key], {});\n",
              "          if (!dataTable) return;\n",
              "\n",
              "          const docLinkHtml = 'Like what you see? Visit the ' +\n",
              "            '<a target=\"_blank\" href=https://colab.research.google.com/notebooks/data_table.ipynb>data table notebook</a>'\n",
              "            + ' to learn more about interactive tables.';\n",
              "          element.innerHTML = '';\n",
              "          dataTable['output_type'] = 'display_data';\n",
              "          await google.colab.output.renderOutput(dataTable, element);\n",
              "          const docLink = document.createElement('div');\n",
              "          docLink.innerHTML = docLinkHtml;\n",
              "          element.appendChild(docLink);\n",
              "        }\n",
              "      </script>\n",
              "    </div>\n",
              "  </div>\n",
              "  "
            ]
          },
          "metadata": {},
          "execution_count": 319
        }
      ]
    },
    {
      "cell_type": "markdown",
      "source": [
        "### *Creating Derived features*"
      ],
      "metadata": {
        "id": "DUhv-KMZbruA"
      }
    },
    {
      "cell_type": "code",
      "source": [
        "# we can create a single variable out of website visit count and the total duration spent "
      ],
      "metadata": {
        "id": "jWmCNvuJbrdp"
      },
      "execution_count": null,
      "outputs": []
    },
    {
      "cell_type": "code",
      "source": [
        "df_dev_2['Avg_adm_time_spent'] = np.where(df_dev_2['administrative']==0,0,df_dev_2['administrative_duration']/df_dev_2['administrative'])\n",
        "df_dev_2['Avg_inf_time_spent'] = np.where(df_dev_2['informational']==0,0,df_dev_2['informational_duration']/df_dev_2['informational'])\n",
        "df_dev_2['Avg_prod_time_spent'] = np.where(df_dev_2['productrelated']==0,0,df_dev_2['productrelated_duration']/df_dev_2['productrelated'])"
      ],
      "metadata": {
        "colab": {
          "base_uri": "https://localhost:8080/"
        },
        "id": "xn7u2cnMbrRj",
        "outputId": "988280fe-9dc2-4622-fa2a-46816909f669"
      },
      "execution_count": null,
      "outputs": [
        {
          "output_type": "stream",
          "name": "stderr",
          "text": [
            "/usr/local/lib/python3.7/dist-packages/ipykernel_launcher.py:1: SettingWithCopyWarning: \n",
            "A value is trying to be set on a copy of a slice from a DataFrame.\n",
            "Try using .loc[row_indexer,col_indexer] = value instead\n",
            "\n",
            "See the caveats in the documentation: https://pandas.pydata.org/pandas-docs/stable/user_guide/indexing.html#returning-a-view-versus-a-copy\n",
            "  \"\"\"Entry point for launching an IPython kernel.\n",
            "/usr/local/lib/python3.7/dist-packages/ipykernel_launcher.py:2: SettingWithCopyWarning: \n",
            "A value is trying to be set on a copy of a slice from a DataFrame.\n",
            "Try using .loc[row_indexer,col_indexer] = value instead\n",
            "\n",
            "See the caveats in the documentation: https://pandas.pydata.org/pandas-docs/stable/user_guide/indexing.html#returning-a-view-versus-a-copy\n",
            "  \n",
            "/usr/local/lib/python3.7/dist-packages/ipykernel_launcher.py:3: SettingWithCopyWarning: \n",
            "A value is trying to be set on a copy of a slice from a DataFrame.\n",
            "Try using .loc[row_indexer,col_indexer] = value instead\n",
            "\n",
            "See the caveats in the documentation: https://pandas.pydata.org/pandas-docs/stable/user_guide/indexing.html#returning-a-view-versus-a-copy\n",
            "  This is separate from the ipykernel package so we can avoid doing imports until\n"
          ]
        }
      ]
    },
    {
      "cell_type": "code",
      "source": [
        "df_dev_2['Avg_adm_time_spent'].describe()"
      ],
      "metadata": {
        "colab": {
          "base_uri": "https://localhost:8080/"
        },
        "id": "hdKYugOwbrLB",
        "outputId": "7dc3b635-9e91-4881-b8b8-209167b7fe0d"
      },
      "execution_count": null,
      "outputs": [
        {
          "output_type": "execute_result",
          "data": {
            "text/plain": [
              "count    40000.000000\n",
              "mean        22.430175\n",
              "std         53.309432\n",
              "min          0.000000\n",
              "25%          0.000000\n",
              "50%          6.000000\n",
              "75%         26.700000\n",
              "max       1934.500000\n",
              "Name: Avg_adm_time_spent, dtype: float64"
            ]
          },
          "metadata": {},
          "execution_count": 322
        }
      ]
    },
    {
      "cell_type": "code",
      "source": [
        "df_dev_2.drop(['administrative', 'administrative_duration',\n",
        "       'informational', 'informational_duration', 'productrelated',\n",
        "       'productrelated_duration'],inplace=True,axis=1)"
      ],
      "metadata": {
        "colab": {
          "base_uri": "https://localhost:8080/"
        },
        "id": "9PE2iGoDbq-T",
        "outputId": "f9cb32e9-624a-4de3-927d-ffb1ebf9b968"
      },
      "execution_count": null,
      "outputs": [
        {
          "output_type": "stream",
          "name": "stderr",
          "text": [
            "/usr/local/lib/python3.7/dist-packages/pandas/core/frame.py:4913: SettingWithCopyWarning: \n",
            "A value is trying to be set on a copy of a slice from a DataFrame\n",
            "\n",
            "See the caveats in the documentation: https://pandas.pydata.org/pandas-docs/stable/user_guide/indexing.html#returning-a-view-versus-a-copy\n",
            "  errors=errors,\n"
          ]
        }
      ]
    },
    {
      "cell_type": "markdown",
      "source": [
        "## *Outlier treatment for numeric vars*"
      ],
      "metadata": {
        "id": "O1kr_aic5vkV"
      }
    },
    {
      "cell_type": "code",
      "source": [
        "full_data_2 =df_dev_2.copy()\n",
        "for col in [ 'bouncerates', 'exitrates', 'pagevalues','Avg_adm_time_spent',\n",
        "       'Avg_inf_time_spent','Avg_prod_time_spent']: \n",
        "    sorted(full_data_2[col])\n",
        "    p1,p99 = np.percentile(full_data_2[col], [1, 99]) \n",
        "    lower_bound = p1\n",
        "    upper_bound = p99\n",
        "\n",
        "    full_data_2[col] = np.where(full_data_2[col] < lower_bound, lower_bound, full_data_2[col])\n",
        "    full_data_2[col] = np.where(full_data_2[col] > upper_bound, upper_bound, full_data_2[col])"
      ],
      "metadata": {
        "id": "Lfr5jdCp5e-L"
      },
      "execution_count": null,
      "outputs": []
    },
    {
      "cell_type": "code",
      "source": [
        "desc_2 = full_data_2.describe().T\n",
        "desc_2"
      ],
      "metadata": {
        "colab": {
          "base_uri": "https://localhost:8080/",
          "height": 1000
        },
        "id": "yE82PLPG63Rl",
        "outputId": "31927464-6f23-4136-fd8c-99bbe9c2ba7e"
      },
      "execution_count": null,
      "outputs": [
        {
          "output_type": "execute_result",
          "data": {
            "text/plain": [
              "                                 count           mean            std  \\\n",
              "session_id                     40000.0  311469.372075  108498.432497   \n",
              "bouncerates                    40000.0       0.021969       0.048533   \n",
              "exitrates                      40000.0       0.042315       0.048626   \n",
              "pagevalues                     40000.0       6.150048      15.261080   \n",
              "specialday                     40000.0       0.063552       0.199463   \n",
              "weekend                        40000.0       0.223675       0.416712   \n",
              "revenue                        40000.0       0.158275       0.365003   \n",
              "Avg_adm_time_spent             40000.0      20.707439      35.603750   \n",
              "Avg_inf_time_spent             40000.0      15.516913      48.686159   \n",
              "Avg_prod_time_spent            40000.0      37.218500      35.638297   \n",
              "month_Dec                      40000.0       0.140525       0.347535   \n",
              "month_Feb                      40000.0       0.017400       0.130758   \n",
              "month_Jul                      40000.0       0.035725       0.185606   \n",
              "month_June                     40000.0       0.021425       0.144798   \n",
              "month_Mar                      40000.0       0.152150       0.359171   \n",
              "month_May                      40000.0       0.276200       0.447123   \n",
              "month_Nov                      40000.0       0.240625       0.427468   \n",
              "month_Oct                      40000.0       0.041525       0.199504   \n",
              "month_Sep                      40000.0       0.037575       0.190168   \n",
              "OS_1                           40000.0       0.202600       0.401942   \n",
              "OS_2                           40000.0       0.540950       0.498327   \n",
              "OS_3                           40000.0       0.210975       0.408006   \n",
              "browser_1                      40000.0       0.188925       0.391454   \n",
              "browser_4                      40000.0       0.069575       0.254433   \n",
              "browser_5                      40000.0       0.043075       0.203029   \n",
              "region_2                       40000.0       0.091050       0.287684   \n",
              "region_3                       40000.0       0.195825       0.396839   \n",
              "region_4                       40000.0       0.101150       0.301531   \n",
              "region_5                       40000.0       0.030050       0.170727   \n",
              "region_6                       40000.0       0.068875       0.253245   \n",
              "region_7                       40000.0       0.063075       0.243101   \n",
              "region_8                       40000.0       0.037200       0.189254   \n",
              "region_9                       40000.0       0.044050       0.205209   \n",
              "traffictype_1                  40000.0       0.183075       0.386733   \n",
              "traffictype_10                 40000.0       0.037750       0.190593   \n",
              "traffictype_13                 40000.0       0.071500       0.257661   \n",
              "traffictype_3                  40000.0       0.168825       0.374602   \n",
              "traffictype_4                  40000.0       0.090550       0.286972   \n",
              "traffictype_5                  40000.0       0.021850       0.146195   \n",
              "traffictype_6                  40000.0       0.036425       0.187348   \n",
              "traffictype_8                  40000.0       0.031750       0.175336   \n",
              "visitortype_New_Visitor        40000.0       0.130600       0.336967   \n",
              "visitortype_Returning_Visitor  40000.0       0.862400       0.344484   \n",
              "\n",
              "                                      min            25%            50%  \\\n",
              "session_id                     123460.000  217950.000000  311194.500000   \n",
              "bouncerates                         0.000       0.000000       0.003304   \n",
              "exitrates                           0.001       0.013389       0.025000   \n",
              "pagevalues                          0.000       0.000000       0.000000   \n",
              "specialday                          0.000       0.000000       0.000000   \n",
              "weekend                             0.000       0.000000       0.000000   \n",
              "revenue                             0.000       0.000000       0.000000   \n",
              "Avg_adm_time_spent                  0.000       0.000000       6.000000   \n",
              "Avg_inf_time_spent                  0.000       0.000000       0.000000   \n",
              "Avg_prod_time_spent                 0.000      15.833333      27.916964   \n",
              "month_Dec                           0.000       0.000000       0.000000   \n",
              "month_Feb                           0.000       0.000000       0.000000   \n",
              "month_Jul                           0.000       0.000000       0.000000   \n",
              "month_June                          0.000       0.000000       0.000000   \n",
              "month_Mar                           0.000       0.000000       0.000000   \n",
              "month_May                           0.000       0.000000       0.000000   \n",
              "month_Nov                           0.000       0.000000       0.000000   \n",
              "month_Oct                           0.000       0.000000       0.000000   \n",
              "month_Sep                           0.000       0.000000       0.000000   \n",
              "OS_1                                0.000       0.000000       0.000000   \n",
              "OS_2                                0.000       0.000000       1.000000   \n",
              "OS_3                                0.000       0.000000       0.000000   \n",
              "browser_1                           0.000       0.000000       0.000000   \n",
              "browser_4                           0.000       0.000000       0.000000   \n",
              "browser_5                           0.000       0.000000       0.000000   \n",
              "region_2                            0.000       0.000000       0.000000   \n",
              "region_3                            0.000       0.000000       0.000000   \n",
              "region_4                            0.000       0.000000       0.000000   \n",
              "region_5                            0.000       0.000000       0.000000   \n",
              "region_6                            0.000       0.000000       0.000000   \n",
              "region_7                            0.000       0.000000       0.000000   \n",
              "region_8                            0.000       0.000000       0.000000   \n",
              "region_9                            0.000       0.000000       0.000000   \n",
              "traffictype_1                       0.000       0.000000       0.000000   \n",
              "traffictype_10                      0.000       0.000000       0.000000   \n",
              "traffictype_13                      0.000       0.000000       0.000000   \n",
              "traffictype_3                       0.000       0.000000       0.000000   \n",
              "traffictype_4                       0.000       0.000000       0.000000   \n",
              "traffictype_5                       0.000       0.000000       0.000000   \n",
              "traffictype_6                       0.000       0.000000       0.000000   \n",
              "traffictype_8                       0.000       0.000000       0.000000   \n",
              "visitortype_New_Visitor             0.000       0.000000       0.000000   \n",
              "visitortype_Returning_Visitor       0.000       1.000000       1.000000   \n",
              "\n",
              "                                         75%            max  \n",
              "session_id                     404680.500000  499982.000000  \n",
              "bouncerates                         0.016667       0.200000  \n",
              "exitrates                           0.050000       0.200000  \n",
              "pagevalues                          0.000000      82.407773  \n",
              "specialday                          0.000000       1.000000  \n",
              "weekend                             0.000000       1.000000  \n",
              "revenue                             0.000000       1.000000  \n",
              "Avg_adm_time_spent                 26.700000     209.675040  \n",
              "Avg_inf_time_spent                  0.000000     324.252500  \n",
              "Avg_prod_time_spent                46.565350     211.169333  \n",
              "month_Dec                           0.000000       1.000000  \n",
              "month_Feb                           0.000000       1.000000  \n",
              "month_Jul                           0.000000       1.000000  \n",
              "month_June                          0.000000       1.000000  \n",
              "month_Mar                           0.000000       1.000000  \n",
              "month_May                           1.000000       1.000000  \n",
              "month_Nov                           0.000000       1.000000  \n",
              "month_Oct                           0.000000       1.000000  \n",
              "month_Sep                           0.000000       1.000000  \n",
              "OS_1                                0.000000       1.000000  \n",
              "OS_2                                1.000000       1.000000  \n",
              "OS_3                                0.000000       1.000000  \n",
              "browser_1                           0.000000       1.000000  \n",
              "browser_4                           0.000000       1.000000  \n",
              "browser_5                           0.000000       1.000000  \n",
              "region_2                            0.000000       1.000000  \n",
              "region_3                            0.000000       1.000000  \n",
              "region_4                            0.000000       1.000000  \n",
              "region_5                            0.000000       1.000000  \n",
              "region_6                            0.000000       1.000000  \n",
              "region_7                            0.000000       1.000000  \n",
              "region_8                            0.000000       1.000000  \n",
              "region_9                            0.000000       1.000000  \n",
              "traffictype_1                       0.000000       1.000000  \n",
              "traffictype_10                      0.000000       1.000000  \n",
              "traffictype_13                      0.000000       1.000000  \n",
              "traffictype_3                       0.000000       1.000000  \n",
              "traffictype_4                       0.000000       1.000000  \n",
              "traffictype_5                       0.000000       1.000000  \n",
              "traffictype_6                       0.000000       1.000000  \n",
              "traffictype_8                       0.000000       1.000000  \n",
              "visitortype_New_Visitor             0.000000       1.000000  \n",
              "visitortype_Returning_Visitor       1.000000       1.000000  "
            ],
            "text/html": [
              "\n",
              "  <div id=\"df-dc627b1d-af45-4a05-bba4-976916eb3ed5\">\n",
              "    <div class=\"colab-df-container\">\n",
              "      <div>\n",
              "<style scoped>\n",
              "    .dataframe tbody tr th:only-of-type {\n",
              "        vertical-align: middle;\n",
              "    }\n",
              "\n",
              "    .dataframe tbody tr th {\n",
              "        vertical-align: top;\n",
              "    }\n",
              "\n",
              "    .dataframe thead th {\n",
              "        text-align: right;\n",
              "    }\n",
              "</style>\n",
              "<table border=\"1\" class=\"dataframe\">\n",
              "  <thead>\n",
              "    <tr style=\"text-align: right;\">\n",
              "      <th></th>\n",
              "      <th>count</th>\n",
              "      <th>mean</th>\n",
              "      <th>std</th>\n",
              "      <th>min</th>\n",
              "      <th>25%</th>\n",
              "      <th>50%</th>\n",
              "      <th>75%</th>\n",
              "      <th>max</th>\n",
              "    </tr>\n",
              "  </thead>\n",
              "  <tbody>\n",
              "    <tr>\n",
              "      <th>session_id</th>\n",
              "      <td>40000.0</td>\n",
              "      <td>311469.372075</td>\n",
              "      <td>108498.432497</td>\n",
              "      <td>123460.000</td>\n",
              "      <td>217950.000000</td>\n",
              "      <td>311194.500000</td>\n",
              "      <td>404680.500000</td>\n",
              "      <td>499982.000000</td>\n",
              "    </tr>\n",
              "    <tr>\n",
              "      <th>bouncerates</th>\n",
              "      <td>40000.0</td>\n",
              "      <td>0.021969</td>\n",
              "      <td>0.048533</td>\n",
              "      <td>0.000</td>\n",
              "      <td>0.000000</td>\n",
              "      <td>0.003304</td>\n",
              "      <td>0.016667</td>\n",
              "      <td>0.200000</td>\n",
              "    </tr>\n",
              "    <tr>\n",
              "      <th>exitrates</th>\n",
              "      <td>40000.0</td>\n",
              "      <td>0.042315</td>\n",
              "      <td>0.048626</td>\n",
              "      <td>0.001</td>\n",
              "      <td>0.013389</td>\n",
              "      <td>0.025000</td>\n",
              "      <td>0.050000</td>\n",
              "      <td>0.200000</td>\n",
              "    </tr>\n",
              "    <tr>\n",
              "      <th>pagevalues</th>\n",
              "      <td>40000.0</td>\n",
              "      <td>6.150048</td>\n",
              "      <td>15.261080</td>\n",
              "      <td>0.000</td>\n",
              "      <td>0.000000</td>\n",
              "      <td>0.000000</td>\n",
              "      <td>0.000000</td>\n",
              "      <td>82.407773</td>\n",
              "    </tr>\n",
              "    <tr>\n",
              "      <th>specialday</th>\n",
              "      <td>40000.0</td>\n",
              "      <td>0.063552</td>\n",
              "      <td>0.199463</td>\n",
              "      <td>0.000</td>\n",
              "      <td>0.000000</td>\n",
              "      <td>0.000000</td>\n",
              "      <td>0.000000</td>\n",
              "      <td>1.000000</td>\n",
              "    </tr>\n",
              "    <tr>\n",
              "      <th>weekend</th>\n",
              "      <td>40000.0</td>\n",
              "      <td>0.223675</td>\n",
              "      <td>0.416712</td>\n",
              "      <td>0.000</td>\n",
              "      <td>0.000000</td>\n",
              "      <td>0.000000</td>\n",
              "      <td>0.000000</td>\n",
              "      <td>1.000000</td>\n",
              "    </tr>\n",
              "    <tr>\n",
              "      <th>revenue</th>\n",
              "      <td>40000.0</td>\n",
              "      <td>0.158275</td>\n",
              "      <td>0.365003</td>\n",
              "      <td>0.000</td>\n",
              "      <td>0.000000</td>\n",
              "      <td>0.000000</td>\n",
              "      <td>0.000000</td>\n",
              "      <td>1.000000</td>\n",
              "    </tr>\n",
              "    <tr>\n",
              "      <th>Avg_adm_time_spent</th>\n",
              "      <td>40000.0</td>\n",
              "      <td>20.707439</td>\n",
              "      <td>35.603750</td>\n",
              "      <td>0.000</td>\n",
              "      <td>0.000000</td>\n",
              "      <td>6.000000</td>\n",
              "      <td>26.700000</td>\n",
              "      <td>209.675040</td>\n",
              "    </tr>\n",
              "    <tr>\n",
              "      <th>Avg_inf_time_spent</th>\n",
              "      <td>40000.0</td>\n",
              "      <td>15.516913</td>\n",
              "      <td>48.686159</td>\n",
              "      <td>0.000</td>\n",
              "      <td>0.000000</td>\n",
              "      <td>0.000000</td>\n",
              "      <td>0.000000</td>\n",
              "      <td>324.252500</td>\n",
              "    </tr>\n",
              "    <tr>\n",
              "      <th>Avg_prod_time_spent</th>\n",
              "      <td>40000.0</td>\n",
              "      <td>37.218500</td>\n",
              "      <td>35.638297</td>\n",
              "      <td>0.000</td>\n",
              "      <td>15.833333</td>\n",
              "      <td>27.916964</td>\n",
              "      <td>46.565350</td>\n",
              "      <td>211.169333</td>\n",
              "    </tr>\n",
              "    <tr>\n",
              "      <th>month_Dec</th>\n",
              "      <td>40000.0</td>\n",
              "      <td>0.140525</td>\n",
              "      <td>0.347535</td>\n",
              "      <td>0.000</td>\n",
              "      <td>0.000000</td>\n",
              "      <td>0.000000</td>\n",
              "      <td>0.000000</td>\n",
              "      <td>1.000000</td>\n",
              "    </tr>\n",
              "    <tr>\n",
              "      <th>month_Feb</th>\n",
              "      <td>40000.0</td>\n",
              "      <td>0.017400</td>\n",
              "      <td>0.130758</td>\n",
              "      <td>0.000</td>\n",
              "      <td>0.000000</td>\n",
              "      <td>0.000000</td>\n",
              "      <td>0.000000</td>\n",
              "      <td>1.000000</td>\n",
              "    </tr>\n",
              "    <tr>\n",
              "      <th>month_Jul</th>\n",
              "      <td>40000.0</td>\n",
              "      <td>0.035725</td>\n",
              "      <td>0.185606</td>\n",
              "      <td>0.000</td>\n",
              "      <td>0.000000</td>\n",
              "      <td>0.000000</td>\n",
              "      <td>0.000000</td>\n",
              "      <td>1.000000</td>\n",
              "    </tr>\n",
              "    <tr>\n",
              "      <th>month_June</th>\n",
              "      <td>40000.0</td>\n",
              "      <td>0.021425</td>\n",
              "      <td>0.144798</td>\n",
              "      <td>0.000</td>\n",
              "      <td>0.000000</td>\n",
              "      <td>0.000000</td>\n",
              "      <td>0.000000</td>\n",
              "      <td>1.000000</td>\n",
              "    </tr>\n",
              "    <tr>\n",
              "      <th>month_Mar</th>\n",
              "      <td>40000.0</td>\n",
              "      <td>0.152150</td>\n",
              "      <td>0.359171</td>\n",
              "      <td>0.000</td>\n",
              "      <td>0.000000</td>\n",
              "      <td>0.000000</td>\n",
              "      <td>0.000000</td>\n",
              "      <td>1.000000</td>\n",
              "    </tr>\n",
              "    <tr>\n",
              "      <th>month_May</th>\n",
              "      <td>40000.0</td>\n",
              "      <td>0.276200</td>\n",
              "      <td>0.447123</td>\n",
              "      <td>0.000</td>\n",
              "      <td>0.000000</td>\n",
              "      <td>0.000000</td>\n",
              "      <td>1.000000</td>\n",
              "      <td>1.000000</td>\n",
              "    </tr>\n",
              "    <tr>\n",
              "      <th>month_Nov</th>\n",
              "      <td>40000.0</td>\n",
              "      <td>0.240625</td>\n",
              "      <td>0.427468</td>\n",
              "      <td>0.000</td>\n",
              "      <td>0.000000</td>\n",
              "      <td>0.000000</td>\n",
              "      <td>0.000000</td>\n",
              "      <td>1.000000</td>\n",
              "    </tr>\n",
              "    <tr>\n",
              "      <th>month_Oct</th>\n",
              "      <td>40000.0</td>\n",
              "      <td>0.041525</td>\n",
              "      <td>0.199504</td>\n",
              "      <td>0.000</td>\n",
              "      <td>0.000000</td>\n",
              "      <td>0.000000</td>\n",
              "      <td>0.000000</td>\n",
              "      <td>1.000000</td>\n",
              "    </tr>\n",
              "    <tr>\n",
              "      <th>month_Sep</th>\n",
              "      <td>40000.0</td>\n",
              "      <td>0.037575</td>\n",
              "      <td>0.190168</td>\n",
              "      <td>0.000</td>\n",
              "      <td>0.000000</td>\n",
              "      <td>0.000000</td>\n",
              "      <td>0.000000</td>\n",
              "      <td>1.000000</td>\n",
              "    </tr>\n",
              "    <tr>\n",
              "      <th>OS_1</th>\n",
              "      <td>40000.0</td>\n",
              "      <td>0.202600</td>\n",
              "      <td>0.401942</td>\n",
              "      <td>0.000</td>\n",
              "      <td>0.000000</td>\n",
              "      <td>0.000000</td>\n",
              "      <td>0.000000</td>\n",
              "      <td>1.000000</td>\n",
              "    </tr>\n",
              "    <tr>\n",
              "      <th>OS_2</th>\n",
              "      <td>40000.0</td>\n",
              "      <td>0.540950</td>\n",
              "      <td>0.498327</td>\n",
              "      <td>0.000</td>\n",
              "      <td>0.000000</td>\n",
              "      <td>1.000000</td>\n",
              "      <td>1.000000</td>\n",
              "      <td>1.000000</td>\n",
              "    </tr>\n",
              "    <tr>\n",
              "      <th>OS_3</th>\n",
              "      <td>40000.0</td>\n",
              "      <td>0.210975</td>\n",
              "      <td>0.408006</td>\n",
              "      <td>0.000</td>\n",
              "      <td>0.000000</td>\n",
              "      <td>0.000000</td>\n",
              "      <td>0.000000</td>\n",
              "      <td>1.000000</td>\n",
              "    </tr>\n",
              "    <tr>\n",
              "      <th>browser_1</th>\n",
              "      <td>40000.0</td>\n",
              "      <td>0.188925</td>\n",
              "      <td>0.391454</td>\n",
              "      <td>0.000</td>\n",
              "      <td>0.000000</td>\n",
              "      <td>0.000000</td>\n",
              "      <td>0.000000</td>\n",
              "      <td>1.000000</td>\n",
              "    </tr>\n",
              "    <tr>\n",
              "      <th>browser_4</th>\n",
              "      <td>40000.0</td>\n",
              "      <td>0.069575</td>\n",
              "      <td>0.254433</td>\n",
              "      <td>0.000</td>\n",
              "      <td>0.000000</td>\n",
              "      <td>0.000000</td>\n",
              "      <td>0.000000</td>\n",
              "      <td>1.000000</td>\n",
              "    </tr>\n",
              "    <tr>\n",
              "      <th>browser_5</th>\n",
              "      <td>40000.0</td>\n",
              "      <td>0.043075</td>\n",
              "      <td>0.203029</td>\n",
              "      <td>0.000</td>\n",
              "      <td>0.000000</td>\n",
              "      <td>0.000000</td>\n",
              "      <td>0.000000</td>\n",
              "      <td>1.000000</td>\n",
              "    </tr>\n",
              "    <tr>\n",
              "      <th>region_2</th>\n",
              "      <td>40000.0</td>\n",
              "      <td>0.091050</td>\n",
              "      <td>0.287684</td>\n",
              "      <td>0.000</td>\n",
              "      <td>0.000000</td>\n",
              "      <td>0.000000</td>\n",
              "      <td>0.000000</td>\n",
              "      <td>1.000000</td>\n",
              "    </tr>\n",
              "    <tr>\n",
              "      <th>region_3</th>\n",
              "      <td>40000.0</td>\n",
              "      <td>0.195825</td>\n",
              "      <td>0.396839</td>\n",
              "      <td>0.000</td>\n",
              "      <td>0.000000</td>\n",
              "      <td>0.000000</td>\n",
              "      <td>0.000000</td>\n",
              "      <td>1.000000</td>\n",
              "    </tr>\n",
              "    <tr>\n",
              "      <th>region_4</th>\n",
              "      <td>40000.0</td>\n",
              "      <td>0.101150</td>\n",
              "      <td>0.301531</td>\n",
              "      <td>0.000</td>\n",
              "      <td>0.000000</td>\n",
              "      <td>0.000000</td>\n",
              "      <td>0.000000</td>\n",
              "      <td>1.000000</td>\n",
              "    </tr>\n",
              "    <tr>\n",
              "      <th>region_5</th>\n",
              "      <td>40000.0</td>\n",
              "      <td>0.030050</td>\n",
              "      <td>0.170727</td>\n",
              "      <td>0.000</td>\n",
              "      <td>0.000000</td>\n",
              "      <td>0.000000</td>\n",
              "      <td>0.000000</td>\n",
              "      <td>1.000000</td>\n",
              "    </tr>\n",
              "    <tr>\n",
              "      <th>region_6</th>\n",
              "      <td>40000.0</td>\n",
              "      <td>0.068875</td>\n",
              "      <td>0.253245</td>\n",
              "      <td>0.000</td>\n",
              "      <td>0.000000</td>\n",
              "      <td>0.000000</td>\n",
              "      <td>0.000000</td>\n",
              "      <td>1.000000</td>\n",
              "    </tr>\n",
              "    <tr>\n",
              "      <th>region_7</th>\n",
              "      <td>40000.0</td>\n",
              "      <td>0.063075</td>\n",
              "      <td>0.243101</td>\n",
              "      <td>0.000</td>\n",
              "      <td>0.000000</td>\n",
              "      <td>0.000000</td>\n",
              "      <td>0.000000</td>\n",
              "      <td>1.000000</td>\n",
              "    </tr>\n",
              "    <tr>\n",
              "      <th>region_8</th>\n",
              "      <td>40000.0</td>\n",
              "      <td>0.037200</td>\n",
              "      <td>0.189254</td>\n",
              "      <td>0.000</td>\n",
              "      <td>0.000000</td>\n",
              "      <td>0.000000</td>\n",
              "      <td>0.000000</td>\n",
              "      <td>1.000000</td>\n",
              "    </tr>\n",
              "    <tr>\n",
              "      <th>region_9</th>\n",
              "      <td>40000.0</td>\n",
              "      <td>0.044050</td>\n",
              "      <td>0.205209</td>\n",
              "      <td>0.000</td>\n",
              "      <td>0.000000</td>\n",
              "      <td>0.000000</td>\n",
              "      <td>0.000000</td>\n",
              "      <td>1.000000</td>\n",
              "    </tr>\n",
              "    <tr>\n",
              "      <th>traffictype_1</th>\n",
              "      <td>40000.0</td>\n",
              "      <td>0.183075</td>\n",
              "      <td>0.386733</td>\n",
              "      <td>0.000</td>\n",
              "      <td>0.000000</td>\n",
              "      <td>0.000000</td>\n",
              "      <td>0.000000</td>\n",
              "      <td>1.000000</td>\n",
              "    </tr>\n",
              "    <tr>\n",
              "      <th>traffictype_10</th>\n",
              "      <td>40000.0</td>\n",
              "      <td>0.037750</td>\n",
              "      <td>0.190593</td>\n",
              "      <td>0.000</td>\n",
              "      <td>0.000000</td>\n",
              "      <td>0.000000</td>\n",
              "      <td>0.000000</td>\n",
              "      <td>1.000000</td>\n",
              "    </tr>\n",
              "    <tr>\n",
              "      <th>traffictype_13</th>\n",
              "      <td>40000.0</td>\n",
              "      <td>0.071500</td>\n",
              "      <td>0.257661</td>\n",
              "      <td>0.000</td>\n",
              "      <td>0.000000</td>\n",
              "      <td>0.000000</td>\n",
              "      <td>0.000000</td>\n",
              "      <td>1.000000</td>\n",
              "    </tr>\n",
              "    <tr>\n",
              "      <th>traffictype_3</th>\n",
              "      <td>40000.0</td>\n",
              "      <td>0.168825</td>\n",
              "      <td>0.374602</td>\n",
              "      <td>0.000</td>\n",
              "      <td>0.000000</td>\n",
              "      <td>0.000000</td>\n",
              "      <td>0.000000</td>\n",
              "      <td>1.000000</td>\n",
              "    </tr>\n",
              "    <tr>\n",
              "      <th>traffictype_4</th>\n",
              "      <td>40000.0</td>\n",
              "      <td>0.090550</td>\n",
              "      <td>0.286972</td>\n",
              "      <td>0.000</td>\n",
              "      <td>0.000000</td>\n",
              "      <td>0.000000</td>\n",
              "      <td>0.000000</td>\n",
              "      <td>1.000000</td>\n",
              "    </tr>\n",
              "    <tr>\n",
              "      <th>traffictype_5</th>\n",
              "      <td>40000.0</td>\n",
              "      <td>0.021850</td>\n",
              "      <td>0.146195</td>\n",
              "      <td>0.000</td>\n",
              "      <td>0.000000</td>\n",
              "      <td>0.000000</td>\n",
              "      <td>0.000000</td>\n",
              "      <td>1.000000</td>\n",
              "    </tr>\n",
              "    <tr>\n",
              "      <th>traffictype_6</th>\n",
              "      <td>40000.0</td>\n",
              "      <td>0.036425</td>\n",
              "      <td>0.187348</td>\n",
              "      <td>0.000</td>\n",
              "      <td>0.000000</td>\n",
              "      <td>0.000000</td>\n",
              "      <td>0.000000</td>\n",
              "      <td>1.000000</td>\n",
              "    </tr>\n",
              "    <tr>\n",
              "      <th>traffictype_8</th>\n",
              "      <td>40000.0</td>\n",
              "      <td>0.031750</td>\n",
              "      <td>0.175336</td>\n",
              "      <td>0.000</td>\n",
              "      <td>0.000000</td>\n",
              "      <td>0.000000</td>\n",
              "      <td>0.000000</td>\n",
              "      <td>1.000000</td>\n",
              "    </tr>\n",
              "    <tr>\n",
              "      <th>visitortype_New_Visitor</th>\n",
              "      <td>40000.0</td>\n",
              "      <td>0.130600</td>\n",
              "      <td>0.336967</td>\n",
              "      <td>0.000</td>\n",
              "      <td>0.000000</td>\n",
              "      <td>0.000000</td>\n",
              "      <td>0.000000</td>\n",
              "      <td>1.000000</td>\n",
              "    </tr>\n",
              "    <tr>\n",
              "      <th>visitortype_Returning_Visitor</th>\n",
              "      <td>40000.0</td>\n",
              "      <td>0.862400</td>\n",
              "      <td>0.344484</td>\n",
              "      <td>0.000</td>\n",
              "      <td>1.000000</td>\n",
              "      <td>1.000000</td>\n",
              "      <td>1.000000</td>\n",
              "      <td>1.000000</td>\n",
              "    </tr>\n",
              "  </tbody>\n",
              "</table>\n",
              "</div>\n",
              "      <button class=\"colab-df-convert\" onclick=\"convertToInteractive('df-dc627b1d-af45-4a05-bba4-976916eb3ed5')\"\n",
              "              title=\"Convert this dataframe to an interactive table.\"\n",
              "              style=\"display:none;\">\n",
              "        \n",
              "  <svg xmlns=\"http://www.w3.org/2000/svg\" height=\"24px\"viewBox=\"0 0 24 24\"\n",
              "       width=\"24px\">\n",
              "    <path d=\"M0 0h24v24H0V0z\" fill=\"none\"/>\n",
              "    <path d=\"M18.56 5.44l.94 2.06.94-2.06 2.06-.94-2.06-.94-.94-2.06-.94 2.06-2.06.94zm-11 1L8.5 8.5l.94-2.06 2.06-.94-2.06-.94L8.5 2.5l-.94 2.06-2.06.94zm10 10l.94 2.06.94-2.06 2.06-.94-2.06-.94-.94-2.06-.94 2.06-2.06.94z\"/><path d=\"M17.41 7.96l-1.37-1.37c-.4-.4-.92-.59-1.43-.59-.52 0-1.04.2-1.43.59L10.3 9.45l-7.72 7.72c-.78.78-.78 2.05 0 2.83L4 21.41c.39.39.9.59 1.41.59.51 0 1.02-.2 1.41-.59l7.78-7.78 2.81-2.81c.8-.78.8-2.07 0-2.86zM5.41 20L4 18.59l7.72-7.72 1.47 1.35L5.41 20z\"/>\n",
              "  </svg>\n",
              "      </button>\n",
              "      \n",
              "  <style>\n",
              "    .colab-df-container {\n",
              "      display:flex;\n",
              "      flex-wrap:wrap;\n",
              "      gap: 12px;\n",
              "    }\n",
              "\n",
              "    .colab-df-convert {\n",
              "      background-color: #E8F0FE;\n",
              "      border: none;\n",
              "      border-radius: 50%;\n",
              "      cursor: pointer;\n",
              "      display: none;\n",
              "      fill: #1967D2;\n",
              "      height: 32px;\n",
              "      padding: 0 0 0 0;\n",
              "      width: 32px;\n",
              "    }\n",
              "\n",
              "    .colab-df-convert:hover {\n",
              "      background-color: #E2EBFA;\n",
              "      box-shadow: 0px 1px 2px rgba(60, 64, 67, 0.3), 0px 1px 3px 1px rgba(60, 64, 67, 0.15);\n",
              "      fill: #174EA6;\n",
              "    }\n",
              "\n",
              "    [theme=dark] .colab-df-convert {\n",
              "      background-color: #3B4455;\n",
              "      fill: #D2E3FC;\n",
              "    }\n",
              "\n",
              "    [theme=dark] .colab-df-convert:hover {\n",
              "      background-color: #434B5C;\n",
              "      box-shadow: 0px 1px 3px 1px rgba(0, 0, 0, 0.15);\n",
              "      filter: drop-shadow(0px 1px 2px rgba(0, 0, 0, 0.3));\n",
              "      fill: #FFFFFF;\n",
              "    }\n",
              "  </style>\n",
              "\n",
              "      <script>\n",
              "        const buttonEl =\n",
              "          document.querySelector('#df-dc627b1d-af45-4a05-bba4-976916eb3ed5 button.colab-df-convert');\n",
              "        buttonEl.style.display =\n",
              "          google.colab.kernel.accessAllowed ? 'block' : 'none';\n",
              "\n",
              "        async function convertToInteractive(key) {\n",
              "          const element = document.querySelector('#df-dc627b1d-af45-4a05-bba4-976916eb3ed5');\n",
              "          const dataTable =\n",
              "            await google.colab.kernel.invokeFunction('convertToInteractive',\n",
              "                                                     [key], {});\n",
              "          if (!dataTable) return;\n",
              "\n",
              "          const docLinkHtml = 'Like what you see? Visit the ' +\n",
              "            '<a target=\"_blank\" href=https://colab.research.google.com/notebooks/data_table.ipynb>data table notebook</a>'\n",
              "            + ' to learn more about interactive tables.';\n",
              "          element.innerHTML = '';\n",
              "          dataTable['output_type'] = 'display_data';\n",
              "          await google.colab.output.renderOutput(dataTable, element);\n",
              "          const docLink = document.createElement('div');\n",
              "          docLink.innerHTML = docLinkHtml;\n",
              "          element.appendChild(docLink);\n",
              "        }\n",
              "      </script>\n",
              "    </div>\n",
              "  </div>\n",
              "  "
            ]
          },
          "metadata": {},
          "execution_count": 335
        }
      ]
    },
    {
      "cell_type": "code",
      "source": [
        "# To inspect the features with low variance\n",
        "low_var_features = list(desc_2[desc_2['std']==0].index)"
      ],
      "metadata": {
        "id": "F2o_M_3j6-yw"
      },
      "execution_count": null,
      "outputs": []
    },
    {
      "cell_type": "code",
      "source": [
        "# by inspection there are no low varaince features\n",
        "low_var_features"
      ],
      "metadata": {
        "colab": {
          "base_uri": "https://localhost:8080/"
        },
        "id": "OaEhiujA7CUX",
        "outputId": "0b69f855-b33b-494c-947f-1a4d39603f8d"
      },
      "execution_count": null,
      "outputs": [
        {
          "output_type": "execute_result",
          "data": {
            "text/plain": [
              "[]"
            ]
          },
          "metadata": {},
          "execution_count": 337
        }
      ]
    },
    {
      "cell_type": "markdown",
      "source": [
        "## Standard scaler"
      ],
      "metadata": {
        "id": "G-i1x-fz6wQu"
      }
    },
    {
      "cell_type": "code",
      "source": [
        "feat_lst = ['bouncerates', 'exitrates', 'pagevalues','Avg_adm_time_spent',\n",
        "       'Avg_inf_time_spent','Avg_prod_time_spent']"
      ],
      "metadata": {
        "id": "MqGCoFLt6wB7"
      },
      "execution_count": null,
      "outputs": []
    },
    {
      "cell_type": "code",
      "source": [
        "from sklearn.preprocessing import StandardScaler\n",
        "scaler = StandardScaler()\n",
        "full_data_scaled_num = pd.DataFrame(scaler.fit_transform(full_data_2[feat_lst]), index=full_data_2.index, columns=feat_lst)"
      ],
      "metadata": {
        "id": "U9uqvBzA5e4N"
      },
      "execution_count": null,
      "outputs": []
    },
    {
      "cell_type": "code",
      "source": [
        "full_data_2.shape"
      ],
      "metadata": {
        "colab": {
          "base_uri": "https://localhost:8080/"
        },
        "id": "upN5E9pZ8BrR",
        "outputId": "2c3f03d1-951d-4c65-eff1-a384a883d516"
      },
      "execution_count": null,
      "outputs": [
        {
          "output_type": "execute_result",
          "data": {
            "text/plain": [
              "(40000, 43)"
            ]
          },
          "metadata": {},
          "execution_count": 340
        }
      ]
    },
    {
      "cell_type": "code",
      "source": [
        "full_data_2.head()"
      ],
      "metadata": {
        "colab": {
          "base_uri": "https://localhost:8080/",
          "height": 299
        },
        "id": "K1CawJ-mDMdQ",
        "outputId": "e2d1df4a-9153-4fa9-f375-111269cc4157"
      },
      "execution_count": null,
      "outputs": [
        {
          "output_type": "execute_result",
          "data": {
            "text/plain": [
              "   session_id  bouncerates  exitrates  pagevalues  specialday  weekend  \\\n",
              "0      139957     0.000000   0.027421    6.748509         0.0        0   \n",
              "1      496587     0.000000   0.033333    0.000000         0.0        0   \n",
              "2      440268     0.000133   0.033750    2.676062         0.0        0   \n",
              "3      294672     0.004871   0.034746    6.824908         0.0        1   \n",
              "4      497475     0.016068   0.039742    0.000000         0.0        0   \n",
              "\n",
              "   revenue  Avg_adm_time_spent  Avg_inf_time_spent  Avg_prod_time_spent  ...  \\\n",
              "0        0           23.750000              0.0000            63.341090  ...   \n",
              "1        0            0.000000              0.0000            21.714286  ...   \n",
              "2        0           29.500000            324.2525            46.483052  ...   \n",
              "3        1           18.258571              0.0000            80.631541  ...   \n",
              "4        0            0.000000              0.0000            31.074008  ...   \n",
              "\n",
              "   traffictype_1  traffictype_10  traffictype_13  traffictype_3  \\\n",
              "0              0               0               0              0   \n",
              "1              0               0               0              1   \n",
              "2              0               0               0              0   \n",
              "3              0               0               0              0   \n",
              "4              0               0               0              0   \n",
              "\n",
              "   traffictype_4  traffictype_5  traffictype_6  traffictype_8  \\\n",
              "0              0              0              0              0   \n",
              "1              0              0              0              0   \n",
              "2              0              0              0              0   \n",
              "3              0              0              0              0   \n",
              "4              0              0              0              0   \n",
              "\n",
              "   visitortype_New_Visitor  visitortype_Returning_Visitor  \n",
              "0                        0                              1  \n",
              "1                        0                              1  \n",
              "2                        0                              1  \n",
              "3                        0                              1  \n",
              "4                        0                              1  \n",
              "\n",
              "[5 rows x 43 columns]"
            ],
            "text/html": [
              "\n",
              "  <div id=\"df-0db79f6c-b468-4234-8087-0b5519f338f0\">\n",
              "    <div class=\"colab-df-container\">\n",
              "      <div>\n",
              "<style scoped>\n",
              "    .dataframe tbody tr th:only-of-type {\n",
              "        vertical-align: middle;\n",
              "    }\n",
              "\n",
              "    .dataframe tbody tr th {\n",
              "        vertical-align: top;\n",
              "    }\n",
              "\n",
              "    .dataframe thead th {\n",
              "        text-align: right;\n",
              "    }\n",
              "</style>\n",
              "<table border=\"1\" class=\"dataframe\">\n",
              "  <thead>\n",
              "    <tr style=\"text-align: right;\">\n",
              "      <th></th>\n",
              "      <th>session_id</th>\n",
              "      <th>bouncerates</th>\n",
              "      <th>exitrates</th>\n",
              "      <th>pagevalues</th>\n",
              "      <th>specialday</th>\n",
              "      <th>weekend</th>\n",
              "      <th>revenue</th>\n",
              "      <th>Avg_adm_time_spent</th>\n",
              "      <th>Avg_inf_time_spent</th>\n",
              "      <th>Avg_prod_time_spent</th>\n",
              "      <th>...</th>\n",
              "      <th>traffictype_1</th>\n",
              "      <th>traffictype_10</th>\n",
              "      <th>traffictype_13</th>\n",
              "      <th>traffictype_3</th>\n",
              "      <th>traffictype_4</th>\n",
              "      <th>traffictype_5</th>\n",
              "      <th>traffictype_6</th>\n",
              "      <th>traffictype_8</th>\n",
              "      <th>visitortype_New_Visitor</th>\n",
              "      <th>visitortype_Returning_Visitor</th>\n",
              "    </tr>\n",
              "  </thead>\n",
              "  <tbody>\n",
              "    <tr>\n",
              "      <th>0</th>\n",
              "      <td>139957</td>\n",
              "      <td>0.000000</td>\n",
              "      <td>0.027421</td>\n",
              "      <td>6.748509</td>\n",
              "      <td>0.0</td>\n",
              "      <td>0</td>\n",
              "      <td>0</td>\n",
              "      <td>23.750000</td>\n",
              "      <td>0.0000</td>\n",
              "      <td>63.341090</td>\n",
              "      <td>...</td>\n",
              "      <td>0</td>\n",
              "      <td>0</td>\n",
              "      <td>0</td>\n",
              "      <td>0</td>\n",
              "      <td>0</td>\n",
              "      <td>0</td>\n",
              "      <td>0</td>\n",
              "      <td>0</td>\n",
              "      <td>0</td>\n",
              "      <td>1</td>\n",
              "    </tr>\n",
              "    <tr>\n",
              "      <th>1</th>\n",
              "      <td>496587</td>\n",
              "      <td>0.000000</td>\n",
              "      <td>0.033333</td>\n",
              "      <td>0.000000</td>\n",
              "      <td>0.0</td>\n",
              "      <td>0</td>\n",
              "      <td>0</td>\n",
              "      <td>0.000000</td>\n",
              "      <td>0.0000</td>\n",
              "      <td>21.714286</td>\n",
              "      <td>...</td>\n",
              "      <td>0</td>\n",
              "      <td>0</td>\n",
              "      <td>0</td>\n",
              "      <td>1</td>\n",
              "      <td>0</td>\n",
              "      <td>0</td>\n",
              "      <td>0</td>\n",
              "      <td>0</td>\n",
              "      <td>0</td>\n",
              "      <td>1</td>\n",
              "    </tr>\n",
              "    <tr>\n",
              "      <th>2</th>\n",
              "      <td>440268</td>\n",
              "      <td>0.000133</td>\n",
              "      <td>0.033750</td>\n",
              "      <td>2.676062</td>\n",
              "      <td>0.0</td>\n",
              "      <td>0</td>\n",
              "      <td>0</td>\n",
              "      <td>29.500000</td>\n",
              "      <td>324.2525</td>\n",
              "      <td>46.483052</td>\n",
              "      <td>...</td>\n",
              "      <td>0</td>\n",
              "      <td>0</td>\n",
              "      <td>0</td>\n",
              "      <td>0</td>\n",
              "      <td>0</td>\n",
              "      <td>0</td>\n",
              "      <td>0</td>\n",
              "      <td>0</td>\n",
              "      <td>0</td>\n",
              "      <td>1</td>\n",
              "    </tr>\n",
              "    <tr>\n",
              "      <th>3</th>\n",
              "      <td>294672</td>\n",
              "      <td>0.004871</td>\n",
              "      <td>0.034746</td>\n",
              "      <td>6.824908</td>\n",
              "      <td>0.0</td>\n",
              "      <td>1</td>\n",
              "      <td>1</td>\n",
              "      <td>18.258571</td>\n",
              "      <td>0.0000</td>\n",
              "      <td>80.631541</td>\n",
              "      <td>...</td>\n",
              "      <td>0</td>\n",
              "      <td>0</td>\n",
              "      <td>0</td>\n",
              "      <td>0</td>\n",
              "      <td>0</td>\n",
              "      <td>0</td>\n",
              "      <td>0</td>\n",
              "      <td>0</td>\n",
              "      <td>0</td>\n",
              "      <td>1</td>\n",
              "    </tr>\n",
              "    <tr>\n",
              "      <th>4</th>\n",
              "      <td>497475</td>\n",
              "      <td>0.016068</td>\n",
              "      <td>0.039742</td>\n",
              "      <td>0.000000</td>\n",
              "      <td>0.0</td>\n",
              "      <td>0</td>\n",
              "      <td>0</td>\n",
              "      <td>0.000000</td>\n",
              "      <td>0.0000</td>\n",
              "      <td>31.074008</td>\n",
              "      <td>...</td>\n",
              "      <td>0</td>\n",
              "      <td>0</td>\n",
              "      <td>0</td>\n",
              "      <td>0</td>\n",
              "      <td>0</td>\n",
              "      <td>0</td>\n",
              "      <td>0</td>\n",
              "      <td>0</td>\n",
              "      <td>0</td>\n",
              "      <td>1</td>\n",
              "    </tr>\n",
              "  </tbody>\n",
              "</table>\n",
              "<p>5 rows × 43 columns</p>\n",
              "</div>\n",
              "      <button class=\"colab-df-convert\" onclick=\"convertToInteractive('df-0db79f6c-b468-4234-8087-0b5519f338f0')\"\n",
              "              title=\"Convert this dataframe to an interactive table.\"\n",
              "              style=\"display:none;\">\n",
              "        \n",
              "  <svg xmlns=\"http://www.w3.org/2000/svg\" height=\"24px\"viewBox=\"0 0 24 24\"\n",
              "       width=\"24px\">\n",
              "    <path d=\"M0 0h24v24H0V0z\" fill=\"none\"/>\n",
              "    <path d=\"M18.56 5.44l.94 2.06.94-2.06 2.06-.94-2.06-.94-.94-2.06-.94 2.06-2.06.94zm-11 1L8.5 8.5l.94-2.06 2.06-.94-2.06-.94L8.5 2.5l-.94 2.06-2.06.94zm10 10l.94 2.06.94-2.06 2.06-.94-2.06-.94-.94-2.06-.94 2.06-2.06.94z\"/><path d=\"M17.41 7.96l-1.37-1.37c-.4-.4-.92-.59-1.43-.59-.52 0-1.04.2-1.43.59L10.3 9.45l-7.72 7.72c-.78.78-.78 2.05 0 2.83L4 21.41c.39.39.9.59 1.41.59.51 0 1.02-.2 1.41-.59l7.78-7.78 2.81-2.81c.8-.78.8-2.07 0-2.86zM5.41 20L4 18.59l7.72-7.72 1.47 1.35L5.41 20z\"/>\n",
              "  </svg>\n",
              "      </button>\n",
              "      \n",
              "  <style>\n",
              "    .colab-df-container {\n",
              "      display:flex;\n",
              "      flex-wrap:wrap;\n",
              "      gap: 12px;\n",
              "    }\n",
              "\n",
              "    .colab-df-convert {\n",
              "      background-color: #E8F0FE;\n",
              "      border: none;\n",
              "      border-radius: 50%;\n",
              "      cursor: pointer;\n",
              "      display: none;\n",
              "      fill: #1967D2;\n",
              "      height: 32px;\n",
              "      padding: 0 0 0 0;\n",
              "      width: 32px;\n",
              "    }\n",
              "\n",
              "    .colab-df-convert:hover {\n",
              "      background-color: #E2EBFA;\n",
              "      box-shadow: 0px 1px 2px rgba(60, 64, 67, 0.3), 0px 1px 3px 1px rgba(60, 64, 67, 0.15);\n",
              "      fill: #174EA6;\n",
              "    }\n",
              "\n",
              "    [theme=dark] .colab-df-convert {\n",
              "      background-color: #3B4455;\n",
              "      fill: #D2E3FC;\n",
              "    }\n",
              "\n",
              "    [theme=dark] .colab-df-convert:hover {\n",
              "      background-color: #434B5C;\n",
              "      box-shadow: 0px 1px 3px 1px rgba(0, 0, 0, 0.15);\n",
              "      filter: drop-shadow(0px 1px 2px rgba(0, 0, 0, 0.3));\n",
              "      fill: #FFFFFF;\n",
              "    }\n",
              "  </style>\n",
              "\n",
              "      <script>\n",
              "        const buttonEl =\n",
              "          document.querySelector('#df-0db79f6c-b468-4234-8087-0b5519f338f0 button.colab-df-convert');\n",
              "        buttonEl.style.display =\n",
              "          google.colab.kernel.accessAllowed ? 'block' : 'none';\n",
              "\n",
              "        async function convertToInteractive(key) {\n",
              "          const element = document.querySelector('#df-0db79f6c-b468-4234-8087-0b5519f338f0');\n",
              "          const dataTable =\n",
              "            await google.colab.kernel.invokeFunction('convertToInteractive',\n",
              "                                                     [key], {});\n",
              "          if (!dataTable) return;\n",
              "\n",
              "          const docLinkHtml = 'Like what you see? Visit the ' +\n",
              "            '<a target=\"_blank\" href=https://colab.research.google.com/notebooks/data_table.ipynb>data table notebook</a>'\n",
              "            + ' to learn more about interactive tables.';\n",
              "          element.innerHTML = '';\n",
              "          dataTable['output_type'] = 'display_data';\n",
              "          await google.colab.output.renderOutput(dataTable, element);\n",
              "          const docLink = document.createElement('div');\n",
              "          docLink.innerHTML = docLinkHtml;\n",
              "          element.appendChild(docLink);\n",
              "        }\n",
              "      </script>\n",
              "    </div>\n",
              "  </div>\n",
              "  "
            ]
          },
          "metadata": {},
          "execution_count": 341
        }
      ]
    },
    {
      "cell_type": "code",
      "source": [
        "full_data_scaled_num.head()"
      ],
      "metadata": {
        "colab": {
          "base_uri": "https://localhost:8080/",
          "height": 206
        },
        "id": "z_92kp4z5e1q",
        "outputId": "84224669-cce1-4358-8c1f-623072e130df"
      },
      "execution_count": null,
      "outputs": [
        {
          "output_type": "execute_result",
          "data": {
            "text/plain": [
              "   bouncerates  exitrates  pagevalues  Avg_adm_time_spent  Avg_inf_time_spent  \\\n",
              "0    -0.452663  -0.306305    0.039215            0.085457           -0.318717   \n",
              "1    -0.452663  -0.184720   -0.402994           -0.581616           -0.318717   \n",
              "2    -0.449923  -0.176150   -0.227640            0.246959            6.341421   \n",
              "3    -0.352301  -0.155665    0.044222           -0.068782           -0.318717   \n",
              "4    -0.121583  -0.052919   -0.402994           -0.581616           -0.318717   \n",
              "\n",
              "   Avg_prod_time_spent  \n",
              "0             0.733001  \n",
              "1            -0.435049  \n",
              "2             0.259964  \n",
              "3             1.218172  \n",
              "4            -0.172415  "
            ],
            "text/html": [
              "\n",
              "  <div id=\"df-1b614051-5e21-4d0e-99cb-323f7039f200\">\n",
              "    <div class=\"colab-df-container\">\n",
              "      <div>\n",
              "<style scoped>\n",
              "    .dataframe tbody tr th:only-of-type {\n",
              "        vertical-align: middle;\n",
              "    }\n",
              "\n",
              "    .dataframe tbody tr th {\n",
              "        vertical-align: top;\n",
              "    }\n",
              "\n",
              "    .dataframe thead th {\n",
              "        text-align: right;\n",
              "    }\n",
              "</style>\n",
              "<table border=\"1\" class=\"dataframe\">\n",
              "  <thead>\n",
              "    <tr style=\"text-align: right;\">\n",
              "      <th></th>\n",
              "      <th>bouncerates</th>\n",
              "      <th>exitrates</th>\n",
              "      <th>pagevalues</th>\n",
              "      <th>Avg_adm_time_spent</th>\n",
              "      <th>Avg_inf_time_spent</th>\n",
              "      <th>Avg_prod_time_spent</th>\n",
              "    </tr>\n",
              "  </thead>\n",
              "  <tbody>\n",
              "    <tr>\n",
              "      <th>0</th>\n",
              "      <td>-0.452663</td>\n",
              "      <td>-0.306305</td>\n",
              "      <td>0.039215</td>\n",
              "      <td>0.085457</td>\n",
              "      <td>-0.318717</td>\n",
              "      <td>0.733001</td>\n",
              "    </tr>\n",
              "    <tr>\n",
              "      <th>1</th>\n",
              "      <td>-0.452663</td>\n",
              "      <td>-0.184720</td>\n",
              "      <td>-0.402994</td>\n",
              "      <td>-0.581616</td>\n",
              "      <td>-0.318717</td>\n",
              "      <td>-0.435049</td>\n",
              "    </tr>\n",
              "    <tr>\n",
              "      <th>2</th>\n",
              "      <td>-0.449923</td>\n",
              "      <td>-0.176150</td>\n",
              "      <td>-0.227640</td>\n",
              "      <td>0.246959</td>\n",
              "      <td>6.341421</td>\n",
              "      <td>0.259964</td>\n",
              "    </tr>\n",
              "    <tr>\n",
              "      <th>3</th>\n",
              "      <td>-0.352301</td>\n",
              "      <td>-0.155665</td>\n",
              "      <td>0.044222</td>\n",
              "      <td>-0.068782</td>\n",
              "      <td>-0.318717</td>\n",
              "      <td>1.218172</td>\n",
              "    </tr>\n",
              "    <tr>\n",
              "      <th>4</th>\n",
              "      <td>-0.121583</td>\n",
              "      <td>-0.052919</td>\n",
              "      <td>-0.402994</td>\n",
              "      <td>-0.581616</td>\n",
              "      <td>-0.318717</td>\n",
              "      <td>-0.172415</td>\n",
              "    </tr>\n",
              "  </tbody>\n",
              "</table>\n",
              "</div>\n",
              "      <button class=\"colab-df-convert\" onclick=\"convertToInteractive('df-1b614051-5e21-4d0e-99cb-323f7039f200')\"\n",
              "              title=\"Convert this dataframe to an interactive table.\"\n",
              "              style=\"display:none;\">\n",
              "        \n",
              "  <svg xmlns=\"http://www.w3.org/2000/svg\" height=\"24px\"viewBox=\"0 0 24 24\"\n",
              "       width=\"24px\">\n",
              "    <path d=\"M0 0h24v24H0V0z\" fill=\"none\"/>\n",
              "    <path d=\"M18.56 5.44l.94 2.06.94-2.06 2.06-.94-2.06-.94-.94-2.06-.94 2.06-2.06.94zm-11 1L8.5 8.5l.94-2.06 2.06-.94-2.06-.94L8.5 2.5l-.94 2.06-2.06.94zm10 10l.94 2.06.94-2.06 2.06-.94-2.06-.94-.94-2.06-.94 2.06-2.06.94z\"/><path d=\"M17.41 7.96l-1.37-1.37c-.4-.4-.92-.59-1.43-.59-.52 0-1.04.2-1.43.59L10.3 9.45l-7.72 7.72c-.78.78-.78 2.05 0 2.83L4 21.41c.39.39.9.59 1.41.59.51 0 1.02-.2 1.41-.59l7.78-7.78 2.81-2.81c.8-.78.8-2.07 0-2.86zM5.41 20L4 18.59l7.72-7.72 1.47 1.35L5.41 20z\"/>\n",
              "  </svg>\n",
              "      </button>\n",
              "      \n",
              "  <style>\n",
              "    .colab-df-container {\n",
              "      display:flex;\n",
              "      flex-wrap:wrap;\n",
              "      gap: 12px;\n",
              "    }\n",
              "\n",
              "    .colab-df-convert {\n",
              "      background-color: #E8F0FE;\n",
              "      border: none;\n",
              "      border-radius: 50%;\n",
              "      cursor: pointer;\n",
              "      display: none;\n",
              "      fill: #1967D2;\n",
              "      height: 32px;\n",
              "      padding: 0 0 0 0;\n",
              "      width: 32px;\n",
              "    }\n",
              "\n",
              "    .colab-df-convert:hover {\n",
              "      background-color: #E2EBFA;\n",
              "      box-shadow: 0px 1px 2px rgba(60, 64, 67, 0.3), 0px 1px 3px 1px rgba(60, 64, 67, 0.15);\n",
              "      fill: #174EA6;\n",
              "    }\n",
              "\n",
              "    [theme=dark] .colab-df-convert {\n",
              "      background-color: #3B4455;\n",
              "      fill: #D2E3FC;\n",
              "    }\n",
              "\n",
              "    [theme=dark] .colab-df-convert:hover {\n",
              "      background-color: #434B5C;\n",
              "      box-shadow: 0px 1px 3px 1px rgba(0, 0, 0, 0.15);\n",
              "      filter: drop-shadow(0px 1px 2px rgba(0, 0, 0, 0.3));\n",
              "      fill: #FFFFFF;\n",
              "    }\n",
              "  </style>\n",
              "\n",
              "      <script>\n",
              "        const buttonEl =\n",
              "          document.querySelector('#df-1b614051-5e21-4d0e-99cb-323f7039f200 button.colab-df-convert');\n",
              "        buttonEl.style.display =\n",
              "          google.colab.kernel.accessAllowed ? 'block' : 'none';\n",
              "\n",
              "        async function convertToInteractive(key) {\n",
              "          const element = document.querySelector('#df-1b614051-5e21-4d0e-99cb-323f7039f200');\n",
              "          const dataTable =\n",
              "            await google.colab.kernel.invokeFunction('convertToInteractive',\n",
              "                                                     [key], {});\n",
              "          if (!dataTable) return;\n",
              "\n",
              "          const docLinkHtml = 'Like what you see? Visit the ' +\n",
              "            '<a target=\"_blank\" href=https://colab.research.google.com/notebooks/data_table.ipynb>data table notebook</a>'\n",
              "            + ' to learn more about interactive tables.';\n",
              "          element.innerHTML = '';\n",
              "          dataTable['output_type'] = 'display_data';\n",
              "          await google.colab.output.renderOutput(dataTable, element);\n",
              "          const docLink = document.createElement('div');\n",
              "          docLink.innerHTML = docLinkHtml;\n",
              "          element.appendChild(docLink);\n",
              "        }\n",
              "      </script>\n",
              "    </div>\n",
              "  </div>\n",
              "  "
            ]
          },
          "metadata": {},
          "execution_count": 342
        }
      ]
    },
    {
      "cell_type": "code",
      "source": [
        "full_data_dev_scaled = pd.concat([full_data_2.drop(feat_lst,axis=1),full_data_scaled_num],axis=1)"
      ],
      "metadata": {
        "id": "b_pAKBBf5ezO"
      },
      "execution_count": null,
      "outputs": []
    },
    {
      "cell_type": "code",
      "source": [
        "full_data_dev_scaled.shape"
      ],
      "metadata": {
        "colab": {
          "base_uri": "https://localhost:8080/"
        },
        "id": "DILsJ9My5ewm",
        "outputId": "3bd265e7-168d-4fa0-f251-487b9a915fc9"
      },
      "execution_count": null,
      "outputs": [
        {
          "output_type": "execute_result",
          "data": {
            "text/plain": [
              "(40000, 43)"
            ]
          },
          "metadata": {},
          "execution_count": 344
        }
      ]
    },
    {
      "cell_type": "code",
      "source": [
        "full_data_dev_scaled.to_csv('devdata_cleaned.csv',index=False)"
      ],
      "metadata": {
        "id": "L5FzE7Vw5etz"
      },
      "execution_count": null,
      "outputs": []
    },
    {
      "cell_type": "markdown",
      "source": [
        "#### Cleaning function for test data"
      ],
      "metadata": {
        "id": "BTa-H-97DqMH"
      }
    },
    {
      "cell_type": "code",
      "source": [
        "def cleaner(data):\n",
        "\n",
        "  data[\"weekend\"] = data[\"weekend\"].astype(int)\n",
        "  month = pd.get_dummies(data['month'],prefix='month',drop_first=True)\n",
        "  full_data = pd.concat([data,month],axis=1)\n",
        "  data['operatingsystems_2'] = np.where(data['operatingsystems'].isin(['4','8','*']),'Others',data['operatingsystems'])\n",
        "  OS = pd.get_dummies(data['operatingsystems_2'],prefix='OS',drop_first=False)\n",
        "  full_data = pd.concat([full_data,OS],axis=1)\n",
        "\n",
        "  ## Dropping one of the OHE columns \n",
        "  full_data.drop('OS_Others',axis=1,inplace=True)\n",
        "  data['browser_2'] = np.where(~data['browser'].isin(['1','2','4','5']),'Others',data['browser'])\n",
        "  browser = pd.get_dummies(data['browser_2'],prefix='browser',drop_first=False)\n",
        "  full_data = pd.concat([full_data,browser],axis=1)\n",
        "  full_data.drop('browser_Others',axis=1,inplace=True)\n",
        "\n",
        "  region = pd.get_dummies(data['region'],prefix='region',drop_first=True)\n",
        "  full_data = pd.concat([full_data,region],axis=1)\n",
        "  data['traffictype_2'] = np.where(data['traffictype'].isin(['11','15','7','9','20','*']),'Others',data['traffictype'])\n",
        "  traffictype = pd.get_dummies(data['traffictype_2'],prefix='traffictype',drop_first=False)\n",
        "  full_data = pd.concat([full_data,traffictype],axis=1)\n",
        "  full_data.drop('traffictype_Others',axis=1,inplace=True)\n",
        "\n",
        "  visitortype = pd.get_dummies(data['visitortype'],prefix='visitortype',drop_first=False)\n",
        "  full_data = pd.concat([full_data,visitortype],axis=1)\n",
        "  full_data.drop('visitortype_Other',axis=1,inplace=True)\n",
        "\n",
        "  data_2 = full_data.drop(['month','operatingsystems','browser','region','traffictype','visitortype',\n",
        "                    'operatingsystems_2', 'browser_2', 'traffictype_2'],axis=1)\n",
        "\n",
        "  data_2['Avg_adm_time_spent'] = np.where(data_2['administrative']==0,0,data_2['administrative_duration']/data_2['administrative'])\n",
        "  data_2['Avg_inf_time_spent'] = np.where(data_2['informational']==0,0,data_2['informational_duration']/data_2['informational'])\n",
        "  data_2['Avg_prod_time_spent'] = np.where(data_2['productrelated']==0,0,data_2['productrelated_duration']/data_2['productrelated'])\n",
        "  data_2.drop(['administrative', 'administrative_duration',\n",
        "       'informational', 'informational_duration', 'productrelated',\n",
        "       'productrelated_duration'],inplace=True,axis=1)\n",
        "  \n",
        "  \n",
        "\n",
        "  full_data_2 =data_2.copy()\n",
        "  for col in [ 'bouncerates', 'exitrates', 'pagevalues','Avg_adm_time_spent',\n",
        "       'Avg_inf_time_spent','Avg_prod_time_spent']: \n",
        "      sorted(full_data_2[col])\n",
        "\n",
        "      p1,p99 = np.percentile(full_data_2[col], [1, 99])\n",
        "\n",
        "      lower_bound = p1\n",
        "      upper_bound = p99\n",
        "\n",
        "      full_data_2[col] = np.where(full_data_2[col] < lower_bound, lower_bound, full_data_2[col])\n",
        "      full_data_2[col] = np.where(full_data_2[col] > upper_bound, upper_bound, full_data_2[col])\n",
        "\n",
        "  feat_lst = [ 'bouncerates', 'exitrates', 'pagevalues','Avg_adm_time_spent',\n",
        "       'Avg_inf_time_spent','Avg_prod_time_spent']\n",
        "  scaler = StandardScaler()\n",
        "  full_data_scaled_num = pd.DataFrame(scaler.fit_transform(full_data_2[feat_lst]), index=full_data_2.index, columns=feat_lst)\n",
        "  full_data_scaled = pd.concat([full_data_2.drop(feat_lst,axis=1),full_data_scaled_num],axis=1)\n",
        "  return full_data_scaled "
      ],
      "metadata": {
        "id": "fRcHqetp5erG"
      },
      "execution_count": null,
      "outputs": []
    },
    {
      "cell_type": "code",
      "source": [
        "full_data_test = cleaner(df_test)"
      ],
      "metadata": {
        "id": "KzeD3Rh75eo0",
        "colab": {
          "base_uri": "https://localhost:8080/"
        },
        "outputId": "837a4867-3d5b-4449-b354-af68ac4cc5c9"
      },
      "execution_count": null,
      "outputs": [
        {
          "output_type": "stream",
          "name": "stderr",
          "text": [
            "/usr/local/lib/python3.7/dist-packages/ipykernel_launcher.py:31: SettingWithCopyWarning: \n",
            "A value is trying to be set on a copy of a slice from a DataFrame.\n",
            "Try using .loc[row_indexer,col_indexer] = value instead\n",
            "\n",
            "See the caveats in the documentation: https://pandas.pydata.org/pandas-docs/stable/user_guide/indexing.html#returning-a-view-versus-a-copy\n",
            "/usr/local/lib/python3.7/dist-packages/ipykernel_launcher.py:32: SettingWithCopyWarning: \n",
            "A value is trying to be set on a copy of a slice from a DataFrame.\n",
            "Try using .loc[row_indexer,col_indexer] = value instead\n",
            "\n",
            "See the caveats in the documentation: https://pandas.pydata.org/pandas-docs/stable/user_guide/indexing.html#returning-a-view-versus-a-copy\n",
            "/usr/local/lib/python3.7/dist-packages/ipykernel_launcher.py:33: SettingWithCopyWarning: \n",
            "A value is trying to be set on a copy of a slice from a DataFrame.\n",
            "Try using .loc[row_indexer,col_indexer] = value instead\n",
            "\n",
            "See the caveats in the documentation: https://pandas.pydata.org/pandas-docs/stable/user_guide/indexing.html#returning-a-view-versus-a-copy\n",
            "/usr/local/lib/python3.7/dist-packages/pandas/core/frame.py:4913: SettingWithCopyWarning: \n",
            "A value is trying to be set on a copy of a slice from a DataFrame\n",
            "\n",
            "See the caveats in the documentation: https://pandas.pydata.org/pandas-docs/stable/user_guide/indexing.html#returning-a-view-versus-a-copy\n",
            "  errors=errors,\n"
          ]
        }
      ]
    },
    {
      "cell_type": "code",
      "source": [
        "full_data_test.shape"
      ],
      "metadata": {
        "colab": {
          "base_uri": "https://localhost:8080/"
        },
        "id": "4uqE2_yDFK3C",
        "outputId": "458f1eaf-76ef-4270-ae65-72eb5eba0a7f"
      },
      "execution_count": null,
      "outputs": [
        {
          "output_type": "execute_result",
          "data": {
            "text/plain": [
              "(10000, 42)"
            ]
          },
          "metadata": {},
          "execution_count": 350
        }
      ]
    },
    {
      "cell_type": "code",
      "source": [
        "full_data_test.head()"
      ],
      "metadata": {
        "colab": {
          "base_uri": "https://localhost:8080/",
          "height": 299
        },
        "id": "-j0E16hG5emA",
        "outputId": "a014e102-85cd-46d6-f829-3c4acff5d5d5"
      },
      "execution_count": null,
      "outputs": [
        {
          "output_type": "execute_result",
          "data": {
            "text/plain": [
              "   session_id  specialday  weekend  month_Dec  month_Feb  month_Jul  \\\n",
              "0      283149         0.0        0          0          0          0   \n",
              "1      253020         0.0        0          0          0          0   \n",
              "2      348435         0.0        0          0          0          0   \n",
              "3      299763         0.0        1          0          0          0   \n",
              "4      195120         0.0        1          0          0          0   \n",
              "\n",
              "   month_June  month_Mar  month_May  month_Nov  ...  traffictype_6  \\\n",
              "0           0          0          0          1  ...              0   \n",
              "1           0          0          0          1  ...              0   \n",
              "2           0          1          0          0  ...              0   \n",
              "3           0          0          0          1  ...              0   \n",
              "4           0          1          0          0  ...              0   \n",
              "\n",
              "   traffictype_8  visitortype_New_Visitor  visitortype_Returning_Visitor  \\\n",
              "0              0                        1                              0   \n",
              "1              1                        1                              0   \n",
              "2              0                        0                              1   \n",
              "3              0                        0                              1   \n",
              "4              0                        0                              1   \n",
              "\n",
              "   bouncerates  exitrates  pagevalues  Avg_adm_time_spent  Avg_inf_time_spent  \\\n",
              "0    -0.449666  -0.575489   -0.400099           -0.590039           -0.320536   \n",
              "1    -0.079732   0.054019   -0.400099           -0.590039           -0.320536   \n",
              "2    -0.020217  -0.324796   -0.400099           -0.590039           -0.320536   \n",
              "3    -0.449666  -0.545868   -0.400099           -0.590039            6.398304   \n",
              "4     3.728630   3.278091   -0.400099           -0.590039           -0.150694   \n",
              "\n",
              "   Avg_prod_time_spent  \n",
              "0             0.027810  \n",
              "1            -0.768861  \n",
              "2            -0.050117  \n",
              "3            -0.556984  \n",
              "4            -0.988207  \n",
              "\n",
              "[5 rows x 42 columns]"
            ],
            "text/html": [
              "\n",
              "  <div id=\"df-e21281c7-f7f8-44f1-81ba-ae1013a61bbe\">\n",
              "    <div class=\"colab-df-container\">\n",
              "      <div>\n",
              "<style scoped>\n",
              "    .dataframe tbody tr th:only-of-type {\n",
              "        vertical-align: middle;\n",
              "    }\n",
              "\n",
              "    .dataframe tbody tr th {\n",
              "        vertical-align: top;\n",
              "    }\n",
              "\n",
              "    .dataframe thead th {\n",
              "        text-align: right;\n",
              "    }\n",
              "</style>\n",
              "<table border=\"1\" class=\"dataframe\">\n",
              "  <thead>\n",
              "    <tr style=\"text-align: right;\">\n",
              "      <th></th>\n",
              "      <th>session_id</th>\n",
              "      <th>specialday</th>\n",
              "      <th>weekend</th>\n",
              "      <th>month_Dec</th>\n",
              "      <th>month_Feb</th>\n",
              "      <th>month_Jul</th>\n",
              "      <th>month_June</th>\n",
              "      <th>month_Mar</th>\n",
              "      <th>month_May</th>\n",
              "      <th>month_Nov</th>\n",
              "      <th>...</th>\n",
              "      <th>traffictype_6</th>\n",
              "      <th>traffictype_8</th>\n",
              "      <th>visitortype_New_Visitor</th>\n",
              "      <th>visitortype_Returning_Visitor</th>\n",
              "      <th>bouncerates</th>\n",
              "      <th>exitrates</th>\n",
              "      <th>pagevalues</th>\n",
              "      <th>Avg_adm_time_spent</th>\n",
              "      <th>Avg_inf_time_spent</th>\n",
              "      <th>Avg_prod_time_spent</th>\n",
              "    </tr>\n",
              "  </thead>\n",
              "  <tbody>\n",
              "    <tr>\n",
              "      <th>0</th>\n",
              "      <td>283149</td>\n",
              "      <td>0.0</td>\n",
              "      <td>0</td>\n",
              "      <td>0</td>\n",
              "      <td>0</td>\n",
              "      <td>0</td>\n",
              "      <td>0</td>\n",
              "      <td>0</td>\n",
              "      <td>0</td>\n",
              "      <td>1</td>\n",
              "      <td>...</td>\n",
              "      <td>0</td>\n",
              "      <td>0</td>\n",
              "      <td>1</td>\n",
              "      <td>0</td>\n",
              "      <td>-0.449666</td>\n",
              "      <td>-0.575489</td>\n",
              "      <td>-0.400099</td>\n",
              "      <td>-0.590039</td>\n",
              "      <td>-0.320536</td>\n",
              "      <td>0.027810</td>\n",
              "    </tr>\n",
              "    <tr>\n",
              "      <th>1</th>\n",
              "      <td>253020</td>\n",
              "      <td>0.0</td>\n",
              "      <td>0</td>\n",
              "      <td>0</td>\n",
              "      <td>0</td>\n",
              "      <td>0</td>\n",
              "      <td>0</td>\n",
              "      <td>0</td>\n",
              "      <td>0</td>\n",
              "      <td>1</td>\n",
              "      <td>...</td>\n",
              "      <td>0</td>\n",
              "      <td>1</td>\n",
              "      <td>1</td>\n",
              "      <td>0</td>\n",
              "      <td>-0.079732</td>\n",
              "      <td>0.054019</td>\n",
              "      <td>-0.400099</td>\n",
              "      <td>-0.590039</td>\n",
              "      <td>-0.320536</td>\n",
              "      <td>-0.768861</td>\n",
              "    </tr>\n",
              "    <tr>\n",
              "      <th>2</th>\n",
              "      <td>348435</td>\n",
              "      <td>0.0</td>\n",
              "      <td>0</td>\n",
              "      <td>0</td>\n",
              "      <td>0</td>\n",
              "      <td>0</td>\n",
              "      <td>0</td>\n",
              "      <td>1</td>\n",
              "      <td>0</td>\n",
              "      <td>0</td>\n",
              "      <td>...</td>\n",
              "      <td>0</td>\n",
              "      <td>0</td>\n",
              "      <td>0</td>\n",
              "      <td>1</td>\n",
              "      <td>-0.020217</td>\n",
              "      <td>-0.324796</td>\n",
              "      <td>-0.400099</td>\n",
              "      <td>-0.590039</td>\n",
              "      <td>-0.320536</td>\n",
              "      <td>-0.050117</td>\n",
              "    </tr>\n",
              "    <tr>\n",
              "      <th>3</th>\n",
              "      <td>299763</td>\n",
              "      <td>0.0</td>\n",
              "      <td>1</td>\n",
              "      <td>0</td>\n",
              "      <td>0</td>\n",
              "      <td>0</td>\n",
              "      <td>0</td>\n",
              "      <td>0</td>\n",
              "      <td>0</td>\n",
              "      <td>1</td>\n",
              "      <td>...</td>\n",
              "      <td>0</td>\n",
              "      <td>0</td>\n",
              "      <td>0</td>\n",
              "      <td>1</td>\n",
              "      <td>-0.449666</td>\n",
              "      <td>-0.545868</td>\n",
              "      <td>-0.400099</td>\n",
              "      <td>-0.590039</td>\n",
              "      <td>6.398304</td>\n",
              "      <td>-0.556984</td>\n",
              "    </tr>\n",
              "    <tr>\n",
              "      <th>4</th>\n",
              "      <td>195120</td>\n",
              "      <td>0.0</td>\n",
              "      <td>1</td>\n",
              "      <td>0</td>\n",
              "      <td>0</td>\n",
              "      <td>0</td>\n",
              "      <td>0</td>\n",
              "      <td>1</td>\n",
              "      <td>0</td>\n",
              "      <td>0</td>\n",
              "      <td>...</td>\n",
              "      <td>0</td>\n",
              "      <td>0</td>\n",
              "      <td>0</td>\n",
              "      <td>1</td>\n",
              "      <td>3.728630</td>\n",
              "      <td>3.278091</td>\n",
              "      <td>-0.400099</td>\n",
              "      <td>-0.590039</td>\n",
              "      <td>-0.150694</td>\n",
              "      <td>-0.988207</td>\n",
              "    </tr>\n",
              "  </tbody>\n",
              "</table>\n",
              "<p>5 rows × 42 columns</p>\n",
              "</div>\n",
              "      <button class=\"colab-df-convert\" onclick=\"convertToInteractive('df-e21281c7-f7f8-44f1-81ba-ae1013a61bbe')\"\n",
              "              title=\"Convert this dataframe to an interactive table.\"\n",
              "              style=\"display:none;\">\n",
              "        \n",
              "  <svg xmlns=\"http://www.w3.org/2000/svg\" height=\"24px\"viewBox=\"0 0 24 24\"\n",
              "       width=\"24px\">\n",
              "    <path d=\"M0 0h24v24H0V0z\" fill=\"none\"/>\n",
              "    <path d=\"M18.56 5.44l.94 2.06.94-2.06 2.06-.94-2.06-.94-.94-2.06-.94 2.06-2.06.94zm-11 1L8.5 8.5l.94-2.06 2.06-.94-2.06-.94L8.5 2.5l-.94 2.06-2.06.94zm10 10l.94 2.06.94-2.06 2.06-.94-2.06-.94-.94-2.06-.94 2.06-2.06.94z\"/><path d=\"M17.41 7.96l-1.37-1.37c-.4-.4-.92-.59-1.43-.59-.52 0-1.04.2-1.43.59L10.3 9.45l-7.72 7.72c-.78.78-.78 2.05 0 2.83L4 21.41c.39.39.9.59 1.41.59.51 0 1.02-.2 1.41-.59l7.78-7.78 2.81-2.81c.8-.78.8-2.07 0-2.86zM5.41 20L4 18.59l7.72-7.72 1.47 1.35L5.41 20z\"/>\n",
              "  </svg>\n",
              "      </button>\n",
              "      \n",
              "  <style>\n",
              "    .colab-df-container {\n",
              "      display:flex;\n",
              "      flex-wrap:wrap;\n",
              "      gap: 12px;\n",
              "    }\n",
              "\n",
              "    .colab-df-convert {\n",
              "      background-color: #E8F0FE;\n",
              "      border: none;\n",
              "      border-radius: 50%;\n",
              "      cursor: pointer;\n",
              "      display: none;\n",
              "      fill: #1967D2;\n",
              "      height: 32px;\n",
              "      padding: 0 0 0 0;\n",
              "      width: 32px;\n",
              "    }\n",
              "\n",
              "    .colab-df-convert:hover {\n",
              "      background-color: #E2EBFA;\n",
              "      box-shadow: 0px 1px 2px rgba(60, 64, 67, 0.3), 0px 1px 3px 1px rgba(60, 64, 67, 0.15);\n",
              "      fill: #174EA6;\n",
              "    }\n",
              "\n",
              "    [theme=dark] .colab-df-convert {\n",
              "      background-color: #3B4455;\n",
              "      fill: #D2E3FC;\n",
              "    }\n",
              "\n",
              "    [theme=dark] .colab-df-convert:hover {\n",
              "      background-color: #434B5C;\n",
              "      box-shadow: 0px 1px 3px 1px rgba(0, 0, 0, 0.15);\n",
              "      filter: drop-shadow(0px 1px 2px rgba(0, 0, 0, 0.3));\n",
              "      fill: #FFFFFF;\n",
              "    }\n",
              "  </style>\n",
              "\n",
              "      <script>\n",
              "        const buttonEl =\n",
              "          document.querySelector('#df-e21281c7-f7f8-44f1-81ba-ae1013a61bbe button.colab-df-convert');\n",
              "        buttonEl.style.display =\n",
              "          google.colab.kernel.accessAllowed ? 'block' : 'none';\n",
              "\n",
              "        async function convertToInteractive(key) {\n",
              "          const element = document.querySelector('#df-e21281c7-f7f8-44f1-81ba-ae1013a61bbe');\n",
              "          const dataTable =\n",
              "            await google.colab.kernel.invokeFunction('convertToInteractive',\n",
              "                                                     [key], {});\n",
              "          if (!dataTable) return;\n",
              "\n",
              "          const docLinkHtml = 'Like what you see? Visit the ' +\n",
              "            '<a target=\"_blank\" href=https://colab.research.google.com/notebooks/data_table.ipynb>data table notebook</a>'\n",
              "            + ' to learn more about interactive tables.';\n",
              "          element.innerHTML = '';\n",
              "          dataTable['output_type'] = 'display_data';\n",
              "          await google.colab.output.renderOutput(dataTable, element);\n",
              "          const docLink = document.createElement('div');\n",
              "          docLink.innerHTML = docLinkHtml;\n",
              "          element.appendChild(docLink);\n",
              "        }\n",
              "      </script>\n",
              "    </div>\n",
              "  </div>\n",
              "  "
            ]
          },
          "metadata": {},
          "execution_count": 351
        }
      ]
    },
    {
      "cell_type": "code",
      "source": [
        "full_data_test.to_csv('testdata_cleaned.csv',index=False)"
      ],
      "metadata": {
        "id": "ZHBoP3cj5ejl"
      },
      "execution_count": null,
      "outputs": []
    },
    {
      "cell_type": "code",
      "source": [],
      "metadata": {
        "id": "zwqxwV7s5egy"
      },
      "execution_count": null,
      "outputs": []
    },
    {
      "cell_type": "code",
      "source": [],
      "metadata": {
        "id": "eXsqM0jJ5eeQ"
      },
      "execution_count": null,
      "outputs": []
    },
    {
      "cell_type": "markdown",
      "source": [
        "# modelling data prep"
      ],
      "metadata": {
        "id": "bw2Zg9DekHKq"
      }
    },
    {
      "cell_type": "code",
      "source": [
        "#dropping bounce rate as it is ~90% correlated to exit rates"
      ],
      "metadata": {
        "id": "KtzFwvObgZHb"
      },
      "execution_count": null,
      "outputs": []
    },
    {
      "cell_type": "code",
      "source": [
        "x_feats = list(full_data_dev_scaled.drop(['session_id','revenue','bouncerates'],axis=1).columns)\n",
        "y_feats = ['revenue']"
      ],
      "metadata": {
        "id": "tKskb1XCG1Cl"
      },
      "execution_count": null,
      "outputs": []
    },
    {
      "cell_type": "code",
      "source": [
        "from sklearn.model_selection import train_test_split\n",
        "x_train, x_test,y_train,  y_test = train_test_split(full_data_dev_scaled[x_feats],full_data_dev_scaled[y_feats],test_size = 0.2, random_state=42 ,stratify = full_data_dev_scaled[y_feats])"
      ],
      "metadata": {
        "id": "Cr81cqhkkEVr"
      },
      "execution_count": null,
      "outputs": []
    },
    {
      "cell_type": "code",
      "source": [
        "print(y_train.mean())\n",
        "print(y_test.mean())"
      ],
      "metadata": {
        "id": "-itVyiQzj2dP",
        "colab": {
          "base_uri": "https://localhost:8080/"
        },
        "outputId": "0db180e0-b1e8-4de7-d94a-b9e681e4ba7f"
      },
      "execution_count": null,
      "outputs": [
        {
          "output_type": "stream",
          "name": "stdout",
          "text": [
            "revenue    0.158281\n",
            "dtype: float64\n",
            "revenue    0.15825\n",
            "dtype: float64\n"
          ]
        }
      ]
    },
    {
      "cell_type": "code",
      "source": [],
      "metadata": {
        "id": "11MxHe3Wj2aY"
      },
      "execution_count": null,
      "outputs": []
    },
    {
      "cell_type": "code",
      "source": [],
      "metadata": {
        "id": "N3TvFKBrjyxT"
      },
      "execution_count": null,
      "outputs": []
    },
    {
      "cell_type": "markdown",
      "source": [
        "# modelling"
      ],
      "metadata": {
        "id": "UMUh8P3zkKkv"
      }
    },
    {
      "cell_type": "markdown",
      "source": [
        "# Logistic Regression model"
      ],
      "metadata": {
        "id": "5qId0AvdIGcQ"
      }
    },
    {
      "cell_type": "code",
      "source": [
        "def roc_curve(fpr,tpr):\n",
        "    roc_auc = metrics.auc(fpr, tpr)\n",
        "    plt.figure()\n",
        "    lw = 2\n",
        "    plt.plot(fpr, tpr, color='darkorange',\n",
        "             lw=lw, label='ROC curve (area = %0.2f)' % roc_auc)\n",
        "    plt.plot([0, 1], [0, 1], color='navy', lw=lw, linestyle='--')\n",
        "    plt.xlim([0.0, 1.0])\n",
        "    plt.ylim([0.0, 1.05])\n",
        "    plt.xlabel('False Positive Rate')\n",
        "    plt.ylabel('True Positive Rate')\n",
        "    plt.title('ROC curve')\n",
        "    plt.legend(loc=\"lower right\")\n",
        "    plt.show()"
      ],
      "metadata": {
        "id": "Qe2YUn3XLEvB"
      },
      "execution_count": null,
      "outputs": []
    },
    {
      "cell_type": "code",
      "source": [
        "from sklearn.linear_model import LogisticRegression\n",
        "from sklearn.metrics import accuracy_score\n",
        "from sklearn import metrics\n",
        "import statsmodels.api as sm "
      ],
      "metadata": {
        "id": "LAY4JZ3iIKGl"
      },
      "execution_count": null,
      "outputs": []
    },
    {
      "cell_type": "code",
      "source": [
        "LG1 = LogisticRegression()\n",
        "LG1.fit(x_train,y_train)\n"
      ],
      "metadata": {
        "id": "OF6rwgf8kJAm",
        "colab": {
          "base_uri": "https://localhost:8080/"
        },
        "outputId": "03c1643d-d331-4353-9e29-a62d813d3fac"
      },
      "execution_count": null,
      "outputs": [
        {
          "output_type": "stream",
          "name": "stderr",
          "text": [
            "/usr/local/lib/python3.7/dist-packages/sklearn/utils/validation.py:993: DataConversionWarning: A column-vector y was passed when a 1d array was expected. Please change the shape of y to (n_samples, ), for example using ravel().\n",
            "  y = column_or_1d(y, warn=True)\n"
          ]
        },
        {
          "output_type": "execute_result",
          "data": {
            "text/plain": [
              "LogisticRegression()"
            ]
          },
          "metadata": {},
          "execution_count": 378
        }
      ]
    },
    {
      "cell_type": "code",
      "source": [
        "pred_train_LG_1 = LG1.predict(x_train)\n",
        "pred_test_LG_1 = LG1.predict(x_test)\n",
        "pred_prob_train_LG_1 = LG1.predict_proba(x_train)[:1]\n",
        "pred_prob_test_LG_1 = LG1.predict_proba(x_test)[:1]\n"
      ],
      "metadata": {
        "id": "8YC2otWnkJ8b"
      },
      "execution_count": null,
      "outputs": []
    },
    {
      "cell_type": "code",
      "source": [
        "\n",
        "accuracy_train_LG_1 = accuracy_score(pred_train_LG_1,y_train)\n",
        "accuracy_test_LG_1 = accuracy_score(pred_test_LG_1,y_test)"
      ],
      "metadata": {
        "id": "4GNalI4bIlIb"
      },
      "execution_count": null,
      "outputs": []
    },
    {
      "cell_type": "code",
      "source": [
        "confusion_LG_1_train = metrics.confusion_matrix( y_train, pred_train_LG_1 )\n",
        "confusion_LG_1_train"
      ],
      "metadata": {
        "colab": {
          "base_uri": "https://localhost:8080/"
        },
        "id": "x7jiqc9aJV2G",
        "outputId": "549d072a-cad6-45b3-e00b-b441e403a293"
      },
      "execution_count": null,
      "outputs": [
        {
          "output_type": "execute_result",
          "data": {
            "text/plain": [
              "array([[26169,   766],\n",
              "       [ 3151,  1914]])"
            ]
          },
          "metadata": {},
          "execution_count": 381
        }
      ]
    },
    {
      "cell_type": "code",
      "source": [
        "confusion_LG_1_test = metrics.confusion_matrix( y_test, pred_test_LG_1 )\n",
        "confusion_LG_1_test"
      ],
      "metadata": {
        "colab": {
          "base_uri": "https://localhost:8080/"
        },
        "id": "opXdZu8gJaNI",
        "outputId": "b9c81874-530b-4345-df61-1eb1bb18c4fb"
      },
      "execution_count": null,
      "outputs": [
        {
          "output_type": "execute_result",
          "data": {
            "text/plain": [
              "array([[6534,  200],\n",
              "       [ 808,  458]])"
            ]
          },
          "metadata": {},
          "execution_count": 382
        }
      ]
    },
    {
      "cell_type": "code",
      "source": [
        "accuracy_train_LG_1"
      ],
      "metadata": {
        "colab": {
          "base_uri": "https://localhost:8080/"
        },
        "id": "2jgJ73iuImyg",
        "outputId": "f4d1edcf-5f59-4cd1-f7b6-14d24a9fc60e"
      },
      "execution_count": null,
      "outputs": [
        {
          "output_type": "execute_result",
          "data": {
            "text/plain": [
              "0.87759375"
            ]
          },
          "metadata": {},
          "execution_count": 383
        }
      ]
    },
    {
      "cell_type": "code",
      "source": [
        "accuracy_test_LG_1"
      ],
      "metadata": {
        "colab": {
          "base_uri": "https://localhost:8080/"
        },
        "id": "0l22KjxUIoom",
        "outputId": "e15a4cd6-9e30-4dc1-9349-741bf65c31cc"
      },
      "execution_count": null,
      "outputs": [
        {
          "output_type": "execute_result",
          "data": {
            "text/plain": [
              "0.874"
            ]
          },
          "metadata": {},
          "execution_count": 384
        }
      ]
    },
    {
      "cell_type": "code",
      "source": [
        "fpr_train_LG_1, tpr_train_LG_1, _ = metrics.roc_curve(np.array(y_train), LG1.predict_proba(x_train)[:,1])\n",
        "auc_train_LG_1 = metrics.auc(fpr_train_LG_1,tpr_train_LG_1)"
      ],
      "metadata": {
        "id": "RMGaTINiKciX"
      },
      "execution_count": null,
      "outputs": []
    },
    {
      "cell_type": "code",
      "source": [
        "fpr_test_LG_1, tpr_test_LG_1, _ = metrics.roc_curve(np.array(y_test), LG1.predict_proba(x_test)[:,1])\n",
        "auc_test_LG_1 = metrics.auc(fpr_test_LG_1,tpr_test_LG_1)"
      ],
      "metadata": {
        "id": "M7EHrifqKce-"
      },
      "execution_count": null,
      "outputs": []
    },
    {
      "cell_type": "code",
      "source": [
        "auc_train_LG_1"
      ],
      "metadata": {
        "colab": {
          "base_uri": "https://localhost:8080/"
        },
        "id": "wTYSAQGdKccm",
        "outputId": "45359026-e7f0-4efa-cd5e-be52b4dd9208"
      },
      "execution_count": null,
      "outputs": [
        {
          "output_type": "execute_result",
          "data": {
            "text/plain": [
              "0.8970630989635207"
            ]
          },
          "metadata": {},
          "execution_count": 387
        }
      ]
    },
    {
      "cell_type": "code",
      "source": [
        "auc_test_LG_1"
      ],
      "metadata": {
        "colab": {
          "base_uri": "https://localhost:8080/"
        },
        "id": "g5RFBvpjKcaT",
        "outputId": "1beeb953-38c7-41d4-efcb-cfa04c113955"
      },
      "execution_count": null,
      "outputs": [
        {
          "output_type": "execute_result",
          "data": {
            "text/plain": [
              "0.8869443502144924"
            ]
          },
          "metadata": {},
          "execution_count": 388
        }
      ]
    },
    {
      "cell_type": "code",
      "source": [
        "print(\"Train accuracy {}\".format(accuracy_train_LG_1))\n",
        "print(\"Test accuracy is {}\".format(accuracy_test_LG_1))\n",
        "\n",
        "print('Train AUC is {}'.format(auc_train_LG_1))\n",
        "print('Test AUC is {}'.format(auc_test_LG_1))"
      ],
      "metadata": {
        "colab": {
          "base_uri": "https://localhost:8080/"
        },
        "id": "nLhKf2pAKcXv",
        "outputId": "74f0d578-b2a5-4cf0-92f0-36f92016b94b"
      },
      "execution_count": null,
      "outputs": [
        {
          "output_type": "stream",
          "name": "stdout",
          "text": [
            "Train accuracy 0.87759375\n",
            "Test accuracy is 0.874\n",
            "Train AUC is 0.8970630989635207\n",
            "Test AUC is 0.8869443502144924\n"
          ]
        }
      ]
    },
    {
      "cell_type": "code",
      "source": [
        "print(\"ROC Curve for Train sample\")\n",
        "roc_curve(fpr_train_LG_1,tpr_train_LG_1)"
      ],
      "metadata": {
        "colab": {
          "base_uri": "https://localhost:8080/",
          "height": 313
        },
        "id": "cujT-F1TKqkP",
        "outputId": "749a536d-d92e-47ab-e01a-3e795e46e4c7"
      },
      "execution_count": null,
      "outputs": [
        {
          "output_type": "stream",
          "name": "stdout",
          "text": [
            "ROC Curve for Train sample\n"
          ]
        },
        {
          "output_type": "display_data",
          "data": {
            "text/plain": [
              "<Figure size 432x288 with 1 Axes>"
            ],
            "image/png": "[encoded data removed]"
          },
          "metadata": {
            "needs_background": "light"
          }
        }
      ]
    },
    {
      "cell_type": "code",
      "source": [
        "feature_names = x_train.columns"
      ],
      "metadata": {
        "id": "nXV92IZDx_OF"
      },
      "execution_count": null,
      "outputs": []
    },
    {
      "cell_type": "code",
      "source": [
        "import math"
      ],
      "metadata": {
        "id": "Bhn6z-9ZyHDA"
      },
      "execution_count": null,
      "outputs": []
    },
    {
      "cell_type": "code",
      "source": [
        "feature_importance = pd.DataFrame(feature_names, columns = [\"feature\"])\n",
        "feature_importance[\"importance\"] = pow(math.e, LG1.coef_[0])\n",
        "feature_importance = feature_importance.sort_values(by = [\"importance\"], ascending=False)\n",
        "feature_imp_dt = feature_importance.iloc[:100,:]\n",
        "plt.figure(figsize=(15,10))\n",
        "ax = sns.barplot(x=\"importance\", y=\"feature\", data=feature_imp_dt)"
      ],
      "metadata": {
        "colab": {
          "base_uri": "https://localhost:8080/",
          "height": 606
        },
        "id": "1Byd7xFu1iyv",
        "outputId": "beb35333-0483-4b29-ccd8-79e82701a170"
      },
      "execution_count": null,
      "outputs": [
        {
          "output_type": "display_data",
          "data": {
            "text/plain": [
              "<Figure size 1080x720 with 1 Axes>"
            ],
            "image/png": "[encoded data removed]"
          },
          "metadata": {
            "needs_background": "light"
          }
        }
      ]
    },
    {
      "cell_type": "code",
      "source": [],
      "metadata": {
        "id": "LBLYA5h1x9By"
      },
      "execution_count": null,
      "outputs": []
    },
    {
      "cell_type": "code",
      "source": [],
      "metadata": {
        "id": "ZgMw5vOPx8_o"
      },
      "execution_count": null,
      "outputs": []
    },
    {
      "cell_type": "code",
      "source": [],
      "metadata": {
        "id": "xQC7y0VNKqgz"
      },
      "execution_count": null,
      "outputs": []
    },
    {
      "cell_type": "code",
      "source": [
        "y_hat_hack_proba = LG1.predict_proba(full_data_test.drop('session_id',axis=1))[: ][: , 1]\n",
        "hack_temp = full_data_test[['session_id']].copy()"
      ],
      "metadata": {
        "id": "IE0TbckyKqeJ"
      },
      "execution_count": null,
      "outputs": []
    },
    {
      "cell_type": "code",
      "source": [
        "hack_temp.reset_index(drop = True, inplace = True)"
      ],
      "metadata": {
        "id": "1NSqRDK6Lh7X"
      },
      "execution_count": null,
      "outputs": []
    },
    {
      "cell_type": "code",
      "source": [
        "hack_probs = pd.concat([hack_temp, pd.DataFrame(y_hat_hack_proba)], axis = 1)"
      ],
      "metadata": {
        "id": "R0Gv0pv6Lqcq"
      },
      "execution_count": null,
      "outputs": []
    },
    {
      "cell_type": "code",
      "source": [
        "hack_probs.columns = ['session_id','probs']"
      ],
      "metadata": {
        "id": "R68yILsqLxmD"
      },
      "execution_count": null,
      "outputs": []
    },
    {
      "cell_type": "code",
      "source": [
        "hack_probs['revenue'] = np.where(hack_probs['probs']>0.5,1,0)"
      ],
      "metadata": {
        "id": "TxLsnMVUJnTu"
      },
      "execution_count": null,
      "outputs": []
    },
    {
      "cell_type": "code",
      "source": [
        "hack_probs['probs'].describe()"
      ],
      "metadata": {
        "colab": {
          "base_uri": "https://localhost:8080/"
        },
        "id": "KwyrheN-MKta",
        "outputId": "5f4b6e7c-db28-4ab9-d5b2-0a8992b50b26"
      },
      "execution_count": null,
      "outputs": [
        {
          "output_type": "execute_result",
          "data": {
            "text/plain": [
              "count    10000.000000\n",
              "mean         0.158262\n",
              "std          0.219796\n",
              "min          0.001678\n",
              "25%          0.038863\n",
              "50%          0.072298\n",
              "75%          0.162043\n",
              "max          0.997723\n",
              "Name: probs, dtype: float64"
            ]
          },
          "metadata": {},
          "execution_count": 203
        }
      ]
    },
    {
      "cell_type": "code",
      "source": [
        "# hack_probs.drop('probs',axis=1).to_csv('submission_1.csv',index=False)"
      ],
      "metadata": {
        "id": "klnLh61AMO3a"
      },
      "execution_count": null,
      "outputs": []
    },
    {
      "cell_type": "code",
      "source": [
        "hack_probs.drop('probs',axis=1).head()"
      ],
      "metadata": {
        "colab": {
          "base_uri": "https://localhost:8080/",
          "height": 206
        },
        "id": "GqjFPC2hMZh6",
        "outputId": "4af6c452-10e2-4a8b-d49e-daff6d4b8fc9"
      },
      "execution_count": null,
      "outputs": [
        {
          "output_type": "execute_result",
          "data": {
            "text/plain": [
              "   session_id  revenue\n",
              "0      283149        0\n",
              "1      253020        0\n",
              "2      348435        0\n",
              "3      299763        0\n",
              "4      195120        0"
            ],
            "text/html": [
              "\n",
              "  <div id=\"df-ef76483c-e888-48ac-a389-3eed51d7e4e1\">\n",
              "    <div class=\"colab-df-container\">\n",
              "      <div>\n",
              "<style scoped>\n",
              "    .dataframe tbody tr th:only-of-type {\n",
              "        vertical-align: middle;\n",
              "    }\n",
              "\n",
              "    .dataframe tbody tr th {\n",
              "        vertical-align: top;\n",
              "    }\n",
              "\n",
              "    .dataframe thead th {\n",
              "        text-align: right;\n",
              "    }\n",
              "</style>\n",
              "<table border=\"1\" class=\"dataframe\">\n",
              "  <thead>\n",
              "    <tr style=\"text-align: right;\">\n",
              "      <th></th>\n",
              "      <th>session_id</th>\n",
              "      <th>revenue</th>\n",
              "    </tr>\n",
              "  </thead>\n",
              "  <tbody>\n",
              "    <tr>\n",
              "      <th>0</th>\n",
              "      <td>283149</td>\n",
              "      <td>0</td>\n",
              "    </tr>\n",
              "    <tr>\n",
              "      <th>1</th>\n",
              "      <td>253020</td>\n",
              "      <td>0</td>\n",
              "    </tr>\n",
              "    <tr>\n",
              "      <th>2</th>\n",
              "      <td>348435</td>\n",
              "      <td>0</td>\n",
              "    </tr>\n",
              "    <tr>\n",
              "      <th>3</th>\n",
              "      <td>299763</td>\n",
              "      <td>0</td>\n",
              "    </tr>\n",
              "    <tr>\n",
              "      <th>4</th>\n",
              "      <td>195120</td>\n",
              "      <td>0</td>\n",
              "    </tr>\n",
              "  </tbody>\n",
              "</table>\n",
              "</div>\n",
              "      <button class=\"colab-df-convert\" onclick=\"convertToInteractive('df-ef76483c-e888-48ac-a389-3eed51d7e4e1')\"\n",
              "              title=\"Convert this dataframe to an interactive table.\"\n",
              "              style=\"display:none;\">\n",
              "        \n",
              "  <svg xmlns=\"http://www.w3.org/2000/svg\" height=\"24px\"viewBox=\"0 0 24 24\"\n",
              "       width=\"24px\">\n",
              "    <path d=\"M0 0h24v24H0V0z\" fill=\"none\"/>\n",
              "    <path d=\"M18.56 5.44l.94 2.06.94-2.06 2.06-.94-2.06-.94-.94-2.06-.94 2.06-2.06.94zm-11 1L8.5 8.5l.94-2.06 2.06-.94-2.06-.94L8.5 2.5l-.94 2.06-2.06.94zm10 10l.94 2.06.94-2.06 2.06-.94-2.06-.94-.94-2.06-.94 2.06-2.06.94z\"/><path d=\"M17.41 7.96l-1.37-1.37c-.4-.4-.92-.59-1.43-.59-.52 0-1.04.2-1.43.59L10.3 9.45l-7.72 7.72c-.78.78-.78 2.05 0 2.83L4 21.41c.39.39.9.59 1.41.59.51 0 1.02-.2 1.41-.59l7.78-7.78 2.81-2.81c.8-.78.8-2.07 0-2.86zM5.41 20L4 18.59l7.72-7.72 1.47 1.35L5.41 20z\"/>\n",
              "  </svg>\n",
              "      </button>\n",
              "      \n",
              "  <style>\n",
              "    .colab-df-container {\n",
              "      display:flex;\n",
              "      flex-wrap:wrap;\n",
              "      gap: 12px;\n",
              "    }\n",
              "\n",
              "    .colab-df-convert {\n",
              "      background-color: #E8F0FE;\n",
              "      border: none;\n",
              "      border-radius: 50%;\n",
              "      cursor: pointer;\n",
              "      display: none;\n",
              "      fill: #1967D2;\n",
              "      height: 32px;\n",
              "      padding: 0 0 0 0;\n",
              "      width: 32px;\n",
              "    }\n",
              "\n",
              "    .colab-df-convert:hover {\n",
              "      background-color: #E2EBFA;\n",
              "      box-shadow: 0px 1px 2px rgba(60, 64, 67, 0.3), 0px 1px 3px 1px rgba(60, 64, 67, 0.15);\n",
              "      fill: #174EA6;\n",
              "    }\n",
              "\n",
              "    [theme=dark] .colab-df-convert {\n",
              "      background-color: #3B4455;\n",
              "      fill: #D2E3FC;\n",
              "    }\n",
              "\n",
              "    [theme=dark] .colab-df-convert:hover {\n",
              "      background-color: #434B5C;\n",
              "      box-shadow: 0px 1px 3px 1px rgba(0, 0, 0, 0.15);\n",
              "      filter: drop-shadow(0px 1px 2px rgba(0, 0, 0, 0.3));\n",
              "      fill: #FFFFFF;\n",
              "    }\n",
              "  </style>\n",
              "\n",
              "      <script>\n",
              "        const buttonEl =\n",
              "          document.querySelector('#df-ef76483c-e888-48ac-a389-3eed51d7e4e1 button.colab-df-convert');\n",
              "        buttonEl.style.display =\n",
              "          google.colab.kernel.accessAllowed ? 'block' : 'none';\n",
              "\n",
              "        async function convertToInteractive(key) {\n",
              "          const element = document.querySelector('#df-ef76483c-e888-48ac-a389-3eed51d7e4e1');\n",
              "          const dataTable =\n",
              "            await google.colab.kernel.invokeFunction('convertToInteractive',\n",
              "                                                     [key], {});\n",
              "          if (!dataTable) return;\n",
              "\n",
              "          const docLinkHtml = 'Like what you see? Visit the ' +\n",
              "            '<a target=\"_blank\" href=https://colab.research.google.com/notebooks/data_table.ipynb>data table notebook</a>'\n",
              "            + ' to learn more about interactive tables.';\n",
              "          element.innerHTML = '';\n",
              "          dataTable['output_type'] = 'display_data';\n",
              "          await google.colab.output.renderOutput(dataTable, element);\n",
              "          const docLink = document.createElement('div');\n",
              "          docLink.innerHTML = docLinkHtml;\n",
              "          element.appendChild(docLink);\n",
              "        }\n",
              "      </script>\n",
              "    </div>\n",
              "  </div>\n",
              "  "
            ]
          },
          "metadata": {},
          "execution_count": 205
        }
      ]
    },
    {
      "cell_type": "code",
      "source": [
        "hack_probs['revenue'].value_counts()"
      ],
      "metadata": {
        "colab": {
          "base_uri": "https://localhost:8080/"
        },
        "id": "9xal6sMsMbJr",
        "outputId": "2e3af709-5adf-487e-8ea7-a91501b88c3e"
      },
      "execution_count": null,
      "outputs": [
        {
          "output_type": "execute_result",
          "data": {
            "text/plain": [
              "0    9131\n",
              "1     869\n",
              "Name: revenue, dtype: int64"
            ]
          },
          "metadata": {},
          "execution_count": 206
        }
      ]
    },
    {
      "cell_type": "markdown",
      "source": [
        "### *Hyperparameter tuning Logistic Regression*"
      ],
      "metadata": {
        "id": "QMtvOPqKgpKb"
      }
    },
    {
      "cell_type": "code",
      "source": [
        "param_grid = [    \n",
        "    {'penalty' : ['l1', 'l2', 'elasticnet', 'none'],\n",
        "    # 'C' : np.logspace(-4, 4, 20),\n",
        "    'solver' : ['lbfgs','newton-cg','liblinear','sag','saga'],\n",
        "    'max_iter' : [100, 1000,2000]\n",
        "    }\n",
        "]"
      ],
      "metadata": {
        "id": "awpfxoYugoL6"
      },
      "execution_count": null,
      "outputs": []
    },
    {
      "cell_type": "code",
      "source": [
        "logModel = LogisticRegression()"
      ],
      "metadata": {
        "id": "LLjqfXsfg0wY"
      },
      "execution_count": null,
      "outputs": []
    },
    {
      "cell_type": "code",
      "source": [
        "from sklearn.model_selection import GridSearchCV"
      ],
      "metadata": {
        "id": "HlckgGgrg45c"
      },
      "execution_count": null,
      "outputs": []
    },
    {
      "cell_type": "code",
      "source": [
        "clf = GridSearchCV(logModel, param_grid = param_grid, verbose=True,cv=5, n_jobs=-1)"
      ],
      "metadata": {
        "id": "ChJgVoc_g7l6"
      },
      "execution_count": null,
      "outputs": []
    },
    {
      "cell_type": "code",
      "source": [
        "best_clf = clf.fit(x_train,y_train)"
      ],
      "metadata": {
        "colab": {
          "base_uri": "https://localhost:8080/"
        },
        "id": "4kVi1QBYhAK2",
        "outputId": "a1d21195-2a93-4041-82c1-43061975b875"
      },
      "execution_count": null,
      "outputs": [
        {
          "output_type": "stream",
          "name": "stdout",
          "text": [
            "Fitting 5 folds for each of 60 candidates, totalling 300 fits\n"
          ]
        },
        {
          "output_type": "stream",
          "name": "stderr",
          "text": [
            "/usr/local/lib/python3.7/dist-packages/sklearn/model_selection/_validation.py:372: FitFailedWarning: \n",
            "135 fits failed out of a total of 300.\n",
            "The score on these train-test partitions for these parameters will be set to nan.\n",
            "If these failures are not expected, you can try to debug them by setting error_score='raise'.\n",
            "\n",
            "Below are more details about the failures:\n",
            "--------------------------------------------------------------------------------\n",
            "15 fits failed with the following error:\n",
            "Traceback (most recent call last):\n",
            "  File \"/usr/local/lib/python3.7/dist-packages/sklearn/model_selection/_validation.py\", line 680, in _fit_and_score\n",
            "    estimator.fit(X_train, y_train, **fit_params)\n",
            "  File \"/usr/local/lib/python3.7/dist-packages/sklearn/linear_model/_logistic.py\", line 1461, in fit\n",
            "    solver = _check_solver(self.solver, self.penalty, self.dual)\n",
            "  File \"/usr/local/lib/python3.7/dist-packages/sklearn/linear_model/_logistic.py\", line 449, in _check_solver\n",
            "    % (solver, penalty)\n",
            "ValueError: Solver lbfgs supports only 'l2' or 'none' penalties, got l1 penalty.\n",
            "\n",
            "--------------------------------------------------------------------------------\n",
            "15 fits failed with the following error:\n",
            "Traceback (most recent call last):\n",
            "  File \"/usr/local/lib/python3.7/dist-packages/sklearn/model_selection/_validation.py\", line 680, in _fit_and_score\n",
            "    estimator.fit(X_train, y_train, **fit_params)\n",
            "  File \"/usr/local/lib/python3.7/dist-packages/sklearn/linear_model/_logistic.py\", line 1461, in fit\n",
            "    solver = _check_solver(self.solver, self.penalty, self.dual)\n",
            "  File \"/usr/local/lib/python3.7/dist-packages/sklearn/linear_model/_logistic.py\", line 449, in _check_solver\n",
            "    % (solver, penalty)\n",
            "ValueError: Solver newton-cg supports only 'l2' or 'none' penalties, got l1 penalty.\n",
            "\n",
            "--------------------------------------------------------------------------------\n",
            "15 fits failed with the following error:\n",
            "Traceback (most recent call last):\n",
            "  File \"/usr/local/lib/python3.7/dist-packages/sklearn/model_selection/_validation.py\", line 680, in _fit_and_score\n",
            "    estimator.fit(X_train, y_train, **fit_params)\n",
            "  File \"/usr/local/lib/python3.7/dist-packages/sklearn/linear_model/_logistic.py\", line 1461, in fit\n",
            "    solver = _check_solver(self.solver, self.penalty, self.dual)\n",
            "  File \"/usr/local/lib/python3.7/dist-packages/sklearn/linear_model/_logistic.py\", line 449, in _check_solver\n",
            "    % (solver, penalty)\n",
            "ValueError: Solver sag supports only 'l2' or 'none' penalties, got l1 penalty.\n",
            "\n",
            "--------------------------------------------------------------------------------\n",
            "15 fits failed with the following error:\n",
            "Traceback (most recent call last):\n",
            "  File \"/usr/local/lib/python3.7/dist-packages/sklearn/model_selection/_validation.py\", line 680, in _fit_and_score\n",
            "    estimator.fit(X_train, y_train, **fit_params)\n",
            "  File \"/usr/local/lib/python3.7/dist-packages/sklearn/linear_model/_logistic.py\", line 1461, in fit\n",
            "    solver = _check_solver(self.solver, self.penalty, self.dual)\n",
            "  File \"/usr/local/lib/python3.7/dist-packages/sklearn/linear_model/_logistic.py\", line 449, in _check_solver\n",
            "    % (solver, penalty)\n",
            "ValueError: Solver lbfgs supports only 'l2' or 'none' penalties, got elasticnet penalty.\n",
            "\n",
            "--------------------------------------------------------------------------------\n",
            "15 fits failed with the following error:\n",
            "Traceback (most recent call last):\n",
            "  File \"/usr/local/lib/python3.7/dist-packages/sklearn/model_selection/_validation.py\", line 680, in _fit_and_score\n",
            "    estimator.fit(X_train, y_train, **fit_params)\n",
            "  File \"/usr/local/lib/python3.7/dist-packages/sklearn/linear_model/_logistic.py\", line 1461, in fit\n",
            "    solver = _check_solver(self.solver, self.penalty, self.dual)\n",
            "  File \"/usr/local/lib/python3.7/dist-packages/sklearn/linear_model/_logistic.py\", line 449, in _check_solver\n",
            "    % (solver, penalty)\n",
            "ValueError: Solver newton-cg supports only 'l2' or 'none' penalties, got elasticnet penalty.\n",
            "\n",
            "--------------------------------------------------------------------------------\n",
            "15 fits failed with the following error:\n",
            "Traceback (most recent call last):\n",
            "  File \"/usr/local/lib/python3.7/dist-packages/sklearn/model_selection/_validation.py\", line 680, in _fit_and_score\n",
            "    estimator.fit(X_train, y_train, **fit_params)\n",
            "  File \"/usr/local/lib/python3.7/dist-packages/sklearn/linear_model/_logistic.py\", line 1461, in fit\n",
            "    solver = _check_solver(self.solver, self.penalty, self.dual)\n",
            "  File \"/usr/local/lib/python3.7/dist-packages/sklearn/linear_model/_logistic.py\", line 459, in _check_solver\n",
            "    solver\n",
            "ValueError: Only 'saga' solver supports elasticnet penalty, got solver=liblinear.\n",
            "\n",
            "--------------------------------------------------------------------------------\n",
            "15 fits failed with the following error:\n",
            "Traceback (most recent call last):\n",
            "  File \"/usr/local/lib/python3.7/dist-packages/sklearn/model_selection/_validation.py\", line 680, in _fit_and_score\n",
            "    estimator.fit(X_train, y_train, **fit_params)\n",
            "  File \"/usr/local/lib/python3.7/dist-packages/sklearn/linear_model/_logistic.py\", line 1461, in fit\n",
            "    solver = _check_solver(self.solver, self.penalty, self.dual)\n",
            "  File \"/usr/local/lib/python3.7/dist-packages/sklearn/linear_model/_logistic.py\", line 449, in _check_solver\n",
            "    % (solver, penalty)\n",
            "ValueError: Solver sag supports only 'l2' or 'none' penalties, got elasticnet penalty.\n",
            "\n",
            "--------------------------------------------------------------------------------\n",
            "15 fits failed with the following error:\n",
            "Traceback (most recent call last):\n",
            "  File \"/usr/local/lib/python3.7/dist-packages/sklearn/model_selection/_validation.py\", line 680, in _fit_and_score\n",
            "    estimator.fit(X_train, y_train, **fit_params)\n",
            "  File \"/usr/local/lib/python3.7/dist-packages/sklearn/linear_model/_logistic.py\", line 1473, in fit\n",
            "    % self.l1_ratio\n",
            "ValueError: l1_ratio must be between 0 and 1; got (l1_ratio=None)\n",
            "\n",
            "--------------------------------------------------------------------------------\n",
            "15 fits failed with the following error:\n",
            "Traceback (most recent call last):\n",
            "  File \"/usr/local/lib/python3.7/dist-packages/sklearn/model_selection/_validation.py\", line 680, in _fit_and_score\n",
            "    estimator.fit(X_train, y_train, **fit_params)\n",
            "  File \"/usr/local/lib/python3.7/dist-packages/sklearn/linear_model/_logistic.py\", line 1461, in fit\n",
            "    solver = _check_solver(self.solver, self.penalty, self.dual)\n",
            "  File \"/usr/local/lib/python3.7/dist-packages/sklearn/linear_model/_logistic.py\", line 464, in _check_solver\n",
            "    raise ValueError(\"penalty='none' is not supported for the liblinear solver\")\n",
            "ValueError: penalty='none' is not supported for the liblinear solver\n",
            "\n",
            "  warnings.warn(some_fits_failed_message, FitFailedWarning)\n",
            "/usr/local/lib/python3.7/dist-packages/sklearn/model_selection/_search.py:972: UserWarning: One or more of the test scores are non-finite: [       nan        nan 0.8775            nan 0.8775     0.87759375\n",
            " 0.87759375 0.8775625  0.87759375 0.87759375        nan        nan\n",
            "        nan        nan        nan 0.87746875 0.87746875        nan\n",
            " 0.87746875 0.87746875        nan        nan 0.8775            nan\n",
            " 0.8775     0.87759375 0.87759375 0.8775625  0.87759375 0.87759375\n",
            "        nan        nan        nan        nan        nan 0.87746875\n",
            " 0.87746875        nan 0.87746875 0.87746875        nan        nan\n",
            " 0.8775            nan 0.8775     0.87759375 0.87759375 0.8775625\n",
            " 0.87759375 0.87759375        nan        nan        nan        nan\n",
            "        nan 0.87746875 0.87746875        nan 0.87746875 0.87746875]\n",
            "  category=UserWarning,\n",
            "/usr/local/lib/python3.7/dist-packages/sklearn/utils/validation.py:993: DataConversionWarning: A column-vector y was passed when a 1d array was expected. Please change the shape of y to (n_samples, ), for example using ravel().\n",
            "  y = column_or_1d(y, warn=True)\n"
          ]
        }
      ]
    },
    {
      "cell_type": "code",
      "source": [
        "best_clf.best_estimator_"
      ],
      "metadata": {
        "colab": {
          "base_uri": "https://localhost:8080/"
        },
        "id": "zJjYcvdSsMjb",
        "outputId": "9c1552aa-362c-4df5-f206-f5056a806bad"
      },
      "execution_count": null,
      "outputs": [
        {
          "output_type": "execute_result",
          "data": {
            "text/plain": [
              "LogisticRegression()"
            ]
          },
          "metadata": {},
          "execution_count": 455
        }
      ]
    },
    {
      "cell_type": "code",
      "source": [],
      "metadata": {
        "id": "QgcJjztZsMgC"
      },
      "execution_count": null,
      "outputs": []
    },
    {
      "cell_type": "code",
      "source": [],
      "metadata": {
        "id": "3U7gYGCjsMd7"
      },
      "execution_count": null,
      "outputs": []
    },
    {
      "cell_type": "code",
      "source": [],
      "metadata": {
        "id": "qjBCaSkMsMbU"
      },
      "execution_count": null,
      "outputs": []
    },
    {
      "cell_type": "code",
      "source": [],
      "metadata": {
        "id": "pwkIjLGMsMYy"
      },
      "execution_count": null,
      "outputs": []
    },
    {
      "cell_type": "code",
      "source": [],
      "metadata": {
        "id": "SI0mBRuOsMWj"
      },
      "execution_count": null,
      "outputs": []
    },
    {
      "cell_type": "markdown",
      "source": [
        "# Decision Tree Classifier"
      ],
      "metadata": {
        "id": "mY-HYjCRm7TP"
      }
    },
    {
      "cell_type": "code",
      "source": [
        "from sklearn.tree import DecisionTreeClassifier"
      ],
      "metadata": {
        "id": "gYGoyAE6nHTZ"
      },
      "execution_count": null,
      "outputs": []
    },
    {
      "cell_type": "code",
      "source": [
        "params = {'max_depth':list(range(2,10)), \n",
        "          'criterion':['gini', 'entropy'],\n",
        "          'min_samples_split' :[5,10,15,20,30,50],\n",
        "          'min_samples_leaf':[2,5,10,20,30,50]}"
      ],
      "metadata": {
        "id": "XvhoLtXbnbmr"
      },
      "execution_count": null,
      "outputs": []
    },
    {
      "cell_type": "code",
      "source": [
        "dectree = DecisionTreeClassifier(random_state = 100)"
      ],
      "metadata": {
        "id": "ajaym-ESm8Tv"
      },
      "execution_count": null,
      "outputs": []
    },
    {
      "cell_type": "code",
      "source": [
        "cv_gs_dt = GridSearchCV(dectree, param_grid = params, cv = 5, scoring = 'accuracy')"
      ],
      "metadata": {
        "id": "Hmrq5gK3m8Qt"
      },
      "execution_count": null,
      "outputs": []
    },
    {
      "cell_type": "code",
      "source": [
        "cv_gs_dt.fit(x_train,y_train)"
      ],
      "metadata": {
        "colab": {
          "base_uri": "https://localhost:8080/"
        },
        "id": "BcQEu7VGm8OX",
        "outputId": "184a2b0e-72d8-4eab-f9bb-cf4eed9b5e25"
      },
      "execution_count": null,
      "outputs": [
        {
          "output_type": "execute_result",
          "data": {
            "text/plain": [
              "GridSearchCV(cv=5, estimator=DecisionTreeClassifier(random_state=100),\n",
              "             param_grid={'criterion': ['gini', 'entropy'],\n",
              "                         'max_depth': [2, 3, 4, 5, 6, 7, 8, 9],\n",
              "                         'min_samples_leaf': [2, 5, 10, 20, 30, 50],\n",
              "                         'min_samples_split': [5, 10, 15, 20, 30, 50]},\n",
              "             scoring='accuracy')"
            ]
          },
          "metadata": {},
          "execution_count": 466
        }
      ]
    },
    {
      "cell_type": "code",
      "source": [
        "print(cv_gs_dt.best_params_)"
      ],
      "metadata": {
        "colab": {
          "base_uri": "https://localhost:8080/"
        },
        "id": "kMj9KiK_m8MR",
        "outputId": "788486b1-40ab-43a6-9049-78a7ac29af61"
      },
      "execution_count": null,
      "outputs": [
        {
          "output_type": "stream",
          "name": "stdout",
          "text": [
            "{'criterion': 'gini', 'max_depth': 6, 'min_samples_leaf': 5, 'min_samples_split': 20}\n"
          ]
        }
      ]
    },
    {
      "cell_type": "code",
      "source": [
        "cv_gs_dt.best_score_"
      ],
      "metadata": {
        "colab": {
          "base_uri": "https://localhost:8080/"
        },
        "id": "G0UUif_pm8J9",
        "outputId": "64636adb-e319-4ed5-b782-defcb67287c9"
      },
      "execution_count": null,
      "outputs": [
        {
          "output_type": "execute_result",
          "data": {
            "text/plain": [
              "0.897"
            ]
          },
          "metadata": {},
          "execution_count": 420
        }
      ]
    },
    {
      "cell_type": "code",
      "source": [
        "dectree = DecisionTreeClassifier(criterion = 'gini', max_depth = 6, min_samples_leaf = 5,min_samples_split=20,\n",
        "                                 random_state = 100)\n",
        "dectree.fit(x_train,y_train)"
      ],
      "metadata": {
        "colab": {
          "base_uri": "https://localhost:8080/"
        },
        "id": "ivvd9oCNvRjM",
        "outputId": "ef819a1f-ad7d-493d-cc70-ca8e66bbfb24"
      },
      "execution_count": null,
      "outputs": [
        {
          "output_type": "execute_result",
          "data": {
            "text/plain": [
              "DecisionTreeClassifier(max_depth=6, min_samples_leaf=5, min_samples_split=20,\n",
              "                       random_state=100)"
            ]
          },
          "metadata": {},
          "execution_count": 470
        }
      ]
    },
    {
      "cell_type": "code",
      "source": [
        "# dectree = DecisionTreeClassifier(criterion = 'gini', max_depth = 6, min_samples_leaf = 5,min_samples_split=20,\n",
        "#                                  random_state = 100)\n",
        "# dectree.fit(x_train,y_train)\n",
        "\n",
        "# # 89% test acc"
      ],
      "metadata": {
        "colab": {
          "base_uri": "https://localhost:8080/"
        },
        "id": "cw39kpf3qCpG",
        "outputId": "6dab1579-1f9e-4d9f-eacc-8bdd8436bb65"
      },
      "execution_count": null,
      "outputs": [
        {
          "output_type": "execute_result",
          "data": {
            "text/plain": [
              "DecisionTreeClassifier(max_depth=6, min_samples_leaf=5, min_samples_split=20,\n",
              "                       random_state=100)"
            ]
          },
          "metadata": {},
          "execution_count": 432
        }
      ]
    },
    {
      "cell_type": "code",
      "source": [
        "# dectree = DecisionTreeClassifier(criterion = 'gini', max_depth = 6, min_samples_leaf = 2,min_samples_split=10,\n",
        "#                                  random_state = 100)\n",
        "# dectree.fit(x_train,y_train)"
      ],
      "metadata": {
        "colab": {
          "base_uri": "https://localhost:8080/"
        },
        "id": "tMPIxxram8HY",
        "outputId": "ab400759-ca76-4c27-b23d-ca5968963733"
      },
      "execution_count": null,
      "outputs": [
        {
          "output_type": "execute_result",
          "data": {
            "text/plain": [
              "DecisionTreeClassifier(max_depth=6, min_samples_leaf=2, min_samples_split=10,\n",
              "                       random_state=100)"
            ]
          },
          "metadata": {},
          "execution_count": 421
        }
      ]
    },
    {
      "cell_type": "code",
      "source": [
        "y_predict_dectree_test = dectree.predict(x_test)"
      ],
      "metadata": {
        "id": "t3hdXe__m8FG"
      },
      "execution_count": null,
      "outputs": []
    },
    {
      "cell_type": "code",
      "source": [
        "y_predict_dectree_train = dectree.predict(x_train)"
      ],
      "metadata": {
        "id": "SIrGPqzLn5ES"
      },
      "execution_count": null,
      "outputs": []
    },
    {
      "cell_type": "code",
      "source": [
        "acc_dectree_test = accuracy_score(y_test,y_predict_dectree_test)\n",
        "acc_dectree_test"
      ],
      "metadata": {
        "colab": {
          "base_uri": "https://localhost:8080/"
        },
        "id": "r-jsxgKmm8C4",
        "outputId": "f1d53ce6-8e58-4ad1-d045-d3dc4d6cb841"
      },
      "execution_count": null,
      "outputs": [
        {
          "output_type": "execute_result",
          "data": {
            "text/plain": [
              "0.89075"
            ]
          },
          "metadata": {},
          "execution_count": 473
        }
      ]
    },
    {
      "cell_type": "code",
      "source": [
        "acc_dectree_train = accuracy_score(y_train,y_predict_dectree_train)\n",
        "acc_dectree_train"
      ],
      "metadata": {
        "colab": {
          "base_uri": "https://localhost:8080/"
        },
        "id": "wwkNU7LdhC3P",
        "outputId": "1ab6c6b9-339e-4fbb-f792-ba5a57fc753c"
      },
      "execution_count": null,
      "outputs": [
        {
          "output_type": "execute_result",
          "data": {
            "text/plain": [
              "0.9000625"
            ]
          },
          "metadata": {},
          "execution_count": 474
        }
      ]
    },
    {
      "cell_type": "code",
      "source": [
        "fig, ax = plt.subplots(figsize=(20, 10))\n",
        "feature_imp = pd.DataFrame(sorted(zip(dectree.feature_importances_,x_train.columns)), columns=['Value','Feature'])\n",
        "feature_imp = feature_imp.sort_values('Value',ascending=False).reset_index(drop=True)\n",
        "feature_imp_smpl = feature_imp.iloc[:20,:]\n",
        "ax = sns.barplot(x=\"Value\", y=\"Feature\", data=feature_imp_smpl)"
      ],
      "metadata": {
        "colab": {
          "base_uri": "https://localhost:8080/",
          "height": 492
        },
        "id": "_rdu571JoCfw",
        "outputId": "41927049-b44e-446a-f2d3-2d930a2690c8"
      },
      "execution_count": null,
      "outputs": [
        {
          "output_type": "display_data",
          "data": {
            "text/plain": [
              "<Figure size 1440x720 with 1 Axes>"
            ],
            "image/png": "[encoded data removed]"
          },
          "metadata": {
            "needs_background": "light"
          }
        }
      ]
    },
    {
      "cell_type": "code",
      "source": [],
      "metadata": {
        "id": "_BXAZkAaoHXv"
      },
      "execution_count": null,
      "outputs": []
    },
    {
      "cell_type": "code",
      "source": [
        "y_hat_hack_proba_dt = dectree.predict_proba(full_data_test.drop(['session_id','bouncerates'],axis=1))[: ][: , 1]\n",
        "hack_temp_dt= full_data_test[['session_id']].copy()"
      ],
      "metadata": {
        "id": "VOS4QKiiqVcc"
      },
      "execution_count": null,
      "outputs": []
    },
    {
      "cell_type": "code",
      "source": [
        "hack_temp_dt.reset_index(drop = True, inplace = True)"
      ],
      "metadata": {
        "id": "116eVs8NqVce"
      },
      "execution_count": null,
      "outputs": []
    },
    {
      "cell_type": "code",
      "source": [
        "hack_probs_dt = pd.concat([hack_temp_dt, pd.DataFrame(y_hat_hack_proba_dt)], axis = 1)"
      ],
      "metadata": {
        "id": "1CTx4ez9qVce"
      },
      "execution_count": null,
      "outputs": []
    },
    {
      "cell_type": "code",
      "source": [
        "hack_probs_dt.columns = ['session_id','probs']"
      ],
      "metadata": {
        "id": "kYybcFgZqVcf"
      },
      "execution_count": null,
      "outputs": []
    },
    {
      "cell_type": "code",
      "source": [
        "hack_probs_dt['revenue'] = np.where(hack_probs_dt['probs']>0.5,1,0)"
      ],
      "metadata": {
        "id": "ewJrXLTbqVch"
      },
      "execution_count": null,
      "outputs": []
    },
    {
      "cell_type": "code",
      "source": [
        "hack_probs['probs'].describe()"
      ],
      "metadata": {
        "colab": {
          "base_uri": "https://localhost:8080/"
        },
        "outputId": "fdbd637e-11f6-4d05-8203-842cab368703",
        "id": "neCbBU41qVch"
      },
      "execution_count": null,
      "outputs": [
        {
          "output_type": "execute_result",
          "data": {
            "text/plain": [
              "count    10000.000000\n",
              "mean         0.158262\n",
              "std          0.219796\n",
              "min          0.001678\n",
              "25%          0.038863\n",
              "50%          0.072298\n",
              "75%          0.162043\n",
              "max          0.997723\n",
              "Name: probs, dtype: float64"
            ]
          },
          "metadata": {},
          "execution_count": 445
        }
      ]
    },
    {
      "cell_type": "code",
      "source": [
        "hack_probs_dt.drop('probs',axis=1).to_csv('submission_2_dt.csv',index=False)"
      ],
      "metadata": {
        "id": "Vy0nt4kYqVci"
      },
      "execution_count": null,
      "outputs": []
    },
    {
      "cell_type": "code",
      "source": [
        "hack_probs_dt.drop('probs',axis=1).head()"
      ],
      "metadata": {
        "colab": {
          "base_uri": "https://localhost:8080/",
          "height": 206
        },
        "outputId": "5fed35c0-00ba-4532-cab5-3046b7691f86",
        "id": "DxN9MnZsqVcj"
      },
      "execution_count": null,
      "outputs": [
        {
          "output_type": "execute_result",
          "data": {
            "text/plain": [
              "   session_id  revenue\n",
              "0      283149        0\n",
              "1      253020        0\n",
              "2      348435        0\n",
              "3      299763        0\n",
              "4      195120        0"
            ],
            "text/html": [
              "\n",
              "  <div id=\"df-78206726-e3bd-4224-a8ea-09eb45e0f1e9\">\n",
              "    <div class=\"colab-df-container\">\n",
              "      <div>\n",
              "<style scoped>\n",
              "    .dataframe tbody tr th:only-of-type {\n",
              "        vertical-align: middle;\n",
              "    }\n",
              "\n",
              "    .dataframe tbody tr th {\n",
              "        vertical-align: top;\n",
              "    }\n",
              "\n",
              "    .dataframe thead th {\n",
              "        text-align: right;\n",
              "    }\n",
              "</style>\n",
              "<table border=\"1\" class=\"dataframe\">\n",
              "  <thead>\n",
              "    <tr style=\"text-align: right;\">\n",
              "      <th></th>\n",
              "      <th>session_id</th>\n",
              "      <th>revenue</th>\n",
              "    </tr>\n",
              "  </thead>\n",
              "  <tbody>\n",
              "    <tr>\n",
              "      <th>0</th>\n",
              "      <td>283149</td>\n",
              "      <td>0</td>\n",
              "    </tr>\n",
              "    <tr>\n",
              "      <th>1</th>\n",
              "      <td>253020</td>\n",
              "      <td>0</td>\n",
              "    </tr>\n",
              "    <tr>\n",
              "      <th>2</th>\n",
              "      <td>348435</td>\n",
              "      <td>0</td>\n",
              "    </tr>\n",
              "    <tr>\n",
              "      <th>3</th>\n",
              "      <td>299763</td>\n",
              "      <td>0</td>\n",
              "    </tr>\n",
              "    <tr>\n",
              "      <th>4</th>\n",
              "      <td>195120</td>\n",
              "      <td>0</td>\n",
              "    </tr>\n",
              "  </tbody>\n",
              "</table>\n",
              "</div>\n",
              "      <button class=\"colab-df-convert\" onclick=\"convertToInteractive('df-78206726-e3bd-4224-a8ea-09eb45e0f1e9')\"\n",
              "              title=\"Convert this dataframe to an interactive table.\"\n",
              "              style=\"display:none;\">\n",
              "        \n",
              "  <svg xmlns=\"http://www.w3.org/2000/svg\" height=\"24px\"viewBox=\"0 0 24 24\"\n",
              "       width=\"24px\">\n",
              "    <path d=\"M0 0h24v24H0V0z\" fill=\"none\"/>\n",
              "    <path d=\"M18.56 5.44l.94 2.06.94-2.06 2.06-.94-2.06-.94-.94-2.06-.94 2.06-2.06.94zm-11 1L8.5 8.5l.94-2.06 2.06-.94-2.06-.94L8.5 2.5l-.94 2.06-2.06.94zm10 10l.94 2.06.94-2.06 2.06-.94-2.06-.94-.94-2.06-.94 2.06-2.06.94z\"/><path d=\"M17.41 7.96l-1.37-1.37c-.4-.4-.92-.59-1.43-.59-.52 0-1.04.2-1.43.59L10.3 9.45l-7.72 7.72c-.78.78-.78 2.05 0 2.83L4 21.41c.39.39.9.59 1.41.59.51 0 1.02-.2 1.41-.59l7.78-7.78 2.81-2.81c.8-.78.8-2.07 0-2.86zM5.41 20L4 18.59l7.72-7.72 1.47 1.35L5.41 20z\"/>\n",
              "  </svg>\n",
              "      </button>\n",
              "      \n",
              "  <style>\n",
              "    .colab-df-container {\n",
              "      display:flex;\n",
              "      flex-wrap:wrap;\n",
              "      gap: 12px;\n",
              "    }\n",
              "\n",
              "    .colab-df-convert {\n",
              "      background-color: #E8F0FE;\n",
              "      border: none;\n",
              "      border-radius: 50%;\n",
              "      cursor: pointer;\n",
              "      display: none;\n",
              "      fill: #1967D2;\n",
              "      height: 32px;\n",
              "      padding: 0 0 0 0;\n",
              "      width: 32px;\n",
              "    }\n",
              "\n",
              "    .colab-df-convert:hover {\n",
              "      background-color: #E2EBFA;\n",
              "      box-shadow: 0px 1px 2px rgba(60, 64, 67, 0.3), 0px 1px 3px 1px rgba(60, 64, 67, 0.15);\n",
              "      fill: #174EA6;\n",
              "    }\n",
              "\n",
              "    [theme=dark] .colab-df-convert {\n",
              "      background-color: #3B4455;\n",
              "      fill: #D2E3FC;\n",
              "    }\n",
              "\n",
              "    [theme=dark] .colab-df-convert:hover {\n",
              "      background-color: #434B5C;\n",
              "      box-shadow: 0px 1px 3px 1px rgba(0, 0, 0, 0.15);\n",
              "      filter: drop-shadow(0px 1px 2px rgba(0, 0, 0, 0.3));\n",
              "      fill: #FFFFFF;\n",
              "    }\n",
              "  </style>\n",
              "\n",
              "      <script>\n",
              "        const buttonEl =\n",
              "          document.querySelector('#df-78206726-e3bd-4224-a8ea-09eb45e0f1e9 button.colab-df-convert');\n",
              "        buttonEl.style.display =\n",
              "          google.colab.kernel.accessAllowed ? 'block' : 'none';\n",
              "\n",
              "        async function convertToInteractive(key) {\n",
              "          const element = document.querySelector('#df-78206726-e3bd-4224-a8ea-09eb45e0f1e9');\n",
              "          const dataTable =\n",
              "            await google.colab.kernel.invokeFunction('convertToInteractive',\n",
              "                                                     [key], {});\n",
              "          if (!dataTable) return;\n",
              "\n",
              "          const docLinkHtml = 'Like what you see? Visit the ' +\n",
              "            '<a target=\"_blank\" href=https://colab.research.google.com/notebooks/data_table.ipynb>data table notebook</a>'\n",
              "            + ' to learn more about interactive tables.';\n",
              "          element.innerHTML = '';\n",
              "          dataTable['output_type'] = 'display_data';\n",
              "          await google.colab.output.renderOutput(dataTable, element);\n",
              "          const docLink = document.createElement('div');\n",
              "          docLink.innerHTML = docLinkHtml;\n",
              "          element.appendChild(docLink);\n",
              "        }\n",
              "      </script>\n",
              "    </div>\n",
              "  </div>\n",
              "  "
            ]
          },
          "metadata": {},
          "execution_count": 447
        }
      ]
    },
    {
      "cell_type": "code",
      "source": [
        "hack_probs_dt['revenue'].value_counts()"
      ],
      "metadata": {
        "colab": {
          "base_uri": "https://localhost:8080/"
        },
        "outputId": "b08d93f1-6f51-4b4d-ffba-dacdc9044e7f",
        "id": "0LYpQTYiqVck"
      },
      "execution_count": null,
      "outputs": [
        {
          "output_type": "execute_result",
          "data": {
            "text/plain": [
              "0    8762\n",
              "1    1238\n",
              "Name: revenue, dtype: int64"
            ]
          },
          "metadata": {},
          "execution_count": 448
        }
      ]
    },
    {
      "cell_type": "markdown",
      "source": [
        "## SVM pred"
      ],
      "metadata": {
        "id": "WIkKWtaIrPw8"
      }
    },
    {
      "cell_type": "code",
      "source": [
        "from sklearn.svm import SVC"
      ],
      "metadata": {
        "id": "jI6n4JugrPhf"
      },
      "execution_count": null,
      "outputs": []
    },
    {
      "cell_type": "code",
      "source": [
        "svc = SVC()\n",
        "svc.fit(x_train,y_train)"
      ],
      "metadata": {
        "colab": {
          "base_uri": "https://localhost:8080/"
        },
        "id": "0sqckR28rPfT",
        "outputId": "f2712fc1-d072-40f0-aa5c-da13378382d0"
      },
      "execution_count": null,
      "outputs": [
        {
          "output_type": "stream",
          "name": "stderr",
          "text": [
            "/usr/local/lib/python3.7/dist-packages/sklearn/utils/validation.py:993: DataConversionWarning: A column-vector y was passed when a 1d array was expected. Please change the shape of y to (n_samples, ), for example using ravel().\n",
            "  y = column_or_1d(y, warn=True)\n"
          ]
        },
        {
          "output_type": "execute_result",
          "data": {
            "text/plain": [
              "SVC()"
            ]
          },
          "metadata": {},
          "execution_count": 457
        }
      ]
    },
    {
      "cell_type": "code",
      "source": [
        "\n",
        "\n",
        "pred_train_svc_1 = svc.predict(x_train)\n",
        "pred_test_svc_1 = svc.predict(x_test)\n",
        "# pred_prob_train_svc_1 = svc.predict_proba(x_train)[:1]\n",
        "# pred_prob_test_svc_1 = svc.predict_proba(x_test)[:1]\n",
        "\n"
      ],
      "metadata": {
        "id": "mL6Q53FzrPc1"
      },
      "execution_count": null,
      "outputs": []
    },
    {
      "cell_type": "code",
      "source": [
        "\n",
        "\n",
        "accuracy_train_svc_1 = accuracy_score(pred_train_svc_1,y_train)\n",
        "accuracy_test_svc_1 = accuracy_score(pred_test_svc_1,y_test)\n",
        "\n",
        "confusion_svc_1_train = metrics.confusion_matrix(y_train, pred_train_svc_1)\n",
        "confusion_LG_1_test = metrics.confusion_matrix(y_test, pred_test_svc_1)\n",
        "\n",
        "print('accuracy_train_svc_1: {}'.format(accuracy_train_svc_1))\n",
        "print('accuracy_test_svc_1: {}'.format(accuracy_test_svc_1))\n",
        "\n",
        "\n",
        "print('\\nconfusion_svc_1_train: \\n{}'.format(confusion_svc_1_train))\n",
        "print('\\nconfusion_LG_1_test: \\n{}'.format(confusion_LG_1_test))\n",
        "\n"
      ],
      "metadata": {
        "colab": {
          "base_uri": "https://localhost:8080/"
        },
        "id": "EETfmTbYrPaK",
        "outputId": "ebf3c648-d80e-46ea-9c42-75d5a11b0dfb"
      },
      "execution_count": null,
      "outputs": [
        {
          "output_type": "stream",
          "name": "stdout",
          "text": [
            "accuracy_train_svc_1: 0.9020625\n",
            "accuracy_test_svc_1: 0.885625\n",
            "\n",
            "confusion_svc_1_train: \n",
            "[[25910  1025]\n",
            " [ 2109  2956]]\n",
            "\n",
            "confusion_LG_1_test: \n",
            "[[6423  311]\n",
            " [ 604  662]]\n"
          ]
        }
      ]
    },
    {
      "cell_type": "code",
      "source": [],
      "metadata": {
        "id": "BD15CpjsrPOp"
      },
      "execution_count": null,
      "outputs": []
    },
    {
      "cell_type": "code",
      "source": [],
      "metadata": {
        "id": "6wO7gAS6q03T"
      },
      "execution_count": null,
      "outputs": []
    }
  ]
}