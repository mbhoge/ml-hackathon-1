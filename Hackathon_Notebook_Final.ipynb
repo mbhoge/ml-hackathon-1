{
  "nbformat": 4,
  "nbformat_minor": 0,
  "metadata": {
    "colab": {
      "provenance": [],
      "collapsed_sections": []
    },
    "kernelspec": {
      "name": "python3",
      "display_name": "Python 3"
    },
    "language_info": {
      "name": "python"
    }
  },
  "cells": [
    {
      "cell_type": "markdown",
      "source": [
        "# Library installation"
      ],
      "metadata": {
        "id": "QScdrhbejBHI"
      }
    },
    {
      "cell_type": "code",
      "source": [
        "import pandas as pd\n",
        "import numpy as np\n",
        "# from sklearn.linear_model import LinearRegression\n",
        "# from sklearn.metrics import mean_squared_error, r2_score\n",
        "import matplotlib.pyplot as plt\n",
        "%matplotlib inline\n",
        "from pandas.plotting import scatter_matrix\n",
        "import seaborn as sns"
      ],
      "metadata": {
        "id": "QQ-GQFPyiFFP"
      },
      "execution_count": null,
      "outputs": []
    },
    {
      "cell_type": "code",
      "source": [
        "import os"
      ],
      "metadata": {
        "id": "ErzvIq_6iE-8"
      },
      "execution_count": null,
      "outputs": []
    },
    {
      "cell_type": "markdown",
      "source": [
        "# Data pull"
      ],
      "metadata": {
        "id": "o3LFrNDwjdKj"
      }
    },
    {
      "cell_type": "code",
      "source": [
        "from google.colab import drive \n",
        "drive.mount('/content/drive')"
      ],
      "metadata": {
        "id": "G-1zyp4WiE7x",
        "colab": {
          "base_uri": "https://localhost:8080/"
        },
        "outputId": "f5d3de02-16c4-4c70-9632-b17997f6e72b"
      },
      "execution_count": null,
      "outputs": [
        {
          "output_type": "stream",
          "name": "stdout",
          "text": [
            "Mounted at /content/drive\n"
          ]
        }
      ]
    },
    {
      "cell_type": "code",
      "source": [
        "!ls"
      ],
      "metadata": {
        "id": "RJe1sB8-h4JW",
        "colab": {
          "base_uri": "https://localhost:8080/"
        },
        "outputId": "c6b2ab81-6a56-4da5-f26f-652348daf32f"
      },
      "execution_count": null,
      "outputs": [
        {
          "output_type": "stream",
          "name": "stdout",
          "text": [
            "drive  sample_data\n"
          ]
        }
      ]
    },
    {
      "cell_type": "code",
      "source": [
        "os.listdir('/content/drive/MyDrive/Hackathon_nov22')"
      ],
      "metadata": {
        "colab": {
          "base_uri": "https://localhost:8080/"
        },
        "id": "snqSbBPIjnbe",
        "outputId": "f725c534-1791-4d1d-f915-81f7685ff5ae"
      },
      "execution_count": null,
      "outputs": [
        {
          "output_type": "execute_result",
          "data": {
            "text/plain": [
              "['ecommerce_train.csv', 'ecommerce_test.csv']"
            ]
          },
          "metadata": {},
          "execution_count": 5
        }
      ]
    },
    {
      "cell_type": "code",
      "source": [
        "os.chdir('/content/drive/MyDrive/Hackathon_nov22')"
      ],
      "metadata": {
        "id": "klabfWEojnX_"
      },
      "execution_count": null,
      "outputs": []
    },
    {
      "cell_type": "code",
      "source": [
        "df_dev = pd.read_csv('ecommerce_train.csv')"
      ],
      "metadata": {
        "id": "3xzTLUTNjnVJ"
      },
      "execution_count": null,
      "outputs": []
    },
    {
      "cell_type": "code",
      "source": [
        "df_test = pd.read_csv('ecommerce_test.csv')"
      ],
      "metadata": {
        "id": "oNaHyHg5jnRl"
      },
      "execution_count": null,
      "outputs": []
    },
    {
      "cell_type": "code",
      "source": [
        "print(\"Number of records in Train : \",df_dev.shape[0])\n",
        "print(\"Number of features in Train : \",df_dev.shape[1])"
      ],
      "metadata": {
        "colab": {
          "base_uri": "https://localhost:8080/"
        },
        "id": "3J_PKI7keJM3",
        "outputId": "effa925f-cb14-4da2-94cb-7dfdce5f6cf9"
      },
      "execution_count": null,
      "outputs": [
        {
          "output_type": "stream",
          "name": "stdout",
          "text": [
            "Number of records in Train :  40000\n",
            "Number of features in Train :  19\n"
          ]
        }
      ]
    },
    {
      "cell_type": "code",
      "source": [
        "print(\"Number of records in Test : \",df_test.shape[0])\n",
        "print(\"Number of features in Test : \",df_test.shape[1])"
      ],
      "metadata": {
        "colab": {
          "base_uri": "https://localhost:8080/"
        },
        "id": "66jS4tYAeQxE",
        "outputId": "bc8ff50b-022d-42db-cc96-7becc86646c3"
      },
      "execution_count": null,
      "outputs": [
        {
          "output_type": "stream",
          "name": "stdout",
          "text": [
            "Number of records in Test :  10000\n",
            "Number of features in Test :  18\n"
          ]
        }
      ]
    },
    {
      "cell_type": "code",
      "source": [
        "df_dev.info()"
      ],
      "metadata": {
        "colab": {
          "base_uri": "https://localhost:8080/"
        },
        "id": "hvsWHsGRa18F",
        "outputId": "5dcd4af3-1b72-4450-87c3-067a77d1789a"
      },
      "execution_count": null,
      "outputs": [
        {
          "output_type": "stream",
          "name": "stdout",
          "text": [
            "<class 'pandas.core.frame.DataFrame'>\n",
            "RangeIndex: 40000 entries, 0 to 39999\n",
            "Data columns (total 19 columns):\n",
            " #   Column                   Non-Null Count  Dtype  \n",
            "---  ------                   --------------  -----  \n",
            " 0   session_id               40000 non-null  int64  \n",
            " 1   administrative           40000 non-null  int64  \n",
            " 2   administrative_duration  40000 non-null  float64\n",
            " 3   informational            40000 non-null  int64  \n",
            " 4   informational_duration   40000 non-null  float64\n",
            " 5   productrelated           40000 non-null  int64  \n",
            " 6   productrelated_duration  40000 non-null  float64\n",
            " 7   bouncerates              40000 non-null  float64\n",
            " 8   exitrates                40000 non-null  float64\n",
            " 9   pagevalues               40000 non-null  float64\n",
            " 10  specialday               40000 non-null  float64\n",
            " 11  month                    40000 non-null  object \n",
            " 12  operatingsystems         40000 non-null  object \n",
            " 13  browser                  40000 non-null  object \n",
            " 14  region                   40000 non-null  int64  \n",
            " 15  traffictype              40000 non-null  object \n",
            " 16  visitortype              40000 non-null  object \n",
            " 17  weekend                  40000 non-null  bool   \n",
            " 18  revenue                  40000 non-null  int64  \n",
            "dtypes: bool(1), float64(7), int64(6), object(5)\n",
            "memory usage: 5.5+ MB\n"
          ]
        }
      ]
    },
    {
      "cell_type": "markdown",
      "source": [
        "# EDA "
      ],
      "metadata": {
        "id": "VDw4jyh9jwM5"
      }
    },
    {
      "cell_type": "code",
      "source": [
        "df_dev.drop('session_id',axis=1).describe().T"
      ],
      "metadata": {
        "colab": {
          "base_uri": "https://localhost:8080/",
          "height": 425
        },
        "id": "_IAX2lwHcbaE",
        "outputId": "265380c7-5678-4017-8980-a1bbcbed3ff7"
      },
      "execution_count": null,
      "outputs": [
        {
          "output_type": "execute_result",
          "data": {
            "text/plain": [
              "                           count         mean          std  min         25%  \\\n",
              "administrative           40000.0     2.544150     3.667252  0.0    0.000000   \n",
              "administrative_duration  40000.0    89.794383   182.964645  0.0    0.000000   \n",
              "informational            40000.0     0.555225     1.332627  0.0    0.000000   \n",
              "informational_duration   40000.0    40.977236   153.114387  0.0    0.000000   \n",
              "productrelated           40000.0    34.026975    46.798102  0.0    7.000000   \n",
              "productrelated_duration  40000.0  1148.105672  1666.181462  0.0  183.883333   \n",
              "bouncerates              40000.0     0.021969     0.048533  0.0    0.000000   \n",
              "exitrates                40000.0     0.042307     0.048633  0.0    0.013389   \n",
              "pagevalues               40000.0     6.494963    17.710646  0.0    0.000000   \n",
              "specialday               40000.0     0.063552     0.199463  0.0    0.000000   \n",
              "region                   40000.0     3.241975     2.423586  1.0    1.000000   \n",
              "revenue                  40000.0     0.158275     0.365003  0.0    0.000000   \n",
              "\n",
              "                                50%          75%           max  \n",
              "administrative             1.000000     4.000000     22.000000  \n",
              "administrative_duration   11.200000   110.154167   1946.000000  \n",
              "informational              0.000000     0.000000     11.000000  \n",
              "informational_duration     0.000000     0.000000   1767.666667  \n",
              "productrelated            19.000000    41.000000    440.000000  \n",
              "productrelated_duration  560.075000  1420.536667  18504.126210  \n",
              "bouncerates                0.003304     0.016667      0.200000  \n",
              "exitrates                  0.025000     0.050000      0.200000  \n",
              "pagevalues                 0.000000     0.000000    226.677702  \n",
              "specialday                 0.000000     0.000000      1.000000  \n",
              "region                     3.000000     4.000000      9.000000  \n",
              "revenue                    0.000000     0.000000      1.000000  "
            ],
            "text/html": [
              "\n",
              "  <div id=\"df-c8d5d740-34ed-412e-91cf-7ce349f21288\">\n",
              "    <div class=\"colab-df-container\">\n",
              "      <div>\n",
              "<style scoped>\n",
              "    .dataframe tbody tr th:only-of-type {\n",
              "        vertical-align: middle;\n",
              "    }\n",
              "\n",
              "    .dataframe tbody tr th {\n",
              "        vertical-align: top;\n",
              "    }\n",
              "\n",
              "    .dataframe thead th {\n",
              "        text-align: right;\n",
              "    }\n",
              "</style>\n",
              "<table border=\"1\" class=\"dataframe\">\n",
              "  <thead>\n",
              "    <tr style=\"text-align: right;\">\n",
              "      <th></th>\n",
              "      <th>count</th>\n",
              "      <th>mean</th>\n",
              "      <th>std</th>\n",
              "      <th>min</th>\n",
              "      <th>25%</th>\n",
              "      <th>50%</th>\n",
              "      <th>75%</th>\n",
              "      <th>max</th>\n",
              "    </tr>\n",
              "  </thead>\n",
              "  <tbody>\n",
              "    <tr>\n",
              "      <th>administrative</th>\n",
              "      <td>40000.0</td>\n",
              "      <td>2.544150</td>\n",
              "      <td>3.667252</td>\n",
              "      <td>0.0</td>\n",
              "      <td>0.000000</td>\n",
              "      <td>1.000000</td>\n",
              "      <td>4.000000</td>\n",
              "      <td>22.000000</td>\n",
              "    </tr>\n",
              "    <tr>\n",
              "      <th>administrative_duration</th>\n",
              "      <td>40000.0</td>\n",
              "      <td>89.794383</td>\n",
              "      <td>182.964645</td>\n",
              "      <td>0.0</td>\n",
              "      <td>0.000000</td>\n",
              "      <td>11.200000</td>\n",
              "      <td>110.154167</td>\n",
              "      <td>1946.000000</td>\n",
              "    </tr>\n",
              "    <tr>\n",
              "      <th>informational</th>\n",
              "      <td>40000.0</td>\n",
              "      <td>0.555225</td>\n",
              "      <td>1.332627</td>\n",
              "      <td>0.0</td>\n",
              "      <td>0.000000</td>\n",
              "      <td>0.000000</td>\n",
              "      <td>0.000000</td>\n",
              "      <td>11.000000</td>\n",
              "    </tr>\n",
              "    <tr>\n",
              "      <th>informational_duration</th>\n",
              "      <td>40000.0</td>\n",
              "      <td>40.977236</td>\n",
              "      <td>153.114387</td>\n",
              "      <td>0.0</td>\n",
              "      <td>0.000000</td>\n",
              "      <td>0.000000</td>\n",
              "      <td>0.000000</td>\n",
              "      <td>1767.666667</td>\n",
              "    </tr>\n",
              "    <tr>\n",
              "      <th>productrelated</th>\n",
              "      <td>40000.0</td>\n",
              "      <td>34.026975</td>\n",
              "      <td>46.798102</td>\n",
              "      <td>0.0</td>\n",
              "      <td>7.000000</td>\n",
              "      <td>19.000000</td>\n",
              "      <td>41.000000</td>\n",
              "      <td>440.000000</td>\n",
              "    </tr>\n",
              "    <tr>\n",
              "      <th>productrelated_duration</th>\n",
              "      <td>40000.0</td>\n",
              "      <td>1148.105672</td>\n",
              "      <td>1666.181462</td>\n",
              "      <td>0.0</td>\n",
              "      <td>183.883333</td>\n",
              "      <td>560.075000</td>\n",
              "      <td>1420.536667</td>\n",
              "      <td>18504.126210</td>\n",
              "    </tr>\n",
              "    <tr>\n",
              "      <th>bouncerates</th>\n",
              "      <td>40000.0</td>\n",
              "      <td>0.021969</td>\n",
              "      <td>0.048533</td>\n",
              "      <td>0.0</td>\n",
              "      <td>0.000000</td>\n",
              "      <td>0.003304</td>\n",
              "      <td>0.016667</td>\n",
              "      <td>0.200000</td>\n",
              "    </tr>\n",
              "    <tr>\n",
              "      <th>exitrates</th>\n",
              "      <td>40000.0</td>\n",
              "      <td>0.042307</td>\n",
              "      <td>0.048633</td>\n",
              "      <td>0.0</td>\n",
              "      <td>0.013389</td>\n",
              "      <td>0.025000</td>\n",
              "      <td>0.050000</td>\n",
              "      <td>0.200000</td>\n",
              "    </tr>\n",
              "    <tr>\n",
              "      <th>pagevalues</th>\n",
              "      <td>40000.0</td>\n",
              "      <td>6.494963</td>\n",
              "      <td>17.710646</td>\n",
              "      <td>0.0</td>\n",
              "      <td>0.000000</td>\n",
              "      <td>0.000000</td>\n",
              "      <td>0.000000</td>\n",
              "      <td>226.677702</td>\n",
              "    </tr>\n",
              "    <tr>\n",
              "      <th>specialday</th>\n",
              "      <td>40000.0</td>\n",
              "      <td>0.063552</td>\n",
              "      <td>0.199463</td>\n",
              "      <td>0.0</td>\n",
              "      <td>0.000000</td>\n",
              "      <td>0.000000</td>\n",
              "      <td>0.000000</td>\n",
              "      <td>1.000000</td>\n",
              "    </tr>\n",
              "    <tr>\n",
              "      <th>region</th>\n",
              "      <td>40000.0</td>\n",
              "      <td>3.241975</td>\n",
              "      <td>2.423586</td>\n",
              "      <td>1.0</td>\n",
              "      <td>1.000000</td>\n",
              "      <td>3.000000</td>\n",
              "      <td>4.000000</td>\n",
              "      <td>9.000000</td>\n",
              "    </tr>\n",
              "    <tr>\n",
              "      <th>revenue</th>\n",
              "      <td>40000.0</td>\n",
              "      <td>0.158275</td>\n",
              "      <td>0.365003</td>\n",
              "      <td>0.0</td>\n",
              "      <td>0.000000</td>\n",
              "      <td>0.000000</td>\n",
              "      <td>0.000000</td>\n",
              "      <td>1.000000</td>\n",
              "    </tr>\n",
              "  </tbody>\n",
              "</table>\n",
              "</div>\n",
              "      <button class=\"colab-df-convert\" onclick=\"convertToInteractive('df-c8d5d740-34ed-412e-91cf-7ce349f21288')\"\n",
              "              title=\"Convert this dataframe to an interactive table.\"\n",
              "              style=\"display:none;\">\n",
              "        \n",
              "  <svg xmlns=\"http://www.w3.org/2000/svg\" height=\"24px\"viewBox=\"0 0 24 24\"\n",
              "       width=\"24px\">\n",
              "    <path d=\"M0 0h24v24H0V0z\" fill=\"none\"/>\n",
              "    <path d=\"M18.56 5.44l.94 2.06.94-2.06 2.06-.94-2.06-.94-.94-2.06-.94 2.06-2.06.94zm-11 1L8.5 8.5l.94-2.06 2.06-.94-2.06-.94L8.5 2.5l-.94 2.06-2.06.94zm10 10l.94 2.06.94-2.06 2.06-.94-2.06-.94-.94-2.06-.94 2.06-2.06.94z\"/><path d=\"M17.41 7.96l-1.37-1.37c-.4-.4-.92-.59-1.43-.59-.52 0-1.04.2-1.43.59L10.3 9.45l-7.72 7.72c-.78.78-.78 2.05 0 2.83L4 21.41c.39.39.9.59 1.41.59.51 0 1.02-.2 1.41-.59l7.78-7.78 2.81-2.81c.8-.78.8-2.07 0-2.86zM5.41 20L4 18.59l7.72-7.72 1.47 1.35L5.41 20z\"/>\n",
              "  </svg>\n",
              "      </button>\n",
              "      \n",
              "  <style>\n",
              "    .colab-df-container {\n",
              "      display:flex;\n",
              "      flex-wrap:wrap;\n",
              "      gap: 12px;\n",
              "    }\n",
              "\n",
              "    .colab-df-convert {\n",
              "      background-color: #E8F0FE;\n",
              "      border: none;\n",
              "      border-radius: 50%;\n",
              "      cursor: pointer;\n",
              "      display: none;\n",
              "      fill: #1967D2;\n",
              "      height: 32px;\n",
              "      padding: 0 0 0 0;\n",
              "      width: 32px;\n",
              "    }\n",
              "\n",
              "    .colab-df-convert:hover {\n",
              "      background-color: #E2EBFA;\n",
              "      box-shadow: 0px 1px 2px rgba(60, 64, 67, 0.3), 0px 1px 3px 1px rgba(60, 64, 67, 0.15);\n",
              "      fill: #174EA6;\n",
              "    }\n",
              "\n",
              "    [theme=dark] .colab-df-convert {\n",
              "      background-color: #3B4455;\n",
              "      fill: #D2E3FC;\n",
              "    }\n",
              "\n",
              "    [theme=dark] .colab-df-convert:hover {\n",
              "      background-color: #434B5C;\n",
              "      box-shadow: 0px 1px 3px 1px rgba(0, 0, 0, 0.15);\n",
              "      filter: drop-shadow(0px 1px 2px rgba(0, 0, 0, 0.3));\n",
              "      fill: #FFFFFF;\n",
              "    }\n",
              "  </style>\n",
              "\n",
              "      <script>\n",
              "        const buttonEl =\n",
              "          document.querySelector('#df-c8d5d740-34ed-412e-91cf-7ce349f21288 button.colab-df-convert');\n",
              "        buttonEl.style.display =\n",
              "          google.colab.kernel.accessAllowed ? 'block' : 'none';\n",
              "\n",
              "        async function convertToInteractive(key) {\n",
              "          const element = document.querySelector('#df-c8d5d740-34ed-412e-91cf-7ce349f21288');\n",
              "          const dataTable =\n",
              "            await google.colab.kernel.invokeFunction('convertToInteractive',\n",
              "                                                     [key], {});\n",
              "          if (!dataTable) return;\n",
              "\n",
              "          const docLinkHtml = 'Like what you see? Visit the ' +\n",
              "            '<a target=\"_blank\" href=https://colab.research.google.com/notebooks/data_table.ipynb>data table notebook</a>'\n",
              "            + ' to learn more about interactive tables.';\n",
              "          element.innerHTML = '';\n",
              "          dataTable['output_type'] = 'display_data';\n",
              "          await google.colab.output.renderOutput(dataTable, element);\n",
              "          const docLink = document.createElement('div');\n",
              "          docLink.innerHTML = docLinkHtml;\n",
              "          element.appendChild(docLink);\n",
              "        }\n",
              "      </script>\n",
              "    </div>\n",
              "  </div>\n",
              "  "
            ]
          },
          "metadata": {},
          "execution_count": 18
        }
      ]
    },
    {
      "cell_type": "code",
      "source": [],
      "metadata": {
        "id": "AyyxQHlncbHJ"
      },
      "execution_count": null,
      "outputs": []
    },
    {
      "cell_type": "code",
      "source": [],
      "metadata": {
        "id": "_9usD3TScbDy"
      },
      "execution_count": null,
      "outputs": []
    },
    {
      "cell_type": "markdown",
      "source": [
        "##### *Separate categorical and numeric columns*"
      ],
      "metadata": {
        "id": "1KeeaZ8qbGj5"
      }
    },
    {
      "cell_type": "code",
      "source": [
        "# isolating the continuous variables \n",
        "num_var_list = list(df_dev.drop(['session_id'],axis=1).select_dtypes(exclude=['object']).drop(['revenue'],axis = 1).columns.values)\n",
        "num_var_list"
      ],
      "metadata": {
        "id": "8vN7f3NrjnO9",
        "colab": {
          "base_uri": "https://localhost:8080/"
        },
        "outputId": "31fae394-dd13-4e17-8bba-3eb5be73c292"
      },
      "execution_count": null,
      "outputs": [
        {
          "output_type": "execute_result",
          "data": {
            "text/plain": [
              "['administrative',\n",
              " 'administrative_duration',\n",
              " 'informational',\n",
              " 'informational_duration',\n",
              " 'productrelated',\n",
              " 'productrelated_duration',\n",
              " 'bouncerates',\n",
              " 'exitrates',\n",
              " 'pagevalues',\n",
              " 'specialday',\n",
              " 'region',\n",
              " 'weekend']"
            ]
          },
          "metadata": {},
          "execution_count": 53
        }
      ]
    },
    {
      "cell_type": "code",
      "source": [
        "# isolating the categorical variables \n",
        "cat_var_list = list(df_dev.drop(['session_id'],axis=1).select_dtypes(include=['object']).columns.values)\n",
        "cat_var_list\n"
      ],
      "metadata": {
        "id": "TYz3GYsdjnMA",
        "colab": {
          "base_uri": "https://localhost:8080/"
        },
        "outputId": "d91fa9c5-447a-449e-ea30-d39a4d96f4b7"
      },
      "execution_count": null,
      "outputs": [
        {
          "output_type": "execute_result",
          "data": {
            "text/plain": [
              "['month', 'operatingsystems', 'browser', 'traffictype', 'visitortype']"
            ]
          },
          "metadata": {},
          "execution_count": 54
        }
      ]
    },
    {
      "cell_type": "code",
      "source": [
        "#Weekend is a boolean format data, it will be converted to one hot encoded var later"
      ],
      "metadata": {
        "id": "iIgc4pGjggWo"
      },
      "execution_count": null,
      "outputs": []
    },
    {
      "cell_type": "markdown",
      "source": [
        "## *Numeric features EDA*"
      ],
      "metadata": {
        "id": "ZgHC-h_UenyR"
      }
    },
    {
      "cell_type": "markdown",
      "source": [
        "##### *Histogram*"
      ],
      "metadata": {
        "id": "RxbgPw-pb0T5"
      }
    },
    {
      "cell_type": "code",
      "source": [
        "df_dev[num_var_list].hist(bins=50, figsize=(12,12))"
      ],
      "metadata": {
        "id": "IA7ZpHd7jnJX",
        "colab": {
          "base_uri": "https://localhost:8080/",
          "height": 946
        },
        "outputId": "d2056448-c1c9-409f-8f0d-ef56751da65f"
      },
      "execution_count": null,
      "outputs": [
        {
          "output_type": "execute_result",
          "data": {
            "text/plain": [
              "array([[<matplotlib.axes._subplots.AxesSubplot object at 0x7f3bf2c50390>,\n",
              "        <matplotlib.axes._subplots.AxesSubplot object at 0x7f3bf8fa2510>,\n",
              "        <matplotlib.axes._subplots.AxesSubplot object at 0x7f3bf3def810>],\n",
              "       [<matplotlib.axes._subplots.AxesSubplot object at 0x7f3bf37daf10>,\n",
              "        <matplotlib.axes._subplots.AxesSubplot object at 0x7f3bf3b6bc50>,\n",
              "        <matplotlib.axes._subplots.AxesSubplot object at 0x7f3bf3bae450>],\n",
              "       [<matplotlib.axes._subplots.AxesSubplot object at 0x7f3bf362ca50>,\n",
              "        <matplotlib.axes._subplots.AxesSubplot object at 0x7f3bf26c5fd0>,\n",
              "        <matplotlib.axes._subplots.AxesSubplot object at 0x7f3bf26c5890>],\n",
              "       [<matplotlib.axes._subplots.AxesSubplot object at 0x7f3bf2416050>,\n",
              "        <matplotlib.axes._subplots.AxesSubplot object at 0x7f3bf28e6310>,\n",
              "        <matplotlib.axes._subplots.AxesSubplot object at 0x7f3bf2fb2910>]],\n",
              "      dtype=object)"
            ]
          },
          "metadata": {},
          "execution_count": 56
        },
        {
          "output_type": "display_data",
          "data": {
            "text/plain": [
              "<Figure size 864x864 with 12 Axes>"
            ],
            "image/png": "[encoded data removed]"
          },
          "metadata": {
            "needs_background": "light"
          }
        }
      ]
    },
    {
      "cell_type": "code",
      "source": [
        "## Region has to be a categorical variable.. to be converted later\n",
        "df_dev.region.value_counts()"
      ],
      "metadata": {
        "id": "Rk113gM6jy_Q",
        "colab": {
          "base_uri": "https://localhost:8080/"
        },
        "outputId": "0874861a-fdd1-4c4a-82bf-2a489eb9c202"
      },
      "execution_count": null,
      "outputs": [
        {
          "output_type": "execute_result",
          "data": {
            "text/plain": [
              "1    14749\n",
              "3     7833\n",
              "4     4046\n",
              "2     3642\n",
              "6     2755\n",
              "7     2523\n",
              "9     1762\n",
              "8     1488\n",
              "5     1202\n",
              "Name: region, dtype: int64"
            ]
          },
          "metadata": {},
          "execution_count": 41
        }
      ]
    },
    {
      "cell_type": "code",
      "source": [
        "## Weekend is in boolean format.. TO be converted to OHE later\n",
        "df_dev.weekend.value_counts()"
      ],
      "metadata": {
        "colab": {
          "base_uri": "https://localhost:8080/"
        },
        "id": "5GDbYhVrhMzJ",
        "outputId": "cae828ea-ef84-4d1d-e28c-b20821b7aade"
      },
      "execution_count": null,
      "outputs": [
        {
          "output_type": "execute_result",
          "data": {
            "text/plain": [
              "False    31053\n",
              "True      8947\n",
              "Name: weekend, dtype: int64"
            ]
          },
          "metadata": {},
          "execution_count": 57
        }
      ]
    },
    {
      "cell_type": "markdown",
      "source": [
        "##### *Correlation Matrix within numeric variables* "
      ],
      "metadata": {
        "id": "xCUDP3BsdOZT"
      }
    },
    {
      "cell_type": "code",
      "source": [
        "ecom_corr_matrix = df_dev.drop(['session_id','revenue'],axis=1).corr()"
      ],
      "metadata": {
        "id": "KMCYEVOLdN5L"
      },
      "execution_count": null,
      "outputs": []
    },
    {
      "cell_type": "code",
      "source": [
        "ecom_corr_matrix\n",
        "\n",
        "# The duration variables are having high correlations (~60%) with the number of hits in respective pages\n",
        "# Bounce rates and exit rates are correlated"
      ],
      "metadata": {
        "colab": {
          "base_uri": "https://localhost:8080/",
          "height": 489
        },
        "id": "21yESO80bzM5",
        "outputId": "d58d43f2-a48f-4f55-f72c-354d9e9d1431"
      },
      "execution_count": null,
      "outputs": [
        {
          "output_type": "execute_result",
          "data": {
            "text/plain": [
              "                         administrative  administrative_duration  \\\n",
              "administrative                 1.000000                 0.584529   \n",
              "administrative_duration        0.584529                 1.000000   \n",
              "informational                  0.391087                 0.280617   \n",
              "informational_duration         0.274090                 0.199530   \n",
              "productrelated                 0.448662                 0.294955   \n",
              "productrelated_duration        0.404032                 0.295905   \n",
              "bouncerates                   -0.216590                -0.151642   \n",
              "exitrates                     -0.305020                -0.211213   \n",
              "pagevalues                     0.111897                 0.078031   \n",
              "specialday                    -0.113679                -0.085400   \n",
              "region                         0.000507                 0.000327   \n",
              "weekend                        0.013816                 0.017291   \n",
              "\n",
              "                         informational  informational_duration  \\\n",
              "administrative                0.391087                0.274090   \n",
              "administrative_duration       0.280617                0.199530   \n",
              "informational                 1.000000                0.580722   \n",
              "informational_duration        0.580722                1.000000   \n",
              "productrelated                0.377596                0.271295   \n",
              "productrelated_duration       0.382680                0.281936   \n",
              "bouncerates                  -0.114288               -0.075931   \n",
              "exitrates                    -0.164321               -0.108674   \n",
              "pagevalues                    0.081242                0.058064   \n",
              "specialday                   -0.063980               -0.036898   \n",
              "region                       -0.023207               -0.012577   \n",
              "weekend                       0.017216                0.015120   \n",
              "\n",
              "                         productrelated  productrelated_duration  bouncerates  \\\n",
              "administrative                 0.448662                 0.404032    -0.216590   \n",
              "administrative_duration        0.294955                 0.295905    -0.151642   \n",
              "informational                  0.377596                 0.382680    -0.114288   \n",
              "informational_duration         0.271295                 0.281936    -0.075931   \n",
              "productrelated                 1.000000                 0.750972    -0.202601   \n",
              "productrelated_duration        0.750972                 1.000000    -0.200532   \n",
              "bouncerates                   -0.202601                -0.200532     1.000000   \n",
              "exitrates                     -0.294378                -0.282332     0.893595   \n",
              "pagevalues                     0.079132                 0.086422    -0.128633   \n",
              "specialday                    -0.047809                -0.048580     0.066774   \n",
              "region                        -0.012477                -0.016108    -0.011816   \n",
              "weekend                       -0.012593                -0.008661    -0.048048   \n",
              "\n",
              "                         exitrates  pagevalues  specialday    region   weekend  \n",
              "administrative           -0.305020    0.111897   -0.113679  0.000507  0.013816  \n",
              "administrative_duration  -0.211213    0.078031   -0.085400  0.000327  0.017291  \n",
              "informational            -0.164321    0.081242   -0.063980 -0.023207  0.017216  \n",
              "informational_duration   -0.108674    0.058064   -0.036898 -0.012577  0.015120  \n",
              "productrelated           -0.294378    0.079132   -0.047809 -0.012477 -0.012593  \n",
              "productrelated_duration  -0.282332    0.086422   -0.048580 -0.016108 -0.008661  \n",
              "bouncerates               0.893595   -0.128633    0.066774 -0.011816 -0.048048  \n",
              "exitrates                 1.000000   -0.171443    0.089374 -0.010686 -0.058484  \n",
              "pagevalues               -0.171443    1.000000   -0.058967 -0.004583  0.009022  \n",
              "specialday                0.089374   -0.058967    1.000000 -0.013882 -0.049480  \n",
              "region                   -0.010686   -0.004583   -0.013882  1.000000 -0.005222  \n",
              "weekend                  -0.058484    0.009022   -0.049480 -0.005222  1.000000  "
            ],
            "text/html": [
              "\n",
              "  <div id=\"df-c66e5544-5c12-4879-8686-0eabe9664e5b\">\n",
              "    <div class=\"colab-df-container\">\n",
              "      <div>\n",
              "<style scoped>\n",
              "    .dataframe tbody tr th:only-of-type {\n",
              "        vertical-align: middle;\n",
              "    }\n",
              "\n",
              "    .dataframe tbody tr th {\n",
              "        vertical-align: top;\n",
              "    }\n",
              "\n",
              "    .dataframe thead th {\n",
              "        text-align: right;\n",
              "    }\n",
              "</style>\n",
              "<table border=\"1\" class=\"dataframe\">\n",
              "  <thead>\n",
              "    <tr style=\"text-align: right;\">\n",
              "      <th></th>\n",
              "      <th>administrative</th>\n",
              "      <th>administrative_duration</th>\n",
              "      <th>informational</th>\n",
              "      <th>informational_duration</th>\n",
              "      <th>productrelated</th>\n",
              "      <th>productrelated_duration</th>\n",
              "      <th>bouncerates</th>\n",
              "      <th>exitrates</th>\n",
              "      <th>pagevalues</th>\n",
              "      <th>specialday</th>\n",
              "      <th>region</th>\n",
              "      <th>weekend</th>\n",
              "    </tr>\n",
              "  </thead>\n",
              "  <tbody>\n",
              "    <tr>\n",
              "      <th>administrative</th>\n",
              "      <td>1.000000</td>\n",
              "      <td>0.584529</td>\n",
              "      <td>0.391087</td>\n",
              "      <td>0.274090</td>\n",
              "      <td>0.448662</td>\n",
              "      <td>0.404032</td>\n",
              "      <td>-0.216590</td>\n",
              "      <td>-0.305020</td>\n",
              "      <td>0.111897</td>\n",
              "      <td>-0.113679</td>\n",
              "      <td>0.000507</td>\n",
              "      <td>0.013816</td>\n",
              "    </tr>\n",
              "    <tr>\n",
              "      <th>administrative_duration</th>\n",
              "      <td>0.584529</td>\n",
              "      <td>1.000000</td>\n",
              "      <td>0.280617</td>\n",
              "      <td>0.199530</td>\n",
              "      <td>0.294955</td>\n",
              "      <td>0.295905</td>\n",
              "      <td>-0.151642</td>\n",
              "      <td>-0.211213</td>\n",
              "      <td>0.078031</td>\n",
              "      <td>-0.085400</td>\n",
              "      <td>0.000327</td>\n",
              "      <td>0.017291</td>\n",
              "    </tr>\n",
              "    <tr>\n",
              "      <th>informational</th>\n",
              "      <td>0.391087</td>\n",
              "      <td>0.280617</td>\n",
              "      <td>1.000000</td>\n",
              "      <td>0.580722</td>\n",
              "      <td>0.377596</td>\n",
              "      <td>0.382680</td>\n",
              "      <td>-0.114288</td>\n",
              "      <td>-0.164321</td>\n",
              "      <td>0.081242</td>\n",
              "      <td>-0.063980</td>\n",
              "      <td>-0.023207</td>\n",
              "      <td>0.017216</td>\n",
              "    </tr>\n",
              "    <tr>\n",
              "      <th>informational_duration</th>\n",
              "      <td>0.274090</td>\n",
              "      <td>0.199530</td>\n",
              "      <td>0.580722</td>\n",
              "      <td>1.000000</td>\n",
              "      <td>0.271295</td>\n",
              "      <td>0.281936</td>\n",
              "      <td>-0.075931</td>\n",
              "      <td>-0.108674</td>\n",
              "      <td>0.058064</td>\n",
              "      <td>-0.036898</td>\n",
              "      <td>-0.012577</td>\n",
              "      <td>0.015120</td>\n",
              "    </tr>\n",
              "    <tr>\n",
              "      <th>productrelated</th>\n",
              "      <td>0.448662</td>\n",
              "      <td>0.294955</td>\n",
              "      <td>0.377596</td>\n",
              "      <td>0.271295</td>\n",
              "      <td>1.000000</td>\n",
              "      <td>0.750972</td>\n",
              "      <td>-0.202601</td>\n",
              "      <td>-0.294378</td>\n",
              "      <td>0.079132</td>\n",
              "      <td>-0.047809</td>\n",
              "      <td>-0.012477</td>\n",
              "      <td>-0.012593</td>\n",
              "    </tr>\n",
              "    <tr>\n",
              "      <th>productrelated_duration</th>\n",
              "      <td>0.404032</td>\n",
              "      <td>0.295905</td>\n",
              "      <td>0.382680</td>\n",
              "      <td>0.281936</td>\n",
              "      <td>0.750972</td>\n",
              "      <td>1.000000</td>\n",
              "      <td>-0.200532</td>\n",
              "      <td>-0.282332</td>\n",
              "      <td>0.086422</td>\n",
              "      <td>-0.048580</td>\n",
              "      <td>-0.016108</td>\n",
              "      <td>-0.008661</td>\n",
              "    </tr>\n",
              "    <tr>\n",
              "      <th>bouncerates</th>\n",
              "      <td>-0.216590</td>\n",
              "      <td>-0.151642</td>\n",
              "      <td>-0.114288</td>\n",
              "      <td>-0.075931</td>\n",
              "      <td>-0.202601</td>\n",
              "      <td>-0.200532</td>\n",
              "      <td>1.000000</td>\n",
              "      <td>0.893595</td>\n",
              "      <td>-0.128633</td>\n",
              "      <td>0.066774</td>\n",
              "      <td>-0.011816</td>\n",
              "      <td>-0.048048</td>\n",
              "    </tr>\n",
              "    <tr>\n",
              "      <th>exitrates</th>\n",
              "      <td>-0.305020</td>\n",
              "      <td>-0.211213</td>\n",
              "      <td>-0.164321</td>\n",
              "      <td>-0.108674</td>\n",
              "      <td>-0.294378</td>\n",
              "      <td>-0.282332</td>\n",
              "      <td>0.893595</td>\n",
              "      <td>1.000000</td>\n",
              "      <td>-0.171443</td>\n",
              "      <td>0.089374</td>\n",
              "      <td>-0.010686</td>\n",
              "      <td>-0.058484</td>\n",
              "    </tr>\n",
              "    <tr>\n",
              "      <th>pagevalues</th>\n",
              "      <td>0.111897</td>\n",
              "      <td>0.078031</td>\n",
              "      <td>0.081242</td>\n",
              "      <td>0.058064</td>\n",
              "      <td>0.079132</td>\n",
              "      <td>0.086422</td>\n",
              "      <td>-0.128633</td>\n",
              "      <td>-0.171443</td>\n",
              "      <td>1.000000</td>\n",
              "      <td>-0.058967</td>\n",
              "      <td>-0.004583</td>\n",
              "      <td>0.009022</td>\n",
              "    </tr>\n",
              "    <tr>\n",
              "      <th>specialday</th>\n",
              "      <td>-0.113679</td>\n",
              "      <td>-0.085400</td>\n",
              "      <td>-0.063980</td>\n",
              "      <td>-0.036898</td>\n",
              "      <td>-0.047809</td>\n",
              "      <td>-0.048580</td>\n",
              "      <td>0.066774</td>\n",
              "      <td>0.089374</td>\n",
              "      <td>-0.058967</td>\n",
              "      <td>1.000000</td>\n",
              "      <td>-0.013882</td>\n",
              "      <td>-0.049480</td>\n",
              "    </tr>\n",
              "    <tr>\n",
              "      <th>region</th>\n",
              "      <td>0.000507</td>\n",
              "      <td>0.000327</td>\n",
              "      <td>-0.023207</td>\n",
              "      <td>-0.012577</td>\n",
              "      <td>-0.012477</td>\n",
              "      <td>-0.016108</td>\n",
              "      <td>-0.011816</td>\n",
              "      <td>-0.010686</td>\n",
              "      <td>-0.004583</td>\n",
              "      <td>-0.013882</td>\n",
              "      <td>1.000000</td>\n",
              "      <td>-0.005222</td>\n",
              "    </tr>\n",
              "    <tr>\n",
              "      <th>weekend</th>\n",
              "      <td>0.013816</td>\n",
              "      <td>0.017291</td>\n",
              "      <td>0.017216</td>\n",
              "      <td>0.015120</td>\n",
              "      <td>-0.012593</td>\n",
              "      <td>-0.008661</td>\n",
              "      <td>-0.048048</td>\n",
              "      <td>-0.058484</td>\n",
              "      <td>0.009022</td>\n",
              "      <td>-0.049480</td>\n",
              "      <td>-0.005222</td>\n",
              "      <td>1.000000</td>\n",
              "    </tr>\n",
              "  </tbody>\n",
              "</table>\n",
              "</div>\n",
              "      <button class=\"colab-df-convert\" onclick=\"convertToInteractive('df-c66e5544-5c12-4879-8686-0eabe9664e5b')\"\n",
              "              title=\"Convert this dataframe to an interactive table.\"\n",
              "              style=\"display:none;\">\n",
              "        \n",
              "  <svg xmlns=\"http://www.w3.org/2000/svg\" height=\"24px\"viewBox=\"0 0 24 24\"\n",
              "       width=\"24px\">\n",
              "    <path d=\"M0 0h24v24H0V0z\" fill=\"none\"/>\n",
              "    <path d=\"M18.56 5.44l.94 2.06.94-2.06 2.06-.94-2.06-.94-.94-2.06-.94 2.06-2.06.94zm-11 1L8.5 8.5l.94-2.06 2.06-.94-2.06-.94L8.5 2.5l-.94 2.06-2.06.94zm10 10l.94 2.06.94-2.06 2.06-.94-2.06-.94-.94-2.06-.94 2.06-2.06.94z\"/><path d=\"M17.41 7.96l-1.37-1.37c-.4-.4-.92-.59-1.43-.59-.52 0-1.04.2-1.43.59L10.3 9.45l-7.72 7.72c-.78.78-.78 2.05 0 2.83L4 21.41c.39.39.9.59 1.41.59.51 0 1.02-.2 1.41-.59l7.78-7.78 2.81-2.81c.8-.78.8-2.07 0-2.86zM5.41 20L4 18.59l7.72-7.72 1.47 1.35L5.41 20z\"/>\n",
              "  </svg>\n",
              "      </button>\n",
              "      \n",
              "  <style>\n",
              "    .colab-df-container {\n",
              "      display:flex;\n",
              "      flex-wrap:wrap;\n",
              "      gap: 12px;\n",
              "    }\n",
              "\n",
              "    .colab-df-convert {\n",
              "      background-color: #E8F0FE;\n",
              "      border: none;\n",
              "      border-radius: 50%;\n",
              "      cursor: pointer;\n",
              "      display: none;\n",
              "      fill: #1967D2;\n",
              "      height: 32px;\n",
              "      padding: 0 0 0 0;\n",
              "      width: 32px;\n",
              "    }\n",
              "\n",
              "    .colab-df-convert:hover {\n",
              "      background-color: #E2EBFA;\n",
              "      box-shadow: 0px 1px 2px rgba(60, 64, 67, 0.3), 0px 1px 3px 1px rgba(60, 64, 67, 0.15);\n",
              "      fill: #174EA6;\n",
              "    }\n",
              "\n",
              "    [theme=dark] .colab-df-convert {\n",
              "      background-color: #3B4455;\n",
              "      fill: #D2E3FC;\n",
              "    }\n",
              "\n",
              "    [theme=dark] .colab-df-convert:hover {\n",
              "      background-color: #434B5C;\n",
              "      box-shadow: 0px 1px 3px 1px rgba(0, 0, 0, 0.15);\n",
              "      filter: drop-shadow(0px 1px 2px rgba(0, 0, 0, 0.3));\n",
              "      fill: #FFFFFF;\n",
              "    }\n",
              "  </style>\n",
              "\n",
              "      <script>\n",
              "        const buttonEl =\n",
              "          document.querySelector('#df-c66e5544-5c12-4879-8686-0eabe9664e5b button.colab-df-convert');\n",
              "        buttonEl.style.display =\n",
              "          google.colab.kernel.accessAllowed ? 'block' : 'none';\n",
              "\n",
              "        async function convertToInteractive(key) {\n",
              "          const element = document.querySelector('#df-c66e5544-5c12-4879-8686-0eabe9664e5b');\n",
              "          const dataTable =\n",
              "            await google.colab.kernel.invokeFunction('convertToInteractive',\n",
              "                                                     [key], {});\n",
              "          if (!dataTable) return;\n",
              "\n",
              "          const docLinkHtml = 'Like what you see? Visit the ' +\n",
              "            '<a target=\"_blank\" href=https://colab.research.google.com/notebooks/data_table.ipynb>data table notebook</a>'\n",
              "            + ' to learn more about interactive tables.';\n",
              "          element.innerHTML = '';\n",
              "          dataTable['output_type'] = 'display_data';\n",
              "          await google.colab.output.renderOutput(dataTable, element);\n",
              "          const docLink = document.createElement('div');\n",
              "          docLink.innerHTML = docLinkHtml;\n",
              "          element.appendChild(docLink);\n",
              "        }\n",
              "      </script>\n",
              "    </div>\n",
              "  </div>\n",
              "  "
            ]
          },
          "metadata": {},
          "execution_count": 59
        }
      ]
    },
    {
      "cell_type": "markdown",
      "source": [
        "##### *Distribution and box plots*"
      ],
      "metadata": {
        "id": "oqkrIUXteu5K"
      }
    },
    {
      "cell_type": "code",
      "source": [
        "def cont_plots(data, col, target):\n",
        "    fig, axes = plt.subplots(nrows=1, ncols=2, figsize=(15, 5))\n",
        "    sns.distplot(data[col], ax=axes[0],kde_kws={'bw':0.15}).set_title(\"Distribution plot\")\n",
        "    sns.boxplot(x=target, y=col, data=data).set_title(\"Box Plot distribution\")\n",
        "    plt.show()"
      ],
      "metadata": {
        "id": "CwlgP4uvbzJs"
      },
      "execution_count": null,
      "outputs": []
    },
    {
      "cell_type": "code",
      "source": [
        "for cl in num_var_list:\n",
        "  if cl != 'weekend':\n",
        "    cont_plots(df_dev, cl, \"revenue\")"
      ],
      "metadata": {
        "colab": {
          "base_uri": "https://localhost:8080/",
          "height": 1000
        },
        "id": "U6sPa-YZbzHC",
        "outputId": "cc1fac80-d5d2-4aae-f152-0f1478ccabe3"
      },
      "execution_count": null,
      "outputs": [
        {
          "output_type": "stream",
          "name": "stderr",
          "text": [
            "/usr/local/lib/python3.7/dist-packages/seaborn/distributions.py:2619: FutureWarning: `distplot` is a deprecated function and will be removed in a future version. Please adapt your code to use either `displot` (a figure-level function with similar flexibility) or `histplot` (an axes-level function for histograms).\n",
            "  warnings.warn(msg, FutureWarning)\n",
            "/usr/local/lib/python3.7/dist-packages/seaborn/distributions.py:1699: FutureWarning: The `bw` parameter is deprecated in favor of `bw_method` and `bw_adjust`. Using 0.15 for `bw_method`, but please see the docs for the new parameters and update your code.\n",
            "  warnings.warn(msg, FutureWarning)\n"
          ]
        },
        {
          "output_type": "display_data",
          "data": {
            "text/plain": [
              "<Figure size 1080x360 with 2 Axes>"
            ],
            "image/png": "[encoded data removed]"
          },
          "metadata": {
            "needs_background": "light"
          }
        },
        {
          "output_type": "stream",
          "name": "stderr",
          "text": [
            "/usr/local/lib/python3.7/dist-packages/seaborn/distributions.py:2619: FutureWarning: `distplot` is a deprecated function and will be removed in a future version. Please adapt your code to use either `displot` (a figure-level function with similar flexibility) or `histplot` (an axes-level function for histograms).\n",
            "  warnings.warn(msg, FutureWarning)\n",
            "/usr/local/lib/python3.7/dist-packages/seaborn/distributions.py:1699: FutureWarning: The `bw` parameter is deprecated in favor of `bw_method` and `bw_adjust`. Using 0.15 for `bw_method`, but please see the docs for the new parameters and update your code.\n",
            "  warnings.warn(msg, FutureWarning)\n"
          ]
        },
        {
          "output_type": "display_data",
          "data": {
            "text/plain": [
              "<Figure size 1080x360 with 2 Axes>"
            ],
            "image/png": "[encoded data removed]"
          },
          "metadata": {
            "needs_background": "light"
          }
        },
        {
          "output_type": "stream",
          "name": "stderr",
          "text": [
            "/usr/local/lib/python3.7/dist-packages/seaborn/distributions.py:2619: FutureWarning: `distplot` is a deprecated function and will be removed in a future version. Please adapt your code to use either `displot` (a figure-level function with similar flexibility) or `histplot` (an axes-level function for histograms).\n",
            "  warnings.warn(msg, FutureWarning)\n",
            "/usr/local/lib/python3.7/dist-packages/seaborn/distributions.py:1699: FutureWarning: The `bw` parameter is deprecated in favor of `bw_method` and `bw_adjust`. Using 0.15 for `bw_method`, but please see the docs for the new parameters and update your code.\n",
            "  warnings.warn(msg, FutureWarning)\n"
          ]
        },
        {
          "output_type": "display_data",
          "data": {
            "text/plain": [
              "<Figure size 1080x360 with 2 Axes>"
            ],
            "image/png": "[encoded data removed]"
          },
          "metadata": {
            "needs_background": "light"
          }
        },
        {
          "output_type": "stream",
          "name": "stderr",
          "text": [
            "/usr/local/lib/python3.7/dist-packages/seaborn/distributions.py:2619: FutureWarning: `distplot` is a deprecated function and will be removed in a future version. Please adapt your code to use either `displot` (a figure-level function with similar flexibility) or `histplot` (an axes-level function for histograms).\n",
            "  warnings.warn(msg, FutureWarning)\n",
            "/usr/local/lib/python3.7/dist-packages/seaborn/distributions.py:1699: FutureWarning: The `bw` parameter is deprecated in favor of `bw_method` and `bw_adjust`. Using 0.15 for `bw_method`, but please see the docs for the new parameters and update your code.\n",
            "  warnings.warn(msg, FutureWarning)\n"
          ]
        },
        {
          "output_type": "display_data",
          "data": {
            "text/plain": [
              "<Figure size 1080x360 with 2 Axes>"
            ],
            "image/png": "[encoded data removed]"
          },
          "metadata": {
            "needs_background": "light"
          }
        },
        {
          "output_type": "stream",
          "name": "stderr",
          "text": [
            "/usr/local/lib/python3.7/dist-packages/seaborn/distributions.py:2619: FutureWarning: `distplot` is a deprecated function and will be removed in a future version. Please adapt your code to use either `displot` (a figure-level function with similar flexibility) or `histplot` (an axes-level function for histograms).\n",
            "  warnings.warn(msg, FutureWarning)\n",
            "/usr/local/lib/python3.7/dist-packages/seaborn/distributions.py:1699: FutureWarning: The `bw` parameter is deprecated in favor of `bw_method` and `bw_adjust`. Using 0.15 for `bw_method`, but please see the docs for the new parameters and update your code.\n",
            "  warnings.warn(msg, FutureWarning)\n"
          ]
        },
        {
          "output_type": "display_data",
          "data": {
            "text/plain": [
              "<Figure size 1080x360 with 2 Axes>"
            ],
            "image/png": "[encoded data removed]"
          },
          "metadata": {
            "needs_background": "light"
          }
        },
        {
          "output_type": "stream",
          "name": "stderr",
          "text": [
            "/usr/local/lib/python3.7/dist-packages/seaborn/distributions.py:2619: FutureWarning: `distplot` is a deprecated function and will be removed in a future version. Please adapt your code to use either `displot` (a figure-level function with similar flexibility) or `histplot` (an axes-level function for histograms).\n",
            "  warnings.warn(msg, FutureWarning)\n",
            "/usr/local/lib/python3.7/dist-packages/seaborn/distributions.py:1699: FutureWarning: The `bw` parameter is deprecated in favor of `bw_method` and `bw_adjust`. Using 0.15 for `bw_method`, but please see the docs for the new parameters and update your code.\n",
            "  warnings.warn(msg, FutureWarning)\n"
          ]
        },
        {
          "output_type": "display_data",
          "data": {
            "text/plain": [
              "<Figure size 1080x360 with 2 Axes>"
            ],
            "image/png": "[encoded data removed]"
          },
          "metadata": {
            "needs_background": "light"
          }
        },
        {
          "output_type": "stream",
          "name": "stderr",
          "text": [
            "/usr/local/lib/python3.7/dist-packages/seaborn/distributions.py:2619: FutureWarning: `distplot` is a deprecated function and will be removed in a future version. Please adapt your code to use either `displot` (a figure-level function with similar flexibility) or `histplot` (an axes-level function for histograms).\n",
            "  warnings.warn(msg, FutureWarning)\n",
            "/usr/local/lib/python3.7/dist-packages/seaborn/distributions.py:1699: FutureWarning: The `bw` parameter is deprecated in favor of `bw_method` and `bw_adjust`. Using 0.15 for `bw_method`, but please see the docs for the new parameters and update your code.\n",
            "  warnings.warn(msg, FutureWarning)\n"
          ]
        },
        {
          "output_type": "display_data",
          "data": {
            "text/plain": [
              "<Figure size 1080x360 with 2 Axes>"
            ],
            "image/png": "[encoded data removed]"
          },
          "metadata": {
            "needs_background": "light"
          }
        },
        {
          "output_type": "stream",
          "name": "stderr",
          "text": [
            "/usr/local/lib/python3.7/dist-packages/seaborn/distributions.py:2619: FutureWarning: `distplot` is a deprecated function and will be removed in a future version. Please adapt your code to use either `displot` (a figure-level function with similar flexibility) or `histplot` (an axes-level function for histograms).\n",
            "  warnings.warn(msg, FutureWarning)\n",
            "/usr/local/lib/python3.7/dist-packages/seaborn/distributions.py:1699: FutureWarning: The `bw` parameter is deprecated in favor of `bw_method` and `bw_adjust`. Using 0.15 for `bw_method`, but please see the docs for the new parameters and update your code.\n",
            "  warnings.warn(msg, FutureWarning)\n"
          ]
        },
        {
          "output_type": "display_data",
          "data": {
            "text/plain": [
              "<Figure size 1080x360 with 2 Axes>"
            ],
            "image/png": "[encoded data removed]"
          },
          "metadata": {
            "needs_background": "light"
          }
        },
        {
          "output_type": "stream",
          "name": "stderr",
          "text": [
            "/usr/local/lib/python3.7/dist-packages/seaborn/distributions.py:2619: FutureWarning: `distplot` is a deprecated function and will be removed in a future version. Please adapt your code to use either `displot` (a figure-level function with similar flexibility) or `histplot` (an axes-level function for histograms).\n",
            "  warnings.warn(msg, FutureWarning)\n",
            "/usr/local/lib/python3.7/dist-packages/seaborn/distributions.py:1699: FutureWarning: The `bw` parameter is deprecated in favor of `bw_method` and `bw_adjust`. Using 0.15 for `bw_method`, but please see the docs for the new parameters and update your code.\n",
            "  warnings.warn(msg, FutureWarning)\n"
          ]
        },
        {
          "output_type": "display_data",
          "data": {
            "text/plain": [
              "<Figure size 1080x360 with 2 Axes>"
            ],
            "image/png": "[encoded data removed]"
          },
          "metadata": {
            "needs_background": "light"
          }
        },
        {
          "output_type": "stream",
          "name": "stderr",
          "text": [
            "/usr/local/lib/python3.7/dist-packages/seaborn/distributions.py:2619: FutureWarning: `distplot` is a deprecated function and will be removed in a future version. Please adapt your code to use either `displot` (a figure-level function with similar flexibility) or `histplot` (an axes-level function for histograms).\n",
            "  warnings.warn(msg, FutureWarning)\n",
            "/usr/local/lib/python3.7/dist-packages/seaborn/distributions.py:1699: FutureWarning: The `bw` parameter is deprecated in favor of `bw_method` and `bw_adjust`. Using 0.15 for `bw_method`, but please see the docs for the new parameters and update your code.\n",
            "  warnings.warn(msg, FutureWarning)\n"
          ]
        },
        {
          "output_type": "display_data",
          "data": {
            "text/plain": [
              "<Figure size 1080x360 with 2 Axes>"
            ],
            "image/png": "[encoded data removed]"
          },
          "metadata": {
            "needs_background": "light"
          }
        },
        {
          "output_type": "stream",
          "name": "stderr",
          "text": [
            "/usr/local/lib/python3.7/dist-packages/seaborn/distributions.py:2619: FutureWarning: `distplot` is a deprecated function and will be removed in a future version. Please adapt your code to use either `displot` (a figure-level function with similar flexibility) or `histplot` (an axes-level function for histograms).\n",
            "  warnings.warn(msg, FutureWarning)\n",
            "/usr/local/lib/python3.7/dist-packages/seaborn/distributions.py:1699: FutureWarning: The `bw` parameter is deprecated in favor of `bw_method` and `bw_adjust`. Using 0.15 for `bw_method`, but please see the docs for the new parameters and update your code.\n",
            "  warnings.warn(msg, FutureWarning)\n"
          ]
        },
        {
          "output_type": "display_data",
          "data": {
            "text/plain": [
              "<Figure size 1080x360 with 2 Axes>"
            ],
            "image/png": "[encoded data removed]"
          },
          "metadata": {
            "needs_background": "light"
          }
        }
      ]
    },
    {
      "cell_type": "markdown",
      "source": [
        "## *Categorical variable EDA*"
      ],
      "metadata": {
        "id": "NKQFxOxykGN6"
      }
    },
    {
      "cell_type": "markdown",
      "source": [
        "##### *Bar plots*"
      ],
      "metadata": {
        "id": "11SSGJp5kOnf"
      }
    },
    {
      "cell_type": "code",
      "source": [
        "def cat_plots(idat, col, target = \"revenue\"):\n",
        "    print(\"Countplot for \",col, \" split by \", target)\n",
        "    print(\"\\n\")\n",
        "    plt.figure(figsize=(15, 5))\n",
        "    sns.countplot(x=col, data=idat, hue=target)\n",
        "    plt.show()"
      ],
      "metadata": {
        "id": "xQodJvTdbzEy"
      },
      "execution_count": null,
      "outputs": []
    },
    {
      "cell_type": "code",
      "source": [
        "for cl in cat_var_list:\n",
        "    cat_plots(df_dev,cl,\"revenue\")"
      ],
      "metadata": {
        "colab": {
          "base_uri": "https://localhost:8080/",
          "height": 1000
        },
        "id": "Q4y07zIvbzB-",
        "outputId": "6fc07e1e-9630-452a-a7e3-6de09c83bd3e"
      },
      "execution_count": null,
      "outputs": [
        {
          "output_type": "stream",
          "name": "stdout",
          "text": [
            "Countplot for  month  split by  revenue\n",
            "\n",
            "\n"
          ]
        },
        {
          "output_type": "display_data",
          "data": {
            "text/plain": [
              "<Figure size 1080x360 with 1 Axes>"
            ],
            "image/png": "[encoded data removed]"
          },
          "metadata": {
            "needs_background": "light"
          }
        },
        {
          "output_type": "stream",
          "name": "stdout",
          "text": [
            "Countplot for  operatingsystems  split by  revenue\n",
            "\n",
            "\n"
          ]
        },
        {
          "output_type": "display_data",
          "data": {
            "text/plain": [
              "<Figure size 1080x360 with 1 Axes>"
            ],
            "image/png": "[encoded data removed]"
          },
          "metadata": {
            "needs_background": "light"
          }
        },
        {
          "output_type": "stream",
          "name": "stdout",
          "text": [
            "Countplot for  browser  split by  revenue\n",
            "\n",
            "\n"
          ]
        },
        {
          "output_type": "display_data",
          "data": {
            "text/plain": [
              "<Figure size 1080x360 with 1 Axes>"
            ],
            "image/png": "[encoded data removed]"
          },
          "metadata": {
            "needs_background": "light"
          }
        },
        {
          "output_type": "stream",
          "name": "stdout",
          "text": [
            "Countplot for  traffictype  split by  revenue\n",
            "\n",
            "\n"
          ]
        },
        {
          "output_type": "display_data",
          "data": {
            "text/plain": [
              "<Figure size 1080x360 with 1 Axes>"
            ],
            "image/png": "[encoded data removed]"
          },
          "metadata": {
            "needs_background": "light"
          }
        },
        {
          "output_type": "stream",
          "name": "stdout",
          "text": [
            "Countplot for  visitortype  split by  revenue\n",
            "\n",
            "\n"
          ]
        },
        {
          "output_type": "display_data",
          "data": {
            "text/plain": [
              "<Figure size 1080x360 with 1 Axes>"
            ],
            "image/png": "[encoded data removed]"
          },
          "metadata": {
            "needs_background": "light"
          }
        }
      ]
    },
    {
      "cell_type": "code",
      "source": [],
      "metadata": {
        "id": "m1I3Zv82by_e"
      },
      "execution_count": null,
      "outputs": []
    },
    {
      "cell_type": "code",
      "source": [],
      "metadata": {
        "id": "7Z38UnR6by82"
      },
      "execution_count": null,
      "outputs": []
    },
    {
      "cell_type": "code",
      "source": [],
      "metadata": {
        "id": "A3wbCJL3by6L"
      },
      "execution_count": null,
      "outputs": []
    },
    {
      "cell_type": "code",
      "source": [],
      "metadata": {
        "id": "vCbvabI2by3Y"
      },
      "execution_count": null,
      "outputs": []
    },
    {
      "cell_type": "code",
      "source": [],
      "metadata": {
        "id": "Diolcxjeby07"
      },
      "execution_count": null,
      "outputs": []
    },
    {
      "cell_type": "code",
      "source": [],
      "metadata": {
        "id": "IriK4aiAbyyD"
      },
      "execution_count": null,
      "outputs": []
    },
    {
      "cell_type": "code",
      "source": [],
      "metadata": {
        "id": "duY3ksjIbyvV"
      },
      "execution_count": null,
      "outputs": []
    },
    {
      "cell_type": "code",
      "source": [],
      "metadata": {
        "id": "ZSMytl1obys0"
      },
      "execution_count": null,
      "outputs": []
    },
    {
      "cell_type": "code",
      "source": [],
      "metadata": {
        "id": "M3Uvl57cbyqE"
      },
      "execution_count": null,
      "outputs": []
    },
    {
      "cell_type": "markdown",
      "source": [
        "# Data Preparation"
      ],
      "metadata": {
        "id": "jpH76qISjzx3"
      }
    },
    {
      "cell_type": "code",
      "source": [
        "# 1. Conversion of variable types - weekend, region\n",
        "# 2. OHE - categorical\n",
        "# 3. Outlier treatment - numeric \n",
        "# 4. Standardscaler - numeric"
      ],
      "metadata": {
        "id": "h7YA-4ymjy7v"
      },
      "execution_count": null,
      "outputs": []
    },
    {
      "cell_type": "markdown",
      "source": [
        "##  *Type conversion*"
      ],
      "metadata": {
        "id": "odniiEkYp3ib"
      }
    },
    {
      "cell_type": "code",
      "source": [
        "# Convert weekend to numeric"
      ],
      "metadata": {
        "id": "lTFctIBgjy5P"
      },
      "execution_count": null,
      "outputs": []
    },
    {
      "cell_type": "code",
      "source": [
        "df_dev[\"weekend\"] = df_dev[\"weekend\"].astype(int)"
      ],
      "metadata": {
        "id": "F_0Sor9Ijy2l"
      },
      "execution_count": null,
      "outputs": []
    },
    {
      "cell_type": "code",
      "source": [
        "df_dev[\"weekend\"].value_counts()"
      ],
      "metadata": {
        "id": "tYMsBDPejyzx",
        "colab": {
          "base_uri": "https://localhost:8080/"
        },
        "outputId": "a01a26c1-ca03-43a1-a907-6c7098939dba"
      },
      "execution_count": null,
      "outputs": [
        {
          "output_type": "execute_result",
          "data": {
            "text/plain": [
              "0    31053\n",
              "1     8947\n",
              "Name: weekend, dtype: int64"
            ]
          },
          "metadata": {},
          "execution_count": 68
        }
      ]
    },
    {
      "cell_type": "code",
      "source": [
        "# convert region to categorical"
      ],
      "metadata": {
        "id": "D72rFekRj2nL"
      },
      "execution_count": null,
      "outputs": []
    },
    {
      "cell_type": "code",
      "source": [
        "df_dev['region'].value_counts()"
      ],
      "metadata": {
        "id": "Jtt-2Eyyj2ks",
        "colab": {
          "base_uri": "https://localhost:8080/"
        },
        "outputId": "25ddca56-e2cd-449e-92df-c63d821d1d82"
      },
      "execution_count": null,
      "outputs": [
        {
          "output_type": "execute_result",
          "data": {
            "text/plain": [
              "1    14749\n",
              "3     7833\n",
              "4     4046\n",
              "2     3642\n",
              "6     2755\n",
              "7     2523\n",
              "9     1762\n",
              "8     1488\n",
              "5     1202\n",
              "Name: region, dtype: int64"
            ]
          },
          "metadata": {},
          "execution_count": 72
        }
      ]
    },
    {
      "cell_type": "code",
      "source": [
        "df_dev['region'] = df_dev['region'].astype('O')"
      ],
      "metadata": {
        "id": "CxkzPwVjj2iS"
      },
      "execution_count": null,
      "outputs": []
    },
    {
      "cell_type": "code",
      "source": [
        "df_dev.dtypes"
      ],
      "metadata": {
        "colab": {
          "base_uri": "https://localhost:8080/"
        },
        "id": "-a2QtusvrSb2",
        "outputId": "359a47cf-868e-4476-fa97-c85668510179"
      },
      "execution_count": null,
      "outputs": [
        {
          "output_type": "execute_result",
          "data": {
            "text/plain": [
              "session_id                   int64\n",
              "administrative               int64\n",
              "administrative_duration    float64\n",
              "informational                int64\n",
              "informational_duration     float64\n",
              "productrelated               int64\n",
              "productrelated_duration    float64\n",
              "bouncerates                float64\n",
              "exitrates                  float64\n",
              "pagevalues                 float64\n",
              "specialday                 float64\n",
              "month                       object\n",
              "operatingsystems            object\n",
              "browser                     object\n",
              "region                      object\n",
              "traffictype                 object\n",
              "visitortype                 object\n",
              "weekend                      int64\n",
              "revenue                      int64\n",
              "dtype: object"
            ]
          },
          "metadata": {},
          "execution_count": 75
        }
      ]
    },
    {
      "cell_type": "code",
      "source": [
        "df_dev.head()"
      ],
      "metadata": {
        "colab": {
          "base_uri": "https://localhost:8080/",
          "height": 270
        },
        "id": "CIbuH2OTrSZE",
        "outputId": "7ae065b2-8135-40cf-c4e2-b21b86910798"
      },
      "execution_count": null,
      "outputs": [
        {
          "output_type": "execute_result",
          "data": {
            "text/plain": [
              "   session_id  administrative  administrative_duration  informational  \\\n",
              "0      139957               2                47.500000              0   \n",
              "1      496587               0                 0.000000              0   \n",
              "2      440268               7               206.500000              1   \n",
              "3      294672               1                18.258571              0   \n",
              "4      497475               0                 0.000000              0   \n",
              "\n",
              "   informational_duration  productrelated  productrelated_duration  \\\n",
              "0                     0.0              19              1203.480714   \n",
              "1                     0.0               7               152.000000   \n",
              "2                   389.9              95              4415.889952   \n",
              "3                     0.0             103              8305.048706   \n",
              "4                     0.0              42              1305.108333   \n",
              "\n",
              "   bouncerates  exitrates  pagevalues  specialday month operatingsystems  \\\n",
              "0     0.000000   0.027421    6.748509         0.0   Nov                2   \n",
              "1     0.000000   0.033333    0.000000         0.0   Dec                3   \n",
              "2     0.000133   0.033750    2.676062         0.0   Nov                2   \n",
              "3     0.004871   0.034746    6.824908         0.0   Nov                2   \n",
              "4     0.016068   0.039742    0.000000         0.0   Dec                3   \n",
              "\n",
              "  browser region traffictype        visitortype  weekend  revenue  \n",
              "0       2      3           2  Returning_Visitor        0        0  \n",
              "1       2      6           3  Returning_Visitor        0        0  \n",
              "2       2      1          20  Returning_Visitor        0        0  \n",
              "3       2      1           2  Returning_Visitor        1        1  \n",
              "4       2      5           2  Returning_Visitor        0        0  "
            ],
            "text/html": [
              "\n",
              "  <div id=\"df-96ee4ca5-25cc-4eac-ade3-916cffa859d8\">\n",
              "    <div class=\"colab-df-container\">\n",
              "      <div>\n",
              "<style scoped>\n",
              "    .dataframe tbody tr th:only-of-type {\n",
              "        vertical-align: middle;\n",
              "    }\n",
              "\n",
              "    .dataframe tbody tr th {\n",
              "        vertical-align: top;\n",
              "    }\n",
              "\n",
              "    .dataframe thead th {\n",
              "        text-align: right;\n",
              "    }\n",
              "</style>\n",
              "<table border=\"1\" class=\"dataframe\">\n",
              "  <thead>\n",
              "    <tr style=\"text-align: right;\">\n",
              "      <th></th>\n",
              "      <th>session_id</th>\n",
              "      <th>administrative</th>\n",
              "      <th>administrative_duration</th>\n",
              "      <th>informational</th>\n",
              "      <th>informational_duration</th>\n",
              "      <th>productrelated</th>\n",
              "      <th>productrelated_duration</th>\n",
              "      <th>bouncerates</th>\n",
              "      <th>exitrates</th>\n",
              "      <th>pagevalues</th>\n",
              "      <th>specialday</th>\n",
              "      <th>month</th>\n",
              "      <th>operatingsystems</th>\n",
              "      <th>browser</th>\n",
              "      <th>region</th>\n",
              "      <th>traffictype</th>\n",
              "      <th>visitortype</th>\n",
              "      <th>weekend</th>\n",
              "      <th>revenue</th>\n",
              "    </tr>\n",
              "  </thead>\n",
              "  <tbody>\n",
              "    <tr>\n",
              "      <th>0</th>\n",
              "      <td>139957</td>\n",
              "      <td>2</td>\n",
              "      <td>47.500000</td>\n",
              "      <td>0</td>\n",
              "      <td>0.0</td>\n",
              "      <td>19</td>\n",
              "      <td>1203.480714</td>\n",
              "      <td>0.000000</td>\n",
              "      <td>0.027421</td>\n",
              "      <td>6.748509</td>\n",
              "      <td>0.0</td>\n",
              "      <td>Nov</td>\n",
              "      <td>2</td>\n",
              "      <td>2</td>\n",
              "      <td>3</td>\n",
              "      <td>2</td>\n",
              "      <td>Returning_Visitor</td>\n",
              "      <td>0</td>\n",
              "      <td>0</td>\n",
              "    </tr>\n",
              "    <tr>\n",
              "      <th>1</th>\n",
              "      <td>496587</td>\n",
              "      <td>0</td>\n",
              "      <td>0.000000</td>\n",
              "      <td>0</td>\n",
              "      <td>0.0</td>\n",
              "      <td>7</td>\n",
              "      <td>152.000000</td>\n",
              "      <td>0.000000</td>\n",
              "      <td>0.033333</td>\n",
              "      <td>0.000000</td>\n",
              "      <td>0.0</td>\n",
              "      <td>Dec</td>\n",
              "      <td>3</td>\n",
              "      <td>2</td>\n",
              "      <td>6</td>\n",
              "      <td>3</td>\n",
              "      <td>Returning_Visitor</td>\n",
              "      <td>0</td>\n",
              "      <td>0</td>\n",
              "    </tr>\n",
              "    <tr>\n",
              "      <th>2</th>\n",
              "      <td>440268</td>\n",
              "      <td>7</td>\n",
              "      <td>206.500000</td>\n",
              "      <td>1</td>\n",
              "      <td>389.9</td>\n",
              "      <td>95</td>\n",
              "      <td>4415.889952</td>\n",
              "      <td>0.000133</td>\n",
              "      <td>0.033750</td>\n",
              "      <td>2.676062</td>\n",
              "      <td>0.0</td>\n",
              "      <td>Nov</td>\n",
              "      <td>2</td>\n",
              "      <td>2</td>\n",
              "      <td>1</td>\n",
              "      <td>20</td>\n",
              "      <td>Returning_Visitor</td>\n",
              "      <td>0</td>\n",
              "      <td>0</td>\n",
              "    </tr>\n",
              "    <tr>\n",
              "      <th>3</th>\n",
              "      <td>294672</td>\n",
              "      <td>1</td>\n",
              "      <td>18.258571</td>\n",
              "      <td>0</td>\n",
              "      <td>0.0</td>\n",
              "      <td>103</td>\n",
              "      <td>8305.048706</td>\n",
              "      <td>0.004871</td>\n",
              "      <td>0.034746</td>\n",
              "      <td>6.824908</td>\n",
              "      <td>0.0</td>\n",
              "      <td>Nov</td>\n",
              "      <td>2</td>\n",
              "      <td>2</td>\n",
              "      <td>1</td>\n",
              "      <td>2</td>\n",
              "      <td>Returning_Visitor</td>\n",
              "      <td>1</td>\n",
              "      <td>1</td>\n",
              "    </tr>\n",
              "    <tr>\n",
              "      <th>4</th>\n",
              "      <td>497475</td>\n",
              "      <td>0</td>\n",
              "      <td>0.000000</td>\n",
              "      <td>0</td>\n",
              "      <td>0.0</td>\n",
              "      <td>42</td>\n",
              "      <td>1305.108333</td>\n",
              "      <td>0.016068</td>\n",
              "      <td>0.039742</td>\n",
              "      <td>0.000000</td>\n",
              "      <td>0.0</td>\n",
              "      <td>Dec</td>\n",
              "      <td>3</td>\n",
              "      <td>2</td>\n",
              "      <td>5</td>\n",
              "      <td>2</td>\n",
              "      <td>Returning_Visitor</td>\n",
              "      <td>0</td>\n",
              "      <td>0</td>\n",
              "    </tr>\n",
              "  </tbody>\n",
              "</table>\n",
              "</div>\n",
              "      <button class=\"colab-df-convert\" onclick=\"convertToInteractive('df-96ee4ca5-25cc-4eac-ade3-916cffa859d8')\"\n",
              "              title=\"Convert this dataframe to an interactive table.\"\n",
              "              style=\"display:none;\">\n",
              "        \n",
              "  <svg xmlns=\"http://www.w3.org/2000/svg\" height=\"24px\"viewBox=\"0 0 24 24\"\n",
              "       width=\"24px\">\n",
              "    <path d=\"M0 0h24v24H0V0z\" fill=\"none\"/>\n",
              "    <path d=\"M18.56 5.44l.94 2.06.94-2.06 2.06-.94-2.06-.94-.94-2.06-.94 2.06-2.06.94zm-11 1L8.5 8.5l.94-2.06 2.06-.94-2.06-.94L8.5 2.5l-.94 2.06-2.06.94zm10 10l.94 2.06.94-2.06 2.06-.94-2.06-.94-.94-2.06-.94 2.06-2.06.94z\"/><path d=\"M17.41 7.96l-1.37-1.37c-.4-.4-.92-.59-1.43-.59-.52 0-1.04.2-1.43.59L10.3 9.45l-7.72 7.72c-.78.78-.78 2.05 0 2.83L4 21.41c.39.39.9.59 1.41.59.51 0 1.02-.2 1.41-.59l7.78-7.78 2.81-2.81c.8-.78.8-2.07 0-2.86zM5.41 20L4 18.59l7.72-7.72 1.47 1.35L5.41 20z\"/>\n",
              "  </svg>\n",
              "      </button>\n",
              "      \n",
              "  <style>\n",
              "    .colab-df-container {\n",
              "      display:flex;\n",
              "      flex-wrap:wrap;\n",
              "      gap: 12px;\n",
              "    }\n",
              "\n",
              "    .colab-df-convert {\n",
              "      background-color: #E8F0FE;\n",
              "      border: none;\n",
              "      border-radius: 50%;\n",
              "      cursor: pointer;\n",
              "      display: none;\n",
              "      fill: #1967D2;\n",
              "      height: 32px;\n",
              "      padding: 0 0 0 0;\n",
              "      width: 32px;\n",
              "    }\n",
              "\n",
              "    .colab-df-convert:hover {\n",
              "      background-color: #E2EBFA;\n",
              "      box-shadow: 0px 1px 2px rgba(60, 64, 67, 0.3), 0px 1px 3px 1px rgba(60, 64, 67, 0.15);\n",
              "      fill: #174EA6;\n",
              "    }\n",
              "\n",
              "    [theme=dark] .colab-df-convert {\n",
              "      background-color: #3B4455;\n",
              "      fill: #D2E3FC;\n",
              "    }\n",
              "\n",
              "    [theme=dark] .colab-df-convert:hover {\n",
              "      background-color: #434B5C;\n",
              "      box-shadow: 0px 1px 3px 1px rgba(0, 0, 0, 0.15);\n",
              "      filter: drop-shadow(0px 1px 2px rgba(0, 0, 0, 0.3));\n",
              "      fill: #FFFFFF;\n",
              "    }\n",
              "  </style>\n",
              "\n",
              "      <script>\n",
              "        const buttonEl =\n",
              "          document.querySelector('#df-96ee4ca5-25cc-4eac-ade3-916cffa859d8 button.colab-df-convert');\n",
              "        buttonEl.style.display =\n",
              "          google.colab.kernel.accessAllowed ? 'block' : 'none';\n",
              "\n",
              "        async function convertToInteractive(key) {\n",
              "          const element = document.querySelector('#df-96ee4ca5-25cc-4eac-ade3-916cffa859d8');\n",
              "          const dataTable =\n",
              "            await google.colab.kernel.invokeFunction('convertToInteractive',\n",
              "                                                     [key], {});\n",
              "          if (!dataTable) return;\n",
              "\n",
              "          const docLinkHtml = 'Like what you see? Visit the ' +\n",
              "            '<a target=\"_blank\" href=https://colab.research.google.com/notebooks/data_table.ipynb>data table notebook</a>'\n",
              "            + ' to learn more about interactive tables.';\n",
              "          element.innerHTML = '';\n",
              "          dataTable['output_type'] = 'display_data';\n",
              "          await google.colab.output.renderOutput(dataTable, element);\n",
              "          const docLink = document.createElement('div');\n",
              "          docLink.innerHTML = docLinkHtml;\n",
              "          element.appendChild(docLink);\n",
              "        }\n",
              "      </script>\n",
              "    </div>\n",
              "  </div>\n",
              "  "
            ]
          },
          "metadata": {},
          "execution_count": 76
        }
      ]
    },
    {
      "cell_type": "markdown",
      "source": [
        "##### *One hot encoding*"
      ],
      "metadata": {
        "id": "auhr464irldL"
      }
    },
    {
      "cell_type": "code",
      "source": [
        "month = pd.get_dummies(df_dev['month'],prefix='month',drop_first=True)\n",
        "full_data_dev = pd.concat([df_dev,month],axis=1)\n"
      ],
      "metadata": {
        "id": "jGUNoMEgrSW5"
      },
      "execution_count": null,
      "outputs": []
    },
    {
      "cell_type": "code",
      "source": [
        "## For Operatingsystems - we observe that categories 4,8,* contribute to <5% of the datapoints.. \n",
        "## So we will club those together as Others"
      ],
      "metadata": {
        "id": "u9vd3UVwtWxD"
      },
      "execution_count": null,
      "outputs": []
    },
    {
      "cell_type": "code",
      "source": [
        "df_dev.operatingsystems.value_counts()/df_dev.operatingsystems.count()"
      ],
      "metadata": {
        "colab": {
          "base_uri": "https://localhost:8080/"
        },
        "id": "yCdDkylPrSR7",
        "outputId": "22356d72-1a7c-49e4-d848-76ba95752233"
      },
      "execution_count": null,
      "outputs": [
        {
          "output_type": "execute_result",
          "data": {
            "text/plain": [
              "2    0.540950\n",
              "3    0.210975\n",
              "1    0.202600\n",
              "4    0.037450\n",
              "8    0.005900\n",
              "*    0.002125\n",
              "Name: operatingsystems, dtype: float64"
            ]
          },
          "metadata": {},
          "execution_count": 81
        }
      ]
    },
    {
      "cell_type": "code",
      "source": [
        "df_dev['operatingsystems_2'] = np.where(df_dev['operatingsystems'].isin(['4','8','*']),'Others',df_dev['operatingsystems'])"
      ],
      "metadata": {
        "id": "OLuHGlX3rSPU"
      },
      "execution_count": null,
      "outputs": []
    },
    {
      "cell_type": "code",
      "source": [
        "df_dev['operatingsystems_2'].value_counts()"
      ],
      "metadata": {
        "colab": {
          "base_uri": "https://localhost:8080/"
        },
        "id": "j_oE5ICprSMs",
        "outputId": "cbac3f82-14d9-4925-82e0-502e42e79909"
      },
      "execution_count": null,
      "outputs": [
        {
          "output_type": "execute_result",
          "data": {
            "text/plain": [
              "2         21638\n",
              "3          8439\n",
              "1          8104\n",
              "Others     1819\n",
              "Name: operatingsystems_2, dtype: int64"
            ]
          },
          "metadata": {},
          "execution_count": 84
        }
      ]
    },
    {
      "cell_type": "code",
      "source": [
        "OS = pd.get_dummies(df_dev['operatingsystems_2'],prefix='OS',drop_first=False)\n",
        "full_data_dev = pd.concat([full_data_dev,OS],axis=1)\n"
      ],
      "metadata": {
        "id": "OO3vZR52rSJ6"
      },
      "execution_count": null,
      "outputs": []
    },
    {
      "cell_type": "code",
      "source": [
        "## Dropping one of the OHE columns \n",
        "full_data_dev.drop('OS_Others',axis=1,inplace=True)"
      ],
      "metadata": {
        "id": "0N76ceFKuMZE"
      },
      "execution_count": null,
      "outputs": []
    },
    {
      "cell_type": "code",
      "source": [
        "## For Browser - we observe that categories 1,2,4,5 contribute to ~95% of the datapoints.. \n",
        "## So we will club the rest together as Others"
      ],
      "metadata": {
        "id": "36SgXc9ouDZT"
      },
      "execution_count": null,
      "outputs": []
    },
    {
      "cell_type": "code",
      "source": [
        "df_dev['browser'].value_counts()/df_dev['browser'].count()"
      ],
      "metadata": {
        "colab": {
          "base_uri": "https://localhost:8080/"
        },
        "id": "s5u3Oz4zuDWt",
        "outputId": "957aa4bd-058d-4a21-ae14-ad5e0ba35fab"
      },
      "execution_count": null,
      "outputs": [
        {
          "output_type": "execute_result",
          "data": {
            "text/plain": [
              "2     0.638500\n",
              "1     0.188925\n",
              "4     0.069575\n",
              "5     0.043075\n",
              "6     0.015400\n",
              "10    0.014100\n",
              "3     0.010300\n",
              "8     0.009800\n",
              "13    0.004950\n",
              "7     0.004125\n",
              "*     0.001250\n",
              "Name: browser, dtype: float64"
            ]
          },
          "metadata": {},
          "execution_count": 91
        }
      ]
    },
    {
      "cell_type": "code",
      "source": [
        "df_dev['browser_2'] = np.where(~df_dev['browser'].isin(['1','2','4','5']),'Others',df_dev['browser'])"
      ],
      "metadata": {
        "id": "pWT-8IlLuDUN"
      },
      "execution_count": null,
      "outputs": []
    },
    {
      "cell_type": "code",
      "source": [
        "df_dev['browser_2'].value_counts()"
      ],
      "metadata": {
        "colab": {
          "base_uri": "https://localhost:8080/"
        },
        "id": "lFrp1HBnuDRt",
        "outputId": "baf8d753-a039-428d-c44b-f15751d72017"
      },
      "execution_count": null,
      "outputs": [
        {
          "output_type": "execute_result",
          "data": {
            "text/plain": [
              "2         25540\n",
              "1          7557\n",
              "4          2783\n",
              "Others     2397\n",
              "5          1723\n",
              "Name: browser_2, dtype: int64"
            ]
          },
          "metadata": {},
          "execution_count": 93
        }
      ]
    },
    {
      "cell_type": "code",
      "source": [
        "browser = pd.get_dummies(df_dev['browser_2'],prefix='browser',drop_first=False)\n",
        "full_data_dev = pd.concat([full_data_dev,browser],axis=1)\n",
        "full_data_dev.drop('browser_Others',axis=1,inplace=True)\n"
      ],
      "metadata": {
        "id": "R4nImkpUuDPM"
      },
      "execution_count": null,
      "outputs": []
    },
    {
      "cell_type": "code",
      "source": [
        "full_data_dev.head(2)"
      ],
      "metadata": {
        "colab": {
          "base_uri": "https://localhost:8080/",
          "height": 205
        },
        "id": "eW4kFNUEvJFG",
        "outputId": "8f56e0cb-7ac2-4297-fb6f-fc935e9f99cd"
      },
      "execution_count": null,
      "outputs": [
        {
          "output_type": "execute_result",
          "data": {
            "text/plain": [
              "   session_id  administrative  administrative_duration  informational  \\\n",
              "0      139957               2                     47.5              0   \n",
              "1      496587               0                      0.0              0   \n",
              "\n",
              "   informational_duration  productrelated  productrelated_duration  \\\n",
              "0                     0.0              19              1203.480714   \n",
              "1                     0.0               7               152.000000   \n",
              "\n",
              "   bouncerates  exitrates  pagevalues  ...  traffictype        visitortype  \\\n",
              "0          0.0   0.027421    6.748509  ...            2  Returning_Visitor   \n",
              "1          0.0   0.033333    0.000000  ...            3  Returning_Visitor   \n",
              "\n",
              "  weekend revenue operatingsystems_2  browser_2 browser_1  browser_2  \\\n",
              "0       0       0                  2          2         0          1   \n",
              "1       0       0                  3          2         0          1   \n",
              "\n",
              "   browser_4 browser_5  \n",
              "0          0         0  \n",
              "1          0         0  \n",
              "\n",
              "[2 rows x 25 columns]"
            ],
            "text/html": [
              "\n",
              "  <div id=\"df-f56187cc-13f2-4935-9217-1ca901727077\">\n",
              "    <div class=\"colab-df-container\">\n",
              "      <div>\n",
              "<style scoped>\n",
              "    .dataframe tbody tr th:only-of-type {\n",
              "        vertical-align: middle;\n",
              "    }\n",
              "\n",
              "    .dataframe tbody tr th {\n",
              "        vertical-align: top;\n",
              "    }\n",
              "\n",
              "    .dataframe thead th {\n",
              "        text-align: right;\n",
              "    }\n",
              "</style>\n",
              "<table border=\"1\" class=\"dataframe\">\n",
              "  <thead>\n",
              "    <tr style=\"text-align: right;\">\n",
              "      <th></th>\n",
              "      <th>session_id</th>\n",
              "      <th>administrative</th>\n",
              "      <th>administrative_duration</th>\n",
              "      <th>informational</th>\n",
              "      <th>informational_duration</th>\n",
              "      <th>productrelated</th>\n",
              "      <th>productrelated_duration</th>\n",
              "      <th>bouncerates</th>\n",
              "      <th>exitrates</th>\n",
              "      <th>pagevalues</th>\n",
              "      <th>...</th>\n",
              "      <th>traffictype</th>\n",
              "      <th>visitortype</th>\n",
              "      <th>weekend</th>\n",
              "      <th>revenue</th>\n",
              "      <th>operatingsystems_2</th>\n",
              "      <th>browser_2</th>\n",
              "      <th>browser_1</th>\n",
              "      <th>browser_2</th>\n",
              "      <th>browser_4</th>\n",
              "      <th>browser_5</th>\n",
              "    </tr>\n",
              "  </thead>\n",
              "  <tbody>\n",
              "    <tr>\n",
              "      <th>0</th>\n",
              "      <td>139957</td>\n",
              "      <td>2</td>\n",
              "      <td>47.5</td>\n",
              "      <td>0</td>\n",
              "      <td>0.0</td>\n",
              "      <td>19</td>\n",
              "      <td>1203.480714</td>\n",
              "      <td>0.0</td>\n",
              "      <td>0.027421</td>\n",
              "      <td>6.748509</td>\n",
              "      <td>...</td>\n",
              "      <td>2</td>\n",
              "      <td>Returning_Visitor</td>\n",
              "      <td>0</td>\n",
              "      <td>0</td>\n",
              "      <td>2</td>\n",
              "      <td>2</td>\n",
              "      <td>0</td>\n",
              "      <td>1</td>\n",
              "      <td>0</td>\n",
              "      <td>0</td>\n",
              "    </tr>\n",
              "    <tr>\n",
              "      <th>1</th>\n",
              "      <td>496587</td>\n",
              "      <td>0</td>\n",
              "      <td>0.0</td>\n",
              "      <td>0</td>\n",
              "      <td>0.0</td>\n",
              "      <td>7</td>\n",
              "      <td>152.000000</td>\n",
              "      <td>0.0</td>\n",
              "      <td>0.033333</td>\n",
              "      <td>0.000000</td>\n",
              "      <td>...</td>\n",
              "      <td>3</td>\n",
              "      <td>Returning_Visitor</td>\n",
              "      <td>0</td>\n",
              "      <td>0</td>\n",
              "      <td>3</td>\n",
              "      <td>2</td>\n",
              "      <td>0</td>\n",
              "      <td>1</td>\n",
              "      <td>0</td>\n",
              "      <td>0</td>\n",
              "    </tr>\n",
              "  </tbody>\n",
              "</table>\n",
              "<p>2 rows × 25 columns</p>\n",
              "</div>\n",
              "      <button class=\"colab-df-convert\" onclick=\"convertToInteractive('df-f56187cc-13f2-4935-9217-1ca901727077')\"\n",
              "              title=\"Convert this dataframe to an interactive table.\"\n",
              "              style=\"display:none;\">\n",
              "        \n",
              "  <svg xmlns=\"http://www.w3.org/2000/svg\" height=\"24px\"viewBox=\"0 0 24 24\"\n",
              "       width=\"24px\">\n",
              "    <path d=\"M0 0h24v24H0V0z\" fill=\"none\"/>\n",
              "    <path d=\"M18.56 5.44l.94 2.06.94-2.06 2.06-.94-2.06-.94-.94-2.06-.94 2.06-2.06.94zm-11 1L8.5 8.5l.94-2.06 2.06-.94-2.06-.94L8.5 2.5l-.94 2.06-2.06.94zm10 10l.94 2.06.94-2.06 2.06-.94-2.06-.94-.94-2.06-.94 2.06-2.06.94z\"/><path d=\"M17.41 7.96l-1.37-1.37c-.4-.4-.92-.59-1.43-.59-.52 0-1.04.2-1.43.59L10.3 9.45l-7.72 7.72c-.78.78-.78 2.05 0 2.83L4 21.41c.39.39.9.59 1.41.59.51 0 1.02-.2 1.41-.59l7.78-7.78 2.81-2.81c.8-.78.8-2.07 0-2.86zM5.41 20L4 18.59l7.72-7.72 1.47 1.35L5.41 20z\"/>\n",
              "  </svg>\n",
              "      </button>\n",
              "      \n",
              "  <style>\n",
              "    .colab-df-container {\n",
              "      display:flex;\n",
              "      flex-wrap:wrap;\n",
              "      gap: 12px;\n",
              "    }\n",
              "\n",
              "    .colab-df-convert {\n",
              "      background-color: #E8F0FE;\n",
              "      border: none;\n",
              "      border-radius: 50%;\n",
              "      cursor: pointer;\n",
              "      display: none;\n",
              "      fill: #1967D2;\n",
              "      height: 32px;\n",
              "      padding: 0 0 0 0;\n",
              "      width: 32px;\n",
              "    }\n",
              "\n",
              "    .colab-df-convert:hover {\n",
              "      background-color: #E2EBFA;\n",
              "      box-shadow: 0px 1px 2px rgba(60, 64, 67, 0.3), 0px 1px 3px 1px rgba(60, 64, 67, 0.15);\n",
              "      fill: #174EA6;\n",
              "    }\n",
              "\n",
              "    [theme=dark] .colab-df-convert {\n",
              "      background-color: #3B4455;\n",
              "      fill: #D2E3FC;\n",
              "    }\n",
              "\n",
              "    [theme=dark] .colab-df-convert:hover {\n",
              "      background-color: #434B5C;\n",
              "      box-shadow: 0px 1px 3px 1px rgba(0, 0, 0, 0.15);\n",
              "      filter: drop-shadow(0px 1px 2px rgba(0, 0, 0, 0.3));\n",
              "      fill: #FFFFFF;\n",
              "    }\n",
              "  </style>\n",
              "\n",
              "      <script>\n",
              "        const buttonEl =\n",
              "          document.querySelector('#df-f56187cc-13f2-4935-9217-1ca901727077 button.colab-df-convert');\n",
              "        buttonEl.style.display =\n",
              "          google.colab.kernel.accessAllowed ? 'block' : 'none';\n",
              "\n",
              "        async function convertToInteractive(key) {\n",
              "          const element = document.querySelector('#df-f56187cc-13f2-4935-9217-1ca901727077');\n",
              "          const dataTable =\n",
              "            await google.colab.kernel.invokeFunction('convertToInteractive',\n",
              "                                                     [key], {});\n",
              "          if (!dataTable) return;\n",
              "\n",
              "          const docLinkHtml = 'Like what you see? Visit the ' +\n",
              "            '<a target=\"_blank\" href=https://colab.research.google.com/notebooks/data_table.ipynb>data table notebook</a>'\n",
              "            + ' to learn more about interactive tables.';\n",
              "          element.innerHTML = '';\n",
              "          dataTable['output_type'] = 'display_data';\n",
              "          await google.colab.output.renderOutput(dataTable, element);\n",
              "          const docLink = document.createElement('div');\n",
              "          docLink.innerHTML = docLinkHtml;\n",
              "          element.appendChild(docLink);\n",
              "        }\n",
              "      </script>\n",
              "    </div>\n",
              "  </div>\n",
              "  "
            ]
          },
          "metadata": {},
          "execution_count": 95
        }
      ]
    },
    {
      "cell_type": "code",
      "source": [
        "region = pd.get_dummies(df_dev['region'],prefix='region',drop_first=True)\n",
        "full_data_dev = pd.concat([full_data_dev,region],axis=1)"
      ],
      "metadata": {
        "id": "qUWF9lO6vJB2"
      },
      "execution_count": null,
      "outputs": []
    },
    {
      "cell_type": "code",
      "source": [
        "## For Traffic type - we observe that categories 11,20,15,*,7,9 contribute to <5% of the datapoints.. \n",
        "## So we will club those together as Others"
      ],
      "metadata": {
        "id": "iDJ7Jk_Zv_t4"
      },
      "execution_count": null,
      "outputs": []
    },
    {
      "cell_type": "code",
      "source": [
        "df_dev['traffictype'].value_counts()/df_dev['traffictype'].count()"
      ],
      "metadata": {
        "colab": {
          "base_uri": "https://localhost:8080/"
        },
        "id": "uecvNih_v_q0",
        "outputId": "8fb4a534-8f12-4e35-bf7e-5feba5c94af1"
      },
      "execution_count": null,
      "outputs": [
        {
          "output_type": "execute_result",
          "data": {
            "text/plain": [
              "2     0.313625\n",
              "1     0.183075\n",
              "3     0.168825\n",
              "4     0.090550\n",
              "13    0.071500\n",
              "10    0.037750\n",
              "6     0.036425\n",
              "8     0.031750\n",
              "5     0.021850\n",
              "11    0.018200\n",
              "20    0.014075\n",
              "15    0.003675\n",
              "9     0.003100\n",
              "*     0.003000\n",
              "7     0.002600\n",
              "Name: traffictype, dtype: float64"
            ]
          },
          "metadata": {},
          "execution_count": 97
        }
      ]
    },
    {
      "cell_type": "code",
      "source": [
        "df_dev['traffictype_2'] = np.where(df_dev['traffictype'].isin(['11','15','7','9','20','*']),'Others',df_dev['traffictype'])"
      ],
      "metadata": {
        "id": "NdDWMBMBv_n0"
      },
      "execution_count": null,
      "outputs": []
    },
    {
      "cell_type": "code",
      "source": [
        "traffictype = pd.get_dummies(df_dev['traffictype_2'],prefix='traffictype',drop_first=False)\n",
        "full_data_dev = pd.concat([full_data_dev,traffictype],axis=1)\n",
        "full_data_dev.drop('traffictype_Others',axis=1,inplace=True)\n"
      ],
      "metadata": {
        "id": "x8JY_v_Vv_lk"
      },
      "execution_count": null,
      "outputs": []
    },
    {
      "cell_type": "code",
      "source": [
        "visitortype = pd.get_dummies(df_dev['visitortype'],prefix='visitortype',drop_first=False)\n",
        "full_data_dev = pd.concat([full_data_dev,visitortype],axis=1)\n",
        "full_data_dev.drop('visitortype_Other',axis=1,inplace=True)\n"
      ],
      "metadata": {
        "id": "vvMuk0P-v_i0"
      },
      "execution_count": null,
      "outputs": []
    },
    {
      "cell_type": "code",
      "source": [
        "full_data_dev.columns"
      ],
      "metadata": {
        "colab": {
          "base_uri": "https://localhost:8080/"
        },
        "id": "76x5hZtHv_gT",
        "outputId": "787df173-71dc-43ae-bac5-7cbbea099ebe"
      },
      "execution_count": null,
      "outputs": [
        {
          "output_type": "execute_result",
          "data": {
            "text/plain": [
              "Index(['session_id', 'administrative', 'administrative_duration',\n",
              "       'informational', 'informational_duration', 'productrelated',\n",
              "       'productrelated_duration', 'bouncerates', 'exitrates', 'pagevalues',\n",
              "       'specialday', 'month', 'operatingsystems', 'browser', 'region',\n",
              "       'traffictype', 'visitortype', 'weekend', 'revenue',\n",
              "       'operatingsystems_2', 'browser_2', 'traffictype_2', 'month_Dec',\n",
              "       'month_Feb', 'month_Jul', 'month_June', 'month_Mar', 'month_May',\n",
              "       'month_Nov', 'month_Oct', 'month_Sep', 'OS_1', 'OS_2', 'OS_3',\n",
              "       'browser_1', 'browser_2', 'browser_4', 'browser_5', 'region_2',\n",
              "       'region_3', 'region_4', 'region_5', 'region_6', 'region_7', 'region_8',\n",
              "       'region_9', 'traffictype_1', 'traffictype_10', 'traffictype_13',\n",
              "       'traffictype_2', 'traffictype_3', 'traffictype_4', 'traffictype_5',\n",
              "       'traffictype_6', 'traffictype_8', 'visitortype_New_Visitor',\n",
              "       'visitortype_Returning_Visitor'],\n",
              "      dtype='object')"
            ]
          },
          "metadata": {},
          "execution_count": 110
        }
      ]
    },
    {
      "cell_type": "code",
      "source": [
        "# Removing One hot encoded raw variables"
      ],
      "metadata": {
        "id": "eb8ah2Y5v_dl"
      },
      "execution_count": null,
      "outputs": []
    },
    {
      "cell_type": "code",
      "source": [
        "df_dev_2 = full_data_dev.drop(['month','operatingsystems','browser','region','traffictype','visitortype',\n",
        "                   'operatingsystems_2', 'browser_2', 'traffictype_2'],axis=1)"
      ],
      "metadata": {
        "id": "u-q7k1ddvI_R"
      },
      "execution_count": null,
      "outputs": []
    },
    {
      "cell_type": "code",
      "source": [
        "df_dev_2.shape"
      ],
      "metadata": {
        "colab": {
          "base_uri": "https://localhost:8080/"
        },
        "id": "8igFcPMwyPHS",
        "outputId": "aeea8949-2026-4e08-bf3b-dfe3f853fca0"
      },
      "execution_count": null,
      "outputs": [
        {
          "output_type": "execute_result",
          "data": {
            "text/plain": [
              "(40000, 46)"
            ]
          },
          "metadata": {},
          "execution_count": 114
        }
      ]
    },
    {
      "cell_type": "code",
      "source": [
        "df_dev_2.head()"
      ],
      "metadata": {
        "colab": {
          "base_uri": "https://localhost:8080/",
          "height": 299
        },
        "id": "43-aSdpqvI8p",
        "outputId": "84ee67ad-152f-4fa0-a8c2-9a05f77ddd36"
      },
      "execution_count": null,
      "outputs": [
        {
          "output_type": "execute_result",
          "data": {
            "text/plain": [
              "   session_id  administrative  administrative_duration  informational  \\\n",
              "0      139957               2                47.500000              0   \n",
              "1      496587               0                 0.000000              0   \n",
              "2      440268               7               206.500000              1   \n",
              "3      294672               1                18.258571              0   \n",
              "4      497475               0                 0.000000              0   \n",
              "\n",
              "   informational_duration  productrelated  productrelated_duration  \\\n",
              "0                     0.0              19              1203.480714   \n",
              "1                     0.0               7               152.000000   \n",
              "2                   389.9              95              4415.889952   \n",
              "3                     0.0             103              8305.048706   \n",
              "4                     0.0              42              1305.108333   \n",
              "\n",
              "   bouncerates  exitrates  pagevalues  ...  traffictype_1  traffictype_10  \\\n",
              "0     0.000000   0.027421    6.748509  ...              0               0   \n",
              "1     0.000000   0.033333    0.000000  ...              0               0   \n",
              "2     0.000133   0.033750    2.676062  ...              0               0   \n",
              "3     0.004871   0.034746    6.824908  ...              0               0   \n",
              "4     0.016068   0.039742    0.000000  ...              0               0   \n",
              "\n",
              "   traffictype_13  traffictype_3  traffictype_4  traffictype_5  traffictype_6  \\\n",
              "0               0              0              0              0              0   \n",
              "1               0              1              0              0              0   \n",
              "2               0              0              0              0              0   \n",
              "3               0              0              0              0              0   \n",
              "4               0              0              0              0              0   \n",
              "\n",
              "   traffictype_8  visitortype_New_Visitor  visitortype_Returning_Visitor  \n",
              "0              0                        0                              1  \n",
              "1              0                        0                              1  \n",
              "2              0                        0                              1  \n",
              "3              0                        0                              1  \n",
              "4              0                        0                              1  \n",
              "\n",
              "[5 rows x 46 columns]"
            ],
            "text/html": [
              "\n",
              "  <div id=\"df-32bd856c-1cd5-4731-9a37-e76bae3ea9ad\">\n",
              "    <div class=\"colab-df-container\">\n",
              "      <div>\n",
              "<style scoped>\n",
              "    .dataframe tbody tr th:only-of-type {\n",
              "        vertical-align: middle;\n",
              "    }\n",
              "\n",
              "    .dataframe tbody tr th {\n",
              "        vertical-align: top;\n",
              "    }\n",
              "\n",
              "    .dataframe thead th {\n",
              "        text-align: right;\n",
              "    }\n",
              "</style>\n",
              "<table border=\"1\" class=\"dataframe\">\n",
              "  <thead>\n",
              "    <tr style=\"text-align: right;\">\n",
              "      <th></th>\n",
              "      <th>session_id</th>\n",
              "      <th>administrative</th>\n",
              "      <th>administrative_duration</th>\n",
              "      <th>informational</th>\n",
              "      <th>informational_duration</th>\n",
              "      <th>productrelated</th>\n",
              "      <th>productrelated_duration</th>\n",
              "      <th>bouncerates</th>\n",
              "      <th>exitrates</th>\n",
              "      <th>pagevalues</th>\n",
              "      <th>...</th>\n",
              "      <th>traffictype_1</th>\n",
              "      <th>traffictype_10</th>\n",
              "      <th>traffictype_13</th>\n",
              "      <th>traffictype_3</th>\n",
              "      <th>traffictype_4</th>\n",
              "      <th>traffictype_5</th>\n",
              "      <th>traffictype_6</th>\n",
              "      <th>traffictype_8</th>\n",
              "      <th>visitortype_New_Visitor</th>\n",
              "      <th>visitortype_Returning_Visitor</th>\n",
              "    </tr>\n",
              "  </thead>\n",
              "  <tbody>\n",
              "    <tr>\n",
              "      <th>0</th>\n",
              "      <td>139957</td>\n",
              "      <td>2</td>\n",
              "      <td>47.500000</td>\n",
              "      <td>0</td>\n",
              "      <td>0.0</td>\n",
              "      <td>19</td>\n",
              "      <td>1203.480714</td>\n",
              "      <td>0.000000</td>\n",
              "      <td>0.027421</td>\n",
              "      <td>6.748509</td>\n",
              "      <td>...</td>\n",
              "      <td>0</td>\n",
              "      <td>0</td>\n",
              "      <td>0</td>\n",
              "      <td>0</td>\n",
              "      <td>0</td>\n",
              "      <td>0</td>\n",
              "      <td>0</td>\n",
              "      <td>0</td>\n",
              "      <td>0</td>\n",
              "      <td>1</td>\n",
              "    </tr>\n",
              "    <tr>\n",
              "      <th>1</th>\n",
              "      <td>496587</td>\n",
              "      <td>0</td>\n",
              "      <td>0.000000</td>\n",
              "      <td>0</td>\n",
              "      <td>0.0</td>\n",
              "      <td>7</td>\n",
              "      <td>152.000000</td>\n",
              "      <td>0.000000</td>\n",
              "      <td>0.033333</td>\n",
              "      <td>0.000000</td>\n",
              "      <td>...</td>\n",
              "      <td>0</td>\n",
              "      <td>0</td>\n",
              "      <td>0</td>\n",
              "      <td>1</td>\n",
              "      <td>0</td>\n",
              "      <td>0</td>\n",
              "      <td>0</td>\n",
              "      <td>0</td>\n",
              "      <td>0</td>\n",
              "      <td>1</td>\n",
              "    </tr>\n",
              "    <tr>\n",
              "      <th>2</th>\n",
              "      <td>440268</td>\n",
              "      <td>7</td>\n",
              "      <td>206.500000</td>\n",
              "      <td>1</td>\n",
              "      <td>389.9</td>\n",
              "      <td>95</td>\n",
              "      <td>4415.889952</td>\n",
              "      <td>0.000133</td>\n",
              "      <td>0.033750</td>\n",
              "      <td>2.676062</td>\n",
              "      <td>...</td>\n",
              "      <td>0</td>\n",
              "      <td>0</td>\n",
              "      <td>0</td>\n",
              "      <td>0</td>\n",
              "      <td>0</td>\n",
              "      <td>0</td>\n",
              "      <td>0</td>\n",
              "      <td>0</td>\n",
              "      <td>0</td>\n",
              "      <td>1</td>\n",
              "    </tr>\n",
              "    <tr>\n",
              "      <th>3</th>\n",
              "      <td>294672</td>\n",
              "      <td>1</td>\n",
              "      <td>18.258571</td>\n",
              "      <td>0</td>\n",
              "      <td>0.0</td>\n",
              "      <td>103</td>\n",
              "      <td>8305.048706</td>\n",
              "      <td>0.004871</td>\n",
              "      <td>0.034746</td>\n",
              "      <td>6.824908</td>\n",
              "      <td>...</td>\n",
              "      <td>0</td>\n",
              "      <td>0</td>\n",
              "      <td>0</td>\n",
              "      <td>0</td>\n",
              "      <td>0</td>\n",
              "      <td>0</td>\n",
              "      <td>0</td>\n",
              "      <td>0</td>\n",
              "      <td>0</td>\n",
              "      <td>1</td>\n",
              "    </tr>\n",
              "    <tr>\n",
              "      <th>4</th>\n",
              "      <td>497475</td>\n",
              "      <td>0</td>\n",
              "      <td>0.000000</td>\n",
              "      <td>0</td>\n",
              "      <td>0.0</td>\n",
              "      <td>42</td>\n",
              "      <td>1305.108333</td>\n",
              "      <td>0.016068</td>\n",
              "      <td>0.039742</td>\n",
              "      <td>0.000000</td>\n",
              "      <td>...</td>\n",
              "      <td>0</td>\n",
              "      <td>0</td>\n",
              "      <td>0</td>\n",
              "      <td>0</td>\n",
              "      <td>0</td>\n",
              "      <td>0</td>\n",
              "      <td>0</td>\n",
              "      <td>0</td>\n",
              "      <td>0</td>\n",
              "      <td>1</td>\n",
              "    </tr>\n",
              "  </tbody>\n",
              "</table>\n",
              "<p>5 rows × 46 columns</p>\n",
              "</div>\n",
              "      <button class=\"colab-df-convert\" onclick=\"convertToInteractive('df-32bd856c-1cd5-4731-9a37-e76bae3ea9ad')\"\n",
              "              title=\"Convert this dataframe to an interactive table.\"\n",
              "              style=\"display:none;\">\n",
              "        \n",
              "  <svg xmlns=\"http://www.w3.org/2000/svg\" height=\"24px\"viewBox=\"0 0 24 24\"\n",
              "       width=\"24px\">\n",
              "    <path d=\"M0 0h24v24H0V0z\" fill=\"none\"/>\n",
              "    <path d=\"M18.56 5.44l.94 2.06.94-2.06 2.06-.94-2.06-.94-.94-2.06-.94 2.06-2.06.94zm-11 1L8.5 8.5l.94-2.06 2.06-.94-2.06-.94L8.5 2.5l-.94 2.06-2.06.94zm10 10l.94 2.06.94-2.06 2.06-.94-2.06-.94-.94-2.06-.94 2.06-2.06.94z\"/><path d=\"M17.41 7.96l-1.37-1.37c-.4-.4-.92-.59-1.43-.59-.52 0-1.04.2-1.43.59L10.3 9.45l-7.72 7.72c-.78.78-.78 2.05 0 2.83L4 21.41c.39.39.9.59 1.41.59.51 0 1.02-.2 1.41-.59l7.78-7.78 2.81-2.81c.8-.78.8-2.07 0-2.86zM5.41 20L4 18.59l7.72-7.72 1.47 1.35L5.41 20z\"/>\n",
              "  </svg>\n",
              "      </button>\n",
              "      \n",
              "  <style>\n",
              "    .colab-df-container {\n",
              "      display:flex;\n",
              "      flex-wrap:wrap;\n",
              "      gap: 12px;\n",
              "    }\n",
              "\n",
              "    .colab-df-convert {\n",
              "      background-color: #E8F0FE;\n",
              "      border: none;\n",
              "      border-radius: 50%;\n",
              "      cursor: pointer;\n",
              "      display: none;\n",
              "      fill: #1967D2;\n",
              "      height: 32px;\n",
              "      padding: 0 0 0 0;\n",
              "      width: 32px;\n",
              "    }\n",
              "\n",
              "    .colab-df-convert:hover {\n",
              "      background-color: #E2EBFA;\n",
              "      box-shadow: 0px 1px 2px rgba(60, 64, 67, 0.3), 0px 1px 3px 1px rgba(60, 64, 67, 0.15);\n",
              "      fill: #174EA6;\n",
              "    }\n",
              "\n",
              "    [theme=dark] .colab-df-convert {\n",
              "      background-color: #3B4455;\n",
              "      fill: #D2E3FC;\n",
              "    }\n",
              "\n",
              "    [theme=dark] .colab-df-convert:hover {\n",
              "      background-color: #434B5C;\n",
              "      box-shadow: 0px 1px 3px 1px rgba(0, 0, 0, 0.15);\n",
              "      filter: drop-shadow(0px 1px 2px rgba(0, 0, 0, 0.3));\n",
              "      fill: #FFFFFF;\n",
              "    }\n",
              "  </style>\n",
              "\n",
              "      <script>\n",
              "        const buttonEl =\n",
              "          document.querySelector('#df-32bd856c-1cd5-4731-9a37-e76bae3ea9ad button.colab-df-convert');\n",
              "        buttonEl.style.display =\n",
              "          google.colab.kernel.accessAllowed ? 'block' : 'none';\n",
              "\n",
              "        async function convertToInteractive(key) {\n",
              "          const element = document.querySelector('#df-32bd856c-1cd5-4731-9a37-e76bae3ea9ad');\n",
              "          const dataTable =\n",
              "            await google.colab.kernel.invokeFunction('convertToInteractive',\n",
              "                                                     [key], {});\n",
              "          if (!dataTable) return;\n",
              "\n",
              "          const docLinkHtml = 'Like what you see? Visit the ' +\n",
              "            '<a target=\"_blank\" href=https://colab.research.google.com/notebooks/data_table.ipynb>data table notebook</a>'\n",
              "            + ' to learn more about interactive tables.';\n",
              "          element.innerHTML = '';\n",
              "          dataTable['output_type'] = 'display_data';\n",
              "          await google.colab.output.renderOutput(dataTable, element);\n",
              "          const docLink = document.createElement('div');\n",
              "          docLink.innerHTML = docLinkHtml;\n",
              "          element.appendChild(docLink);\n",
              "        }\n",
              "      </script>\n",
              "    </div>\n",
              "  </div>\n",
              "  "
            ]
          },
          "metadata": {},
          "execution_count": 113
        }
      ]
    },
    {
      "cell_type": "markdown",
      "source": [
        "## *Outlier treatment for numeric vars*"
      ],
      "metadata": {
        "id": "O1kr_aic5vkV"
      }
    },
    {
      "cell_type": "code",
      "source": [
        "full_data_2 =df_dev_2.copy()\n",
        "for col in ['administrative', 'administrative_duration',\n",
        "       'informational', 'informational_duration', 'productrelated',\n",
        "       'productrelated_duration', 'bouncerates', 'exitrates', 'pagevalues']: \n",
        "    sorted(full_data_2[col])\n",
        "    p1,p99 = np.percentile(full_data_2[col], [1, 99]) \n",
        "    lower_bound = p1\n",
        "    upper_bound = p99\n",
        "\n",
        "    full_data_2[col] = np.where(full_data_2[col] < lower_bound, lower_bound, full_data_2[col])\n",
        "    full_data_2[col] = np.where(full_data_2[col] > upper_bound, upper_bound, full_data_2[col])"
      ],
      "metadata": {
        "id": "Lfr5jdCp5e-L"
      },
      "execution_count": null,
      "outputs": []
    },
    {
      "cell_type": "code",
      "source": [
        "desc_2 = full_data_2.describe().T\n",
        "desc_2"
      ],
      "metadata": {
        "colab": {
          "base_uri": "https://localhost:8080/",
          "height": 1000
        },
        "id": "yE82PLPG63Rl",
        "outputId": "823ce0d1-7926-4176-a66b-b95ad85d462e"
      },
      "execution_count": null,
      "outputs": [
        {
          "output_type": "execute_result",
          "data": {
            "text/plain": [
              "                                 count           mean            std  \\\n",
              "session_id                     40000.0  311469.372075  108498.432497   \n",
              "administrative                 40000.0       2.514700       3.547478   \n",
              "administrative_duration        40000.0      85.697041     155.410080   \n",
              "informational                  40000.0       0.535325       1.222759   \n",
              "informational_duration         40000.0      37.032721     121.227814   \n",
              "productrelated                 40000.0      33.178825      41.696011   \n",
              "productrelated_duration        40000.0    1122.846472    1512.190409   \n",
              "bouncerates                    40000.0       0.021969       0.048533   \n",
              "exitrates                      40000.0       0.042315       0.048626   \n",
              "pagevalues                     40000.0       6.150048      15.261080   \n",
              "specialday                     40000.0       0.063552       0.199463   \n",
              "weekend                        40000.0       0.223675       0.416712   \n",
              "revenue                        40000.0       0.158275       0.365003   \n",
              "month_Dec                      40000.0       0.140525       0.347535   \n",
              "month_Feb                      40000.0       0.017400       0.130758   \n",
              "month_Jul                      40000.0       0.035725       0.185606   \n",
              "month_June                     40000.0       0.021425       0.144798   \n",
              "month_Mar                      40000.0       0.152150       0.359171   \n",
              "month_May                      40000.0       0.276200       0.447123   \n",
              "month_Nov                      40000.0       0.240625       0.427468   \n",
              "month_Oct                      40000.0       0.041525       0.199504   \n",
              "month_Sep                      40000.0       0.037575       0.190168   \n",
              "OS_1                           40000.0       0.202600       0.401942   \n",
              "OS_2                           40000.0       0.540950       0.498327   \n",
              "OS_3                           40000.0       0.210975       0.408006   \n",
              "browser_1                      40000.0       0.188925       0.391454   \n",
              "browser_4                      40000.0       0.069575       0.254433   \n",
              "browser_5                      40000.0       0.043075       0.203029   \n",
              "region_2                       40000.0       0.091050       0.287684   \n",
              "region_3                       40000.0       0.195825       0.396839   \n",
              "region_4                       40000.0       0.101150       0.301531   \n",
              "region_5                       40000.0       0.030050       0.170727   \n",
              "region_6                       40000.0       0.068875       0.253245   \n",
              "region_7                       40000.0       0.063075       0.243101   \n",
              "region_8                       40000.0       0.037200       0.189254   \n",
              "region_9                       40000.0       0.044050       0.205209   \n",
              "traffictype_1                  40000.0       0.183075       0.386733   \n",
              "traffictype_10                 40000.0       0.037750       0.190593   \n",
              "traffictype_13                 40000.0       0.071500       0.257661   \n",
              "traffictype_3                  40000.0       0.168825       0.374602   \n",
              "traffictype_4                  40000.0       0.090550       0.286972   \n",
              "traffictype_5                  40000.0       0.021850       0.146195   \n",
              "traffictype_6                  40000.0       0.036425       0.187348   \n",
              "traffictype_8                  40000.0       0.031750       0.175336   \n",
              "visitortype_New_Visitor        40000.0       0.130600       0.336967   \n",
              "visitortype_Returning_Visitor  40000.0       0.862400       0.344484   \n",
              "\n",
              "                                      min            25%            50%  \\\n",
              "session_id                     123460.000  217950.000000  311194.500000   \n",
              "administrative                      0.000       0.000000       1.000000   \n",
              "administrative_duration             0.000       0.000000      11.200000   \n",
              "informational                       0.000       0.000000       0.000000   \n",
              "informational_duration              0.000       0.000000       0.000000   \n",
              "productrelated                      1.000       7.000000      19.000000   \n",
              "productrelated_duration             0.000     183.883333     560.075000   \n",
              "bouncerates                         0.000       0.000000       0.003304   \n",
              "exitrates                           0.001       0.013389       0.025000   \n",
              "pagevalues                          0.000       0.000000       0.000000   \n",
              "specialday                          0.000       0.000000       0.000000   \n",
              "weekend                             0.000       0.000000       0.000000   \n",
              "revenue                             0.000       0.000000       0.000000   \n",
              "month_Dec                           0.000       0.000000       0.000000   \n",
              "month_Feb                           0.000       0.000000       0.000000   \n",
              "month_Jul                           0.000       0.000000       0.000000   \n",
              "month_June                          0.000       0.000000       0.000000   \n",
              "month_Mar                           0.000       0.000000       0.000000   \n",
              "month_May                           0.000       0.000000       0.000000   \n",
              "month_Nov                           0.000       0.000000       0.000000   \n",
              "month_Oct                           0.000       0.000000       0.000000   \n",
              "month_Sep                           0.000       0.000000       0.000000   \n",
              "OS_1                                0.000       0.000000       0.000000   \n",
              "OS_2                                0.000       0.000000       1.000000   \n",
              "OS_3                                0.000       0.000000       0.000000   \n",
              "browser_1                           0.000       0.000000       0.000000   \n",
              "browser_4                           0.000       0.000000       0.000000   \n",
              "browser_5                           0.000       0.000000       0.000000   \n",
              "region_2                            0.000       0.000000       0.000000   \n",
              "region_3                            0.000       0.000000       0.000000   \n",
              "region_4                            0.000       0.000000       0.000000   \n",
              "region_5                            0.000       0.000000       0.000000   \n",
              "region_6                            0.000       0.000000       0.000000   \n",
              "region_7                            0.000       0.000000       0.000000   \n",
              "region_8                            0.000       0.000000       0.000000   \n",
              "region_9                            0.000       0.000000       0.000000   \n",
              "traffictype_1                       0.000       0.000000       0.000000   \n",
              "traffictype_10                      0.000       0.000000       0.000000   \n",
              "traffictype_13                      0.000       0.000000       0.000000   \n",
              "traffictype_3                       0.000       0.000000       0.000000   \n",
              "traffictype_4                       0.000       0.000000       0.000000   \n",
              "traffictype_5                       0.000       0.000000       0.000000   \n",
              "traffictype_6                       0.000       0.000000       0.000000   \n",
              "traffictype_8                       0.000       0.000000       0.000000   \n",
              "visitortype_New_Visitor             0.000       0.000000       0.000000   \n",
              "visitortype_Returning_Visitor       0.000       1.000000       1.000000   \n",
              "\n",
              "                                         75%            max  \n",
              "session_id                     404680.500000  499982.000000  \n",
              "administrative                      4.000000      15.000000  \n",
              "administrative_duration           110.154167     910.705000  \n",
              "informational                       0.000000       6.000000  \n",
              "informational_duration              0.000000     814.608390  \n",
              "productrelated                     41.000000     229.000000  \n",
              "productrelated_duration          1420.536667    8168.789720  \n",
              "bouncerates                         0.016667       0.200000  \n",
              "exitrates                           0.050000       0.200000  \n",
              "pagevalues                          0.000000      82.407773  \n",
              "specialday                          0.000000       1.000000  \n",
              "weekend                             0.000000       1.000000  \n",
              "revenue                             0.000000       1.000000  \n",
              "month_Dec                           0.000000       1.000000  \n",
              "month_Feb                           0.000000       1.000000  \n",
              "month_Jul                           0.000000       1.000000  \n",
              "month_June                          0.000000       1.000000  \n",
              "month_Mar                           0.000000       1.000000  \n",
              "month_May                           1.000000       1.000000  \n",
              "month_Nov                           0.000000       1.000000  \n",
              "month_Oct                           0.000000       1.000000  \n",
              "month_Sep                           0.000000       1.000000  \n",
              "OS_1                                0.000000       1.000000  \n",
              "OS_2                                1.000000       1.000000  \n",
              "OS_3                                0.000000       1.000000  \n",
              "browser_1                           0.000000       1.000000  \n",
              "browser_4                           0.000000       1.000000  \n",
              "browser_5                           0.000000       1.000000  \n",
              "region_2                            0.000000       1.000000  \n",
              "region_3                            0.000000       1.000000  \n",
              "region_4                            0.000000       1.000000  \n",
              "region_5                            0.000000       1.000000  \n",
              "region_6                            0.000000       1.000000  \n",
              "region_7                            0.000000       1.000000  \n",
              "region_8                            0.000000       1.000000  \n",
              "region_9                            0.000000       1.000000  \n",
              "traffictype_1                       0.000000       1.000000  \n",
              "traffictype_10                      0.000000       1.000000  \n",
              "traffictype_13                      0.000000       1.000000  \n",
              "traffictype_3                       0.000000       1.000000  \n",
              "traffictype_4                       0.000000       1.000000  \n",
              "traffictype_5                       0.000000       1.000000  \n",
              "traffictype_6                       0.000000       1.000000  \n",
              "traffictype_8                       0.000000       1.000000  \n",
              "visitortype_New_Visitor             0.000000       1.000000  \n",
              "visitortype_Returning_Visitor       1.000000       1.000000  "
            ],
            "text/html": [
              "\n",
              "  <div id=\"df-928d0ba3-dfb4-4872-bbc4-33bf54872c02\">\n",
              "    <div class=\"colab-df-container\">\n",
              "      <div>\n",
              "<style scoped>\n",
              "    .dataframe tbody tr th:only-of-type {\n",
              "        vertical-align: middle;\n",
              "    }\n",
              "\n",
              "    .dataframe tbody tr th {\n",
              "        vertical-align: top;\n",
              "    }\n",
              "\n",
              "    .dataframe thead th {\n",
              "        text-align: right;\n",
              "    }\n",
              "</style>\n",
              "<table border=\"1\" class=\"dataframe\">\n",
              "  <thead>\n",
              "    <tr style=\"text-align: right;\">\n",
              "      <th></th>\n",
              "      <th>count</th>\n",
              "      <th>mean</th>\n",
              "      <th>std</th>\n",
              "      <th>min</th>\n",
              "      <th>25%</th>\n",
              "      <th>50%</th>\n",
              "      <th>75%</th>\n",
              "      <th>max</th>\n",
              "    </tr>\n",
              "  </thead>\n",
              "  <tbody>\n",
              "    <tr>\n",
              "      <th>session_id</th>\n",
              "      <td>40000.0</td>\n",
              "      <td>311469.372075</td>\n",
              "      <td>108498.432497</td>\n",
              "      <td>123460.000</td>\n",
              "      <td>217950.000000</td>\n",
              "      <td>311194.500000</td>\n",
              "      <td>404680.500000</td>\n",
              "      <td>499982.000000</td>\n",
              "    </tr>\n",
              "    <tr>\n",
              "      <th>administrative</th>\n",
              "      <td>40000.0</td>\n",
              "      <td>2.514700</td>\n",
              "      <td>3.547478</td>\n",
              "      <td>0.000</td>\n",
              "      <td>0.000000</td>\n",
              "      <td>1.000000</td>\n",
              "      <td>4.000000</td>\n",
              "      <td>15.000000</td>\n",
              "    </tr>\n",
              "    <tr>\n",
              "      <th>administrative_duration</th>\n",
              "      <td>40000.0</td>\n",
              "      <td>85.697041</td>\n",
              "      <td>155.410080</td>\n",
              "      <td>0.000</td>\n",
              "      <td>0.000000</td>\n",
              "      <td>11.200000</td>\n",
              "      <td>110.154167</td>\n",
              "      <td>910.705000</td>\n",
              "    </tr>\n",
              "    <tr>\n",
              "      <th>informational</th>\n",
              "      <td>40000.0</td>\n",
              "      <td>0.535325</td>\n",
              "      <td>1.222759</td>\n",
              "      <td>0.000</td>\n",
              "      <td>0.000000</td>\n",
              "      <td>0.000000</td>\n",
              "      <td>0.000000</td>\n",
              "      <td>6.000000</td>\n",
              "    </tr>\n",
              "    <tr>\n",
              "      <th>informational_duration</th>\n",
              "      <td>40000.0</td>\n",
              "      <td>37.032721</td>\n",
              "      <td>121.227814</td>\n",
              "      <td>0.000</td>\n",
              "      <td>0.000000</td>\n",
              "      <td>0.000000</td>\n",
              "      <td>0.000000</td>\n",
              "      <td>814.608390</td>\n",
              "    </tr>\n",
              "    <tr>\n",
              "      <th>productrelated</th>\n",
              "      <td>40000.0</td>\n",
              "      <td>33.178825</td>\n",
              "      <td>41.696011</td>\n",
              "      <td>1.000</td>\n",
              "      <td>7.000000</td>\n",
              "      <td>19.000000</td>\n",
              "      <td>41.000000</td>\n",
              "      <td>229.000000</td>\n",
              "    </tr>\n",
              "    <tr>\n",
              "      <th>productrelated_duration</th>\n",
              "      <td>40000.0</td>\n",
              "      <td>1122.846472</td>\n",
              "      <td>1512.190409</td>\n",
              "      <td>0.000</td>\n",
              "      <td>183.883333</td>\n",
              "      <td>560.075000</td>\n",
              "      <td>1420.536667</td>\n",
              "      <td>8168.789720</td>\n",
              "    </tr>\n",
              "    <tr>\n",
              "      <th>bouncerates</th>\n",
              "      <td>40000.0</td>\n",
              "      <td>0.021969</td>\n",
              "      <td>0.048533</td>\n",
              "      <td>0.000</td>\n",
              "      <td>0.000000</td>\n",
              "      <td>0.003304</td>\n",
              "      <td>0.016667</td>\n",
              "      <td>0.200000</td>\n",
              "    </tr>\n",
              "    <tr>\n",
              "      <th>exitrates</th>\n",
              "      <td>40000.0</td>\n",
              "      <td>0.042315</td>\n",
              "      <td>0.048626</td>\n",
              "      <td>0.001</td>\n",
              "      <td>0.013389</td>\n",
              "      <td>0.025000</td>\n",
              "      <td>0.050000</td>\n",
              "      <td>0.200000</td>\n",
              "    </tr>\n",
              "    <tr>\n",
              "      <th>pagevalues</th>\n",
              "      <td>40000.0</td>\n",
              "      <td>6.150048</td>\n",
              "      <td>15.261080</td>\n",
              "      <td>0.000</td>\n",
              "      <td>0.000000</td>\n",
              "      <td>0.000000</td>\n",
              "      <td>0.000000</td>\n",
              "      <td>82.407773</td>\n",
              "    </tr>\n",
              "    <tr>\n",
              "      <th>specialday</th>\n",
              "      <td>40000.0</td>\n",
              "      <td>0.063552</td>\n",
              "      <td>0.199463</td>\n",
              "      <td>0.000</td>\n",
              "      <td>0.000000</td>\n",
              "      <td>0.000000</td>\n",
              "      <td>0.000000</td>\n",
              "      <td>1.000000</td>\n",
              "    </tr>\n",
              "    <tr>\n",
              "      <th>weekend</th>\n",
              "      <td>40000.0</td>\n",
              "      <td>0.223675</td>\n",
              "      <td>0.416712</td>\n",
              "      <td>0.000</td>\n",
              "      <td>0.000000</td>\n",
              "      <td>0.000000</td>\n",
              "      <td>0.000000</td>\n",
              "      <td>1.000000</td>\n",
              "    </tr>\n",
              "    <tr>\n",
              "      <th>revenue</th>\n",
              "      <td>40000.0</td>\n",
              "      <td>0.158275</td>\n",
              "      <td>0.365003</td>\n",
              "      <td>0.000</td>\n",
              "      <td>0.000000</td>\n",
              "      <td>0.000000</td>\n",
              "      <td>0.000000</td>\n",
              "      <td>1.000000</td>\n",
              "    </tr>\n",
              "    <tr>\n",
              "      <th>month_Dec</th>\n",
              "      <td>40000.0</td>\n",
              "      <td>0.140525</td>\n",
              "      <td>0.347535</td>\n",
              "      <td>0.000</td>\n",
              "      <td>0.000000</td>\n",
              "      <td>0.000000</td>\n",
              "      <td>0.000000</td>\n",
              "      <td>1.000000</td>\n",
              "    </tr>\n",
              "    <tr>\n",
              "      <th>month_Feb</th>\n",
              "      <td>40000.0</td>\n",
              "      <td>0.017400</td>\n",
              "      <td>0.130758</td>\n",
              "      <td>0.000</td>\n",
              "      <td>0.000000</td>\n",
              "      <td>0.000000</td>\n",
              "      <td>0.000000</td>\n",
              "      <td>1.000000</td>\n",
              "    </tr>\n",
              "    <tr>\n",
              "      <th>month_Jul</th>\n",
              "      <td>40000.0</td>\n",
              "      <td>0.035725</td>\n",
              "      <td>0.185606</td>\n",
              "      <td>0.000</td>\n",
              "      <td>0.000000</td>\n",
              "      <td>0.000000</td>\n",
              "      <td>0.000000</td>\n",
              "      <td>1.000000</td>\n",
              "    </tr>\n",
              "    <tr>\n",
              "      <th>month_June</th>\n",
              "      <td>40000.0</td>\n",
              "      <td>0.021425</td>\n",
              "      <td>0.144798</td>\n",
              "      <td>0.000</td>\n",
              "      <td>0.000000</td>\n",
              "      <td>0.000000</td>\n",
              "      <td>0.000000</td>\n",
              "      <td>1.000000</td>\n",
              "    </tr>\n",
              "    <tr>\n",
              "      <th>month_Mar</th>\n",
              "      <td>40000.0</td>\n",
              "      <td>0.152150</td>\n",
              "      <td>0.359171</td>\n",
              "      <td>0.000</td>\n",
              "      <td>0.000000</td>\n",
              "      <td>0.000000</td>\n",
              "      <td>0.000000</td>\n",
              "      <td>1.000000</td>\n",
              "    </tr>\n",
              "    <tr>\n",
              "      <th>month_May</th>\n",
              "      <td>40000.0</td>\n",
              "      <td>0.276200</td>\n",
              "      <td>0.447123</td>\n",
              "      <td>0.000</td>\n",
              "      <td>0.000000</td>\n",
              "      <td>0.000000</td>\n",
              "      <td>1.000000</td>\n",
              "      <td>1.000000</td>\n",
              "    </tr>\n",
              "    <tr>\n",
              "      <th>month_Nov</th>\n",
              "      <td>40000.0</td>\n",
              "      <td>0.240625</td>\n",
              "      <td>0.427468</td>\n",
              "      <td>0.000</td>\n",
              "      <td>0.000000</td>\n",
              "      <td>0.000000</td>\n",
              "      <td>0.000000</td>\n",
              "      <td>1.000000</td>\n",
              "    </tr>\n",
              "    <tr>\n",
              "      <th>month_Oct</th>\n",
              "      <td>40000.0</td>\n",
              "      <td>0.041525</td>\n",
              "      <td>0.199504</td>\n",
              "      <td>0.000</td>\n",
              "      <td>0.000000</td>\n",
              "      <td>0.000000</td>\n",
              "      <td>0.000000</td>\n",
              "      <td>1.000000</td>\n",
              "    </tr>\n",
              "    <tr>\n",
              "      <th>month_Sep</th>\n",
              "      <td>40000.0</td>\n",
              "      <td>0.037575</td>\n",
              "      <td>0.190168</td>\n",
              "      <td>0.000</td>\n",
              "      <td>0.000000</td>\n",
              "      <td>0.000000</td>\n",
              "      <td>0.000000</td>\n",
              "      <td>1.000000</td>\n",
              "    </tr>\n",
              "    <tr>\n",
              "      <th>OS_1</th>\n",
              "      <td>40000.0</td>\n",
              "      <td>0.202600</td>\n",
              "      <td>0.401942</td>\n",
              "      <td>0.000</td>\n",
              "      <td>0.000000</td>\n",
              "      <td>0.000000</td>\n",
              "      <td>0.000000</td>\n",
              "      <td>1.000000</td>\n",
              "    </tr>\n",
              "    <tr>\n",
              "      <th>OS_2</th>\n",
              "      <td>40000.0</td>\n",
              "      <td>0.540950</td>\n",
              "      <td>0.498327</td>\n",
              "      <td>0.000</td>\n",
              "      <td>0.000000</td>\n",
              "      <td>1.000000</td>\n",
              "      <td>1.000000</td>\n",
              "      <td>1.000000</td>\n",
              "    </tr>\n",
              "    <tr>\n",
              "      <th>OS_3</th>\n",
              "      <td>40000.0</td>\n",
              "      <td>0.210975</td>\n",
              "      <td>0.408006</td>\n",
              "      <td>0.000</td>\n",
              "      <td>0.000000</td>\n",
              "      <td>0.000000</td>\n",
              "      <td>0.000000</td>\n",
              "      <td>1.000000</td>\n",
              "    </tr>\n",
              "    <tr>\n",
              "      <th>browser_1</th>\n",
              "      <td>40000.0</td>\n",
              "      <td>0.188925</td>\n",
              "      <td>0.391454</td>\n",
              "      <td>0.000</td>\n",
              "      <td>0.000000</td>\n",
              "      <td>0.000000</td>\n",
              "      <td>0.000000</td>\n",
              "      <td>1.000000</td>\n",
              "    </tr>\n",
              "    <tr>\n",
              "      <th>browser_4</th>\n",
              "      <td>40000.0</td>\n",
              "      <td>0.069575</td>\n",
              "      <td>0.254433</td>\n",
              "      <td>0.000</td>\n",
              "      <td>0.000000</td>\n",
              "      <td>0.000000</td>\n",
              "      <td>0.000000</td>\n",
              "      <td>1.000000</td>\n",
              "    </tr>\n",
              "    <tr>\n",
              "      <th>browser_5</th>\n",
              "      <td>40000.0</td>\n",
              "      <td>0.043075</td>\n",
              "      <td>0.203029</td>\n",
              "      <td>0.000</td>\n",
              "      <td>0.000000</td>\n",
              "      <td>0.000000</td>\n",
              "      <td>0.000000</td>\n",
              "      <td>1.000000</td>\n",
              "    </tr>\n",
              "    <tr>\n",
              "      <th>region_2</th>\n",
              "      <td>40000.0</td>\n",
              "      <td>0.091050</td>\n",
              "      <td>0.287684</td>\n",
              "      <td>0.000</td>\n",
              "      <td>0.000000</td>\n",
              "      <td>0.000000</td>\n",
              "      <td>0.000000</td>\n",
              "      <td>1.000000</td>\n",
              "    </tr>\n",
              "    <tr>\n",
              "      <th>region_3</th>\n",
              "      <td>40000.0</td>\n",
              "      <td>0.195825</td>\n",
              "      <td>0.396839</td>\n",
              "      <td>0.000</td>\n",
              "      <td>0.000000</td>\n",
              "      <td>0.000000</td>\n",
              "      <td>0.000000</td>\n",
              "      <td>1.000000</td>\n",
              "    </tr>\n",
              "    <tr>\n",
              "      <th>region_4</th>\n",
              "      <td>40000.0</td>\n",
              "      <td>0.101150</td>\n",
              "      <td>0.301531</td>\n",
              "      <td>0.000</td>\n",
              "      <td>0.000000</td>\n",
              "      <td>0.000000</td>\n",
              "      <td>0.000000</td>\n",
              "      <td>1.000000</td>\n",
              "    </tr>\n",
              "    <tr>\n",
              "      <th>region_5</th>\n",
              "      <td>40000.0</td>\n",
              "      <td>0.030050</td>\n",
              "      <td>0.170727</td>\n",
              "      <td>0.000</td>\n",
              "      <td>0.000000</td>\n",
              "      <td>0.000000</td>\n",
              "      <td>0.000000</td>\n",
              "      <td>1.000000</td>\n",
              "    </tr>\n",
              "    <tr>\n",
              "      <th>region_6</th>\n",
              "      <td>40000.0</td>\n",
              "      <td>0.068875</td>\n",
              "      <td>0.253245</td>\n",
              "      <td>0.000</td>\n",
              "      <td>0.000000</td>\n",
              "      <td>0.000000</td>\n",
              "      <td>0.000000</td>\n",
              "      <td>1.000000</td>\n",
              "    </tr>\n",
              "    <tr>\n",
              "      <th>region_7</th>\n",
              "      <td>40000.0</td>\n",
              "      <td>0.063075</td>\n",
              "      <td>0.243101</td>\n",
              "      <td>0.000</td>\n",
              "      <td>0.000000</td>\n",
              "      <td>0.000000</td>\n",
              "      <td>0.000000</td>\n",
              "      <td>1.000000</td>\n",
              "    </tr>\n",
              "    <tr>\n",
              "      <th>region_8</th>\n",
              "      <td>40000.0</td>\n",
              "      <td>0.037200</td>\n",
              "      <td>0.189254</td>\n",
              "      <td>0.000</td>\n",
              "      <td>0.000000</td>\n",
              "      <td>0.000000</td>\n",
              "      <td>0.000000</td>\n",
              "      <td>1.000000</td>\n",
              "    </tr>\n",
              "    <tr>\n",
              "      <th>region_9</th>\n",
              "      <td>40000.0</td>\n",
              "      <td>0.044050</td>\n",
              "      <td>0.205209</td>\n",
              "      <td>0.000</td>\n",
              "      <td>0.000000</td>\n",
              "      <td>0.000000</td>\n",
              "      <td>0.000000</td>\n",
              "      <td>1.000000</td>\n",
              "    </tr>\n",
              "    <tr>\n",
              "      <th>traffictype_1</th>\n",
              "      <td>40000.0</td>\n",
              "      <td>0.183075</td>\n",
              "      <td>0.386733</td>\n",
              "      <td>0.000</td>\n",
              "      <td>0.000000</td>\n",
              "      <td>0.000000</td>\n",
              "      <td>0.000000</td>\n",
              "      <td>1.000000</td>\n",
              "    </tr>\n",
              "    <tr>\n",
              "      <th>traffictype_10</th>\n",
              "      <td>40000.0</td>\n",
              "      <td>0.037750</td>\n",
              "      <td>0.190593</td>\n",
              "      <td>0.000</td>\n",
              "      <td>0.000000</td>\n",
              "      <td>0.000000</td>\n",
              "      <td>0.000000</td>\n",
              "      <td>1.000000</td>\n",
              "    </tr>\n",
              "    <tr>\n",
              "      <th>traffictype_13</th>\n",
              "      <td>40000.0</td>\n",
              "      <td>0.071500</td>\n",
              "      <td>0.257661</td>\n",
              "      <td>0.000</td>\n",
              "      <td>0.000000</td>\n",
              "      <td>0.000000</td>\n",
              "      <td>0.000000</td>\n",
              "      <td>1.000000</td>\n",
              "    </tr>\n",
              "    <tr>\n",
              "      <th>traffictype_3</th>\n",
              "      <td>40000.0</td>\n",
              "      <td>0.168825</td>\n",
              "      <td>0.374602</td>\n",
              "      <td>0.000</td>\n",
              "      <td>0.000000</td>\n",
              "      <td>0.000000</td>\n",
              "      <td>0.000000</td>\n",
              "      <td>1.000000</td>\n",
              "    </tr>\n",
              "    <tr>\n",
              "      <th>traffictype_4</th>\n",
              "      <td>40000.0</td>\n",
              "      <td>0.090550</td>\n",
              "      <td>0.286972</td>\n",
              "      <td>0.000</td>\n",
              "      <td>0.000000</td>\n",
              "      <td>0.000000</td>\n",
              "      <td>0.000000</td>\n",
              "      <td>1.000000</td>\n",
              "    </tr>\n",
              "    <tr>\n",
              "      <th>traffictype_5</th>\n",
              "      <td>40000.0</td>\n",
              "      <td>0.021850</td>\n",
              "      <td>0.146195</td>\n",
              "      <td>0.000</td>\n",
              "      <td>0.000000</td>\n",
              "      <td>0.000000</td>\n",
              "      <td>0.000000</td>\n",
              "      <td>1.000000</td>\n",
              "    </tr>\n",
              "    <tr>\n",
              "      <th>traffictype_6</th>\n",
              "      <td>40000.0</td>\n",
              "      <td>0.036425</td>\n",
              "      <td>0.187348</td>\n",
              "      <td>0.000</td>\n",
              "      <td>0.000000</td>\n",
              "      <td>0.000000</td>\n",
              "      <td>0.000000</td>\n",
              "      <td>1.000000</td>\n",
              "    </tr>\n",
              "    <tr>\n",
              "      <th>traffictype_8</th>\n",
              "      <td>40000.0</td>\n",
              "      <td>0.031750</td>\n",
              "      <td>0.175336</td>\n",
              "      <td>0.000</td>\n",
              "      <td>0.000000</td>\n",
              "      <td>0.000000</td>\n",
              "      <td>0.000000</td>\n",
              "      <td>1.000000</td>\n",
              "    </tr>\n",
              "    <tr>\n",
              "      <th>visitortype_New_Visitor</th>\n",
              "      <td>40000.0</td>\n",
              "      <td>0.130600</td>\n",
              "      <td>0.336967</td>\n",
              "      <td>0.000</td>\n",
              "      <td>0.000000</td>\n",
              "      <td>0.000000</td>\n",
              "      <td>0.000000</td>\n",
              "      <td>1.000000</td>\n",
              "    </tr>\n",
              "    <tr>\n",
              "      <th>visitortype_Returning_Visitor</th>\n",
              "      <td>40000.0</td>\n",
              "      <td>0.862400</td>\n",
              "      <td>0.344484</td>\n",
              "      <td>0.000</td>\n",
              "      <td>1.000000</td>\n",
              "      <td>1.000000</td>\n",
              "      <td>1.000000</td>\n",
              "      <td>1.000000</td>\n",
              "    </tr>\n",
              "  </tbody>\n",
              "</table>\n",
              "</div>\n",
              "      <button class=\"colab-df-convert\" onclick=\"convertToInteractive('df-928d0ba3-dfb4-4872-bbc4-33bf54872c02')\"\n",
              "              title=\"Convert this dataframe to an interactive table.\"\n",
              "              style=\"display:none;\">\n",
              "        \n",
              "  <svg xmlns=\"http://www.w3.org/2000/svg\" height=\"24px\"viewBox=\"0 0 24 24\"\n",
              "       width=\"24px\">\n",
              "    <path d=\"M0 0h24v24H0V0z\" fill=\"none\"/>\n",
              "    <path d=\"M18.56 5.44l.94 2.06.94-2.06 2.06-.94-2.06-.94-.94-2.06-.94 2.06-2.06.94zm-11 1L8.5 8.5l.94-2.06 2.06-.94-2.06-.94L8.5 2.5l-.94 2.06-2.06.94zm10 10l.94 2.06.94-2.06 2.06-.94-2.06-.94-.94-2.06-.94 2.06-2.06.94z\"/><path d=\"M17.41 7.96l-1.37-1.37c-.4-.4-.92-.59-1.43-.59-.52 0-1.04.2-1.43.59L10.3 9.45l-7.72 7.72c-.78.78-.78 2.05 0 2.83L4 21.41c.39.39.9.59 1.41.59.51 0 1.02-.2 1.41-.59l7.78-7.78 2.81-2.81c.8-.78.8-2.07 0-2.86zM5.41 20L4 18.59l7.72-7.72 1.47 1.35L5.41 20z\"/>\n",
              "  </svg>\n",
              "      </button>\n",
              "      \n",
              "  <style>\n",
              "    .colab-df-container {\n",
              "      display:flex;\n",
              "      flex-wrap:wrap;\n",
              "      gap: 12px;\n",
              "    }\n",
              "\n",
              "    .colab-df-convert {\n",
              "      background-color: #E8F0FE;\n",
              "      border: none;\n",
              "      border-radius: 50%;\n",
              "      cursor: pointer;\n",
              "      display: none;\n",
              "      fill: #1967D2;\n",
              "      height: 32px;\n",
              "      padding: 0 0 0 0;\n",
              "      width: 32px;\n",
              "    }\n",
              "\n",
              "    .colab-df-convert:hover {\n",
              "      background-color: #E2EBFA;\n",
              "      box-shadow: 0px 1px 2px rgba(60, 64, 67, 0.3), 0px 1px 3px 1px rgba(60, 64, 67, 0.15);\n",
              "      fill: #174EA6;\n",
              "    }\n",
              "\n",
              "    [theme=dark] .colab-df-convert {\n",
              "      background-color: #3B4455;\n",
              "      fill: #D2E3FC;\n",
              "    }\n",
              "\n",
              "    [theme=dark] .colab-df-convert:hover {\n",
              "      background-color: #434B5C;\n",
              "      box-shadow: 0px 1px 3px 1px rgba(0, 0, 0, 0.15);\n",
              "      filter: drop-shadow(0px 1px 2px rgba(0, 0, 0, 0.3));\n",
              "      fill: #FFFFFF;\n",
              "    }\n",
              "  </style>\n",
              "\n",
              "      <script>\n",
              "        const buttonEl =\n",
              "          document.querySelector('#df-928d0ba3-dfb4-4872-bbc4-33bf54872c02 button.colab-df-convert');\n",
              "        buttonEl.style.display =\n",
              "          google.colab.kernel.accessAllowed ? 'block' : 'none';\n",
              "\n",
              "        async function convertToInteractive(key) {\n",
              "          const element = document.querySelector('#df-928d0ba3-dfb4-4872-bbc4-33bf54872c02');\n",
              "          const dataTable =\n",
              "            await google.colab.kernel.invokeFunction('convertToInteractive',\n",
              "                                                     [key], {});\n",
              "          if (!dataTable) return;\n",
              "\n",
              "          const docLinkHtml = 'Like what you see? Visit the ' +\n",
              "            '<a target=\"_blank\" href=https://colab.research.google.com/notebooks/data_table.ipynb>data table notebook</a>'\n",
              "            + ' to learn more about interactive tables.';\n",
              "          element.innerHTML = '';\n",
              "          dataTable['output_type'] = 'display_data';\n",
              "          await google.colab.output.renderOutput(dataTable, element);\n",
              "          const docLink = document.createElement('div');\n",
              "          docLink.innerHTML = docLinkHtml;\n",
              "          element.appendChild(docLink);\n",
              "        }\n",
              "      </script>\n",
              "    </div>\n",
              "  </div>\n",
              "  "
            ]
          },
          "metadata": {},
          "execution_count": 128
        }
      ]
    },
    {
      "cell_type": "code",
      "source": [
        "# To inspect the features with low variance\n",
        "low_var_features = list(desc_2[desc_2['std']==0].index)"
      ],
      "metadata": {
        "id": "F2o_M_3j6-yw"
      },
      "execution_count": null,
      "outputs": []
    },
    {
      "cell_type": "code",
      "source": [
        "# by inspection there are no low varaince features\n",
        "low_var_features"
      ],
      "metadata": {
        "colab": {
          "base_uri": "https://localhost:8080/"
        },
        "id": "OaEhiujA7CUX",
        "outputId": "9bac9873-355f-43b3-9037-7866c1de62d4"
      },
      "execution_count": null,
      "outputs": [
        {
          "output_type": "execute_result",
          "data": {
            "text/plain": [
              "[]"
            ]
          },
          "metadata": {},
          "execution_count": 130
        }
      ]
    },
    {
      "cell_type": "markdown",
      "source": [
        "## Standard scaler"
      ],
      "metadata": {
        "id": "G-i1x-fz6wQu"
      }
    },
    {
      "cell_type": "code",
      "source": [
        "feat_lst = ['administrative', 'administrative_duration',\n",
        "       'informational', 'informational_duration', 'productrelated',\n",
        "       'productrelated_duration', 'bouncerates', 'exitrates', 'pagevalues']"
      ],
      "metadata": {
        "id": "MqGCoFLt6wB7"
      },
      "execution_count": null,
      "outputs": []
    },
    {
      "cell_type": "code",
      "source": [
        "from sklearn.preprocessing import StandardScaler\n",
        "scaler = StandardScaler()\n",
        "full_data_scaled_num = pd.DataFrame(scaler.fit_transform(full_data_2[feat_lst]), index=full_data_2.index, columns=feat_lst)"
      ],
      "metadata": {
        "id": "U9uqvBzA5e4N"
      },
      "execution_count": null,
      "outputs": []
    },
    {
      "cell_type": "code",
      "source": [
        "full_data_2.shape"
      ],
      "metadata": {
        "colab": {
          "base_uri": "https://localhost:8080/"
        },
        "id": "upN5E9pZ8BrR",
        "outputId": "8561a9fb-f9cc-410e-d411-c41d9381d58f"
      },
      "execution_count": null,
      "outputs": [
        {
          "output_type": "execute_result",
          "data": {
            "text/plain": [
              "(40000, 46)"
            ]
          },
          "metadata": {},
          "execution_count": 134
        }
      ]
    },
    {
      "cell_type": "code",
      "source": [
        "full_data_2.head()"
      ],
      "metadata": {
        "colab": {
          "base_uri": "https://localhost:8080/",
          "height": 299
        },
        "id": "K1CawJ-mDMdQ",
        "outputId": "f76f826e-fa73-450a-b3e0-1f832417ac2e"
      },
      "execution_count": null,
      "outputs": [
        {
          "output_type": "execute_result",
          "data": {
            "text/plain": [
              "   session_id  administrative  administrative_duration  informational  \\\n",
              "0      139957             2.0                47.500000            0.0   \n",
              "1      496587             0.0                 0.000000            0.0   \n",
              "2      440268             7.0               206.500000            1.0   \n",
              "3      294672             1.0                18.258571            0.0   \n",
              "4      497475             0.0                 0.000000            0.0   \n",
              "\n",
              "   informational_duration  productrelated  productrelated_duration  \\\n",
              "0                     0.0            19.0              1203.480714   \n",
              "1                     0.0             7.0               152.000000   \n",
              "2                   389.9            95.0              4415.889952   \n",
              "3                     0.0           103.0              8168.789720   \n",
              "4                     0.0            42.0              1305.108333   \n",
              "\n",
              "   bouncerates  exitrates  pagevalues  ...  traffictype_1  traffictype_10  \\\n",
              "0     0.000000   0.027421    6.748509  ...              0               0   \n",
              "1     0.000000   0.033333    0.000000  ...              0               0   \n",
              "2     0.000133   0.033750    2.676062  ...              0               0   \n",
              "3     0.004871   0.034746    6.824908  ...              0               0   \n",
              "4     0.016068   0.039742    0.000000  ...              0               0   \n",
              "\n",
              "   traffictype_13  traffictype_3  traffictype_4  traffictype_5  traffictype_6  \\\n",
              "0               0              0              0              0              0   \n",
              "1               0              1              0              0              0   \n",
              "2               0              0              0              0              0   \n",
              "3               0              0              0              0              0   \n",
              "4               0              0              0              0              0   \n",
              "\n",
              "   traffictype_8  visitortype_New_Visitor  visitortype_Returning_Visitor  \n",
              "0              0                        0                              1  \n",
              "1              0                        0                              1  \n",
              "2              0                        0                              1  \n",
              "3              0                        0                              1  \n",
              "4              0                        0                              1  \n",
              "\n",
              "[5 rows x 46 columns]"
            ],
            "text/html": [
              "\n",
              "  <div id=\"df-a44a6268-8710-4b61-8fea-d0e566abc9cd\">\n",
              "    <div class=\"colab-df-container\">\n",
              "      <div>\n",
              "<style scoped>\n",
              "    .dataframe tbody tr th:only-of-type {\n",
              "        vertical-align: middle;\n",
              "    }\n",
              "\n",
              "    .dataframe tbody tr th {\n",
              "        vertical-align: top;\n",
              "    }\n",
              "\n",
              "    .dataframe thead th {\n",
              "        text-align: right;\n",
              "    }\n",
              "</style>\n",
              "<table border=\"1\" class=\"dataframe\">\n",
              "  <thead>\n",
              "    <tr style=\"text-align: right;\">\n",
              "      <th></th>\n",
              "      <th>session_id</th>\n",
              "      <th>administrative</th>\n",
              "      <th>administrative_duration</th>\n",
              "      <th>informational</th>\n",
              "      <th>informational_duration</th>\n",
              "      <th>productrelated</th>\n",
              "      <th>productrelated_duration</th>\n",
              "      <th>bouncerates</th>\n",
              "      <th>exitrates</th>\n",
              "      <th>pagevalues</th>\n",
              "      <th>...</th>\n",
              "      <th>traffictype_1</th>\n",
              "      <th>traffictype_10</th>\n",
              "      <th>traffictype_13</th>\n",
              "      <th>traffictype_3</th>\n",
              "      <th>traffictype_4</th>\n",
              "      <th>traffictype_5</th>\n",
              "      <th>traffictype_6</th>\n",
              "      <th>traffictype_8</th>\n",
              "      <th>visitortype_New_Visitor</th>\n",
              "      <th>visitortype_Returning_Visitor</th>\n",
              "    </tr>\n",
              "  </thead>\n",
              "  <tbody>\n",
              "    <tr>\n",
              "      <th>0</th>\n",
              "      <td>139957</td>\n",
              "      <td>2.0</td>\n",
              "      <td>47.500000</td>\n",
              "      <td>0.0</td>\n",
              "      <td>0.0</td>\n",
              "      <td>19.0</td>\n",
              "      <td>1203.480714</td>\n",
              "      <td>0.000000</td>\n",
              "      <td>0.027421</td>\n",
              "      <td>6.748509</td>\n",
              "      <td>...</td>\n",
              "      <td>0</td>\n",
              "      <td>0</td>\n",
              "      <td>0</td>\n",
              "      <td>0</td>\n",
              "      <td>0</td>\n",
              "      <td>0</td>\n",
              "      <td>0</td>\n",
              "      <td>0</td>\n",
              "      <td>0</td>\n",
              "      <td>1</td>\n",
              "    </tr>\n",
              "    <tr>\n",
              "      <th>1</th>\n",
              "      <td>496587</td>\n",
              "      <td>0.0</td>\n",
              "      <td>0.000000</td>\n",
              "      <td>0.0</td>\n",
              "      <td>0.0</td>\n",
              "      <td>7.0</td>\n",
              "      <td>152.000000</td>\n",
              "      <td>0.000000</td>\n",
              "      <td>0.033333</td>\n",
              "      <td>0.000000</td>\n",
              "      <td>...</td>\n",
              "      <td>0</td>\n",
              "      <td>0</td>\n",
              "      <td>0</td>\n",
              "      <td>1</td>\n",
              "      <td>0</td>\n",
              "      <td>0</td>\n",
              "      <td>0</td>\n",
              "      <td>0</td>\n",
              "      <td>0</td>\n",
              "      <td>1</td>\n",
              "    </tr>\n",
              "    <tr>\n",
              "      <th>2</th>\n",
              "      <td>440268</td>\n",
              "      <td>7.0</td>\n",
              "      <td>206.500000</td>\n",
              "      <td>1.0</td>\n",
              "      <td>389.9</td>\n",
              "      <td>95.0</td>\n",
              "      <td>4415.889952</td>\n",
              "      <td>0.000133</td>\n",
              "      <td>0.033750</td>\n",
              "      <td>2.676062</td>\n",
              "      <td>...</td>\n",
              "      <td>0</td>\n",
              "      <td>0</td>\n",
              "      <td>0</td>\n",
              "      <td>0</td>\n",
              "      <td>0</td>\n",
              "      <td>0</td>\n",
              "      <td>0</td>\n",
              "      <td>0</td>\n",
              "      <td>0</td>\n",
              "      <td>1</td>\n",
              "    </tr>\n",
              "    <tr>\n",
              "      <th>3</th>\n",
              "      <td>294672</td>\n",
              "      <td>1.0</td>\n",
              "      <td>18.258571</td>\n",
              "      <td>0.0</td>\n",
              "      <td>0.0</td>\n",
              "      <td>103.0</td>\n",
              "      <td>8168.789720</td>\n",
              "      <td>0.004871</td>\n",
              "      <td>0.034746</td>\n",
              "      <td>6.824908</td>\n",
              "      <td>...</td>\n",
              "      <td>0</td>\n",
              "      <td>0</td>\n",
              "      <td>0</td>\n",
              "      <td>0</td>\n",
              "      <td>0</td>\n",
              "      <td>0</td>\n",
              "      <td>0</td>\n",
              "      <td>0</td>\n",
              "      <td>0</td>\n",
              "      <td>1</td>\n",
              "    </tr>\n",
              "    <tr>\n",
              "      <th>4</th>\n",
              "      <td>497475</td>\n",
              "      <td>0.0</td>\n",
              "      <td>0.000000</td>\n",
              "      <td>0.0</td>\n",
              "      <td>0.0</td>\n",
              "      <td>42.0</td>\n",
              "      <td>1305.108333</td>\n",
              "      <td>0.016068</td>\n",
              "      <td>0.039742</td>\n",
              "      <td>0.000000</td>\n",
              "      <td>...</td>\n",
              "      <td>0</td>\n",
              "      <td>0</td>\n",
              "      <td>0</td>\n",
              "      <td>0</td>\n",
              "      <td>0</td>\n",
              "      <td>0</td>\n",
              "      <td>0</td>\n",
              "      <td>0</td>\n",
              "      <td>0</td>\n",
              "      <td>1</td>\n",
              "    </tr>\n",
              "  </tbody>\n",
              "</table>\n",
              "<p>5 rows × 46 columns</p>\n",
              "</div>\n",
              "      <button class=\"colab-df-convert\" onclick=\"convertToInteractive('df-a44a6268-8710-4b61-8fea-d0e566abc9cd')\"\n",
              "              title=\"Convert this dataframe to an interactive table.\"\n",
              "              style=\"display:none;\">\n",
              "        \n",
              "  <svg xmlns=\"http://www.w3.org/2000/svg\" height=\"24px\"viewBox=\"0 0 24 24\"\n",
              "       width=\"24px\">\n",
              "    <path d=\"M0 0h24v24H0V0z\" fill=\"none\"/>\n",
              "    <path d=\"M18.56 5.44l.94 2.06.94-2.06 2.06-.94-2.06-.94-.94-2.06-.94 2.06-2.06.94zm-11 1L8.5 8.5l.94-2.06 2.06-.94-2.06-.94L8.5 2.5l-.94 2.06-2.06.94zm10 10l.94 2.06.94-2.06 2.06-.94-2.06-.94-.94-2.06-.94 2.06-2.06.94z\"/><path d=\"M17.41 7.96l-1.37-1.37c-.4-.4-.92-.59-1.43-.59-.52 0-1.04.2-1.43.59L10.3 9.45l-7.72 7.72c-.78.78-.78 2.05 0 2.83L4 21.41c.39.39.9.59 1.41.59.51 0 1.02-.2 1.41-.59l7.78-7.78 2.81-2.81c.8-.78.8-2.07 0-2.86zM5.41 20L4 18.59l7.72-7.72 1.47 1.35L5.41 20z\"/>\n",
              "  </svg>\n",
              "      </button>\n",
              "      \n",
              "  <style>\n",
              "    .colab-df-container {\n",
              "      display:flex;\n",
              "      flex-wrap:wrap;\n",
              "      gap: 12px;\n",
              "    }\n",
              "\n",
              "    .colab-df-convert {\n",
              "      background-color: #E8F0FE;\n",
              "      border: none;\n",
              "      border-radius: 50%;\n",
              "      cursor: pointer;\n",
              "      display: none;\n",
              "      fill: #1967D2;\n",
              "      height: 32px;\n",
              "      padding: 0 0 0 0;\n",
              "      width: 32px;\n",
              "    }\n",
              "\n",
              "    .colab-df-convert:hover {\n",
              "      background-color: #E2EBFA;\n",
              "      box-shadow: 0px 1px 2px rgba(60, 64, 67, 0.3), 0px 1px 3px 1px rgba(60, 64, 67, 0.15);\n",
              "      fill: #174EA6;\n",
              "    }\n",
              "\n",
              "    [theme=dark] .colab-df-convert {\n",
              "      background-color: #3B4455;\n",
              "      fill: #D2E3FC;\n",
              "    }\n",
              "\n",
              "    [theme=dark] .colab-df-convert:hover {\n",
              "      background-color: #434B5C;\n",
              "      box-shadow: 0px 1px 3px 1px rgba(0, 0, 0, 0.15);\n",
              "      filter: drop-shadow(0px 1px 2px rgba(0, 0, 0, 0.3));\n",
              "      fill: #FFFFFF;\n",
              "    }\n",
              "  </style>\n",
              "\n",
              "      <script>\n",
              "        const buttonEl =\n",
              "          document.querySelector('#df-a44a6268-8710-4b61-8fea-d0e566abc9cd button.colab-df-convert');\n",
              "        buttonEl.style.display =\n",
              "          google.colab.kernel.accessAllowed ? 'block' : 'none';\n",
              "\n",
              "        async function convertToInteractive(key) {\n",
              "          const element = document.querySelector('#df-a44a6268-8710-4b61-8fea-d0e566abc9cd');\n",
              "          const dataTable =\n",
              "            await google.colab.kernel.invokeFunction('convertToInteractive',\n",
              "                                                     [key], {});\n",
              "          if (!dataTable) return;\n",
              "\n",
              "          const docLinkHtml = 'Like what you see? Visit the ' +\n",
              "            '<a target=\"_blank\" href=https://colab.research.google.com/notebooks/data_table.ipynb>data table notebook</a>'\n",
              "            + ' to learn more about interactive tables.';\n",
              "          element.innerHTML = '';\n",
              "          dataTable['output_type'] = 'display_data';\n",
              "          await google.colab.output.renderOutput(dataTable, element);\n",
              "          const docLink = document.createElement('div');\n",
              "          docLink.innerHTML = docLinkHtml;\n",
              "          element.appendChild(docLink);\n",
              "        }\n",
              "      </script>\n",
              "    </div>\n",
              "  </div>\n",
              "  "
            ]
          },
          "metadata": {},
          "execution_count": 140
        }
      ]
    },
    {
      "cell_type": "code",
      "source": [
        "full_data_scaled_num.head()"
      ],
      "metadata": {
        "colab": {
          "base_uri": "https://localhost:8080/",
          "height": 270
        },
        "id": "z_92kp4z5e1q",
        "outputId": "36863f0b-8d48-4e12-ff99-2b77c67089d1"
      },
      "execution_count": null,
      "outputs": [
        {
          "output_type": "execute_result",
          "data": {
            "text/plain": [
              "   administrative  administrative_duration  informational  \\\n",
              "0       -0.145091                -0.245785      -0.437806   \n",
              "1       -0.708879                -0.551432      -0.437806   \n",
              "2        1.264379                 0.777327       0.380026   \n",
              "3       -0.426985                -0.433944      -0.437806   \n",
              "4       -0.708879                -0.551432      -0.437806   \n",
              "\n",
              "   informational_duration  productrelated  productrelated_duration  \\\n",
              "0               -0.305484       -0.340057                 0.053323   \n",
              "1               -0.305484       -0.627857                -0.642021   \n",
              "2                2.910815        1.482683                 2.177692   \n",
              "3               -0.305484        1.674550                 4.659487   \n",
              "4               -0.305484        0.211562                 0.120530   \n",
              "\n",
              "   bouncerates  exitrates  pagevalues  \n",
              "0    -0.452663  -0.306305    0.039215  \n",
              "1    -0.452663  -0.184720   -0.402994  \n",
              "2    -0.449923  -0.176150   -0.227640  \n",
              "3    -0.352301  -0.155665    0.044222  \n",
              "4    -0.121583  -0.052919   -0.402994  "
            ],
            "text/html": [
              "\n",
              "  <div id=\"df-ab1b7fb1-626d-4242-ab9f-40922a5f0244\">\n",
              "    <div class=\"colab-df-container\">\n",
              "      <div>\n",
              "<style scoped>\n",
              "    .dataframe tbody tr th:only-of-type {\n",
              "        vertical-align: middle;\n",
              "    }\n",
              "\n",
              "    .dataframe tbody tr th {\n",
              "        vertical-align: top;\n",
              "    }\n",
              "\n",
              "    .dataframe thead th {\n",
              "        text-align: right;\n",
              "    }\n",
              "</style>\n",
              "<table border=\"1\" class=\"dataframe\">\n",
              "  <thead>\n",
              "    <tr style=\"text-align: right;\">\n",
              "      <th></th>\n",
              "      <th>administrative</th>\n",
              "      <th>administrative_duration</th>\n",
              "      <th>informational</th>\n",
              "      <th>informational_duration</th>\n",
              "      <th>productrelated</th>\n",
              "      <th>productrelated_duration</th>\n",
              "      <th>bouncerates</th>\n",
              "      <th>exitrates</th>\n",
              "      <th>pagevalues</th>\n",
              "    </tr>\n",
              "  </thead>\n",
              "  <tbody>\n",
              "    <tr>\n",
              "      <th>0</th>\n",
              "      <td>-0.145091</td>\n",
              "      <td>-0.245785</td>\n",
              "      <td>-0.437806</td>\n",
              "      <td>-0.305484</td>\n",
              "      <td>-0.340057</td>\n",
              "      <td>0.053323</td>\n",
              "      <td>-0.452663</td>\n",
              "      <td>-0.306305</td>\n",
              "      <td>0.039215</td>\n",
              "    </tr>\n",
              "    <tr>\n",
              "      <th>1</th>\n",
              "      <td>-0.708879</td>\n",
              "      <td>-0.551432</td>\n",
              "      <td>-0.437806</td>\n",
              "      <td>-0.305484</td>\n",
              "      <td>-0.627857</td>\n",
              "      <td>-0.642021</td>\n",
              "      <td>-0.452663</td>\n",
              "      <td>-0.184720</td>\n",
              "      <td>-0.402994</td>\n",
              "    </tr>\n",
              "    <tr>\n",
              "      <th>2</th>\n",
              "      <td>1.264379</td>\n",
              "      <td>0.777327</td>\n",
              "      <td>0.380026</td>\n",
              "      <td>2.910815</td>\n",
              "      <td>1.482683</td>\n",
              "      <td>2.177692</td>\n",
              "      <td>-0.449923</td>\n",
              "      <td>-0.176150</td>\n",
              "      <td>-0.227640</td>\n",
              "    </tr>\n",
              "    <tr>\n",
              "      <th>3</th>\n",
              "      <td>-0.426985</td>\n",
              "      <td>-0.433944</td>\n",
              "      <td>-0.437806</td>\n",
              "      <td>-0.305484</td>\n",
              "      <td>1.674550</td>\n",
              "      <td>4.659487</td>\n",
              "      <td>-0.352301</td>\n",
              "      <td>-0.155665</td>\n",
              "      <td>0.044222</td>\n",
              "    </tr>\n",
              "    <tr>\n",
              "      <th>4</th>\n",
              "      <td>-0.708879</td>\n",
              "      <td>-0.551432</td>\n",
              "      <td>-0.437806</td>\n",
              "      <td>-0.305484</td>\n",
              "      <td>0.211562</td>\n",
              "      <td>0.120530</td>\n",
              "      <td>-0.121583</td>\n",
              "      <td>-0.052919</td>\n",
              "      <td>-0.402994</td>\n",
              "    </tr>\n",
              "  </tbody>\n",
              "</table>\n",
              "</div>\n",
              "      <button class=\"colab-df-convert\" onclick=\"convertToInteractive('df-ab1b7fb1-626d-4242-ab9f-40922a5f0244')\"\n",
              "              title=\"Convert this dataframe to an interactive table.\"\n",
              "              style=\"display:none;\">\n",
              "        \n",
              "  <svg xmlns=\"http://www.w3.org/2000/svg\" height=\"24px\"viewBox=\"0 0 24 24\"\n",
              "       width=\"24px\">\n",
              "    <path d=\"M0 0h24v24H0V0z\" fill=\"none\"/>\n",
              "    <path d=\"M18.56 5.44l.94 2.06.94-2.06 2.06-.94-2.06-.94-.94-2.06-.94 2.06-2.06.94zm-11 1L8.5 8.5l.94-2.06 2.06-.94-2.06-.94L8.5 2.5l-.94 2.06-2.06.94zm10 10l.94 2.06.94-2.06 2.06-.94-2.06-.94-.94-2.06-.94 2.06-2.06.94z\"/><path d=\"M17.41 7.96l-1.37-1.37c-.4-.4-.92-.59-1.43-.59-.52 0-1.04.2-1.43.59L10.3 9.45l-7.72 7.72c-.78.78-.78 2.05 0 2.83L4 21.41c.39.39.9.59 1.41.59.51 0 1.02-.2 1.41-.59l7.78-7.78 2.81-2.81c.8-.78.8-2.07 0-2.86zM5.41 20L4 18.59l7.72-7.72 1.47 1.35L5.41 20z\"/>\n",
              "  </svg>\n",
              "      </button>\n",
              "      \n",
              "  <style>\n",
              "    .colab-df-container {\n",
              "      display:flex;\n",
              "      flex-wrap:wrap;\n",
              "      gap: 12px;\n",
              "    }\n",
              "\n",
              "    .colab-df-convert {\n",
              "      background-color: #E8F0FE;\n",
              "      border: none;\n",
              "      border-radius: 50%;\n",
              "      cursor: pointer;\n",
              "      display: none;\n",
              "      fill: #1967D2;\n",
              "      height: 32px;\n",
              "      padding: 0 0 0 0;\n",
              "      width: 32px;\n",
              "    }\n",
              "\n",
              "    .colab-df-convert:hover {\n",
              "      background-color: #E2EBFA;\n",
              "      box-shadow: 0px 1px 2px rgba(60, 64, 67, 0.3), 0px 1px 3px 1px rgba(60, 64, 67, 0.15);\n",
              "      fill: #174EA6;\n",
              "    }\n",
              "\n",
              "    [theme=dark] .colab-df-convert {\n",
              "      background-color: #3B4455;\n",
              "      fill: #D2E3FC;\n",
              "    }\n",
              "\n",
              "    [theme=dark] .colab-df-convert:hover {\n",
              "      background-color: #434B5C;\n",
              "      box-shadow: 0px 1px 3px 1px rgba(0, 0, 0, 0.15);\n",
              "      filter: drop-shadow(0px 1px 2px rgba(0, 0, 0, 0.3));\n",
              "      fill: #FFFFFF;\n",
              "    }\n",
              "  </style>\n",
              "\n",
              "      <script>\n",
              "        const buttonEl =\n",
              "          document.querySelector('#df-ab1b7fb1-626d-4242-ab9f-40922a5f0244 button.colab-df-convert');\n",
              "        buttonEl.style.display =\n",
              "          google.colab.kernel.accessAllowed ? 'block' : 'none';\n",
              "\n",
              "        async function convertToInteractive(key) {\n",
              "          const element = document.querySelector('#df-ab1b7fb1-626d-4242-ab9f-40922a5f0244');\n",
              "          const dataTable =\n",
              "            await google.colab.kernel.invokeFunction('convertToInteractive',\n",
              "                                                     [key], {});\n",
              "          if (!dataTable) return;\n",
              "\n",
              "          const docLinkHtml = 'Like what you see? Visit the ' +\n",
              "            '<a target=\"_blank\" href=https://colab.research.google.com/notebooks/data_table.ipynb>data table notebook</a>'\n",
              "            + ' to learn more about interactive tables.';\n",
              "          element.innerHTML = '';\n",
              "          dataTable['output_type'] = 'display_data';\n",
              "          await google.colab.output.renderOutput(dataTable, element);\n",
              "          const docLink = document.createElement('div');\n",
              "          docLink.innerHTML = docLinkHtml;\n",
              "          element.appendChild(docLink);\n",
              "        }\n",
              "      </script>\n",
              "    </div>\n",
              "  </div>\n",
              "  "
            ]
          },
          "metadata": {},
          "execution_count": 137
        }
      ]
    },
    {
      "cell_type": "code",
      "source": [
        "full_data_dev_scaled = pd.concat([full_data_2.drop(feat_lst,axis=1),full_data_scaled_num],axis=1)"
      ],
      "metadata": {
        "id": "b_pAKBBf5ezO"
      },
      "execution_count": null,
      "outputs": []
    },
    {
      "cell_type": "code",
      "source": [
        "full_data_dev_scaled.shape"
      ],
      "metadata": {
        "colab": {
          "base_uri": "https://localhost:8080/"
        },
        "id": "DILsJ9My5ewm",
        "outputId": "1e7e125d-a69e-4b1f-a3a1-12a539b083b8"
      },
      "execution_count": null,
      "outputs": [
        {
          "output_type": "execute_result",
          "data": {
            "text/plain": [
              "(40000, 46)"
            ]
          },
          "metadata": {},
          "execution_count": 139
        }
      ]
    },
    {
      "cell_type": "code",
      "source": [
        "full_data_dev_scaled.to_csv('devdata_cleaned.csv',index=False)"
      ],
      "metadata": {
        "id": "L5FzE7Vw5etz"
      },
      "execution_count": null,
      "outputs": []
    },
    {
      "cell_type": "markdown",
      "source": [
        "#### Cleaning function for test data"
      ],
      "metadata": {
        "id": "BTa-H-97DqMH"
      }
    },
    {
      "cell_type": "code",
      "source": [
        "def cleaner(data):\n",
        "\n",
        "  data[\"weekend\"] = data[\"weekend\"].astype(int)\n",
        "  month = pd.get_dummies(data['month'],prefix='month',drop_first=True)\n",
        "  full_data = pd.concat([data,month],axis=1)\n",
        "  data['operatingsystems_2'] = np.where(data['operatingsystems'].isin(['4','8','*']),'Others',data['operatingsystems'])\n",
        "  OS = pd.get_dummies(data['operatingsystems_2'],prefix='OS',drop_first=False)\n",
        "  full_data = pd.concat([full_data,OS],axis=1)\n",
        "\n",
        "  ## Dropping one of the OHE columns \n",
        "  full_data.drop('OS_Others',axis=1,inplace=True)\n",
        "  data['browser_2'] = np.where(~data['browser'].isin(['1','2','4','5']),'Others',data['browser'])\n",
        "  browser = pd.get_dummies(data['browser_2'],prefix='browser',drop_first=False)\n",
        "  full_data = pd.concat([full_data,browser],axis=1)\n",
        "  full_data.drop('browser_Others',axis=1,inplace=True)\n",
        "\n",
        "  region = pd.get_dummies(data['region'],prefix='region',drop_first=True)\n",
        "  full_data = pd.concat([full_data,region],axis=1)\n",
        "  data['traffictype_2'] = np.where(data['traffictype'].isin(['11','15','7','9','20','*']),'Others',data['traffictype'])\n",
        "  traffictype = pd.get_dummies(data['traffictype_2'],prefix='traffictype',drop_first=False)\n",
        "  full_data = pd.concat([full_data,traffictype],axis=1)\n",
        "  full_data.drop('traffictype_Others',axis=1,inplace=True)\n",
        "\n",
        "  visitortype = pd.get_dummies(data['visitortype'],prefix='visitortype',drop_first=False)\n",
        "  full_data = pd.concat([full_data,visitortype],axis=1)\n",
        "  full_data.drop('visitortype_Other',axis=1,inplace=True)\n",
        "\n",
        "  data_2 = full_data.drop(['month','operatingsystems','browser','region','traffictype','visitortype',\n",
        "                    'operatingsystems_2', 'browser_2', 'traffictype_2'],axis=1)\n",
        "\n",
        "\n",
        "  full_data_2 =data_2.copy()\n",
        "  for col in ['administrative', 'administrative_duration',\n",
        "        'informational', 'informational_duration', 'productrelated',\n",
        "        'productrelated_duration', 'bouncerates', 'exitrates', 'pagevalues']: \n",
        "      sorted(full_data_2[col])\n",
        "\n",
        "      p1,p99 = np.percentile(full_data_2[col], [1, 99])\n",
        "\n",
        "      lower_bound = p1\n",
        "      upper_bound = p99\n",
        "\n",
        "      full_data_2[col] = np.where(full_data_2[col] < lower_bound, lower_bound, full_data_2[col])\n",
        "      full_data_2[col] = np.where(full_data_2[col] > upper_bound, upper_bound, full_data_2[col])\n",
        "\n",
        "  feat_lst = ['administrative', 'administrative_duration',\n",
        "        'informational', 'informational_duration', 'productrelated',\n",
        "        'productrelated_duration', 'bouncerates', 'exitrates', 'pagevalues']\n",
        "  scaler = StandardScaler()\n",
        "  full_data_scaled_num = pd.DataFrame(scaler.fit_transform(full_data_2[feat_lst]), index=full_data_2.index, columns=feat_lst)\n",
        "  full_data_scaled = pd.concat([full_data_2.drop(feat_lst,axis=1),full_data_scaled_num],axis=1)\n",
        "  return full_data_scaled "
      ],
      "metadata": {
        "id": "fRcHqetp5erG"
      },
      "execution_count": null,
      "outputs": []
    },
    {
      "cell_type": "code",
      "source": [
        "full_data_test = cleaner(df_test)"
      ],
      "metadata": {
        "id": "KzeD3Rh75eo0"
      },
      "execution_count": null,
      "outputs": []
    },
    {
      "cell_type": "code",
      "source": [
        "full_data_test.shape"
      ],
      "metadata": {
        "colab": {
          "base_uri": "https://localhost:8080/"
        },
        "id": "4uqE2_yDFK3C",
        "outputId": "f1da9ea9-c866-4071-91a4-7b61e2dbeb91"
      },
      "execution_count": null,
      "outputs": [
        {
          "output_type": "execute_result",
          "data": {
            "text/plain": [
              "(10000, 45)"
            ]
          },
          "metadata": {},
          "execution_count": 156
        }
      ]
    },
    {
      "cell_type": "code",
      "source": [
        "full_data_test.head()"
      ],
      "metadata": {
        "colab": {
          "base_uri": "https://localhost:8080/",
          "height": 299
        },
        "id": "-j0E16hG5emA",
        "outputId": "cba5c303-229e-4c34-8d54-59003775d441"
      },
      "execution_count": null,
      "outputs": [
        {
          "output_type": "execute_result",
          "data": {
            "text/plain": [
              "   session_id  specialday  weekend  month_Dec  month_Feb  month_Jul  \\\n",
              "0      283149         0.0        0          0          0          0   \n",
              "1      253020         0.0        0          0          0          0   \n",
              "2      348435         0.0        0          0          0          0   \n",
              "3      299763         0.0        1          0          0          0   \n",
              "4      195120         0.0        1          0          0          0   \n",
              "\n",
              "   month_June  month_Mar  month_May  month_Nov  ...  \\\n",
              "0           0          0          0          1  ...   \n",
              "1           0          0          0          1  ...   \n",
              "2           0          1          0          0  ...   \n",
              "3           0          0          0          1  ...   \n",
              "4           0          1          0          0  ...   \n",
              "\n",
              "   visitortype_Returning_Visitor  administrative  administrative_duration  \\\n",
              "0                              0       -0.708754                -0.564273   \n",
              "1                              0       -0.708754                -0.564273   \n",
              "2                              1       -0.708754                -0.564273   \n",
              "3                              1       -0.708754                -0.564273   \n",
              "4                              1       -0.708754                -0.564273   \n",
              "\n",
              "   informational  informational_duration  productrelated  \\\n",
              "0      -0.449361               -0.309094       -0.547837   \n",
              "1      -0.449361               -0.309094       -0.386957   \n",
              "2      -0.449361               -0.309094        0.302531   \n",
              "3       0.365732                6.267626       -0.019230   \n",
              "4       1.180826               -0.170986       -0.685735   \n",
              "\n",
              "   productrelated_duration  bouncerates  exitrates  pagevalues  \n",
              "0                -0.480691    -0.449666  -0.575489   -0.400099  \n",
              "1                -0.639489    -0.079732   0.054019   -0.400099  \n",
              "2                 0.357092    -0.020217  -0.324796   -0.400099  \n",
              "3                -0.380193    -0.449666  -0.545868   -0.400099  \n",
              "4                -0.731561     3.728630   3.278091   -0.400099  \n",
              "\n",
              "[5 rows x 45 columns]"
            ],
            "text/html": [
              "\n",
              "  <div id=\"df-7a43bfbb-9edd-46b6-ae2b-b80d47a1b0e1\">\n",
              "    <div class=\"colab-df-container\">\n",
              "      <div>\n",
              "<style scoped>\n",
              "    .dataframe tbody tr th:only-of-type {\n",
              "        vertical-align: middle;\n",
              "    }\n",
              "\n",
              "    .dataframe tbody tr th {\n",
              "        vertical-align: top;\n",
              "    }\n",
              "\n",
              "    .dataframe thead th {\n",
              "        text-align: right;\n",
              "    }\n",
              "</style>\n",
              "<table border=\"1\" class=\"dataframe\">\n",
              "  <thead>\n",
              "    <tr style=\"text-align: right;\">\n",
              "      <th></th>\n",
              "      <th>session_id</th>\n",
              "      <th>specialday</th>\n",
              "      <th>weekend</th>\n",
              "      <th>month_Dec</th>\n",
              "      <th>month_Feb</th>\n",
              "      <th>month_Jul</th>\n",
              "      <th>month_June</th>\n",
              "      <th>month_Mar</th>\n",
              "      <th>month_May</th>\n",
              "      <th>month_Nov</th>\n",
              "      <th>...</th>\n",
              "      <th>visitortype_Returning_Visitor</th>\n",
              "      <th>administrative</th>\n",
              "      <th>administrative_duration</th>\n",
              "      <th>informational</th>\n",
              "      <th>informational_duration</th>\n",
              "      <th>productrelated</th>\n",
              "      <th>productrelated_duration</th>\n",
              "      <th>bouncerates</th>\n",
              "      <th>exitrates</th>\n",
              "      <th>pagevalues</th>\n",
              "    </tr>\n",
              "  </thead>\n",
              "  <tbody>\n",
              "    <tr>\n",
              "      <th>0</th>\n",
              "      <td>283149</td>\n",
              "      <td>0.0</td>\n",
              "      <td>0</td>\n",
              "      <td>0</td>\n",
              "      <td>0</td>\n",
              "      <td>0</td>\n",
              "      <td>0</td>\n",
              "      <td>0</td>\n",
              "      <td>0</td>\n",
              "      <td>1</td>\n",
              "      <td>...</td>\n",
              "      <td>0</td>\n",
              "      <td>-0.708754</td>\n",
              "      <td>-0.564273</td>\n",
              "      <td>-0.449361</td>\n",
              "      <td>-0.309094</td>\n",
              "      <td>-0.547837</td>\n",
              "      <td>-0.480691</td>\n",
              "      <td>-0.449666</td>\n",
              "      <td>-0.575489</td>\n",
              "      <td>-0.400099</td>\n",
              "    </tr>\n",
              "    <tr>\n",
              "      <th>1</th>\n",
              "      <td>253020</td>\n",
              "      <td>0.0</td>\n",
              "      <td>0</td>\n",
              "      <td>0</td>\n",
              "      <td>0</td>\n",
              "      <td>0</td>\n",
              "      <td>0</td>\n",
              "      <td>0</td>\n",
              "      <td>0</td>\n",
              "      <td>1</td>\n",
              "      <td>...</td>\n",
              "      <td>0</td>\n",
              "      <td>-0.708754</td>\n",
              "      <td>-0.564273</td>\n",
              "      <td>-0.449361</td>\n",
              "      <td>-0.309094</td>\n",
              "      <td>-0.386957</td>\n",
              "      <td>-0.639489</td>\n",
              "      <td>-0.079732</td>\n",
              "      <td>0.054019</td>\n",
              "      <td>-0.400099</td>\n",
              "    </tr>\n",
              "    <tr>\n",
              "      <th>2</th>\n",
              "      <td>348435</td>\n",
              "      <td>0.0</td>\n",
              "      <td>0</td>\n",
              "      <td>0</td>\n",
              "      <td>0</td>\n",
              "      <td>0</td>\n",
              "      <td>0</td>\n",
              "      <td>1</td>\n",
              "      <td>0</td>\n",
              "      <td>0</td>\n",
              "      <td>...</td>\n",
              "      <td>1</td>\n",
              "      <td>-0.708754</td>\n",
              "      <td>-0.564273</td>\n",
              "      <td>-0.449361</td>\n",
              "      <td>-0.309094</td>\n",
              "      <td>0.302531</td>\n",
              "      <td>0.357092</td>\n",
              "      <td>-0.020217</td>\n",
              "      <td>-0.324796</td>\n",
              "      <td>-0.400099</td>\n",
              "    </tr>\n",
              "    <tr>\n",
              "      <th>3</th>\n",
              "      <td>299763</td>\n",
              "      <td>0.0</td>\n",
              "      <td>1</td>\n",
              "      <td>0</td>\n",
              "      <td>0</td>\n",
              "      <td>0</td>\n",
              "      <td>0</td>\n",
              "      <td>0</td>\n",
              "      <td>0</td>\n",
              "      <td>1</td>\n",
              "      <td>...</td>\n",
              "      <td>1</td>\n",
              "      <td>-0.708754</td>\n",
              "      <td>-0.564273</td>\n",
              "      <td>0.365732</td>\n",
              "      <td>6.267626</td>\n",
              "      <td>-0.019230</td>\n",
              "      <td>-0.380193</td>\n",
              "      <td>-0.449666</td>\n",
              "      <td>-0.545868</td>\n",
              "      <td>-0.400099</td>\n",
              "    </tr>\n",
              "    <tr>\n",
              "      <th>4</th>\n",
              "      <td>195120</td>\n",
              "      <td>0.0</td>\n",
              "      <td>1</td>\n",
              "      <td>0</td>\n",
              "      <td>0</td>\n",
              "      <td>0</td>\n",
              "      <td>0</td>\n",
              "      <td>1</td>\n",
              "      <td>0</td>\n",
              "      <td>0</td>\n",
              "      <td>...</td>\n",
              "      <td>1</td>\n",
              "      <td>-0.708754</td>\n",
              "      <td>-0.564273</td>\n",
              "      <td>1.180826</td>\n",
              "      <td>-0.170986</td>\n",
              "      <td>-0.685735</td>\n",
              "      <td>-0.731561</td>\n",
              "      <td>3.728630</td>\n",
              "      <td>3.278091</td>\n",
              "      <td>-0.400099</td>\n",
              "    </tr>\n",
              "  </tbody>\n",
              "</table>\n",
              "<p>5 rows × 45 columns</p>\n",
              "</div>\n",
              "      <button class=\"colab-df-convert\" onclick=\"convertToInteractive('df-7a43bfbb-9edd-46b6-ae2b-b80d47a1b0e1')\"\n",
              "              title=\"Convert this dataframe to an interactive table.\"\n",
              "              style=\"display:none;\">\n",
              "        \n",
              "  <svg xmlns=\"http://www.w3.org/2000/svg\" height=\"24px\"viewBox=\"0 0 24 24\"\n",
              "       width=\"24px\">\n",
              "    <path d=\"M0 0h24v24H0V0z\" fill=\"none\"/>\n",
              "    <path d=\"M18.56 5.44l.94 2.06.94-2.06 2.06-.94-2.06-.94-.94-2.06-.94 2.06-2.06.94zm-11 1L8.5 8.5l.94-2.06 2.06-.94-2.06-.94L8.5 2.5l-.94 2.06-2.06.94zm10 10l.94 2.06.94-2.06 2.06-.94-2.06-.94-.94-2.06-.94 2.06-2.06.94z\"/><path d=\"M17.41 7.96l-1.37-1.37c-.4-.4-.92-.59-1.43-.59-.52 0-1.04.2-1.43.59L10.3 9.45l-7.72 7.72c-.78.78-.78 2.05 0 2.83L4 21.41c.39.39.9.59 1.41.59.51 0 1.02-.2 1.41-.59l7.78-7.78 2.81-2.81c.8-.78.8-2.07 0-2.86zM5.41 20L4 18.59l7.72-7.72 1.47 1.35L5.41 20z\"/>\n",
              "  </svg>\n",
              "      </button>\n",
              "      \n",
              "  <style>\n",
              "    .colab-df-container {\n",
              "      display:flex;\n",
              "      flex-wrap:wrap;\n",
              "      gap: 12px;\n",
              "    }\n",
              "\n",
              "    .colab-df-convert {\n",
              "      background-color: #E8F0FE;\n",
              "      border: none;\n",
              "      border-radius: 50%;\n",
              "      cursor: pointer;\n",
              "      display: none;\n",
              "      fill: #1967D2;\n",
              "      height: 32px;\n",
              "      padding: 0 0 0 0;\n",
              "      width: 32px;\n",
              "    }\n",
              "\n",
              "    .colab-df-convert:hover {\n",
              "      background-color: #E2EBFA;\n",
              "      box-shadow: 0px 1px 2px rgba(60, 64, 67, 0.3), 0px 1px 3px 1px rgba(60, 64, 67, 0.15);\n",
              "      fill: #174EA6;\n",
              "    }\n",
              "\n",
              "    [theme=dark] .colab-df-convert {\n",
              "      background-color: #3B4455;\n",
              "      fill: #D2E3FC;\n",
              "    }\n",
              "\n",
              "    [theme=dark] .colab-df-convert:hover {\n",
              "      background-color: #434B5C;\n",
              "      box-shadow: 0px 1px 3px 1px rgba(0, 0, 0, 0.15);\n",
              "      filter: drop-shadow(0px 1px 2px rgba(0, 0, 0, 0.3));\n",
              "      fill: #FFFFFF;\n",
              "    }\n",
              "  </style>\n",
              "\n",
              "      <script>\n",
              "        const buttonEl =\n",
              "          document.querySelector('#df-7a43bfbb-9edd-46b6-ae2b-b80d47a1b0e1 button.colab-df-convert');\n",
              "        buttonEl.style.display =\n",
              "          google.colab.kernel.accessAllowed ? 'block' : 'none';\n",
              "\n",
              "        async function convertToInteractive(key) {\n",
              "          const element = document.querySelector('#df-7a43bfbb-9edd-46b6-ae2b-b80d47a1b0e1');\n",
              "          const dataTable =\n",
              "            await google.colab.kernel.invokeFunction('convertToInteractive',\n",
              "                                                     [key], {});\n",
              "          if (!dataTable) return;\n",
              "\n",
              "          const docLinkHtml = 'Like what you see? Visit the ' +\n",
              "            '<a target=\"_blank\" href=https://colab.research.google.com/notebooks/data_table.ipynb>data table notebook</a>'\n",
              "            + ' to learn more about interactive tables.';\n",
              "          element.innerHTML = '';\n",
              "          dataTable['output_type'] = 'display_data';\n",
              "          await google.colab.output.renderOutput(dataTable, element);\n",
              "          const docLink = document.createElement('div');\n",
              "          docLink.innerHTML = docLinkHtml;\n",
              "          element.appendChild(docLink);\n",
              "        }\n",
              "      </script>\n",
              "    </div>\n",
              "  </div>\n",
              "  "
            ]
          },
          "metadata": {},
          "execution_count": 157
        }
      ]
    },
    {
      "cell_type": "code",
      "source": [
        "full_data_test.to_csv('testdata_cleaned.csv',index=False)"
      ],
      "metadata": {
        "id": "ZHBoP3cj5ejl"
      },
      "execution_count": null,
      "outputs": []
    },
    {
      "cell_type": "code",
      "source": [],
      "metadata": {
        "id": "zwqxwV7s5egy"
      },
      "execution_count": null,
      "outputs": []
    },
    {
      "cell_type": "code",
      "source": [],
      "metadata": {
        "id": "eXsqM0jJ5eeQ"
      },
      "execution_count": null,
      "outputs": []
    },
    {
      "cell_type": "markdown",
      "source": [
        "# modelling data prep"
      ],
      "metadata": {
        "id": "bw2Zg9DekHKq"
      }
    },
    {
      "cell_type": "code",
      "source": [
        "x_feats = list(full_data_dev_scaled.drop(['session_id','revenue'],axis=1).columns)\n",
        "y_feats = ['revenue']"
      ],
      "metadata": {
        "id": "tKskb1XCG1Cl"
      },
      "execution_count": null,
      "outputs": []
    },
    {
      "cell_type": "code",
      "source": [
        "from sklearn.model_selection import train_test_split\n",
        "x_train, x_test,y_train,  y_test = train_test_split(full_data_dev_scaled[x_feats],full_data_dev_scaled[y_feats],test_size = 0.2, random_state=42 ,stratify = full_data_dev_scaled[y_feats])"
      ],
      "metadata": {
        "id": "Cr81cqhkkEVr"
      },
      "execution_count": null,
      "outputs": []
    },
    {
      "cell_type": "code",
      "source": [
        "print(y_train.mean())\n",
        "print(y_test.mean())"
      ],
      "metadata": {
        "id": "-itVyiQzj2dP",
        "colab": {
          "base_uri": "https://localhost:8080/"
        },
        "outputId": "fabe3f64-9009-482b-f26a-8d2c725b9c58"
      },
      "execution_count": null,
      "outputs": [
        {
          "output_type": "stream",
          "name": "stdout",
          "text": [
            "revenue    0.158281\n",
            "dtype: float64\n",
            "revenue    0.15825\n",
            "dtype: float64\n"
          ]
        }
      ]
    },
    {
      "cell_type": "code",
      "source": [],
      "metadata": {
        "id": "11MxHe3Wj2aY"
      },
      "execution_count": null,
      "outputs": []
    },
    {
      "cell_type": "code",
      "source": [],
      "metadata": {
        "id": "N3TvFKBrjyxT"
      },
      "execution_count": null,
      "outputs": []
    },
    {
      "cell_type": "markdown",
      "source": [
        "# modelling"
      ],
      "metadata": {
        "id": "UMUh8P3zkKkv"
      }
    },
    {
      "cell_type": "markdown",
      "source": [
        "# Logistic Regression model"
      ],
      "metadata": {
        "id": "5qId0AvdIGcQ"
      }
    },
    {
      "cell_type": "code",
      "source": [
        "def roc_curve(fpr,tpr):\n",
        "    roc_auc = metrics.auc(fpr, tpr)\n",
        "    plt.figure()\n",
        "    lw = 2\n",
        "    plt.plot(fpr, tpr, color='darkorange',\n",
        "             lw=lw, label='ROC curve (area = %0.2f)' % roc_auc)\n",
        "    plt.plot([0, 1], [0, 1], color='navy', lw=lw, linestyle='--')\n",
        "    plt.xlim([0.0, 1.0])\n",
        "    plt.ylim([0.0, 1.05])\n",
        "    plt.xlabel('False Positive Rate')\n",
        "    plt.ylabel('True Positive Rate')\n",
        "    plt.title('ROC curve')\n",
        "    plt.legend(loc=\"lower right\")\n",
        "    plt.show()"
      ],
      "metadata": {
        "id": "Qe2YUn3XLEvB"
      },
      "execution_count": null,
      "outputs": []
    },
    {
      "cell_type": "code",
      "source": [
        "from sklearn.linear_model import LogisticRegression\n",
        "from sklearn.metrics import accuracy_score\n",
        "from sklearn import metrics\n",
        "import statsmodels.api as sm "
      ],
      "metadata": {
        "id": "LAY4JZ3iIKGl"
      },
      "execution_count": null,
      "outputs": []
    },
    {
      "cell_type": "code",
      "source": [
        "LG1 = LogisticRegression()\n",
        "LG1.fit(x_train,y_train)\n"
      ],
      "metadata": {
        "id": "OF6rwgf8kJAm",
        "colab": {
          "base_uri": "https://localhost:8080/"
        },
        "outputId": "d69e8c4b-62d8-47e2-b5e9-b651f7979259"
      },
      "execution_count": null,
      "outputs": [
        {
          "output_type": "stream",
          "name": "stderr",
          "text": [
            "/usr/local/lib/python3.7/dist-packages/sklearn/utils/validation.py:993: DataConversionWarning: A column-vector y was passed when a 1d array was expected. Please change the shape of y to (n_samples, ), for example using ravel().\n",
            "  y = column_or_1d(y, warn=True)\n",
            "/usr/local/lib/python3.7/dist-packages/sklearn/linear_model/_logistic.py:818: ConvergenceWarning: lbfgs failed to converge (status=1):\n",
            "STOP: TOTAL NO. of ITERATIONS REACHED LIMIT.\n",
            "\n",
            "Increase the number of iterations (max_iter) or scale the data as shown in:\n",
            "    https://scikit-learn.org/stable/modules/preprocessing.html\n",
            "Please also refer to the documentation for alternative solver options:\n",
            "    https://scikit-learn.org/stable/modules/linear_model.html#logistic-regression\n",
            "  extra_warning_msg=_LOGISTIC_SOLVER_CONVERGENCE_MSG,\n"
          ]
        },
        {
          "output_type": "execute_result",
          "data": {
            "text/plain": [
              "LogisticRegression()"
            ]
          },
          "metadata": {},
          "execution_count": 169
        }
      ]
    },
    {
      "cell_type": "code",
      "source": [
        "pred_train_LG_1 = LG1.predict(x_train)\n",
        "pred_test_LG_1 = LG1.predict(x_test)\n",
        "pred_prob_train_LG_1 = LG1.predict_proba(x_train)[:1]\n",
        "pred_prob_test_LG_1 = LG1.predict_proba(x_test)[:1]\n"
      ],
      "metadata": {
        "id": "8YC2otWnkJ8b"
      },
      "execution_count": null,
      "outputs": []
    },
    {
      "cell_type": "code",
      "source": [
        "\n",
        "accuracy_train_LG_1 = accuracy_score(pred_train_LG_1,y_train)\n",
        "accuracy_test_LG_1 = accuracy_score(pred_test_LG_1,y_test)"
      ],
      "metadata": {
        "id": "4GNalI4bIlIb"
      },
      "execution_count": null,
      "outputs": []
    },
    {
      "cell_type": "code",
      "source": [
        "confusion_LG_1_train = metrics.confusion_matrix( y_train, pred_train_LG_1 )\n",
        "confusion_LG_1_train"
      ],
      "metadata": {
        "colab": {
          "base_uri": "https://localhost:8080/"
        },
        "id": "x7jiqc9aJV2G",
        "outputId": "02e3d071-847e-47d2-9bf5-e3673bef0df8"
      },
      "execution_count": null,
      "outputs": [
        {
          "output_type": "execute_result",
          "data": {
            "text/plain": [
              "array([[26154,   781],\n",
              "       [ 3087,  1978]])"
            ]
          },
          "metadata": {},
          "execution_count": 174
        }
      ]
    },
    {
      "cell_type": "code",
      "source": [
        "confusion_LG_1_test = metrics.confusion_matrix( y_test, pred_test_LG_1 )\n",
        "confusion_LG_1_test"
      ],
      "metadata": {
        "colab": {
          "base_uri": "https://localhost:8080/"
        },
        "id": "opXdZu8gJaNI",
        "outputId": "14ba4634-675e-4c00-fa22-5c5ed53a2062"
      },
      "execution_count": null,
      "outputs": [
        {
          "output_type": "execute_result",
          "data": {
            "text/plain": [
              "array([[6523,  211],\n",
              "       [ 813,  453]])"
            ]
          },
          "metadata": {},
          "execution_count": 175
        }
      ]
    },
    {
      "cell_type": "code",
      "source": [
        "accuracy_train_LG_1"
      ],
      "metadata": {
        "colab": {
          "base_uri": "https://localhost:8080/"
        },
        "id": "2jgJ73iuImyg",
        "outputId": "91e16bf7-b4a2-4173-edb8-ae0b890681b4"
      },
      "execution_count": null,
      "outputs": [
        {
          "output_type": "execute_result",
          "data": {
            "text/plain": [
              "0.879125"
            ]
          },
          "metadata": {},
          "execution_count": 172
        }
      ]
    },
    {
      "cell_type": "code",
      "source": [
        "accuracy_test_LG_1"
      ],
      "metadata": {
        "colab": {
          "base_uri": "https://localhost:8080/"
        },
        "id": "0l22KjxUIoom",
        "outputId": "af01a79e-77b2-4b7d-cef5-792961c7d7d9"
      },
      "execution_count": null,
      "outputs": [
        {
          "output_type": "execute_result",
          "data": {
            "text/plain": [
              "0.872"
            ]
          },
          "metadata": {},
          "execution_count": 173
        }
      ]
    },
    {
      "cell_type": "code",
      "source": [
        "fpr_train_LG_1, tpr_train_LG_1, _ = metrics.roc_curve(np.array(y_train), LG1.predict_proba(x_train)[:,1])\n",
        "auc_train_LG_1 = metrics.auc(fpr_train_LG_1,tpr_train_LG_1)"
      ],
      "metadata": {
        "id": "RMGaTINiKciX"
      },
      "execution_count": null,
      "outputs": []
    },
    {
      "cell_type": "code",
      "source": [
        "fpr_test_LG_1, tpr_test_LG_1, _ = metrics.roc_curve(np.array(y_test), LG1.predict_proba(x_test)[:,1])\n",
        "auc_test_LG_1 = metrics.auc(fpr_test_LG_1,tpr_test_LG_1)"
      ],
      "metadata": {
        "id": "M7EHrifqKce-"
      },
      "execution_count": null,
      "outputs": []
    },
    {
      "cell_type": "code",
      "source": [
        "auc_train_LG_1"
      ],
      "metadata": {
        "colab": {
          "base_uri": "https://localhost:8080/"
        },
        "id": "wTYSAQGdKccm",
        "outputId": "848f9ca5-5e9c-4f82-ba9e-698002d5bdf0"
      },
      "execution_count": null,
      "outputs": [
        {
          "output_type": "execute_result",
          "data": {
            "text/plain": [
              "0.9020433125631869"
            ]
          },
          "metadata": {},
          "execution_count": 186
        }
      ]
    },
    {
      "cell_type": "code",
      "source": [
        "auc_test_LG_1"
      ],
      "metadata": {
        "colab": {
          "base_uri": "https://localhost:8080/"
        },
        "id": "g5RFBvpjKcaT",
        "outputId": "28c207b6-3704-4f81-eb12-c5e7bc4447a2"
      },
      "execution_count": null,
      "outputs": [
        {
          "output_type": "execute_result",
          "data": {
            "text/plain": [
              "0.8914331366938002"
            ]
          },
          "metadata": {},
          "execution_count": 187
        }
      ]
    },
    {
      "cell_type": "code",
      "source": [
        "print(\"Train accuracy {}\".format(accuracy_train_LG_1))\n",
        "print(\"Test accuracy is {}\".format(accuracy_test_LG_1))\n",
        "\n",
        "print('Train AUC is {}'.format(auc_train_LG_1))\n",
        "print('Test AUC is {}'.format(auc_test_LG_1))"
      ],
      "metadata": {
        "colab": {
          "base_uri": "https://localhost:8080/"
        },
        "id": "nLhKf2pAKcXv",
        "outputId": "cdb83751-9f9c-4a0a-ba93-c6a4c546894e"
      },
      "execution_count": null,
      "outputs": [
        {
          "output_type": "stream",
          "name": "stdout",
          "text": [
            "Train accuracy 0.879125\n",
            "Test accuracy is 0.872\n",
            "Train AUC is 0.9020433125631869\n",
            "Test AUC is 0.8914331366938002\n"
          ]
        }
      ]
    },
    {
      "cell_type": "code",
      "source": [
        "print(\"ROC Curve for Train sample\")\n",
        "roc_curve(fpr_train_LG_1,tpr_train_LG_1)"
      ],
      "metadata": {
        "colab": {
          "base_uri": "https://localhost:8080/",
          "height": 313
        },
        "id": "cujT-F1TKqkP",
        "outputId": "90ef84e1-708a-44b2-b1d6-1709f43ddd1a"
      },
      "execution_count": null,
      "outputs": [
        {
          "output_type": "stream",
          "name": "stdout",
          "text": [
            "ROC Curve for Train sample\n"
          ]
        },
        {
          "output_type": "display_data",
          "data": {
            "text/plain": [
              "<Figure size 432x288 with 1 Axes>"
            ],
            "image/png": "[encoded data removed]"
          },
          "metadata": {
            "needs_background": "light"
          }
        }
      ]
    },
    {
      "cell_type": "code",
      "source": [],
      "metadata": {
        "id": "xQC7y0VNKqgz"
      },
      "execution_count": null,
      "outputs": []
    },
    {
      "cell_type": "code",
      "source": [
        "y_hat_hack_proba = LG1.predict_proba(full_data_test.drop('session_id',axis=1))[: ][: , 1]\n",
        "hack_temp = full_data_test[['session_id']].copy()"
      ],
      "metadata": {
        "id": "IE0TbckyKqeJ"
      },
      "execution_count": null,
      "outputs": []
    },
    {
      "cell_type": "code",
      "source": [
        "hack_temp.reset_index(drop = True, inplace = True)"
      ],
      "metadata": {
        "id": "1NSqRDK6Lh7X"
      },
      "execution_count": null,
      "outputs": []
    },
    {
      "cell_type": "code",
      "source": [
        "hack_probs = pd.concat([hack_temp, pd.DataFrame(y_hat_hack_proba)], axis = 1)"
      ],
      "metadata": {
        "id": "R0Gv0pv6Lqcq"
      },
      "execution_count": null,
      "outputs": []
    },
    {
      "cell_type": "code",
      "source": [
        "hack_probs.columns = ['session_id','probs']"
      ],
      "metadata": {
        "id": "R68yILsqLxmD"
      },
      "execution_count": null,
      "outputs": []
    },
    {
      "cell_type": "code",
      "source": [
        "hack_probs['revenue'] = np.where(hack_probs['probs']>0.5,1,0)"
      ],
      "metadata": {
        "id": "TxLsnMVUJnTu"
      },
      "execution_count": null,
      "outputs": []
    },
    {
      "cell_type": "code",
      "source": [
        "hack_probs['probs'].describe()"
      ],
      "metadata": {
        "colab": {
          "base_uri": "https://localhost:8080/"
        },
        "id": "KwyrheN-MKta",
        "outputId": "5f4b6e7c-db28-4ab9-d5b2-0a8992b50b26"
      },
      "execution_count": null,
      "outputs": [
        {
          "output_type": "execute_result",
          "data": {
            "text/plain": [
              "count    10000.000000\n",
              "mean         0.158262\n",
              "std          0.219796\n",
              "min          0.001678\n",
              "25%          0.038863\n",
              "50%          0.072298\n",
              "75%          0.162043\n",
              "max          0.997723\n",
              "Name: probs, dtype: float64"
            ]
          },
          "metadata": {},
          "execution_count": 203
        }
      ]
    },
    {
      "cell_type": "code",
      "source": [
        "hack_probs.drop('probs',axis=1).to_csv('submission_1.csv',index=False)"
      ],
      "metadata": {
        "id": "klnLh61AMO3a"
      },
      "execution_count": null,
      "outputs": []
    },
    {
      "cell_type": "code",
      "source": [
        "hack_probs.drop('probs',axis=1).head()"
      ],
      "metadata": {
        "colab": {
          "base_uri": "https://localhost:8080/",
          "height": 206
        },
        "id": "GqjFPC2hMZh6",
        "outputId": "4af6c452-10e2-4a8b-d49e-daff6d4b8fc9"
      },
      "execution_count": null,
      "outputs": [
        {
          "output_type": "execute_result",
          "data": {
            "text/plain": [
              "   session_id  revenue\n",
              "0      283149        0\n",
              "1      253020        0\n",
              "2      348435        0\n",
              "3      299763        0\n",
              "4      195120        0"
            ],
            "text/html": [
              "\n",
              "  <div id=\"df-ef76483c-e888-48ac-a389-3eed51d7e4e1\">\n",
              "    <div class=\"colab-df-container\">\n",
              "      <div>\n",
              "<style scoped>\n",
              "    .dataframe tbody tr th:only-of-type {\n",
              "        vertical-align: middle;\n",
              "    }\n",
              "\n",
              "    .dataframe tbody tr th {\n",
              "        vertical-align: top;\n",
              "    }\n",
              "\n",
              "    .dataframe thead th {\n",
              "        text-align: right;\n",
              "    }\n",
              "</style>\n",
              "<table border=\"1\" class=\"dataframe\">\n",
              "  <thead>\n",
              "    <tr style=\"text-align: right;\">\n",
              "      <th></th>\n",
              "      <th>session_id</th>\n",
              "      <th>revenue</th>\n",
              "    </tr>\n",
              "  </thead>\n",
              "  <tbody>\n",
              "    <tr>\n",
              "      <th>0</th>\n",
              "      <td>283149</td>\n",
              "      <td>0</td>\n",
              "    </tr>\n",
              "    <tr>\n",
              "      <th>1</th>\n",
              "      <td>253020</td>\n",
              "      <td>0</td>\n",
              "    </tr>\n",
              "    <tr>\n",
              "      <th>2</th>\n",
              "      <td>348435</td>\n",
              "      <td>0</td>\n",
              "    </tr>\n",
              "    <tr>\n",
              "      <th>3</th>\n",
              "      <td>299763</td>\n",
              "      <td>0</td>\n",
              "    </tr>\n",
              "    <tr>\n",
              "      <th>4</th>\n",
              "      <td>195120</td>\n",
              "      <td>0</td>\n",
              "    </tr>\n",
              "  </tbody>\n",
              "</table>\n",
              "</div>\n",
              "      <button class=\"colab-df-convert\" onclick=\"convertToInteractive('df-ef76483c-e888-48ac-a389-3eed51d7e4e1')\"\n",
              "              title=\"Convert this dataframe to an interactive table.\"\n",
              "              style=\"display:none;\">\n",
              "        \n",
              "  <svg xmlns=\"http://www.w3.org/2000/svg\" height=\"24px\"viewBox=\"0 0 24 24\"\n",
              "       width=\"24px\">\n",
              "    <path d=\"M0 0h24v24H0V0z\" fill=\"none\"/>\n",
              "    <path d=\"M18.56 5.44l.94 2.06.94-2.06 2.06-.94-2.06-.94-.94-2.06-.94 2.06-2.06.94zm-11 1L8.5 8.5l.94-2.06 2.06-.94-2.06-.94L8.5 2.5l-.94 2.06-2.06.94zm10 10l.94 2.06.94-2.06 2.06-.94-2.06-.94-.94-2.06-.94 2.06-2.06.94z\"/><path d=\"M17.41 7.96l-1.37-1.37c-.4-.4-.92-.59-1.43-.59-.52 0-1.04.2-1.43.59L10.3 9.45l-7.72 7.72c-.78.78-.78 2.05 0 2.83L4 21.41c.39.39.9.59 1.41.59.51 0 1.02-.2 1.41-.59l7.78-7.78 2.81-2.81c.8-.78.8-2.07 0-2.86zM5.41 20L4 18.59l7.72-7.72 1.47 1.35L5.41 20z\"/>\n",
              "  </svg>\n",
              "      </button>\n",
              "      \n",
              "  <style>\n",
              "    .colab-df-container {\n",
              "      display:flex;\n",
              "      flex-wrap:wrap;\n",
              "      gap: 12px;\n",
              "    }\n",
              "\n",
              "    .colab-df-convert {\n",
              "      background-color: #E8F0FE;\n",
              "      border: none;\n",
              "      border-radius: 50%;\n",
              "      cursor: pointer;\n",
              "      display: none;\n",
              "      fill: #1967D2;\n",
              "      height: 32px;\n",
              "      padding: 0 0 0 0;\n",
              "      width: 32px;\n",
              "    }\n",
              "\n",
              "    .colab-df-convert:hover {\n",
              "      background-color: #E2EBFA;\n",
              "      box-shadow: 0px 1px 2px rgba(60, 64, 67, 0.3), 0px 1px 3px 1px rgba(60, 64, 67, 0.15);\n",
              "      fill: #174EA6;\n",
              "    }\n",
              "\n",
              "    [theme=dark] .colab-df-convert {\n",
              "      background-color: #3B4455;\n",
              "      fill: #D2E3FC;\n",
              "    }\n",
              "\n",
              "    [theme=dark] .colab-df-convert:hover {\n",
              "      background-color: #434B5C;\n",
              "      box-shadow: 0px 1px 3px 1px rgba(0, 0, 0, 0.15);\n",
              "      filter: drop-shadow(0px 1px 2px rgba(0, 0, 0, 0.3));\n",
              "      fill: #FFFFFF;\n",
              "    }\n",
              "  </style>\n",
              "\n",
              "      <script>\n",
              "        const buttonEl =\n",
              "          document.querySelector('#df-ef76483c-e888-48ac-a389-3eed51d7e4e1 button.colab-df-convert');\n",
              "        buttonEl.style.display =\n",
              "          google.colab.kernel.accessAllowed ? 'block' : 'none';\n",
              "\n",
              "        async function convertToInteractive(key) {\n",
              "          const element = document.querySelector('#df-ef76483c-e888-48ac-a389-3eed51d7e4e1');\n",
              "          const dataTable =\n",
              "            await google.colab.kernel.invokeFunction('convertToInteractive',\n",
              "                                                     [key], {});\n",
              "          if (!dataTable) return;\n",
              "\n",
              "          const docLinkHtml = 'Like what you see? Visit the ' +\n",
              "            '<a target=\"_blank\" href=https://colab.research.google.com/notebooks/data_table.ipynb>data table notebook</a>'\n",
              "            + ' to learn more about interactive tables.';\n",
              "          element.innerHTML = '';\n",
              "          dataTable['output_type'] = 'display_data';\n",
              "          await google.colab.output.renderOutput(dataTable, element);\n",
              "          const docLink = document.createElement('div');\n",
              "          docLink.innerHTML = docLinkHtml;\n",
              "          element.appendChild(docLink);\n",
              "        }\n",
              "      </script>\n",
              "    </div>\n",
              "  </div>\n",
              "  "
            ]
          },
          "metadata": {},
          "execution_count": 205
        }
      ]
    },
    {
      "cell_type": "code",
      "source": [
        "hack_probs['revenue'].value_counts()"
      ],
      "metadata": {
        "colab": {
          "base_uri": "https://localhost:8080/"
        },
        "id": "9xal6sMsMbJr",
        "outputId": "2e3af709-5adf-487e-8ea7-a91501b88c3e"
      },
      "execution_count": null,
      "outputs": [
        {
          "output_type": "execute_result",
          "data": {
            "text/plain": [
              "0    9131\n",
              "1     869\n",
              "Name: revenue, dtype: int64"
            ]
          },
          "metadata": {},
          "execution_count": 206
        }
      ]
    },
    {
      "cell_type": "code",
      "source": [],
      "metadata": {
        "id": "VhkXZkEEMfir"
      },
      "execution_count": null,
      "outputs": []
    }
  ]
}