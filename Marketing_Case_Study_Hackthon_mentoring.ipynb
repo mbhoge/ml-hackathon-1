{
 "cells": [
  {
   "cell_type": "code",
   "execution_count": 3,
   "metadata": {},
   "outputs": [],
   "source": [
    "#Libraries to be installed or upgraded, Uncomment the below lines and execute. Restart the kernel once done\n",
    "#!pip install --upgrade pip --user\n",
    "#!pip install category_encoders --user\n",
    "#!pip install statsmodels==0.10.0rc2 --pre --user"
   ]
  },
  {
   "cell_type": "code",
   "execution_count": 2,
   "metadata": {},
   "outputs": [],
   "source": [
    "import warnings\n",
    "warnings.filterwarnings(\"ignore\")"
   ]
  },
  {
   "cell_type": "code",
   "execution_count": 3,
   "metadata": {},
   "outputs": [],
   "source": [
    "#Basic Libraries\n",
    "import pandas as pd\n",
    "import numpy as np\n",
    "\n",
    "#Libraries for Data Viz\n",
    "import matplotlib.pyplot as plt\n",
    "import seaborn as sns\n",
    "\n",
    "#Libraries for Data Preprocessing\n",
    "from category_encoders import OneHotEncoder\n",
    "from sklearn.preprocessing import LabelEncoder\n",
    "from sklearn.preprocessing import StandardScaler\n",
    "from sklearn.model_selection import train_test_split\n",
    "from sklearn.model_selection import GridSearchCV\n",
    "\n",
    "#For Model Building\n",
    "from sklearn.linear_model import LogisticRegression\n",
    "from sklearn.tree import DecisionTreeClassifier\n",
    "from sklearn.svm import SVC\n",
    "\n",
    "#For obtaining performance metrics\n",
    "from sklearn.metrics import accuracy_score,f1_score,confusion_matrix, roc_curve, auc,recall_score, precision_score"
   ]
  },
  {
   "cell_type": "code",
   "execution_count": 4,
   "metadata": {},
   "outputs": [],
   "source": [
    "def fill_missing_value(df):\n",
    "    \"\"\"\n",
    "    This method will take a dataframe and calculate null count of each column and keep in a new dataframe.\n",
    "    It will check each column, if the column contains null value then it will replace the null as below\n",
    "    1. Replace null with Mode if the column is categorical\n",
    "    2. Replace null with Mean if the column is numerical\n",
    "    \n",
    "    Note: verify null value count for each columns before and after invoking this method\n",
    "    \"\"\"\n",
    "    null_df = df.isnull().sum()\n",
    "    for col in df.columns:\n",
    "        if null_df[col] > 0: # column contains null value\n",
    "            if df[col].dtype == type(object): # categorical column data type is object\n",
    "                mode_val = df[col].mode()[0]\n",
    "                print('Mode fill ({}) -> Column: {}, Missing Count: {}'.format(mode_val, col, null_df[col]))\n",
    "                df[col] = df[col].fillna(mode_val) # Mode fill for categorical column\n",
    "            else:\n",
    "                mean_val = df[col].mean()\n",
    "                print('Mean fill ({}) -> Column: {}, Missing Count: {}'.format(mean_val, col, null_df[col]))\n",
    "                df[col] = df[col].fillna(mean_val) # Mean fill for numerical column\n"
   ]
  },
  {
   "cell_type": "code",
   "execution_count": 40,
   "metadata": {},
   "outputs": [],
   "source": [
    "#data = pd.read_csv(\"MarketData_Train.csv\", na_values = \"unknown\")\n",
    "data = pd.read_csv(\"MarketData_Train.csv\")"
   ]
  },
  {
   "cell_type": "code",
   "execution_count": 41,
   "metadata": {},
   "outputs": [
    {
     "data": {
      "text/plain": [
       "(5931, 22)"
      ]
     },
     "execution_count": 41,
     "metadata": {},
     "output_type": "execute_result"
    }
   ],
   "source": [
    "data.shape"
   ]
  },
  {
   "cell_type": "code",
   "execution_count": 42,
   "metadata": {},
   "outputs": [
    {
     "data": {
      "text/html": [
       "<div>\n",
       "<style scoped>\n",
       "    .dataframe tbody tr th:only-of-type {\n",
       "        vertical-align: middle;\n",
       "    }\n",
       "\n",
       "    .dataframe tbody tr th {\n",
       "        vertical-align: top;\n",
       "    }\n",
       "\n",
       "    .dataframe thead th {\n",
       "        text-align: right;\n",
       "    }\n",
       "</style>\n",
       "<table border=\"1\" class=\"dataframe\">\n",
       "  <thead>\n",
       "    <tr style=\"text-align: right;\">\n",
       "      <th></th>\n",
       "      <th>count</th>\n",
       "      <th>mean</th>\n",
       "      <th>std</th>\n",
       "      <th>min</th>\n",
       "      <th>25%</th>\n",
       "      <th>50%</th>\n",
       "      <th>75%</th>\n",
       "      <th>max</th>\n",
       "    </tr>\n",
       "  </thead>\n",
       "  <tbody>\n",
       "    <tr>\n",
       "      <th>custAge</th>\n",
       "      <td>4491.0</td>\n",
       "      <td>40.120018</td>\n",
       "      <td>10.626168</td>\n",
       "      <td>18.000</td>\n",
       "      <td>32.000</td>\n",
       "      <td>38.000</td>\n",
       "      <td>47.000</td>\n",
       "      <td>91.000</td>\n",
       "    </tr>\n",
       "    <tr>\n",
       "      <th>campaign</th>\n",
       "      <td>5931.0</td>\n",
       "      <td>2.537683</td>\n",
       "      <td>2.757493</td>\n",
       "      <td>1.000</td>\n",
       "      <td>1.000</td>\n",
       "      <td>2.000</td>\n",
       "      <td>3.000</td>\n",
       "      <td>40.000</td>\n",
       "    </tr>\n",
       "    <tr>\n",
       "      <th>pdays</th>\n",
       "      <td>5931.0</td>\n",
       "      <td>959.147193</td>\n",
       "      <td>194.930862</td>\n",
       "      <td>0.000</td>\n",
       "      <td>999.000</td>\n",
       "      <td>999.000</td>\n",
       "      <td>999.000</td>\n",
       "      <td>999.000</td>\n",
       "    </tr>\n",
       "    <tr>\n",
       "      <th>previous</th>\n",
       "      <td>5931.0</td>\n",
       "      <td>0.183106</td>\n",
       "      <td>0.517020</td>\n",
       "      <td>0.000</td>\n",
       "      <td>0.000</td>\n",
       "      <td>0.000</td>\n",
       "      <td>0.000</td>\n",
       "      <td>6.000</td>\n",
       "    </tr>\n",
       "    <tr>\n",
       "      <th>emp.var.rate</th>\n",
       "      <td>5931.0</td>\n",
       "      <td>0.048053</td>\n",
       "      <td>1.573950</td>\n",
       "      <td>-3.400</td>\n",
       "      <td>-1.800</td>\n",
       "      <td>1.100</td>\n",
       "      <td>1.400</td>\n",
       "      <td>1.400</td>\n",
       "    </tr>\n",
       "    <tr>\n",
       "      <th>cons.price.idx</th>\n",
       "      <td>5931.0</td>\n",
       "      <td>93.570123</td>\n",
       "      <td>0.579781</td>\n",
       "      <td>92.201</td>\n",
       "      <td>93.075</td>\n",
       "      <td>93.444</td>\n",
       "      <td>93.994</td>\n",
       "      <td>94.767</td>\n",
       "    </tr>\n",
       "    <tr>\n",
       "      <th>cons.conf.idx</th>\n",
       "      <td>5931.0</td>\n",
       "      <td>-40.558995</td>\n",
       "      <td>4.664912</td>\n",
       "      <td>-50.800</td>\n",
       "      <td>-42.700</td>\n",
       "      <td>-41.800</td>\n",
       "      <td>-36.400</td>\n",
       "      <td>-26.900</td>\n",
       "    </tr>\n",
       "    <tr>\n",
       "      <th>euribor3m</th>\n",
       "      <td>5931.0</td>\n",
       "      <td>3.579383</td>\n",
       "      <td>1.747435</td>\n",
       "      <td>0.634</td>\n",
       "      <td>1.334</td>\n",
       "      <td>4.857</td>\n",
       "      <td>4.961</td>\n",
       "      <td>5.045</td>\n",
       "    </tr>\n",
       "    <tr>\n",
       "      <th>nr.employed</th>\n",
       "      <td>5931.0</td>\n",
       "      <td>5165.089546</td>\n",
       "      <td>73.178491</td>\n",
       "      <td>4963.600</td>\n",
       "      <td>5099.100</td>\n",
       "      <td>5191.000</td>\n",
       "      <td>5228.100</td>\n",
       "      <td>5228.100</td>\n",
       "    </tr>\n",
       "    <tr>\n",
       "      <th>pmonths</th>\n",
       "      <td>5931.0</td>\n",
       "      <td>958.919828</td>\n",
       "      <td>196.041632</td>\n",
       "      <td>0.000</td>\n",
       "      <td>999.000</td>\n",
       "      <td>999.000</td>\n",
       "      <td>999.000</td>\n",
       "      <td>999.000</td>\n",
       "    </tr>\n",
       "    <tr>\n",
       "      <th>pastEmail</th>\n",
       "      <td>5931.0</td>\n",
       "      <td>0.360985</td>\n",
       "      <td>1.261181</td>\n",
       "      <td>0.000</td>\n",
       "      <td>0.000</td>\n",
       "      <td>0.000</td>\n",
       "      <td>0.000</td>\n",
       "      <td>18.000</td>\n",
       "    </tr>\n",
       "  </tbody>\n",
       "</table>\n",
       "</div>"
      ],
      "text/plain": [
       "                 count         mean         std       min       25%       50%  \\\n",
       "custAge         4491.0    40.120018   10.626168    18.000    32.000    38.000   \n",
       "campaign        5931.0     2.537683    2.757493     1.000     1.000     2.000   \n",
       "pdays           5931.0   959.147193  194.930862     0.000   999.000   999.000   \n",
       "previous        5931.0     0.183106    0.517020     0.000     0.000     0.000   \n",
       "emp.var.rate    5931.0     0.048053    1.573950    -3.400    -1.800     1.100   \n",
       "cons.price.idx  5931.0    93.570123    0.579781    92.201    93.075    93.444   \n",
       "cons.conf.idx   5931.0   -40.558995    4.664912   -50.800   -42.700   -41.800   \n",
       "euribor3m       5931.0     3.579383    1.747435     0.634     1.334     4.857   \n",
       "nr.employed     5931.0  5165.089546   73.178491  4963.600  5099.100  5191.000   \n",
       "pmonths         5931.0   958.919828  196.041632     0.000   999.000   999.000   \n",
       "pastEmail       5931.0     0.360985    1.261181     0.000     0.000     0.000   \n",
       "\n",
       "                     75%       max  \n",
       "custAge           47.000    91.000  \n",
       "campaign           3.000    40.000  \n",
       "pdays            999.000   999.000  \n",
       "previous           0.000     6.000  \n",
       "emp.var.rate       1.400     1.400  \n",
       "cons.price.idx    93.994    94.767  \n",
       "cons.conf.idx    -36.400   -26.900  \n",
       "euribor3m          4.961     5.045  \n",
       "nr.employed     5228.100  5228.100  \n",
       "pmonths          999.000   999.000  \n",
       "pastEmail          0.000    18.000  "
      ]
     },
     "execution_count": 42,
     "metadata": {},
     "output_type": "execute_result"
    }
   ],
   "source": [
    "data.describe().transpose()"
   ]
  },
  {
   "cell_type": "code",
   "execution_count": 44,
   "metadata": {},
   "outputs": [
    {
     "name": "stdout",
     "output_type": "stream",
     "text": [
      "<class 'pandas.core.frame.DataFrame'>\n",
      "RangeIndex: 5931 entries, 0 to 5930\n",
      "Data columns (total 22 columns):\n",
      " #   Column          Non-Null Count  Dtype  \n",
      "---  ------          --------------  -----  \n",
      " 0   custAge         4491 non-null   float64\n",
      " 1   profession      5881 non-null   object \n",
      " 2   marital         5924 non-null   object \n",
      " 3   schooling       4048 non-null   object \n",
      " 4   default         4764 non-null   object \n",
      " 5   housing         5797 non-null   object \n",
      " 6   loan            5797 non-null   object \n",
      " 7   contact         5931 non-null   object \n",
      " 8   month           5931 non-null   object \n",
      " 9   day_of_week     5356 non-null   object \n",
      " 10  campaign        5931 non-null   int64  \n",
      " 11  pdays           5931 non-null   int64  \n",
      " 12  previous        5931 non-null   int64  \n",
      " 13  poutcome        5931 non-null   object \n",
      " 14  emp.var.rate    5931 non-null   float64\n",
      " 15  cons.price.idx  5931 non-null   float64\n",
      " 16  cons.conf.idx   5931 non-null   float64\n",
      " 17  euribor3m       5931 non-null   float64\n",
      " 18  nr.employed     5931 non-null   float64\n",
      " 19  pmonths         5931 non-null   float64\n",
      " 20  pastEmail       5931 non-null   int64  \n",
      " 21  responded       5931 non-null   object \n",
      "dtypes: float64(7), int64(4), object(11)\n",
      "memory usage: 1019.5+ KB\n"
     ]
    },
    {
     "data": {
      "text/html": [
       "<div>\n",
       "<style scoped>\n",
       "    .dataframe tbody tr th:only-of-type {\n",
       "        vertical-align: middle;\n",
       "    }\n",
       "\n",
       "    .dataframe tbody tr th {\n",
       "        vertical-align: top;\n",
       "    }\n",
       "\n",
       "    .dataframe thead th {\n",
       "        text-align: right;\n",
       "    }\n",
       "</style>\n",
       "<table border=\"1\" class=\"dataframe\">\n",
       "  <thead>\n",
       "    <tr style=\"text-align: right;\">\n",
       "      <th></th>\n",
       "      <th>custAge</th>\n",
       "      <th>profession</th>\n",
       "      <th>marital</th>\n",
       "      <th>schooling</th>\n",
       "      <th>default</th>\n",
       "      <th>housing</th>\n",
       "      <th>loan</th>\n",
       "      <th>contact</th>\n",
       "      <th>month</th>\n",
       "      <th>day_of_week</th>\n",
       "      <th>...</th>\n",
       "      <th>previous</th>\n",
       "      <th>poutcome</th>\n",
       "      <th>emp.var.rate</th>\n",
       "      <th>cons.price.idx</th>\n",
       "      <th>cons.conf.idx</th>\n",
       "      <th>euribor3m</th>\n",
       "      <th>nr.employed</th>\n",
       "      <th>pmonths</th>\n",
       "      <th>pastEmail</th>\n",
       "      <th>responded</th>\n",
       "    </tr>\n",
       "  </thead>\n",
       "  <tbody>\n",
       "    <tr>\n",
       "      <th>0</th>\n",
       "      <td>27.0</td>\n",
       "      <td>student</td>\n",
       "      <td>married</td>\n",
       "      <td>high.school</td>\n",
       "      <td>no</td>\n",
       "      <td>yes</td>\n",
       "      <td>no</td>\n",
       "      <td>telephone</td>\n",
       "      <td>may</td>\n",
       "      <td>wed</td>\n",
       "      <td>...</td>\n",
       "      <td>0</td>\n",
       "      <td>nonexistent</td>\n",
       "      <td>-1.8</td>\n",
       "      <td>93.876</td>\n",
       "      <td>-40.0</td>\n",
       "      <td>0.672</td>\n",
       "      <td>5008.7</td>\n",
       "      <td>999.0</td>\n",
       "      <td>0</td>\n",
       "      <td>no</td>\n",
       "    </tr>\n",
       "    <tr>\n",
       "      <th>1</th>\n",
       "      <td>NaN</td>\n",
       "      <td>management</td>\n",
       "      <td>single</td>\n",
       "      <td>NaN</td>\n",
       "      <td>no</td>\n",
       "      <td>yes</td>\n",
       "      <td>no</td>\n",
       "      <td>cellular</td>\n",
       "      <td>jul</td>\n",
       "      <td>mon</td>\n",
       "      <td>...</td>\n",
       "      <td>0</td>\n",
       "      <td>nonexistent</td>\n",
       "      <td>1.4</td>\n",
       "      <td>93.918</td>\n",
       "      <td>-42.7</td>\n",
       "      <td>4.962</td>\n",
       "      <td>5228.1</td>\n",
       "      <td>999.0</td>\n",
       "      <td>0</td>\n",
       "      <td>no</td>\n",
       "    </tr>\n",
       "    <tr>\n",
       "      <th>2</th>\n",
       "      <td>NaN</td>\n",
       "      <td>technician</td>\n",
       "      <td>married</td>\n",
       "      <td>NaN</td>\n",
       "      <td>NaN</td>\n",
       "      <td>yes</td>\n",
       "      <td>no</td>\n",
       "      <td>cellular</td>\n",
       "      <td>aug</td>\n",
       "      <td>thu</td>\n",
       "      <td>...</td>\n",
       "      <td>0</td>\n",
       "      <td>nonexistent</td>\n",
       "      <td>1.4</td>\n",
       "      <td>93.444</td>\n",
       "      <td>-36.1</td>\n",
       "      <td>4.963</td>\n",
       "      <td>5228.1</td>\n",
       "      <td>999.0</td>\n",
       "      <td>0</td>\n",
       "      <td>no</td>\n",
       "    </tr>\n",
       "    <tr>\n",
       "      <th>3</th>\n",
       "      <td>33.0</td>\n",
       "      <td>admin.</td>\n",
       "      <td>married</td>\n",
       "      <td>university.degree</td>\n",
       "      <td>no</td>\n",
       "      <td>no</td>\n",
       "      <td>no</td>\n",
       "      <td>cellular</td>\n",
       "      <td>nov</td>\n",
       "      <td>tue</td>\n",
       "      <td>...</td>\n",
       "      <td>0</td>\n",
       "      <td>nonexistent</td>\n",
       "      <td>-1.1</td>\n",
       "      <td>94.767</td>\n",
       "      <td>-50.8</td>\n",
       "      <td>1.035</td>\n",
       "      <td>4963.6</td>\n",
       "      <td>999.0</td>\n",
       "      <td>0</td>\n",
       "      <td>yes</td>\n",
       "    </tr>\n",
       "    <tr>\n",
       "      <th>4</th>\n",
       "      <td>NaN</td>\n",
       "      <td>NaN</td>\n",
       "      <td>married</td>\n",
       "      <td>university.degree</td>\n",
       "      <td>no</td>\n",
       "      <td>no</td>\n",
       "      <td>no</td>\n",
       "      <td>telephone</td>\n",
       "      <td>may</td>\n",
       "      <td>tue</td>\n",
       "      <td>...</td>\n",
       "      <td>0</td>\n",
       "      <td>nonexistent</td>\n",
       "      <td>1.1</td>\n",
       "      <td>93.994</td>\n",
       "      <td>-36.4</td>\n",
       "      <td>4.857</td>\n",
       "      <td>5191.0</td>\n",
       "      <td>999.0</td>\n",
       "      <td>0</td>\n",
       "      <td>no</td>\n",
       "    </tr>\n",
       "  </tbody>\n",
       "</table>\n",
       "<p>5 rows × 22 columns</p>\n",
       "</div>"
      ],
      "text/plain": [
       "   custAge  profession  marital          schooling default housing loan  \\\n",
       "0     27.0     student  married        high.school      no     yes   no   \n",
       "1      NaN  management   single                NaN      no     yes   no   \n",
       "2      NaN  technician  married                NaN     NaN     yes   no   \n",
       "3     33.0      admin.  married  university.degree      no      no   no   \n",
       "4      NaN         NaN  married  university.degree      no      no   no   \n",
       "\n",
       "     contact month day_of_week  ...  previous     poutcome  emp.var.rate  \\\n",
       "0  telephone   may         wed  ...         0  nonexistent          -1.8   \n",
       "1   cellular   jul         mon  ...         0  nonexistent           1.4   \n",
       "2   cellular   aug         thu  ...         0  nonexistent           1.4   \n",
       "3   cellular   nov         tue  ...         0  nonexistent          -1.1   \n",
       "4  telephone   may         tue  ...         0  nonexistent           1.1   \n",
       "\n",
       "  cons.price.idx  cons.conf.idx  euribor3m  nr.employed  pmonths  pastEmail  \\\n",
       "0         93.876          -40.0      0.672       5008.7    999.0          0   \n",
       "1         93.918          -42.7      4.962       5228.1    999.0          0   \n",
       "2         93.444          -36.1      4.963       5228.1    999.0          0   \n",
       "3         94.767          -50.8      1.035       4963.6    999.0          0   \n",
       "4         93.994          -36.4      4.857       5191.0    999.0          0   \n",
       "\n",
       "   responded  \n",
       "0         no  \n",
       "1         no  \n",
       "2         no  \n",
       "3        yes  \n",
       "4         no  \n",
       "\n",
       "[5 rows x 22 columns]"
      ]
     },
     "execution_count": 44,
     "metadata": {},
     "output_type": "execute_result"
    }
   ],
   "source": [
    "data.info()\n",
    "data.head()"
   ]
  },
  {
   "cell_type": "markdown",
   "metadata": {},
   "source": [
    "## Data Cleaning"
   ]
  },
  {
   "cell_type": "code",
   "execution_count": 9,
   "metadata": {},
   "outputs": [
    {
     "name": "stdout",
     "output_type": "stream",
     "text": [
      "profession: \n",
      " ['student' 'management' 'technician' 'admin.' nan 'blue-collar'\n",
      " 'unemployed' 'services' 'self-employed' 'entrepreneur' 'housemaid'\n",
      " 'retired']\n",
      "\n",
      "marital: \n",
      " ['married' 'single' 'divorced' nan]\n",
      "\n",
      "schooling: \n",
      " ['high.school' nan 'university.degree' 'basic.9y' 'basic.6y' 'basic.4y'\n",
      " 'professional.course' 'illiterate']\n",
      "\n",
      "default: \n",
      " ['no' nan 'yes']\n",
      "\n",
      "housing: \n",
      " ['yes' 'no' nan]\n",
      "\n",
      "loan: \n",
      " ['no' 'yes' nan]\n",
      "\n",
      "contact: \n",
      " ['telephone' 'cellular']\n",
      "\n",
      "month: \n",
      " ['may' 'jul' 'aug' 'nov' 'mar' 'oct' 'jun' 'apr' 'sep' 'dec']\n",
      "\n",
      "day_of_week: \n",
      " ['wed' 'mon' 'thu' 'tue' nan 'fri']\n",
      "\n",
      "poutcome: \n",
      " ['nonexistent' 'failure' 'success']\n",
      "\n",
      "responded: \n",
      " ['no' 'yes']\n",
      "\n"
     ]
    }
   ],
   "source": [
    "#Checking for unique values in categorical columns\n",
    "for i in data.columns:\n",
    "    if data[i].dtype == type(object):\n",
    "        print(i,end=': ')\n",
    "        val = data[i].unique()\n",
    "        print('\\n',val)\n",
    "        print()"
   ]
  },
  {
   "cell_type": "code",
   "execution_count": 10,
   "metadata": {},
   "outputs": [
    {
     "data": {
      "text/plain": [
       "custAge           1440\n",
       "profession          50\n",
       "marital              7\n",
       "schooling         1883\n",
       "default           1167\n",
       "housing            134\n",
       "loan               134\n",
       "contact              0\n",
       "month                0\n",
       "day_of_week        575\n",
       "campaign             0\n",
       "pdays                0\n",
       "previous             0\n",
       "poutcome             0\n",
       "emp.var.rate         0\n",
       "cons.price.idx       0\n",
       "cons.conf.idx        0\n",
       "euribor3m            0\n",
       "nr.employed          0\n",
       "pmonths              0\n",
       "pastEmail            0\n",
       "responded            0\n",
       "dtype: int64"
      ]
     },
     "execution_count": 10,
     "metadata": {},
     "output_type": "execute_result"
    }
   ],
   "source": [
    "#Checking the total missing values present in each feature of the data\n",
    "data.isnull().sum()"
   ]
  },
  {
   "cell_type": "code",
   "execution_count": 11,
   "metadata": {},
   "outputs": [
    {
     "name": "stdout",
     "output_type": "stream",
     "text": [
      "Mean fill (40.12001781340459) -> Column: custAge, Missing Count: 1440\n",
      "Mode fill (admin.) -> Column: profession, Missing Count: 50\n",
      "Mode fill (married) -> Column: marital, Missing Count: 7\n",
      "Mode fill (university.degree) -> Column: schooling, Missing Count: 1883\n",
      "Mode fill (no) -> Column: default, Missing Count: 1167\n",
      "Mode fill (yes) -> Column: housing, Missing Count: 134\n",
      "Mode fill (no) -> Column: loan, Missing Count: 134\n",
      "Mode fill (mon) -> Column: day_of_week, Missing Count: 575\n"
     ]
    },
    {
     "data": {
      "text/plain": [
       "custAge           0\n",
       "profession        0\n",
       "marital           0\n",
       "schooling         0\n",
       "default           0\n",
       "housing           0\n",
       "loan              0\n",
       "contact           0\n",
       "month             0\n",
       "day_of_week       0\n",
       "campaign          0\n",
       "pdays             0\n",
       "previous          0\n",
       "poutcome          0\n",
       "emp.var.rate      0\n",
       "cons.price.idx    0\n",
       "cons.conf.idx     0\n",
       "euribor3m         0\n",
       "nr.employed       0\n",
       "pmonths           0\n",
       "pastEmail         0\n",
       "responded         0\n",
       "dtype: int64"
      ]
     },
     "execution_count": 11,
     "metadata": {},
     "output_type": "execute_result"
    }
   ],
   "source": [
    "fill_missing_value(data)\n",
    "data.isnull().sum()"
   ]
  },
  {
   "cell_type": "code",
   "execution_count": 20,
   "metadata": {},
   "outputs": [],
   "source": [
    "# Mean Imputation Missing Values for Numeric Variables\n",
    "## data[\"custAge\"] = data[\"custAge\"].fillna(data[\"custAge\"].mean())"
   ]
  },
  {
   "cell_type": "code",
   "execution_count": 12,
   "metadata": {},
   "outputs": [
    {
     "data": {
      "text/html": [
       "<div>\n",
       "<style scoped>\n",
       "    .dataframe tbody tr th:only-of-type {\n",
       "        vertical-align: middle;\n",
       "    }\n",
       "\n",
       "    .dataframe tbody tr th {\n",
       "        vertical-align: top;\n",
       "    }\n",
       "\n",
       "    .dataframe thead th {\n",
       "        text-align: right;\n",
       "    }\n",
       "</style>\n",
       "<table border=\"1\" class=\"dataframe\">\n",
       "  <thead>\n",
       "    <tr style=\"text-align: right;\">\n",
       "      <th></th>\n",
       "      <th>count</th>\n",
       "      <th>mean</th>\n",
       "      <th>std</th>\n",
       "      <th>min</th>\n",
       "      <th>25%</th>\n",
       "      <th>50%</th>\n",
       "      <th>75%</th>\n",
       "      <th>max</th>\n",
       "    </tr>\n",
       "  </thead>\n",
       "  <tbody>\n",
       "    <tr>\n",
       "      <th>custAge</th>\n",
       "      <td>5931.0</td>\n",
       "      <td>40.120018</td>\n",
       "      <td>9.246396</td>\n",
       "      <td>18.000</td>\n",
       "      <td>34.000</td>\n",
       "      <td>40.120018</td>\n",
       "      <td>44.000</td>\n",
       "      <td>91.000</td>\n",
       "    </tr>\n",
       "    <tr>\n",
       "      <th>campaign</th>\n",
       "      <td>5931.0</td>\n",
       "      <td>2.537683</td>\n",
       "      <td>2.757493</td>\n",
       "      <td>1.000</td>\n",
       "      <td>1.000</td>\n",
       "      <td>2.000000</td>\n",
       "      <td>3.000</td>\n",
       "      <td>40.000</td>\n",
       "    </tr>\n",
       "    <tr>\n",
       "      <th>pdays</th>\n",
       "      <td>5931.0</td>\n",
       "      <td>959.147193</td>\n",
       "      <td>194.930862</td>\n",
       "      <td>0.000</td>\n",
       "      <td>999.000</td>\n",
       "      <td>999.000000</td>\n",
       "      <td>999.000</td>\n",
       "      <td>999.000</td>\n",
       "    </tr>\n",
       "    <tr>\n",
       "      <th>previous</th>\n",
       "      <td>5931.0</td>\n",
       "      <td>0.183106</td>\n",
       "      <td>0.517020</td>\n",
       "      <td>0.000</td>\n",
       "      <td>0.000</td>\n",
       "      <td>0.000000</td>\n",
       "      <td>0.000</td>\n",
       "      <td>6.000</td>\n",
       "    </tr>\n",
       "    <tr>\n",
       "      <th>emp.var.rate</th>\n",
       "      <td>5931.0</td>\n",
       "      <td>0.048053</td>\n",
       "      <td>1.573950</td>\n",
       "      <td>-3.400</td>\n",
       "      <td>-1.800</td>\n",
       "      <td>1.100000</td>\n",
       "      <td>1.400</td>\n",
       "      <td>1.400</td>\n",
       "    </tr>\n",
       "    <tr>\n",
       "      <th>cons.price.idx</th>\n",
       "      <td>5931.0</td>\n",
       "      <td>93.570123</td>\n",
       "      <td>0.579781</td>\n",
       "      <td>92.201</td>\n",
       "      <td>93.075</td>\n",
       "      <td>93.444000</td>\n",
       "      <td>93.994</td>\n",
       "      <td>94.767</td>\n",
       "    </tr>\n",
       "    <tr>\n",
       "      <th>cons.conf.idx</th>\n",
       "      <td>5931.0</td>\n",
       "      <td>-40.558995</td>\n",
       "      <td>4.664912</td>\n",
       "      <td>-50.800</td>\n",
       "      <td>-42.700</td>\n",
       "      <td>-41.800000</td>\n",
       "      <td>-36.400</td>\n",
       "      <td>-26.900</td>\n",
       "    </tr>\n",
       "    <tr>\n",
       "      <th>euribor3m</th>\n",
       "      <td>5931.0</td>\n",
       "      <td>3.579383</td>\n",
       "      <td>1.747435</td>\n",
       "      <td>0.634</td>\n",
       "      <td>1.334</td>\n",
       "      <td>4.857000</td>\n",
       "      <td>4.961</td>\n",
       "      <td>5.045</td>\n",
       "    </tr>\n",
       "    <tr>\n",
       "      <th>nr.employed</th>\n",
       "      <td>5931.0</td>\n",
       "      <td>5165.089546</td>\n",
       "      <td>73.178491</td>\n",
       "      <td>4963.600</td>\n",
       "      <td>5099.100</td>\n",
       "      <td>5191.000000</td>\n",
       "      <td>5228.100</td>\n",
       "      <td>5228.100</td>\n",
       "    </tr>\n",
       "    <tr>\n",
       "      <th>pmonths</th>\n",
       "      <td>5931.0</td>\n",
       "      <td>958.919828</td>\n",
       "      <td>196.041632</td>\n",
       "      <td>0.000</td>\n",
       "      <td>999.000</td>\n",
       "      <td>999.000000</td>\n",
       "      <td>999.000</td>\n",
       "      <td>999.000</td>\n",
       "    </tr>\n",
       "    <tr>\n",
       "      <th>pastEmail</th>\n",
       "      <td>5931.0</td>\n",
       "      <td>0.360985</td>\n",
       "      <td>1.261181</td>\n",
       "      <td>0.000</td>\n",
       "      <td>0.000</td>\n",
       "      <td>0.000000</td>\n",
       "      <td>0.000</td>\n",
       "      <td>18.000</td>\n",
       "    </tr>\n",
       "  </tbody>\n",
       "</table>\n",
       "</div>"
      ],
      "text/plain": [
       "                 count         mean         std       min       25%  \\\n",
       "custAge         5931.0    40.120018    9.246396    18.000    34.000   \n",
       "campaign        5931.0     2.537683    2.757493     1.000     1.000   \n",
       "pdays           5931.0   959.147193  194.930862     0.000   999.000   \n",
       "previous        5931.0     0.183106    0.517020     0.000     0.000   \n",
       "emp.var.rate    5931.0     0.048053    1.573950    -3.400    -1.800   \n",
       "cons.price.idx  5931.0    93.570123    0.579781    92.201    93.075   \n",
       "cons.conf.idx   5931.0   -40.558995    4.664912   -50.800   -42.700   \n",
       "euribor3m       5931.0     3.579383    1.747435     0.634     1.334   \n",
       "nr.employed     5931.0  5165.089546   73.178491  4963.600  5099.100   \n",
       "pmonths         5931.0   958.919828  196.041632     0.000   999.000   \n",
       "pastEmail       5931.0     0.360985    1.261181     0.000     0.000   \n",
       "\n",
       "                        50%       75%       max  \n",
       "custAge           40.120018    44.000    91.000  \n",
       "campaign           2.000000     3.000    40.000  \n",
       "pdays            999.000000   999.000   999.000  \n",
       "previous           0.000000     0.000     6.000  \n",
       "emp.var.rate       1.100000     1.400     1.400  \n",
       "cons.price.idx    93.444000    93.994    94.767  \n",
       "cons.conf.idx    -41.800000   -36.400   -26.900  \n",
       "euribor3m          4.857000     4.961     5.045  \n",
       "nr.employed     5191.000000  5228.100  5228.100  \n",
       "pmonths          999.000000   999.000   999.000  \n",
       "pastEmail          0.000000     0.000    18.000  "
      ]
     },
     "execution_count": 12,
     "metadata": {},
     "output_type": "execute_result"
    }
   ],
   "source": [
    "# Mode Imputation of Missing Values for Categorical Variables\n",
    "## data[\"schooling\"] = data[\"schooling\"].fillna(data[\"schooling\"].mode()[0])\n",
    "## data[\"day_of_week\"] = data[\"day_of_week\"].fillna(data[\"day_of_week\"].mode()[0])\n",
    "## data[\"default\"] = data[\"default\"].fillna(data[\"default\"].mode()[0])\n",
    "## data[\"loan\"] = data[\"loan\"].fillna(data[\"loan\"].mode()[0])\n",
    "## data[\"profession\"] = data[\"profession\"].fillna(data[\"profession\"].mode()[0])\n",
    "## data[\"housing\"] = data[\"housing\"].fillna(data[\"housing\"].mode()[0])\n",
    "## data[\"marital\"] = data[\"marital\"].fillna(data[\"marital\"].mode()[0])\n",
    "data.describe().transpose()"
   ]
  },
  {
   "cell_type": "code",
   "execution_count": 13,
   "metadata": {},
   "outputs": [
    {
     "name": "stdout",
     "output_type": "stream",
     "text": [
      "profession: \n",
      " ['student' 'management' 'technician' 'admin.' 'blue-collar' 'unemployed'\n",
      " 'services' 'self-employed' 'entrepreneur' 'housemaid' 'retired']\n",
      "\n",
      "marital: \n",
      " ['married' 'single' 'divorced']\n",
      "\n",
      "schooling: \n",
      " ['high.school' 'university.degree' 'basic.9y' 'basic.6y' 'basic.4y'\n",
      " 'professional.course' 'illiterate']\n",
      "\n",
      "default: \n",
      " ['no' 'yes']\n",
      "\n",
      "housing: \n",
      " ['yes' 'no']\n",
      "\n",
      "loan: \n",
      " ['no' 'yes']\n",
      "\n",
      "contact: \n",
      " ['telephone' 'cellular']\n",
      "\n",
      "month: \n",
      " ['may' 'jul' 'aug' 'nov' 'mar' 'oct' 'jun' 'apr' 'sep' 'dec']\n",
      "\n",
      "day_of_week: \n",
      " ['wed' 'mon' 'thu' 'tue' 'fri']\n",
      "\n",
      "poutcome: \n",
      " ['nonexistent' 'failure' 'success']\n",
      "\n",
      "responded: \n",
      " ['no' 'yes']\n",
      "\n"
     ]
    }
   ],
   "source": [
    "#Checking for unique values in categorical columns\n",
    "for i in data.columns:\n",
    "    if data[i].dtype == type(object):\n",
    "        print(i,end=': ')\n",
    "        print('\\n',data[i].unique())\n",
    "        print()"
   ]
  },
  {
   "cell_type": "markdown",
   "metadata": {},
   "source": [
    "## univariate analysis of Target Variable"
   ]
  },
  {
   "cell_type": "code",
   "execution_count": 14,
   "metadata": {},
   "outputs": [
    {
     "data": {
      "text/plain": [
       "no     5259\n",
       "yes     672\n",
       "Name: responded, dtype: int64"
      ]
     },
     "execution_count": 14,
     "metadata": {},
     "output_type": "execute_result"
    }
   ],
   "source": [
    "data['responded'].value_counts()"
   ]
  },
  {
   "cell_type": "code",
   "execution_count": 15,
   "metadata": {},
   "outputs": [
    {
     "data": {
      "text/plain": [
       "no     0.886697\n",
       "yes    0.113303\n",
       "Name: responded, dtype: float64"
      ]
     },
     "execution_count": 15,
     "metadata": {},
     "output_type": "execute_result"
    }
   ],
   "source": [
    "#Checking the distribution of target variable in terms of percentage\n",
    "data['responded'].value_counts(normalize=True)"
   ]
  },
  {
   "cell_type": "code",
   "execution_count": 47,
   "metadata": {},
   "outputs": [
    {
     "data": {
      "text/plain": [
       "<AxesSubplot:xlabel='responded', ylabel='count'>"
      ]
     },
     "execution_count": 47,
     "metadata": {},
     "output_type": "execute_result"
    },
    {
     "data": {
      "image/png": "[encoded data removed]",
      "text/plain": [
       "<Figure size 432x288 with 1 Axes>"
      ]
     },
     "metadata": {
      "needs_background": "light"
     },
     "output_type": "display_data"
    }
   ],
   "source": [
    "sns.countplot(data['responded'])"
   ]
  },
  {
   "cell_type": "markdown",
   "metadata": {},
   "source": [
    "### The Above graph clearly shows that the customers who didnt respond to the campaign are more compared to the customers who responded to the campaign. Hence we say that this is an imbalanced class classification problem"
   ]
  },
  {
   "cell_type": "code",
   "execution_count": 16,
   "metadata": {},
   "outputs": [
    {
     "data": {
      "text/plain": [
       "admin.           0.260158\n",
       "blue-collar      0.228123\n",
       "technician       0.162030\n",
       "services         0.096442\n",
       "management       0.071657\n",
       "retired          0.042657\n",
       "entrepreneur     0.036925\n",
       "self-employed    0.033215\n",
       "housemaid        0.025122\n",
       "unemployed       0.023773\n",
       "student          0.019895\n",
       "Name: profession, dtype: float64"
      ]
     },
     "execution_count": 16,
     "metadata": {},
     "output_type": "execute_result"
    }
   ],
   "source": [
    "#Checking the distribution of profession column\n",
    "data['profession'].value_counts(normalize=True)"
   ]
  },
  {
   "cell_type": "code",
   "execution_count": 17,
   "metadata": {},
   "outputs": [
    {
     "data": {
      "text/plain": [
       "<Figure size 720x360 with 0 Axes>"
      ]
     },
     "execution_count": 17,
     "metadata": {},
     "output_type": "execute_result"
    },
    {
     "data": {
      "image/png": "[encoded data removed]",
      "text/plain": [
       "<Figure size 432x288 with 1 Axes>"
      ]
     },
     "metadata": {
      "needs_background": "light"
     },
     "output_type": "display_data"
    },
    {
     "data": {
      "text/plain": [
       "<Figure size 720x360 with 0 Axes>"
      ]
     },
     "metadata": {},
     "output_type": "display_data"
    }
   ],
   "source": [
    "chart = sns.countplot(data['profession'], order = data['profession'].value_counts().index)\n",
    "chart.set_xticklabels(chart.get_xticklabels(),rotation=70)\n",
    "plt.figure(figsize=(10,5))"
   ]
  },
  {
   "cell_type": "code",
   "execution_count": 18,
   "metadata": {},
   "outputs": [
    {
     "data": {
      "text/plain": [
       "<Figure size 720x360 with 0 Axes>"
      ]
     },
     "execution_count": 18,
     "metadata": {},
     "output_type": "execute_result"
    },
    {
     "data": {
      "image/png": "[encoded data removed]",
      "text/plain": [
       "<Figure size 432x288 with 1 Axes>"
      ]
     },
     "metadata": {
      "needs_background": "light"
     },
     "output_type": "display_data"
    },
    {
     "data": {
      "text/plain": [
       "<Figure size 720x360 with 0 Axes>"
      ]
     },
     "metadata": {},
     "output_type": "display_data"
    }
   ],
   "source": [
    "chart = sns.countplot(data['schooling'],order = data['schooling'].value_counts().index)\n",
    "chart.set_xticklabels(chart.get_xticklabels(),rotation=80)\n",
    "plt.figure(figsize=(10,5))"
   ]
  },
  {
   "cell_type": "code",
   "execution_count": 19,
   "metadata": {},
   "outputs": [
    {
     "data": {
      "text/plain": [
       "<Figure size 720x360 with 0 Axes>"
      ]
     },
     "execution_count": 19,
     "metadata": {},
     "output_type": "execute_result"
    },
    {
     "data": {
      "image/png": "[encoded data removed]",
      "text/plain": [
       "<Figure size 432x288 with 1 Axes>"
      ]
     },
     "metadata": {
      "needs_background": "light"
     },
     "output_type": "display_data"
    },
    {
     "data": {
      "text/plain": [
       "<Figure size 720x360 with 0 Axes>"
      ]
     },
     "metadata": {},
     "output_type": "display_data"
    }
   ],
   "source": [
    "chart = sns.countplot(data['contact'],order = data['contact'].value_counts().index)\n",
    "chart.set_xticklabels(chart.get_xticklabels(),rotation=0)\n",
    "plt.figure(figsize=(10,5))"
   ]
  },
  {
   "cell_type": "markdown",
   "metadata": {},
   "source": [
    "## Outlier analysis"
   ]
  },
  {
   "cell_type": "code",
   "execution_count": 21,
   "metadata": {},
   "outputs": [],
   "source": [
    "#Numerical variables list\n",
    "#NumVarList = [\"custAge\",\"campaign\",\"previous\",\"emp.var.rate\",\"cons.price.idx\",\"cons.conf.idx\",\"euribor3m\",\"nr.employed\",\"pastEmail]"
   ]
  },
  {
   "cell_type": "code",
   "execution_count": 20,
   "metadata": {},
   "outputs": [
    {
     "data": {
      "text/plain": [
       "<AxesSubplot:xlabel='custAge'>"
      ]
     },
     "execution_count": 20,
     "metadata": {},
     "output_type": "execute_result"
    },
    {
     "data": {
      "image/png": "[encoded data removed]",
      "text/plain": [
       "<Figure size 432x288 with 1 Axes>"
      ]
     },
     "metadata": {
      "needs_background": "light"
     },
     "output_type": "display_data"
    }
   ],
   "source": [
    "sns.boxplot(data.custAge)"
   ]
  },
  {
   "cell_type": "markdown",
   "metadata": {},
   "source": [
    "### Outliers exist in the variable custAge. Also median age of the customers in the dataset in 40. Majority of the customers in the dataset lie in the agegroup of 35+ years to 45 years"
   ]
  },
  {
   "cell_type": "code",
   "execution_count": 21,
   "metadata": {},
   "outputs": [
    {
     "data": {
      "text/plain": [
       "115"
      ]
     },
     "execution_count": 21,
     "metadata": {},
     "output_type": "execute_result"
    }
   ],
   "source": [
    "#Count of outliers\n",
    "data[data.custAge>60]['custAge'].count()\n",
    "#data[data.custAge>60].shape[0]"
   ]
  },
  {
   "cell_type": "code",
   "execution_count": 22,
   "metadata": {},
   "outputs": [
    {
     "data": {
      "text/plain": [
       "7"
      ]
     },
     "execution_count": 22,
     "metadata": {},
     "output_type": "execute_result"
    }
   ],
   "source": [
    "data[data.custAge<20]['custAge'].count()"
   ]
  },
  {
   "cell_type": "code",
   "execution_count": 23,
   "metadata": {},
   "outputs": [
    {
     "data": {
      "image/png": "[encoded data removed]",
      "text/plain": [
       "<Figure size 432x288 with 1 Axes>"
      ]
     },
     "metadata": {
      "needs_background": "light"
     },
     "output_type": "display_data"
    }
   ],
   "source": [
    "ax = plt.hist(data.custAge,bins=10)"
   ]
  },
  {
   "cell_type": "markdown",
   "metadata": {},
   "source": [
    "### The histogram clearly shows that the custAge variable is positively skewed. The trailing values near to 90 indicates the presence of outliers\n",
    "### Also senior citizens above 60 are more pone to invest in Fixed deposits"
   ]
  },
  {
   "cell_type": "markdown",
   "metadata": {},
   "source": [
    "# Bivariate Analysis"
   ]
  },
  {
   "cell_type": "code",
   "execution_count": 24,
   "metadata": {
    "scrolled": true
   },
   "outputs": [
    {
     "data": {
      "text/plain": [
       "<AxesSubplot:xlabel='count', ylabel='contact'>"
      ]
     },
     "execution_count": 24,
     "metadata": {},
     "output_type": "execute_result"
    },
    {
     "data": {
      "image/png": "[encoded data removed]",
      "text/plain": [
       "<Figure size 432x288 with 1 Axes>"
      ]
     },
     "metadata": {
      "needs_background": "light"
     },
     "output_type": "display_data"
    }
   ],
   "source": [
    "#Checking how many responded when the contact was celluar(mobile phone)\n",
    "sns.countplot(y=data.contact,hue=data.responded)"
   ]
  },
  {
   "cell_type": "code",
   "execution_count": 25,
   "metadata": {},
   "outputs": [
    {
     "data": {
      "text/plain": [
       "cellular     63.884674\n",
       "telephone    36.115326\n",
       "Name: contact, dtype: float64"
      ]
     },
     "execution_count": 25,
     "metadata": {},
     "output_type": "execute_result"
    }
   ],
   "source": [
    "data.contact.value_counts(normalize=True)*100"
   ]
  },
  {
   "cell_type": "markdown",
   "metadata": {},
   "source": [
    "### Customers responded to campaign more when the contact was through mobile phone. Today more people tend to have mobile phones than landlines"
   ]
  },
  {
   "cell_type": "code",
   "execution_count": 28,
   "metadata": {},
   "outputs": [],
   "source": [
    "#checking how loan is affecting the target"
   ]
  },
  {
   "cell_type": "code",
   "execution_count": 26,
   "metadata": {},
   "outputs": [
    {
     "data": {
      "text/plain": [
       "<AxesSubplot:xlabel='count', ylabel='loan'>"
      ]
     },
     "execution_count": 26,
     "metadata": {},
     "output_type": "execute_result"
    },
    {
     "data": {
      "image/png": "[encoded data removed]",
      "text/plain": [
       "<Figure size 432x288 with 1 Axes>"
      ]
     },
     "metadata": {
      "needs_background": "light"
     },
     "output_type": "display_data"
    }
   ],
   "source": [
    "sns.countplot(y=data.loan,hue=data.responded)"
   ]
  },
  {
   "cell_type": "markdown",
   "metadata": {},
   "source": [
    "### customers who did not have loan responded to the campaign more than that of customers who had loan"
   ]
  },
  {
   "cell_type": "code",
   "execution_count": 27,
   "metadata": {},
   "outputs": [
    {
     "data": {
      "text/plain": [
       "<AxesSubplot:xlabel='count', ylabel='month'>"
      ]
     },
     "execution_count": 27,
     "metadata": {},
     "output_type": "execute_result"
    },
    {
     "data": {
      "image/png": "[encoded data removed]",
      "text/plain": [
       "<Figure size 432x288 with 1 Axes>"
      ]
     },
     "metadata": {
      "needs_background": "light"
     },
     "output_type": "display_data"
    }
   ],
   "source": [
    "# try other categoral columns wrt target\n",
    "#sns.countplot(y=data.day_of_week,hue=data.responded)\n",
    "sns.countplot(y=data.month,hue=data.responded)\n",
    "#sns.countplot(y=data.profession,hue=data.responded)\n",
    "#sns.countplot(y=data.schooling,hue=data.responded)\n",
    "#sns.countplot(y=data.contact,hue=data.responded)\n",
    "#sns.countplot(y=data.poutcome,hue=data.responded)"
   ]
  },
  {
   "cell_type": "code",
   "execution_count": 28,
   "metadata": {},
   "outputs": [
    {
     "data": {
      "text/plain": [
       "may    33.957174\n",
       "jul    16.489631\n",
       "aug    15.140786\n",
       "jun    12.814028\n",
       "nov     9.829708\n",
       "apr     6.710504\n",
       "oct     1.972686\n",
       "sep     1.551172\n",
       "mar     1.230821\n",
       "dec     0.303490\n",
       "Name: month, dtype: float64"
      ]
     },
     "execution_count": 28,
     "metadata": {},
     "output_type": "execute_result"
    }
   ],
   "source": [
    "data.month.value_counts(normalize=True)*100"
   ]
  },
  {
   "cell_type": "markdown",
   "metadata": {},
   "source": [
    "### Conclusion of Bi-variate analysis\n",
    "### We can say that there is a better response when:\n",
    "    - Contacted on Monday\n",
    "    - During the month of May\n",
    "    - When people are married\n",
    "    - When they dont have a loan\n",
    "    - Profession is Admin\n",
    "    - Education is University degree\n",
    "    - Contacted through mobile\n",
    "    - They are new customers - previous outcome was non-existant"
   ]
  },
  {
   "cell_type": "markdown",
   "metadata": {},
   "source": [
    "### Calculate the correlation for the numeric variable"
   ]
  },
  {
   "cell_type": "code",
   "execution_count": 76,
   "metadata": {},
   "outputs": [
    {
     "data": {
      "image/png": "[encoded data removed]",
      "text/plain": [
       "<Figure size 1080x576 with 2 Axes>"
      ]
     },
     "metadata": {
      "needs_background": "light"
     },
     "output_type": "display_data"
    }
   ],
   "source": [
    "\n"
   ]
  },
  {
   "cell_type": "code",
   "execution_count": null,
   "metadata": {},
   "outputs": [],
   "source": []
  },
  {
   "cell_type": "code",
   "execution_count": 29,
   "metadata": {},
   "outputs": [],
   "source": [
    "#Splitting X and y\n",
    "X= data.drop(\"responded\",axis=1)\n",
    "y = data[[\"responded\"]]"
   ]
  },
  {
   "cell_type": "markdown",
   "metadata": {},
   "source": [
    "### If you look at the data, pmonths and pdays are one and the same, hence dropping one of the columns"
   ]
  },
  {
   "cell_type": "code",
   "execution_count": 30,
   "metadata": {},
   "outputs": [],
   "source": [
    "X.drop(axis=1,columns=['pmonths'],inplace=True)"
   ]
  },
  {
   "cell_type": "code",
   "execution_count": 31,
   "metadata": {},
   "outputs": [
    {
     "data": {
      "text/plain": [
       "Index(['custAge', 'profession', 'marital', 'schooling', 'default', 'housing',\n",
       "       'loan', 'contact', 'month', 'day_of_week', 'campaign', 'pdays',\n",
       "       'previous', 'poutcome', 'emp.var.rate', 'cons.price.idx',\n",
       "       'cons.conf.idx', 'euribor3m', 'nr.employed', 'pastEmail'],\n",
       "      dtype='object')"
      ]
     },
     "execution_count": 31,
     "metadata": {},
     "output_type": "execute_result"
    }
   ],
   "source": [
    "X.columns"
   ]
  },
  {
   "cell_type": "markdown",
   "metadata": {},
   "source": [
    "### Encoding the Categoral variables"
   ]
  },
  {
   "cell_type": "code",
   "execution_count": 32,
   "metadata": {},
   "outputs": [
    {
     "data": {
      "text/plain": [
       "array(['student', 'management', 'technician', 'admin.', 'blue-collar',\n",
       "       'unemployed', 'services', 'self-employed', 'entrepreneur',\n",
       "       'housemaid', 'retired'], dtype=object)"
      ]
     },
     "execution_count": 32,
     "metadata": {},
     "output_type": "execute_result"
    }
   ],
   "source": [
    "X.profession.unique()"
   ]
  },
  {
   "cell_type": "code",
   "execution_count": 33,
   "metadata": {},
   "outputs": [],
   "source": [
    "# Ordinal Columns to perform Label Encoding\n",
    "columns_to_le = [\"profession\",\"marital\",\"schooling\",\"contact\",\"mon\n",
    "                 th\",\"day_of_week\",\"poutcome\"]\n",
    "#Label Encoding the categorical columns\n",
    "\n",
    "le = LabelEncoder()\n",
    "for col in columns_to_le:\n",
    "    X[col] = le.fit_transform(X[col])"
   ]
  },
  {
   "cell_type": "code",
   "execution_count": null,
   "metadata": {},
   "outputs": [],
   "source": []
  },
  {
   "cell_type": "code",
   "execution_count": 35,
   "metadata": {},
   "outputs": [
    {
     "data": {
      "text/plain": [
       "0       0\n",
       "1       0\n",
       "2       0\n",
       "3       1\n",
       "4       0\n",
       "       ..\n",
       "5926    0\n",
       "5927    1\n",
       "5928    0\n",
       "5929    0\n",
       "5930    0\n",
       "Name: responded, Length: 5931, dtype: int64"
      ]
     },
     "execution_count": 35,
     "metadata": {},
     "output_type": "execute_result"
    }
   ],
   "source": [
    "#Encoding target\n",
    "leT = LabelEncoder()\n",
    "y[\"responded\"] = leT.fit_transform(y[\"responded\"])\n",
    "y[\"responded\"]"
   ]
  },
  {
   "cell_type": "code",
   "execution_count": 37,
   "metadata": {},
   "outputs": [],
   "source": [
    "columns_to_oe = [\"default\",\"housing\",\"loan\"]\n",
    "#OHE  Nominal categorical columns\n",
    "oe = OneHotEncoder(cols = columns_to_oe)\n",
    "X = oe.fit_transform(X)"
   ]
  },
  {
   "cell_type": "code",
   "execution_count": 38,
   "metadata": {},
   "outputs": [
    {
     "name": "stdout",
     "output_type": "stream",
     "text": [
      "<class 'pandas.core.frame.DataFrame'>\n",
      "RangeIndex: 5931 entries, 0 to 5930\n",
      "Data columns (total 23 columns):\n",
      " #   Column          Non-Null Count  Dtype  \n",
      "---  ------          --------------  -----  \n",
      " 0   custAge         5931 non-null   float64\n",
      " 1   profession      5931 non-null   int32  \n",
      " 2   marital         5931 non-null   int32  \n",
      " 3   schooling       5931 non-null   int32  \n",
      " 4   default_1       5931 non-null   int64  \n",
      " 5   default_2       5931 non-null   int64  \n",
      " 6   housing_1       5931 non-null   int64  \n",
      " 7   housing_2       5931 non-null   int64  \n",
      " 8   loan_1          5931 non-null   int64  \n",
      " 9   loan_2          5931 non-null   int64  \n",
      " 10  contact         5931 non-null   int32  \n",
      " 11  month           5931 non-null   int32  \n",
      " 12  day_of_week     5931 non-null   int32  \n",
      " 13  campaign        5931 non-null   int64  \n",
      " 14  pdays           5931 non-null   int64  \n",
      " 15  previous        5931 non-null   int64  \n",
      " 16  poutcome        5931 non-null   int32  \n",
      " 17  emp.var.rate    5931 non-null   float64\n",
      " 18  cons.price.idx  5931 non-null   float64\n",
      " 19  cons.conf.idx   5931 non-null   float64\n",
      " 20  euribor3m       5931 non-null   float64\n",
      " 21  nr.employed     5931 non-null   float64\n",
      " 22  pastEmail       5931 non-null   int64  \n",
      "dtypes: float64(6), int32(7), int64(10)\n",
      "memory usage: 903.7 KB\n"
     ]
    }
   ],
   "source": [
    "X.info()"
   ]
  },
  {
   "cell_type": "code",
   "execution_count": 39,
   "metadata": {},
   "outputs": [
    {
     "data": {
      "text/html": [
       "<div>\n",
       "<style scoped>\n",
       "    .dataframe tbody tr th:only-of-type {\n",
       "        vertical-align: middle;\n",
       "    }\n",
       "\n",
       "    .dataframe tbody tr th {\n",
       "        vertical-align: top;\n",
       "    }\n",
       "\n",
       "    .dataframe thead th {\n",
       "        text-align: right;\n",
       "    }\n",
       "</style>\n",
       "<table border=\"1\" class=\"dataframe\">\n",
       "  <thead>\n",
       "    <tr style=\"text-align: right;\">\n",
       "      <th></th>\n",
       "      <th>custAge</th>\n",
       "      <th>profession</th>\n",
       "      <th>marital</th>\n",
       "      <th>schooling</th>\n",
       "      <th>default_1</th>\n",
       "      <th>default_2</th>\n",
       "      <th>housing_1</th>\n",
       "      <th>housing_2</th>\n",
       "      <th>loan_1</th>\n",
       "      <th>loan_2</th>\n",
       "      <th>...</th>\n",
       "      <th>campaign</th>\n",
       "      <th>pdays</th>\n",
       "      <th>previous</th>\n",
       "      <th>poutcome</th>\n",
       "      <th>emp.var.rate</th>\n",
       "      <th>cons.price.idx</th>\n",
       "      <th>cons.conf.idx</th>\n",
       "      <th>euribor3m</th>\n",
       "      <th>nr.employed</th>\n",
       "      <th>pastEmail</th>\n",
       "    </tr>\n",
       "  </thead>\n",
       "  <tbody>\n",
       "    <tr>\n",
       "      <th>0</th>\n",
       "      <td>27.000000</td>\n",
       "      <td>8</td>\n",
       "      <td>1</td>\n",
       "      <td>3</td>\n",
       "      <td>1</td>\n",
       "      <td>0</td>\n",
       "      <td>1</td>\n",
       "      <td>0</td>\n",
       "      <td>1</td>\n",
       "      <td>0</td>\n",
       "      <td>...</td>\n",
       "      <td>1</td>\n",
       "      <td>999</td>\n",
       "      <td>0</td>\n",
       "      <td>1</td>\n",
       "      <td>-1.8</td>\n",
       "      <td>93.876</td>\n",
       "      <td>-40.0</td>\n",
       "      <td>0.672</td>\n",
       "      <td>5008.7</td>\n",
       "      <td>0</td>\n",
       "    </tr>\n",
       "    <tr>\n",
       "      <th>1</th>\n",
       "      <td>40.120018</td>\n",
       "      <td>4</td>\n",
       "      <td>2</td>\n",
       "      <td>6</td>\n",
       "      <td>1</td>\n",
       "      <td>0</td>\n",
       "      <td>1</td>\n",
       "      <td>0</td>\n",
       "      <td>1</td>\n",
       "      <td>0</td>\n",
       "      <td>...</td>\n",
       "      <td>3</td>\n",
       "      <td>999</td>\n",
       "      <td>0</td>\n",
       "      <td>1</td>\n",
       "      <td>1.4</td>\n",
       "      <td>93.918</td>\n",
       "      <td>-42.7</td>\n",
       "      <td>4.962</td>\n",
       "      <td>5228.1</td>\n",
       "      <td>0</td>\n",
       "    </tr>\n",
       "    <tr>\n",
       "      <th>2</th>\n",
       "      <td>40.120018</td>\n",
       "      <td>9</td>\n",
       "      <td>1</td>\n",
       "      <td>6</td>\n",
       "      <td>1</td>\n",
       "      <td>0</td>\n",
       "      <td>1</td>\n",
       "      <td>0</td>\n",
       "      <td>1</td>\n",
       "      <td>0</td>\n",
       "      <td>...</td>\n",
       "      <td>1</td>\n",
       "      <td>999</td>\n",
       "      <td>0</td>\n",
       "      <td>1</td>\n",
       "      <td>1.4</td>\n",
       "      <td>93.444</td>\n",
       "      <td>-36.1</td>\n",
       "      <td>4.963</td>\n",
       "      <td>5228.1</td>\n",
       "      <td>0</td>\n",
       "    </tr>\n",
       "    <tr>\n",
       "      <th>3</th>\n",
       "      <td>33.000000</td>\n",
       "      <td>0</td>\n",
       "      <td>1</td>\n",
       "      <td>6</td>\n",
       "      <td>1</td>\n",
       "      <td>0</td>\n",
       "      <td>0</td>\n",
       "      <td>1</td>\n",
       "      <td>1</td>\n",
       "      <td>0</td>\n",
       "      <td>...</td>\n",
       "      <td>1</td>\n",
       "      <td>999</td>\n",
       "      <td>0</td>\n",
       "      <td>1</td>\n",
       "      <td>-1.1</td>\n",
       "      <td>94.767</td>\n",
       "      <td>-50.8</td>\n",
       "      <td>1.035</td>\n",
       "      <td>4963.6</td>\n",
       "      <td>0</td>\n",
       "    </tr>\n",
       "    <tr>\n",
       "      <th>4</th>\n",
       "      <td>40.120018</td>\n",
       "      <td>0</td>\n",
       "      <td>1</td>\n",
       "      <td>6</td>\n",
       "      <td>1</td>\n",
       "      <td>0</td>\n",
       "      <td>0</td>\n",
       "      <td>1</td>\n",
       "      <td>1</td>\n",
       "      <td>0</td>\n",
       "      <td>...</td>\n",
       "      <td>1</td>\n",
       "      <td>999</td>\n",
       "      <td>0</td>\n",
       "      <td>1</td>\n",
       "      <td>1.1</td>\n",
       "      <td>93.994</td>\n",
       "      <td>-36.4</td>\n",
       "      <td>4.857</td>\n",
       "      <td>5191.0</td>\n",
       "      <td>0</td>\n",
       "    </tr>\n",
       "  </tbody>\n",
       "</table>\n",
       "<p>5 rows × 23 columns</p>\n",
       "</div>"
      ],
      "text/plain": [
       "     custAge  profession  marital  schooling  default_1  default_2  housing_1  \\\n",
       "0  27.000000           8        1          3          1          0          1   \n",
       "1  40.120018           4        2          6          1          0          1   \n",
       "2  40.120018           9        1          6          1          0          1   \n",
       "3  33.000000           0        1          6          1          0          0   \n",
       "4  40.120018           0        1          6          1          0          0   \n",
       "\n",
       "   housing_2  loan_1  loan_2  ...  campaign  pdays  previous  poutcome  \\\n",
       "0          0       1       0  ...         1    999         0         1   \n",
       "1          0       1       0  ...         3    999         0         1   \n",
       "2          0       1       0  ...         1    999         0         1   \n",
       "3          1       1       0  ...         1    999         0         1   \n",
       "4          1       1       0  ...         1    999         0         1   \n",
       "\n",
       "   emp.var.rate  cons.price.idx  cons.conf.idx  euribor3m  nr.employed  \\\n",
       "0          -1.8          93.876          -40.0      0.672       5008.7   \n",
       "1           1.4          93.918          -42.7      4.962       5228.1   \n",
       "2           1.4          93.444          -36.1      4.963       5228.1   \n",
       "3          -1.1          94.767          -50.8      1.035       4963.6   \n",
       "4           1.1          93.994          -36.4      4.857       5191.0   \n",
       "\n",
       "   pastEmail  \n",
       "0          0  \n",
       "1          0  \n",
       "2          0  \n",
       "3          0  \n",
       "4          0  \n",
       "\n",
       "[5 rows x 23 columns]"
      ]
     },
     "execution_count": 39,
     "metadata": {},
     "output_type": "execute_result"
    }
   ],
   "source": [
    "X.head()"
   ]
  },
  {
   "cell_type": "code",
   "execution_count": 42,
   "metadata": {},
   "outputs": [
    {
     "data": {
      "text/html": [
       "<div>\n",
       "<style scoped>\n",
       "    .dataframe tbody tr th:only-of-type {\n",
       "        vertical-align: middle;\n",
       "    }\n",
       "\n",
       "    .dataframe tbody tr th {\n",
       "        vertical-align: top;\n",
       "    }\n",
       "\n",
       "    .dataframe thead th {\n",
       "        text-align: right;\n",
       "    }\n",
       "</style>\n",
       "<table border=\"1\" class=\"dataframe\">\n",
       "  <thead>\n",
       "    <tr style=\"text-align: right;\">\n",
       "      <th></th>\n",
       "      <th>custAge</th>\n",
       "      <th>profession</th>\n",
       "      <th>marital</th>\n",
       "      <th>schooling</th>\n",
       "      <th>default_1</th>\n",
       "      <th>default_2</th>\n",
       "      <th>housing_1</th>\n",
       "      <th>housing_2</th>\n",
       "      <th>loan_1</th>\n",
       "      <th>loan_2</th>\n",
       "      <th>...</th>\n",
       "      <th>campaign</th>\n",
       "      <th>pdays</th>\n",
       "      <th>previous</th>\n",
       "      <th>poutcome</th>\n",
       "      <th>emp.var.rate</th>\n",
       "      <th>cons.price.idx</th>\n",
       "      <th>cons.conf.idx</th>\n",
       "      <th>euribor3m</th>\n",
       "      <th>nr.employed</th>\n",
       "      <th>pastEmail</th>\n",
       "    </tr>\n",
       "  </thead>\n",
       "  <tbody>\n",
       "    <tr>\n",
       "      <th>0</th>\n",
       "      <td>27.000000</td>\n",
       "      <td>8</td>\n",
       "      <td>1</td>\n",
       "      <td>3</td>\n",
       "      <td>1</td>\n",
       "      <td>0</td>\n",
       "      <td>1</td>\n",
       "      <td>0</td>\n",
       "      <td>1</td>\n",
       "      <td>0</td>\n",
       "      <td>...</td>\n",
       "      <td>1</td>\n",
       "      <td>-1</td>\n",
       "      <td>0</td>\n",
       "      <td>1</td>\n",
       "      <td>-1.8</td>\n",
       "      <td>93.876</td>\n",
       "      <td>-40.0</td>\n",
       "      <td>0.672</td>\n",
       "      <td>5008.7</td>\n",
       "      <td>0</td>\n",
       "    </tr>\n",
       "    <tr>\n",
       "      <th>1</th>\n",
       "      <td>40.120018</td>\n",
       "      <td>4</td>\n",
       "      <td>2</td>\n",
       "      <td>6</td>\n",
       "      <td>1</td>\n",
       "      <td>0</td>\n",
       "      <td>1</td>\n",
       "      <td>0</td>\n",
       "      <td>1</td>\n",
       "      <td>0</td>\n",
       "      <td>...</td>\n",
       "      <td>3</td>\n",
       "      <td>-1</td>\n",
       "      <td>0</td>\n",
       "      <td>1</td>\n",
       "      <td>1.4</td>\n",
       "      <td>93.918</td>\n",
       "      <td>-42.7</td>\n",
       "      <td>4.962</td>\n",
       "      <td>5228.1</td>\n",
       "      <td>0</td>\n",
       "    </tr>\n",
       "    <tr>\n",
       "      <th>2</th>\n",
       "      <td>40.120018</td>\n",
       "      <td>9</td>\n",
       "      <td>1</td>\n",
       "      <td>6</td>\n",
       "      <td>1</td>\n",
       "      <td>0</td>\n",
       "      <td>1</td>\n",
       "      <td>0</td>\n",
       "      <td>1</td>\n",
       "      <td>0</td>\n",
       "      <td>...</td>\n",
       "      <td>1</td>\n",
       "      <td>-1</td>\n",
       "      <td>0</td>\n",
       "      <td>1</td>\n",
       "      <td>1.4</td>\n",
       "      <td>93.444</td>\n",
       "      <td>-36.1</td>\n",
       "      <td>4.963</td>\n",
       "      <td>5228.1</td>\n",
       "      <td>0</td>\n",
       "    </tr>\n",
       "    <tr>\n",
       "      <th>3</th>\n",
       "      <td>33.000000</td>\n",
       "      <td>0</td>\n",
       "      <td>1</td>\n",
       "      <td>6</td>\n",
       "      <td>1</td>\n",
       "      <td>0</td>\n",
       "      <td>0</td>\n",
       "      <td>1</td>\n",
       "      <td>1</td>\n",
       "      <td>0</td>\n",
       "      <td>...</td>\n",
       "      <td>1</td>\n",
       "      <td>-1</td>\n",
       "      <td>0</td>\n",
       "      <td>1</td>\n",
       "      <td>-1.1</td>\n",
       "      <td>94.767</td>\n",
       "      <td>-50.8</td>\n",
       "      <td>1.035</td>\n",
       "      <td>4963.6</td>\n",
       "      <td>0</td>\n",
       "    </tr>\n",
       "    <tr>\n",
       "      <th>4</th>\n",
       "      <td>40.120018</td>\n",
       "      <td>0</td>\n",
       "      <td>1</td>\n",
       "      <td>6</td>\n",
       "      <td>1</td>\n",
       "      <td>0</td>\n",
       "      <td>0</td>\n",
       "      <td>1</td>\n",
       "      <td>1</td>\n",
       "      <td>0</td>\n",
       "      <td>...</td>\n",
       "      <td>1</td>\n",
       "      <td>-1</td>\n",
       "      <td>0</td>\n",
       "      <td>1</td>\n",
       "      <td>1.1</td>\n",
       "      <td>93.994</td>\n",
       "      <td>-36.4</td>\n",
       "      <td>4.857</td>\n",
       "      <td>5191.0</td>\n",
       "      <td>0</td>\n",
       "    </tr>\n",
       "  </tbody>\n",
       "</table>\n",
       "<p>5 rows × 23 columns</p>\n",
       "</div>"
      ],
      "text/plain": [
       "     custAge  profession  marital  schooling  default_1  default_2  housing_1  \\\n",
       "0  27.000000           8        1          3          1          0          1   \n",
       "1  40.120018           4        2          6          1          0          1   \n",
       "2  40.120018           9        1          6          1          0          1   \n",
       "3  33.000000           0        1          6          1          0          0   \n",
       "4  40.120018           0        1          6          1          0          0   \n",
       "\n",
       "   housing_2  loan_1  loan_2  ...  campaign  pdays  previous  poutcome  \\\n",
       "0          0       1       0  ...         1     -1         0         1   \n",
       "1          0       1       0  ...         3     -1         0         1   \n",
       "2          0       1       0  ...         1     -1         0         1   \n",
       "3          1       1       0  ...         1     -1         0         1   \n",
       "4          1       1       0  ...         1     -1         0         1   \n",
       "\n",
       "   emp.var.rate  cons.price.idx  cons.conf.idx  euribor3m  nr.employed  \\\n",
       "0          -1.8          93.876          -40.0      0.672       5008.7   \n",
       "1           1.4          93.918          -42.7      4.962       5228.1   \n",
       "2           1.4          93.444          -36.1      4.963       5228.1   \n",
       "3          -1.1          94.767          -50.8      1.035       4963.6   \n",
       "4           1.1          93.994          -36.4      4.857       5191.0   \n",
       "\n",
       "   pastEmail  \n",
       "0          0  \n",
       "1          0  \n",
       "2          0  \n",
       "3          0  \n",
       "4          0  \n",
       "\n",
       "[5 rows x 23 columns]"
      ]
     },
     "execution_count": 42,
     "metadata": {},
     "output_type": "execute_result"
    }
   ],
   "source": [
    "#pdays has a value 999 when not contacted before\n",
    "# It is a very high value and impacts the analysis, lets replace it with -1\n",
    "\n",
    "X['pdays'].replace(999,-1,inplace=True)\n",
    "X.head(5)"
   ]
  },
  {
   "cell_type": "code",
   "execution_count": 43,
   "metadata": {},
   "outputs": [
    {
     "data": {
      "text/plain": [
       "(5931, 23)"
      ]
     },
     "execution_count": 43,
     "metadata": {},
     "output_type": "execute_result"
    }
   ],
   "source": [
    "X.shape"
   ]
  },
  {
   "cell_type": "code",
   "execution_count": 44,
   "metadata": {},
   "outputs": [],
   "source": [
    "#Save numerical columns in a list\n",
    "cnames = [\"custAge\",\"campaign\",\"pdays\",\"previous\",\"emp.var.rate\",\"cons.price.idx\",\n",
    "         \"cons.conf.idx\",\"euribor3m\",\"nr.employed\",\"pastEmail\"]\n",
    "\n",
    "sc = StandardScaler()\n",
    "for col in cnames:\n",
    "    X[col] = sc.fit_transform(X[[col]])"
   ]
  },
  {
   "cell_type": "code",
   "execution_count": 45,
   "metadata": {},
   "outputs": [
    {
     "data": {
      "text/plain": [
       "(5931, 23)"
      ]
     },
     "execution_count": 45,
     "metadata": {},
     "output_type": "execute_result"
    }
   ],
   "source": [
    "X.shape"
   ]
  },
  {
   "cell_type": "code",
   "execution_count": 46,
   "metadata": {},
   "outputs": [
    {
     "data": {
      "text/html": [
       "<div>\n",
       "<style scoped>\n",
       "    .dataframe tbody tr th:only-of-type {\n",
       "        vertical-align: middle;\n",
       "    }\n",
       "\n",
       "    .dataframe tbody tr th {\n",
       "        vertical-align: top;\n",
       "    }\n",
       "\n",
       "    .dataframe thead th {\n",
       "        text-align: right;\n",
       "    }\n",
       "</style>\n",
       "<table border=\"1\" class=\"dataframe\">\n",
       "  <thead>\n",
       "    <tr style=\"text-align: right;\">\n",
       "      <th></th>\n",
       "      <th>custAge</th>\n",
       "      <th>profession</th>\n",
       "      <th>marital</th>\n",
       "      <th>schooling</th>\n",
       "      <th>default_1</th>\n",
       "      <th>default_2</th>\n",
       "      <th>housing_1</th>\n",
       "      <th>housing_2</th>\n",
       "      <th>loan_1</th>\n",
       "      <th>loan_2</th>\n",
       "      <th>...</th>\n",
       "      <th>campaign</th>\n",
       "      <th>pdays</th>\n",
       "      <th>previous</th>\n",
       "      <th>poutcome</th>\n",
       "      <th>emp.var.rate</th>\n",
       "      <th>cons.price.idx</th>\n",
       "      <th>cons.conf.idx</th>\n",
       "      <th>euribor3m</th>\n",
       "      <th>nr.employed</th>\n",
       "      <th>pastEmail</th>\n",
       "    </tr>\n",
       "  </thead>\n",
       "  <tbody>\n",
       "    <tr>\n",
       "      <th>0</th>\n",
       "      <td>-1.419053e+00</td>\n",
       "      <td>8</td>\n",
       "      <td>1</td>\n",
       "      <td>3</td>\n",
       "      <td>1</td>\n",
       "      <td>0</td>\n",
       "      <td>1</td>\n",
       "      <td>0</td>\n",
       "      <td>1</td>\n",
       "      <td>0</td>\n",
       "      <td>...</td>\n",
       "      <td>-0.557685</td>\n",
       "      <td>-0.180363</td>\n",
       "      <td>-0.354186</td>\n",
       "      <td>1</td>\n",
       "      <td>-1.174248</td>\n",
       "      <td>0.527618</td>\n",
       "      <td>0.119840</td>\n",
       "      <td>-1.663940</td>\n",
       "      <td>-2.137277</td>\n",
       "      <td>-0.286252</td>\n",
       "    </tr>\n",
       "    <tr>\n",
       "      <th>1</th>\n",
       "      <td>-7.685185e-16</td>\n",
       "      <td>4</td>\n",
       "      <td>2</td>\n",
       "      <td>6</td>\n",
       "      <td>1</td>\n",
       "      <td>0</td>\n",
       "      <td>1</td>\n",
       "      <td>0</td>\n",
       "      <td>1</td>\n",
       "      <td>0</td>\n",
       "      <td>...</td>\n",
       "      <td>0.167672</td>\n",
       "      <td>-0.180363</td>\n",
       "      <td>-0.354186</td>\n",
       "      <td>1</td>\n",
       "      <td>0.859024</td>\n",
       "      <td>0.600065</td>\n",
       "      <td>-0.458998</td>\n",
       "      <td>0.791293</td>\n",
       "      <td>0.861124</td>\n",
       "      <td>-0.286252</td>\n",
       "    </tr>\n",
       "    <tr>\n",
       "      <th>2</th>\n",
       "      <td>-7.685185e-16</td>\n",
       "      <td>9</td>\n",
       "      <td>1</td>\n",
       "      <td>6</td>\n",
       "      <td>1</td>\n",
       "      <td>0</td>\n",
       "      <td>1</td>\n",
       "      <td>0</td>\n",
       "      <td>1</td>\n",
       "      <td>0</td>\n",
       "      <td>...</td>\n",
       "      <td>-0.557685</td>\n",
       "      <td>-0.180363</td>\n",
       "      <td>-0.354186</td>\n",
       "      <td>1</td>\n",
       "      <td>0.859024</td>\n",
       "      <td>-0.217554</td>\n",
       "      <td>0.955939</td>\n",
       "      <td>0.791865</td>\n",
       "      <td>0.861124</td>\n",
       "      <td>-0.286252</td>\n",
       "    </tr>\n",
       "    <tr>\n",
       "      <th>3</th>\n",
       "      <td>-7.700966e-01</td>\n",
       "      <td>0</td>\n",
       "      <td>1</td>\n",
       "      <td>6</td>\n",
       "      <td>1</td>\n",
       "      <td>0</td>\n",
       "      <td>0</td>\n",
       "      <td>1</td>\n",
       "      <td>1</td>\n",
       "      <td>0</td>\n",
       "      <td>...</td>\n",
       "      <td>-0.557685</td>\n",
       "      <td>-0.180363</td>\n",
       "      <td>-0.354186</td>\n",
       "      <td>1</td>\n",
       "      <td>-0.729470</td>\n",
       "      <td>2.064536</td>\n",
       "      <td>-2.195512</td>\n",
       "      <td>-1.456190</td>\n",
       "      <td>-2.753631</td>\n",
       "      <td>-0.286252</td>\n",
       "    </tr>\n",
       "    <tr>\n",
       "      <th>4</th>\n",
       "      <td>-7.685185e-16</td>\n",
       "      <td>0</td>\n",
       "      <td>1</td>\n",
       "      <td>6</td>\n",
       "      <td>1</td>\n",
       "      <td>0</td>\n",
       "      <td>0</td>\n",
       "      <td>1</td>\n",
       "      <td>1</td>\n",
       "      <td>0</td>\n",
       "      <td>...</td>\n",
       "      <td>-0.557685</td>\n",
       "      <td>-0.180363</td>\n",
       "      <td>-0.354186</td>\n",
       "      <td>1</td>\n",
       "      <td>0.668405</td>\n",
       "      <td>0.731160</td>\n",
       "      <td>0.891624</td>\n",
       "      <td>0.731200</td>\n",
       "      <td>0.354102</td>\n",
       "      <td>-0.286252</td>\n",
       "    </tr>\n",
       "  </tbody>\n",
       "</table>\n",
       "<p>5 rows × 23 columns</p>\n",
       "</div>"
      ],
      "text/plain": [
       "        custAge  profession  marital  schooling  default_1  default_2  \\\n",
       "0 -1.419053e+00           8        1          3          1          0   \n",
       "1 -7.685185e-16           4        2          6          1          0   \n",
       "2 -7.685185e-16           9        1          6          1          0   \n",
       "3 -7.700966e-01           0        1          6          1          0   \n",
       "4 -7.685185e-16           0        1          6          1          0   \n",
       "\n",
       "   housing_1  housing_2  loan_1  loan_2  ...  campaign     pdays  previous  \\\n",
       "0          1          0       1       0  ... -0.557685 -0.180363 -0.354186   \n",
       "1          1          0       1       0  ...  0.167672 -0.180363 -0.354186   \n",
       "2          1          0       1       0  ... -0.557685 -0.180363 -0.354186   \n",
       "3          0          1       1       0  ... -0.557685 -0.180363 -0.354186   \n",
       "4          0          1       1       0  ... -0.557685 -0.180363 -0.354186   \n",
       "\n",
       "   poutcome  emp.var.rate  cons.price.idx  cons.conf.idx  euribor3m  \\\n",
       "0         1     -1.174248        0.527618       0.119840  -1.663940   \n",
       "1         1      0.859024        0.600065      -0.458998   0.791293   \n",
       "2         1      0.859024       -0.217554       0.955939   0.791865   \n",
       "3         1     -0.729470        2.064536      -2.195512  -1.456190   \n",
       "4         1      0.668405        0.731160       0.891624   0.731200   \n",
       "\n",
       "   nr.employed  pastEmail  \n",
       "0    -2.137277  -0.286252  \n",
       "1     0.861124  -0.286252  \n",
       "2     0.861124  -0.286252  \n",
       "3    -2.753631  -0.286252  \n",
       "4     0.354102  -0.286252  \n",
       "\n",
       "[5 rows x 23 columns]"
      ]
     },
     "execution_count": 46,
     "metadata": {},
     "output_type": "execute_result"
    }
   ],
   "source": [
    "X.head()"
   ]
  },
  {
   "cell_type": "markdown",
   "metadata": {},
   "source": [
    "# Splitting the Data into train test"
   ]
  },
  {
   "cell_type": "code",
   "execution_count": 47,
   "metadata": {},
   "outputs": [],
   "source": [
    "X_train,X_test,y_train,y_test = train_test_split(X,y,test_size = 0.2, \n",
    "                                                 random_state = 0, stratify = y)"
   ]
  },
  {
   "cell_type": "code",
   "execution_count": 48,
   "metadata": {},
   "outputs": [],
   "source": [
    "# Fitting a Logistic regression model"
   ]
  },
  {
   "cell_type": "code",
   "execution_count": 49,
   "metadata": {},
   "outputs": [
    {
     "data": {
      "text/plain": [
       "LogisticRegression()"
      ]
     },
     "execution_count": 49,
     "metadata": {},
     "output_type": "execute_result"
    }
   ],
   "source": [
    "lregr = LogisticRegression()\n",
    "lregr.fit(X_train,y_train)"
   ]
  },
  {
   "cell_type": "code",
   "execution_count": 50,
   "metadata": {},
   "outputs": [],
   "source": [
    "y_predict_logreg = lregr.predict(X_test)"
   ]
  },
  {
   "cell_type": "code",
   "execution_count": 51,
   "metadata": {},
   "outputs": [
    {
     "data": {
      "text/plain": [
       "0.9056444818871103"
      ]
     },
     "execution_count": 51,
     "metadata": {},
     "output_type": "execute_result"
    }
   ],
   "source": [
    "acc_logreg = accuracy_score(y_test,y_predict_logreg)\n",
    "acc_logreg"
   ]
  },
  {
   "cell_type": "markdown",
   "metadata": {},
   "source": [
    "# Fitting a Decision tree model"
   ]
  },
  {
   "cell_type": "code",
   "execution_count": 52,
   "metadata": {},
   "outputs": [],
   "source": [
    "dectree = DecisionTreeClassifier(random_state = 100)"
   ]
  },
  {
   "cell_type": "code",
   "execution_count": 53,
   "metadata": {},
   "outputs": [],
   "source": [
    "params = {'max_depth':list(range(2,5)), 'criterion':['gini', 'entropy'],'min_samples_split' :[2,5,10],'min_samples_leaf':[2,4]}"
   ]
  },
  {
   "cell_type": "code",
   "execution_count": 54,
   "metadata": {},
   "outputs": [],
   "source": [
    "cv_gs_dt = GridSearchCV(dectree, param_grid = params, cv = 5, scoring = 'accuracy')"
   ]
  },
  {
   "cell_type": "code",
   "execution_count": 55,
   "metadata": {},
   "outputs": [
    {
     "data": {
      "text/plain": [
       "GridSearchCV(cv=5, estimator=DecisionTreeClassifier(random_state=100),\n",
       "             param_grid={'criterion': ['gini', 'entropy'],\n",
       "                         'max_depth': [2, 3, 4], 'min_samples_leaf': [2, 4],\n",
       "                         'min_samples_split': [2, 5, 10]},\n",
       "             scoring='accuracy')"
      ]
     },
     "execution_count": 55,
     "metadata": {},
     "output_type": "execute_result"
    }
   ],
   "source": [
    "cv_gs_dt.fit(X_train,y_train)"
   ]
  },
  {
   "cell_type": "code",
   "execution_count": 56,
   "metadata": {},
   "outputs": [
    {
     "name": "stdout",
     "output_type": "stream",
     "text": [
      "{'criterion': 'gini', 'max_depth': 2, 'min_samples_leaf': 2, 'min_samples_split': 2}\n"
     ]
    }
   ],
   "source": [
    "print(cv_gs_dt.best_params_)"
   ]
  },
  {
   "cell_type": "code",
   "execution_count": 57,
   "metadata": {},
   "outputs": [
    {
     "data": {
      "text/plain": [
       "0.8939703351962759"
      ]
     },
     "execution_count": 57,
     "metadata": {},
     "output_type": "execute_result"
    }
   ],
   "source": [
    "cv_gs_dt.best_score_"
   ]
  },
  {
   "cell_type": "code",
   "execution_count": 58,
   "metadata": {},
   "outputs": [
    {
     "data": {
      "text/plain": [
       "DecisionTreeClassifier(max_depth=2, min_samples_leaf=2, random_state=100)"
      ]
     },
     "execution_count": 58,
     "metadata": {},
     "output_type": "execute_result"
    }
   ],
   "source": [
    "dectree = DecisionTreeClassifier(criterion = 'gini', max_depth = 2, min_samples_leaf = 2,min_samples_split=2,\n",
    "                                 random_state = 100)\n",
    "dectree.fit(X_train,y_train)"
   ]
  },
  {
   "cell_type": "code",
   "execution_count": 59,
   "metadata": {},
   "outputs": [],
   "source": [
    "y_predict_dectree = dectree.predict(X_test)"
   ]
  },
  {
   "cell_type": "code",
   "execution_count": 60,
   "metadata": {},
   "outputs": [
    {
     "data": {
      "text/plain": [
       "0.9048020219039595"
      ]
     },
     "execution_count": 60,
     "metadata": {},
     "output_type": "execute_result"
    }
   ],
   "source": [
    "acc_dectree = accuracy_score(y_test,y_predict_dectree)\n",
    "acc_dectree"
   ]
  },
  {
   "cell_type": "markdown",
   "metadata": {},
   "source": [
    "# Fitting a Support Vector Model"
   ]
  },
  {
   "cell_type": "code",
   "execution_count": 61,
   "metadata": {},
   "outputs": [
    {
     "data": {
      "text/plain": [
       "SVC()"
      ]
     },
     "execution_count": 61,
     "metadata": {},
     "output_type": "execute_result"
    }
   ],
   "source": [
    "svc = SVC()\n",
    "svc.fit(X_train,y_train)"
   ]
  },
  {
   "cell_type": "code",
   "execution_count": 62,
   "metadata": {},
   "outputs": [],
   "source": [
    "y_predict_svc = svc.predict(X_test)"
   ]
  },
  {
   "cell_type": "code",
   "execution_count": 63,
   "metadata": {},
   "outputs": [
    {
     "data": {
      "text/plain": [
       "0.9014321819713563"
      ]
     },
     "execution_count": 63,
     "metadata": {},
     "output_type": "execute_result"
    }
   ],
   "source": [
    "acc_svc = accuracy_score(y_test,y_predict_svc)\n",
    "acc_svc"
   ]
  },
  {
   "cell_type": "markdown",
   "metadata": {},
   "source": [
    "# Importing the test dataset"
   ]
  },
  {
   "cell_type": "code",
   "execution_count": 64,
   "metadata": {},
   "outputs": [],
   "source": [
    "test_data = pd.read_csv(\"MarketingData_testFeatures.csv\", na_values = \"unknown\" )"
   ]
  },
  {
   "cell_type": "code",
   "execution_count": 65,
   "metadata": {},
   "outputs": [
    {
     "data": {
      "text/html": [
       "<div>\n",
       "<style scoped>\n",
       "    .dataframe tbody tr th:only-of-type {\n",
       "        vertical-align: middle;\n",
       "    }\n",
       "\n",
       "    .dataframe tbody tr th {\n",
       "        vertical-align: top;\n",
       "    }\n",
       "\n",
       "    .dataframe thead th {\n",
       "        text-align: right;\n",
       "    }\n",
       "</style>\n",
       "<table border=\"1\" class=\"dataframe\">\n",
       "  <thead>\n",
       "    <tr style=\"text-align: right;\">\n",
       "      <th></th>\n",
       "      <th>custAge</th>\n",
       "      <th>profession</th>\n",
       "      <th>marital</th>\n",
       "      <th>schooling</th>\n",
       "      <th>default</th>\n",
       "      <th>housing</th>\n",
       "      <th>loan</th>\n",
       "      <th>contact</th>\n",
       "      <th>month</th>\n",
       "      <th>day_of_week</th>\n",
       "      <th>...</th>\n",
       "      <th>pdays</th>\n",
       "      <th>previous</th>\n",
       "      <th>poutcome</th>\n",
       "      <th>emp.var.rate</th>\n",
       "      <th>cons.price.idx</th>\n",
       "      <th>cons.conf.idx</th>\n",
       "      <th>euribor3m</th>\n",
       "      <th>nr.employed</th>\n",
       "      <th>pmonths</th>\n",
       "      <th>pastEmail</th>\n",
       "    </tr>\n",
       "  </thead>\n",
       "  <tbody>\n",
       "    <tr>\n",
       "      <th>0</th>\n",
       "      <td>NaN</td>\n",
       "      <td>technician</td>\n",
       "      <td>married</td>\n",
       "      <td>NaN</td>\n",
       "      <td>no</td>\n",
       "      <td>yes</td>\n",
       "      <td>no</td>\n",
       "      <td>cellular</td>\n",
       "      <td>mar</td>\n",
       "      <td>tue</td>\n",
       "      <td>...</td>\n",
       "      <td>6</td>\n",
       "      <td>2</td>\n",
       "      <td>success</td>\n",
       "      <td>-1.8</td>\n",
       "      <td>93.369</td>\n",
       "      <td>-34.8</td>\n",
       "      <td>0.655</td>\n",
       "      <td>5008.7</td>\n",
       "      <td>0.2</td>\n",
       "      <td>2</td>\n",
       "    </tr>\n",
       "    <tr>\n",
       "      <th>1</th>\n",
       "      <td>28.0</td>\n",
       "      <td>services</td>\n",
       "      <td>married</td>\n",
       "      <td>NaN</td>\n",
       "      <td>no</td>\n",
       "      <td>yes</td>\n",
       "      <td>no</td>\n",
       "      <td>cellular</td>\n",
       "      <td>jul</td>\n",
       "      <td>tue</td>\n",
       "      <td>...</td>\n",
       "      <td>999</td>\n",
       "      <td>0</td>\n",
       "      <td>nonexistent</td>\n",
       "      <td>1.4</td>\n",
       "      <td>93.918</td>\n",
       "      <td>-42.7</td>\n",
       "      <td>4.962</td>\n",
       "      <td>5228.1</td>\n",
       "      <td>999.0</td>\n",
       "      <td>0</td>\n",
       "    </tr>\n",
       "    <tr>\n",
       "      <th>2</th>\n",
       "      <td>NaN</td>\n",
       "      <td>entrepreneur</td>\n",
       "      <td>married</td>\n",
       "      <td>NaN</td>\n",
       "      <td>no</td>\n",
       "      <td>no</td>\n",
       "      <td>no</td>\n",
       "      <td>telephone</td>\n",
       "      <td>may</td>\n",
       "      <td>fri</td>\n",
       "      <td>...</td>\n",
       "      <td>999</td>\n",
       "      <td>0</td>\n",
       "      <td>nonexistent</td>\n",
       "      <td>1.1</td>\n",
       "      <td>93.994</td>\n",
       "      <td>-36.4</td>\n",
       "      <td>4.857</td>\n",
       "      <td>5191.0</td>\n",
       "      <td>999.0</td>\n",
       "      <td>0</td>\n",
       "    </tr>\n",
       "    <tr>\n",
       "      <th>3</th>\n",
       "      <td>NaN</td>\n",
       "      <td>admin.</td>\n",
       "      <td>married</td>\n",
       "      <td>high.school</td>\n",
       "      <td>no</td>\n",
       "      <td>yes</td>\n",
       "      <td>no</td>\n",
       "      <td>cellular</td>\n",
       "      <td>oct</td>\n",
       "      <td>NaN</td>\n",
       "      <td>...</td>\n",
       "      <td>999</td>\n",
       "      <td>1</td>\n",
       "      <td>failure</td>\n",
       "      <td>-1.1</td>\n",
       "      <td>94.601</td>\n",
       "      <td>-49.5</td>\n",
       "      <td>0.972</td>\n",
       "      <td>4963.6</td>\n",
       "      <td>999.0</td>\n",
       "      <td>3</td>\n",
       "    </tr>\n",
       "    <tr>\n",
       "      <th>4</th>\n",
       "      <td>58.0</td>\n",
       "      <td>services</td>\n",
       "      <td>married</td>\n",
       "      <td>high.school</td>\n",
       "      <td>no</td>\n",
       "      <td>yes</td>\n",
       "      <td>no</td>\n",
       "      <td>cellular</td>\n",
       "      <td>mar</td>\n",
       "      <td>mon</td>\n",
       "      <td>...</td>\n",
       "      <td>999</td>\n",
       "      <td>2</td>\n",
       "      <td>failure</td>\n",
       "      <td>-1.8</td>\n",
       "      <td>93.369</td>\n",
       "      <td>-34.8</td>\n",
       "      <td>0.635</td>\n",
       "      <td>5008.7</td>\n",
       "      <td>999.0</td>\n",
       "      <td>2</td>\n",
       "    </tr>\n",
       "  </tbody>\n",
       "</table>\n",
       "<p>5 rows × 21 columns</p>\n",
       "</div>"
      ],
      "text/plain": [
       "   custAge    profession  marital    schooling default housing loan  \\\n",
       "0      NaN    technician  married          NaN      no     yes   no   \n",
       "1     28.0      services  married          NaN      no     yes   no   \n",
       "2      NaN  entrepreneur  married          NaN      no      no   no   \n",
       "3      NaN        admin.  married  high.school      no     yes   no   \n",
       "4     58.0      services  married  high.school      no     yes   no   \n",
       "\n",
       "     contact month day_of_week  ...  pdays  previous     poutcome  \\\n",
       "0   cellular   mar         tue  ...      6         2      success   \n",
       "1   cellular   jul         tue  ...    999         0  nonexistent   \n",
       "2  telephone   may         fri  ...    999         0  nonexistent   \n",
       "3   cellular   oct         NaN  ...    999         1      failure   \n",
       "4   cellular   mar         mon  ...    999         2      failure   \n",
       "\n",
       "  emp.var.rate  cons.price.idx  cons.conf.idx  euribor3m  nr.employed  \\\n",
       "0         -1.8          93.369          -34.8      0.655       5008.7   \n",
       "1          1.4          93.918          -42.7      4.962       5228.1   \n",
       "2          1.1          93.994          -36.4      4.857       5191.0   \n",
       "3         -1.1          94.601          -49.5      0.972       4963.6   \n",
       "4         -1.8          93.369          -34.8      0.635       5008.7   \n",
       "\n",
       "   pmonths  pastEmail  \n",
       "0      0.2          2  \n",
       "1    999.0          0  \n",
       "2    999.0          0  \n",
       "3    999.0          3  \n",
       "4    999.0          2  \n",
       "\n",
       "[5 rows x 21 columns]"
      ]
     },
     "execution_count": 65,
     "metadata": {},
     "output_type": "execute_result"
    }
   ],
   "source": [
    "test_data.head()"
   ]
  },
  {
   "cell_type": "code",
   "execution_count": 66,
   "metadata": {},
   "outputs": [
    {
     "name": "stdout",
     "output_type": "stream",
     "text": [
      "profession: \n",
      " ['technician' 'services' 'entrepreneur' 'admin.' 'unemployed' 'management'\n",
      " 'blue-collar' 'retired' 'self-employed' 'housemaid' 'student' nan]\n",
      "\n",
      "marital: \n",
      " ['married' 'single' 'divorced' nan]\n",
      "\n",
      "schooling: \n",
      " [nan 'high.school' 'university.degree' 'professional.course' 'basic.6y'\n",
      " 'basic.9y' 'basic.4y']\n",
      "\n",
      "default: \n",
      " ['no' nan]\n",
      "\n",
      "housing: \n",
      " ['yes' 'no' nan]\n",
      "\n",
      "loan: \n",
      " ['no' nan 'yes']\n",
      "\n",
      "contact: \n",
      " ['cellular' 'telephone']\n",
      "\n",
      "month: \n",
      " ['mar' 'jul' 'may' 'oct' 'nov' 'jun' 'aug' 'apr' 'sep' 'dec']\n",
      "\n",
      "day_of_week: \n",
      " ['tue' 'fri' nan 'mon' 'thu' 'wed']\n",
      "\n",
      "poutcome: \n",
      " ['success' 'nonexistent' 'failure']\n",
      "\n"
     ]
    }
   ],
   "source": [
    "for i in test_data.columns:\n",
    "    if test_data[i].dtype == type(object):\n",
    "        print(i,end=': ')\n",
    "        print('\\n',test_data[i].unique())\n",
    "        print()"
   ]
  },
  {
   "cell_type": "code",
   "execution_count": 67,
   "metadata": {},
   "outputs": [
    {
     "data": {
      "text/plain": [
       "custAge           364\n",
       "profession         11\n",
       "marital             1\n",
       "schooling         503\n",
       "default           265\n",
       "housing            34\n",
       "loan               34\n",
       "contact             0\n",
       "month               0\n",
       "day_of_week       136\n",
       "campaign            0\n",
       "pdays               0\n",
       "previous            0\n",
       "poutcome            0\n",
       "emp.var.rate        0\n",
       "cons.price.idx      0\n",
       "cons.conf.idx       0\n",
       "euribor3m           0\n",
       "nr.employed         0\n",
       "pmonths             0\n",
       "pastEmail           0\n",
       "dtype: int64"
      ]
     },
     "execution_count": 67,
     "metadata": {},
     "output_type": "execute_result"
    }
   ],
   "source": [
    "test_data.isnull().sum()"
   ]
  },
  {
   "cell_type": "code",
   "execution_count": 68,
   "metadata": {},
   "outputs": [],
   "source": [
    "test_data[\"custAge\"] = test_data[\"custAge\"].fillna(test_data[\"custAge\"].mean())"
   ]
  },
  {
   "cell_type": "code",
   "execution_count": 69,
   "metadata": {},
   "outputs": [],
   "source": [
    "test_data[\"schooling\"] = test_data[\"schooling\"].fillna(test_data[\"schooling\"].mode()[0])\n",
    "test_data[\"day_of_week\"] = test_data[\"day_of_week\"].fillna(test_data[\"day_of_week\"].mode()[0])\n",
    "test_data[\"default\"] = test_data[\"default\"].fillna(test_data[\"default\"].mode()[0])\n",
    "test_data[\"loan\"] = test_data[\"loan\"].fillna(test_data[\"loan\"].mode()[0])\n",
    "test_data[\"profession\"] = test_data[\"profession\"].fillna(test_data[\"profession\"].mode()[0])\n",
    "test_data[\"housing\"] = test_data[\"housing\"].fillna(test_data[\"housing\"].mode()[0])\n",
    "test_data[\"marital\"] = test_data[\"marital\"].fillna(test_data[\"marital\"].mode()[0])"
   ]
  },
  {
   "cell_type": "code",
   "execution_count": 70,
   "metadata": {},
   "outputs": [
    {
     "data": {
      "text/plain": [
       "custAge           0\n",
       "profession        0\n",
       "marital           0\n",
       "schooling         0\n",
       "default           0\n",
       "housing           0\n",
       "loan              0\n",
       "contact           0\n",
       "month             0\n",
       "day_of_week       0\n",
       "campaign          0\n",
       "pdays             0\n",
       "previous          0\n",
       "poutcome          0\n",
       "emp.var.rate      0\n",
       "cons.price.idx    0\n",
       "cons.conf.idx     0\n",
       "euribor3m         0\n",
       "nr.employed       0\n",
       "pmonths           0\n",
       "pastEmail         0\n",
       "dtype: int64"
      ]
     },
     "execution_count": 70,
     "metadata": {},
     "output_type": "execute_result"
    }
   ],
   "source": [
    "test_data.isnull().sum()"
   ]
  },
  {
   "cell_type": "code",
   "execution_count": 71,
   "metadata": {},
   "outputs": [
    {
     "name": "stdout",
     "output_type": "stream",
     "text": [
      "profession: \n",
      " ['technician' 'services' 'entrepreneur' 'admin.' 'unemployed' 'management'\n",
      " 'blue-collar' 'retired' 'self-employed' 'housemaid' 'student']\n",
      "\n",
      "marital: \n",
      " ['married' 'single' 'divorced']\n",
      "\n",
      "schooling: \n",
      " ['university.degree' 'high.school' 'professional.course' 'basic.6y'\n",
      " 'basic.9y' 'basic.4y']\n",
      "\n",
      "default: \n",
      " ['no']\n",
      "\n",
      "housing: \n",
      " ['yes' 'no']\n",
      "\n",
      "loan: \n",
      " ['no' 'yes']\n",
      "\n",
      "contact: \n",
      " ['cellular' 'telephone']\n",
      "\n",
      "month: \n",
      " ['mar' 'jul' 'may' 'oct' 'nov' 'jun' 'aug' 'apr' 'sep' 'dec']\n",
      "\n",
      "day_of_week: \n",
      " ['tue' 'fri' 'mon' 'thu' 'wed']\n",
      "\n",
      "poutcome: \n",
      " ['success' 'nonexistent' 'failure']\n",
      "\n"
     ]
    }
   ],
   "source": [
    "for i in test_data.columns:\n",
    "    if test_data[i].dtype == type(object):\n",
    "        print(i,end=': ')\n",
    "        print('\\n',test_data[i].unique())\n",
    "        print()"
   ]
  },
  {
   "cell_type": "code",
   "execution_count": 72,
   "metadata": {},
   "outputs": [],
   "source": [
    "test_data.drop(axis=1,columns=['pmonths'],inplace=True)"
   ]
  },
  {
   "cell_type": "code",
   "execution_count": 73,
   "metadata": {},
   "outputs": [
    {
     "data": {
      "text/plain": [
       "array([ 8,  4,  9,  0,  1, 10,  7,  6,  2,  3,  5])"
      ]
     },
     "execution_count": 73,
     "metadata": {},
     "output_type": "execute_result"
    }
   ],
   "source": [
    "X.profession.unique()"
   ]
  },
  {
   "cell_type": "code",
   "execution_count": 74,
   "metadata": {},
   "outputs": [
    {
     "data": {
      "text/plain": [
       "array(['technician', 'services', 'entrepreneur', 'admin.', 'unemployed',\n",
       "       'management', 'blue-collar', 'retired', 'self-employed',\n",
       "       'housemaid', 'student'], dtype=object)"
      ]
     },
     "execution_count": 74,
     "metadata": {},
     "output_type": "execute_result"
    }
   ],
   "source": [
    "test_data.profession.unique()"
   ]
  },
  {
   "cell_type": "code",
   "execution_count": 75,
   "metadata": {},
   "outputs": [],
   "source": [
    "columns_to_le = [\"profession\",\"marital\",\"schooling\",\"contact\",\"month\",\"day_of_week\",\"poutcome\"]\n",
    "#Label Encoding the categorical columns, Alternatively use sklearn.preprocessing.OrdinalEncoder\n",
    "le = LabelEncoder()\n",
    "for col in columns_to_le:\n",
    "    test_data[col] = le.fit_transform(test_data[col])"
   ]
  },
  {
   "cell_type": "code",
   "execution_count": 76,
   "metadata": {},
   "outputs": [],
   "source": [
    "columns_to_oe = [\"default\",\"housing\",\"loan\"]\n",
    "#OHE Encoding the Nominal categorical columns\n",
    "#oe = OneHotEncoder(cols = columns_to_oe)\n",
    "test_data = oe.transform(test_data)"
   ]
  },
  {
   "cell_type": "code",
   "execution_count": 77,
   "metadata": {},
   "outputs": [
    {
     "data": {
      "text/html": [
       "<div>\n",
       "<style scoped>\n",
       "    .dataframe tbody tr th:only-of-type {\n",
       "        vertical-align: middle;\n",
       "    }\n",
       "\n",
       "    .dataframe tbody tr th {\n",
       "        vertical-align: top;\n",
       "    }\n",
       "\n",
       "    .dataframe thead th {\n",
       "        text-align: right;\n",
       "    }\n",
       "</style>\n",
       "<table border=\"1\" class=\"dataframe\">\n",
       "  <thead>\n",
       "    <tr style=\"text-align: right;\">\n",
       "      <th></th>\n",
       "      <th>custAge</th>\n",
       "      <th>profession</th>\n",
       "      <th>marital</th>\n",
       "      <th>schooling</th>\n",
       "      <th>default_1</th>\n",
       "      <th>default_2</th>\n",
       "      <th>housing_1</th>\n",
       "      <th>housing_2</th>\n",
       "      <th>loan_1</th>\n",
       "      <th>loan_2</th>\n",
       "      <th>...</th>\n",
       "      <th>campaign</th>\n",
       "      <th>pdays</th>\n",
       "      <th>previous</th>\n",
       "      <th>poutcome</th>\n",
       "      <th>emp.var.rate</th>\n",
       "      <th>cons.price.idx</th>\n",
       "      <th>cons.conf.idx</th>\n",
       "      <th>euribor3m</th>\n",
       "      <th>nr.employed</th>\n",
       "      <th>pastEmail</th>\n",
       "    </tr>\n",
       "  </thead>\n",
       "  <tbody>\n",
       "    <tr>\n",
       "      <th>0</th>\n",
       "      <td>39.567471</td>\n",
       "      <td>9</td>\n",
       "      <td>1</td>\n",
       "      <td>5</td>\n",
       "      <td>1</td>\n",
       "      <td>0</td>\n",
       "      <td>1</td>\n",
       "      <td>0</td>\n",
       "      <td>1</td>\n",
       "      <td>0</td>\n",
       "      <td>...</td>\n",
       "      <td>2</td>\n",
       "      <td>6</td>\n",
       "      <td>2</td>\n",
       "      <td>2</td>\n",
       "      <td>-1.8</td>\n",
       "      <td>93.369</td>\n",
       "      <td>-34.8</td>\n",
       "      <td>0.655</td>\n",
       "      <td>5008.7</td>\n",
       "      <td>2</td>\n",
       "    </tr>\n",
       "    <tr>\n",
       "      <th>1</th>\n",
       "      <td>28.000000</td>\n",
       "      <td>7</td>\n",
       "      <td>1</td>\n",
       "      <td>5</td>\n",
       "      <td>1</td>\n",
       "      <td>0</td>\n",
       "      <td>1</td>\n",
       "      <td>0</td>\n",
       "      <td>1</td>\n",
       "      <td>0</td>\n",
       "      <td>...</td>\n",
       "      <td>1</td>\n",
       "      <td>-1</td>\n",
       "      <td>0</td>\n",
       "      <td>1</td>\n",
       "      <td>1.4</td>\n",
       "      <td>93.918</td>\n",
       "      <td>-42.7</td>\n",
       "      <td>4.962</td>\n",
       "      <td>5228.1</td>\n",
       "      <td>0</td>\n",
       "    </tr>\n",
       "    <tr>\n",
       "      <th>2</th>\n",
       "      <td>39.567471</td>\n",
       "      <td>2</td>\n",
       "      <td>1</td>\n",
       "      <td>5</td>\n",
       "      <td>1</td>\n",
       "      <td>0</td>\n",
       "      <td>0</td>\n",
       "      <td>1</td>\n",
       "      <td>1</td>\n",
       "      <td>0</td>\n",
       "      <td>...</td>\n",
       "      <td>1</td>\n",
       "      <td>-1</td>\n",
       "      <td>0</td>\n",
       "      <td>1</td>\n",
       "      <td>1.1</td>\n",
       "      <td>93.994</td>\n",
       "      <td>-36.4</td>\n",
       "      <td>4.857</td>\n",
       "      <td>5191.0</td>\n",
       "      <td>0</td>\n",
       "    </tr>\n",
       "    <tr>\n",
       "      <th>3</th>\n",
       "      <td>39.567471</td>\n",
       "      <td>0</td>\n",
       "      <td>1</td>\n",
       "      <td>3</td>\n",
       "      <td>1</td>\n",
       "      <td>0</td>\n",
       "      <td>1</td>\n",
       "      <td>0</td>\n",
       "      <td>1</td>\n",
       "      <td>0</td>\n",
       "      <td>...</td>\n",
       "      <td>1</td>\n",
       "      <td>-1</td>\n",
       "      <td>1</td>\n",
       "      <td>0</td>\n",
       "      <td>-1.1</td>\n",
       "      <td>94.601</td>\n",
       "      <td>-49.5</td>\n",
       "      <td>0.972</td>\n",
       "      <td>4963.6</td>\n",
       "      <td>3</td>\n",
       "    </tr>\n",
       "    <tr>\n",
       "      <th>4</th>\n",
       "      <td>58.000000</td>\n",
       "      <td>7</td>\n",
       "      <td>1</td>\n",
       "      <td>3</td>\n",
       "      <td>1</td>\n",
       "      <td>0</td>\n",
       "      <td>1</td>\n",
       "      <td>0</td>\n",
       "      <td>1</td>\n",
       "      <td>0</td>\n",
       "      <td>...</td>\n",
       "      <td>3</td>\n",
       "      <td>-1</td>\n",
       "      <td>2</td>\n",
       "      <td>0</td>\n",
       "      <td>-1.8</td>\n",
       "      <td>93.369</td>\n",
       "      <td>-34.8</td>\n",
       "      <td>0.635</td>\n",
       "      <td>5008.7</td>\n",
       "      <td>2</td>\n",
       "    </tr>\n",
       "  </tbody>\n",
       "</table>\n",
       "<p>5 rows × 23 columns</p>\n",
       "</div>"
      ],
      "text/plain": [
       "     custAge  profession  marital  schooling  default_1  default_2  housing_1  \\\n",
       "0  39.567471           9        1          5          1          0          1   \n",
       "1  28.000000           7        1          5          1          0          1   \n",
       "2  39.567471           2        1          5          1          0          0   \n",
       "3  39.567471           0        1          3          1          0          1   \n",
       "4  58.000000           7        1          3          1          0          1   \n",
       "\n",
       "   housing_2  loan_1  loan_2  ...  campaign  pdays  previous  poutcome  \\\n",
       "0          0       1       0  ...         2      6         2         2   \n",
       "1          0       1       0  ...         1     -1         0         1   \n",
       "2          1       1       0  ...         1     -1         0         1   \n",
       "3          0       1       0  ...         1     -1         1         0   \n",
       "4          0       1       0  ...         3     -1         2         0   \n",
       "\n",
       "   emp.var.rate  cons.price.idx  cons.conf.idx  euribor3m  nr.employed  \\\n",
       "0          -1.8          93.369          -34.8      0.655       5008.7   \n",
       "1           1.4          93.918          -42.7      4.962       5228.1   \n",
       "2           1.1          93.994          -36.4      4.857       5191.0   \n",
       "3          -1.1          94.601          -49.5      0.972       4963.6   \n",
       "4          -1.8          93.369          -34.8      0.635       5008.7   \n",
       "\n",
       "   pastEmail  \n",
       "0          2  \n",
       "1          0  \n",
       "2          0  \n",
       "3          3  \n",
       "4          2  \n",
       "\n",
       "[5 rows x 23 columns]"
      ]
     },
     "execution_count": 77,
     "metadata": {},
     "output_type": "execute_result"
    }
   ],
   "source": [
    "test_data['pdays'].replace(999,-1,inplace=True)\n",
    "test_data.head(5)"
   ]
  },
  {
   "cell_type": "code",
   "execution_count": 78,
   "metadata": {},
   "outputs": [],
   "source": [
    "cnames = [\"custAge\",\"campaign\",\"pdays\",\"previous\",\"emp.var.rate\",\"cons.price.idx\",\n",
    "         \"cons.conf.idx\",\"euribor3m\",\"nr.employed\",\"pastEmail\"]\n",
    "\n",
    "#sc = StandardScaler()\n",
    "for col in cnames:\n",
    "    test_data[col] = sc.transform(test_data[[col]])"
   ]
  },
  {
   "cell_type": "code",
   "execution_count": 79,
   "metadata": {},
   "outputs": [
    {
     "name": "stdout",
     "output_type": "stream",
     "text": [
      "<class 'pandas.core.frame.DataFrame'>\n",
      "RangeIndex: 1483 entries, 0 to 1482\n",
      "Data columns (total 23 columns):\n",
      " #   Column          Non-Null Count  Dtype  \n",
      "---  ------          --------------  -----  \n",
      " 0   custAge         1483 non-null   float64\n",
      " 1   profession      1483 non-null   int32  \n",
      " 2   marital         1483 non-null   int32  \n",
      " 3   schooling       1483 non-null   int32  \n",
      " 4   default_1       1483 non-null   int64  \n",
      " 5   default_2       1483 non-null   int64  \n",
      " 6   housing_1       1483 non-null   int64  \n",
      " 7   housing_2       1483 non-null   int64  \n",
      " 8   loan_1          1483 non-null   int64  \n",
      " 9   loan_2          1483 non-null   int64  \n",
      " 10  contact         1483 non-null   int32  \n",
      " 11  month           1483 non-null   int32  \n",
      " 12  day_of_week     1483 non-null   int32  \n",
      " 13  campaign        1483 non-null   float64\n",
      " 14  pdays           1483 non-null   float64\n",
      " 15  previous        1483 non-null   float64\n",
      " 16  poutcome        1483 non-null   int32  \n",
      " 17  emp.var.rate    1483 non-null   float64\n",
      " 18  cons.price.idx  1483 non-null   float64\n",
      " 19  cons.conf.idx   1483 non-null   float64\n",
      " 20  euribor3m       1483 non-null   float64\n",
      " 21  nr.employed     1483 non-null   float64\n",
      " 22  pastEmail       1483 non-null   float64\n",
      "dtypes: float64(10), int32(7), int64(6)\n",
      "memory usage: 226.1 KB\n"
     ]
    }
   ],
   "source": [
    "test_data.info()"
   ]
  },
  {
   "cell_type": "code",
   "execution_count": 80,
   "metadata": {},
   "outputs": [
    {
     "data": {
      "text/plain": [
       "(1187, 23)"
      ]
     },
     "execution_count": 80,
     "metadata": {},
     "output_type": "execute_result"
    }
   ],
   "source": [
    "X_test.shape"
   ]
  },
  {
   "cell_type": "code",
   "execution_count": 81,
   "metadata": {},
   "outputs": [],
   "source": [
    "final_predictions = pd.Series(lregr.predict(test_data))"
   ]
  },
  {
   "cell_type": "code",
   "execution_count": 82,
   "metadata": {},
   "outputs": [
    {
     "data": {
      "text/plain": [
       "0       0\n",
       "1       0\n",
       "2       0\n",
       "3       0\n",
       "4       0\n",
       "       ..\n",
       "1478    0\n",
       "1479    0\n",
       "1480    0\n",
       "1481    0\n",
       "1482    0\n",
       "Length: 1483, dtype: int32"
      ]
     },
     "execution_count": 82,
     "metadata": {},
     "output_type": "execute_result"
    }
   ],
   "source": [
    "final_predictions"
   ]
  },
  {
   "cell_type": "code",
   "execution_count": 83,
   "metadata": {},
   "outputs": [],
   "source": [
    "submission = pd.read_csv(\"sample_submission.csv\")"
   ]
  },
  {
   "cell_type": "code",
   "execution_count": 84,
   "metadata": {},
   "outputs": [
    {
     "data": {
      "text/html": [
       "<div>\n",
       "<style scoped>\n",
       "    .dataframe tbody tr th:only-of-type {\n",
       "        vertical-align: middle;\n",
       "    }\n",
       "\n",
       "    .dataframe tbody tr th {\n",
       "        vertical-align: top;\n",
       "    }\n",
       "\n",
       "    .dataframe thead th {\n",
       "        text-align: right;\n",
       "    }\n",
       "</style>\n",
       "<table border=\"1\" class=\"dataframe\">\n",
       "  <thead>\n",
       "    <tr style=\"text-align: right;\">\n",
       "      <th></th>\n",
       "      <th>ID</th>\n",
       "      <th>Responded</th>\n",
       "    </tr>\n",
       "  </thead>\n",
       "  <tbody>\n",
       "    <tr>\n",
       "      <th>0</th>\n",
       "      <td>283149</td>\n",
       "      <td>1</td>\n",
       "    </tr>\n",
       "    <tr>\n",
       "      <th>1</th>\n",
       "      <td>253020</td>\n",
       "      <td>1</td>\n",
       "    </tr>\n",
       "    <tr>\n",
       "      <th>2</th>\n",
       "      <td>348435</td>\n",
       "      <td>0</td>\n",
       "    </tr>\n",
       "    <tr>\n",
       "      <th>3</th>\n",
       "      <td>299763</td>\n",
       "      <td>1</td>\n",
       "    </tr>\n",
       "    <tr>\n",
       "      <th>4</th>\n",
       "      <td>195120</td>\n",
       "      <td>1</td>\n",
       "    </tr>\n",
       "  </tbody>\n",
       "</table>\n",
       "</div>"
      ],
      "text/plain": [
       "       ID  Responded\n",
       "0  283149          1\n",
       "1  253020          1\n",
       "2  348435          0\n",
       "3  299763          1\n",
       "4  195120          1"
      ]
     },
     "execution_count": 84,
     "metadata": {},
     "output_type": "execute_result"
    }
   ],
   "source": [
    "submission.head()"
   ]
  },
  {
   "cell_type": "code",
   "execution_count": 85,
   "metadata": {},
   "outputs": [],
   "source": [
    "submission['Responded'] = final_predictions"
   ]
  },
  {
   "cell_type": "code",
   "execution_count": 86,
   "metadata": {},
   "outputs": [],
   "source": [
    "submission.to_csv(\"submission_1.csv\",index=False)"
   ]
  }
 ],
 "metadata": {
  "kernelspec": {
   "display_name": "Python 3 (ipykernel)",
   "language": "python",
   "name": "python3"
  },
  "language_info": {
   "codemirror_mode": {
    "name": "ipython",
    "version": 3
   },
   "file_extension": ".py",
   "mimetype": "text/x-python",
   "name": "python",
   "nbconvert_exporter": "python",
   "pygments_lexer": "ipython3",
   "version": "3.9.12"
  }
 },
 "nbformat": 4,
 "nbformat_minor": 2
}
